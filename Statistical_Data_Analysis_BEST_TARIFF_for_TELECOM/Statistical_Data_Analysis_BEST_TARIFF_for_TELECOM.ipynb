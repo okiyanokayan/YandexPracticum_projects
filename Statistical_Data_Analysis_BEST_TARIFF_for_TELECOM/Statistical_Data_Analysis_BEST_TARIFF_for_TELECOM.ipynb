{
 "cells": [
  {
   "cell_type": "markdown",
   "metadata": {},
   "source": [
    "<a id='startpage'></a>"
   ]
  },
  {
   "cell_type": "markdown",
   "metadata": {
    "toc": true
   },
   "source": [
    "<h1>Содержание<span class=\"tocSkip\"></span></h1>\n",
    "<div class=\"toc\"><ul class=\"toc-item\"><li><span><a href=\"#Изучение-данных-из-файлов\" data-toc-modified-id=\"Изучение-данных-из-файлов-1\"><span class=\"toc-item-num\">1&nbsp;&nbsp;</span>Изучение данных из файлов</a></span><ul class=\"toc-item\"><li><span><a href=\"#Описание-проекта\" data-toc-modified-id=\"Описание-проекта-1.1\"><span class=\"toc-item-num\">1.1&nbsp;&nbsp;</span>Описание проекта</a></span></li><li><span><a href=\"#Описание-данных\" data-toc-modified-id=\"Описание-данных-1.2\"><span class=\"toc-item-num\">1.2&nbsp;&nbsp;</span>Описание данных</a></span><ul class=\"toc-item\"><li><span><a href=\"#Описание-тарифов\" data-toc-modified-id=\"Описание-тарифов-1.2.1\"><span class=\"toc-item-num\">1.2.1&nbsp;&nbsp;</span>Описание тарифов</a></span></li><li><span><a href=\"#Данные\" data-toc-modified-id=\"Данные-1.2.2\"><span class=\"toc-item-num\">1.2.2&nbsp;&nbsp;</span>Данные</a></span></li></ul></li><li><span><a href=\"#Замена-типов,-ошибки,-заполнение-пропусков\" data-toc-modified-id=\"Замена-типов,-ошибки,-заполнение-пропусков-1.3\"><span class=\"toc-item-num\">1.3&nbsp;&nbsp;</span>Замена типов, ошибки, заполнение пропусков</a></span></li></ul></li><li><span><a href=\"#Предобработка-данных\" data-toc-modified-id=\"Предобработка-данных-2\"><span class=\"toc-item-num\">2&nbsp;&nbsp;</span>Предобработка данных</a></span><ul class=\"toc-item\"><li><span><a href=\"#вывод\" data-toc-modified-id=\"вывод-2.1\"><span class=\"toc-item-num\">2.1&nbsp;&nbsp;</span>вывод</a></span></li></ul></li><li><span><a href=\"#Анализ-и-описание-данных\" data-toc-modified-id=\"Анализ-и-описание-данных-3\"><span class=\"toc-item-num\">3&nbsp;&nbsp;</span>Анализ и описание данных</a></span><ul class=\"toc-item\"><li><span><a href=\"#Вывод\" data-toc-modified-id=\"Вывод-3.1\"><span class=\"toc-item-num\">3.1&nbsp;&nbsp;</span>Вывод</a></span></li></ul></li><li><span><a href=\"#Проверка-гипотез\" data-toc-modified-id=\"Проверка-гипотез-4\"><span class=\"toc-item-num\">4&nbsp;&nbsp;</span>Проверка гипотез</a></span><ul class=\"toc-item\"><li><span><a href=\"#Гипотеза-1\" data-toc-modified-id=\"Гипотеза-1-4.1\"><span class=\"toc-item-num\">4.1&nbsp;&nbsp;</span>Гипотеза 1</a></span></li><li><span><a href=\"#Гипотеза-2\" data-toc-modified-id=\"Гипотеза-2-4.2\"><span class=\"toc-item-num\">4.2&nbsp;&nbsp;</span>Гипотеза 2</a></span></li></ul></li><li><span><a href=\"#Общий-вывод\" data-toc-modified-id=\"Общий-вывод-5\"><span class=\"toc-item-num\">5&nbsp;&nbsp;</span>Общий вывод</a></span></li></ul></div>"
   ]
  },
  {
   "cell_type": "markdown",
   "metadata": {},
   "source": [
    "# Определение перспективного тарифа для телеком-компании"
   ]
  },
  {
   "cell_type": "markdown",
   "metadata": {},
   "source": [
    "## Изучение данных из файлов"
   ]
  },
  {
   "cell_type": "markdown",
   "metadata": {},
   "source": [
    "### Описание проекта\n",
    "\n",
    "В нашем распоряжении данные компании «Мегалайн» — федерального оператора сотовой связи. Клиентам предлагают два тарифных плана: «Смарт» и «Ультра». Чтобы скорректировать рекламный бюджет, коммерческому департаменту необходимо понимание, какой тариф приносит больше денег.\n",
    "\n",
    "Наша **задача** - сделать предварительный анализ тарифов на небольшой выборке клиентов. \n",
    "\n",
    "В нашем распоряжении данные 500 пользователей «Мегалайна»: кто они, откуда, каким тарифом пользуются, сколько звонков и сообщений каждый отправил за 2018 год. Необходимо проанализировать поведение клиентов и сделать вывод — какой тариф лучше."
   ]
  },
  {
   "cell_type": "markdown",
   "metadata": {},
   "source": [
    "### Описание данных"
   ]
  },
  {
   "cell_type": "markdown",
   "metadata": {},
   "source": [
    "#### Описание тарифов\n",
    "\n",
    "Тариф «Смарт»\n",
    "\n",
    "Ежемесячная плата: 550 рублей\n",
    "Включено 500 минут разговора, 50 сообщений и 15 Гб интернет-трафика\n",
    "Стоимость услуг сверх тарифного пакета: 1. минута разговора: 3 рубля («Мегалайн» всегда округляет вверх значения минут и мегабайтов. Если пользователь проговорил всего 1 секунду, в тарифе засчитывается целая минута); 2. сообщение: 3 рубля; 3. 1 Гб интернет-трафика: 200 рублей.\n",
    "\n",
    "Тариф «Ультра»\n",
    "\n",
    "Ежемесячная плата: 1950 рублей\n",
    "Включено 3000 минут разговора, 1000 сообщений и 30 Гб интернет-трафика\n",
    "Стоимость услуг сверх тарифного пакета: 1. минута разговора: 1 рубль; 2. сообщение: 1 рубль; 3. 1 Гб интернет-трафика: 150 рублей.\n",
    "\n",
    "#### Данные\n",
    "\n",
    "Таблица `df_users` (информация о пользователях):\n",
    "\n",
    "- user_id — уникальный идентификатор пользователя\n",
    "- first_name — имя пользователя\n",
    "- last_name — фамилия пользователя\n",
    "- age — возраст пользователя (годы)\n",
    "- reg_date — дата подключения тарифа (день, месяц, год)\n",
    "- churn_date — дата прекращения пользования тарифом (если значение пропущено, то тариф ещё действовал на момент выгрузки данных)\n",
    "- city — город проживания пользователя\n",
    "- tarif — название тарифного плана\n",
    "\n",
    "\n",
    "Таблица `df_calls` (информация о звонках):\n",
    "\n",
    "- id — уникальный номер звонка\n",
    "- call_date — дата звонка\n",
    "- duration — длительность звонка в минутах\n",
    "- user_id — идентификатор пользователя, сделавшего звонок\n",
    "\n",
    "\n",
    "Таблица `df_messages` (информация о сообщениях):\n",
    "\n",
    "- id — уникальный номер сообщения\n",
    "- message_date — дата сообщения\n",
    "- user_id — идентификатор пользователя, отправившего сообщение\n",
    "\n",
    "\n",
    "Таблица `df_internet` (информация об интернет-сессиях):\n",
    "\n",
    "- id — уникальный номер сессии\n",
    "- mb_used — объём потраченного за сессию интернет-трафика (в мегабайтах)\n",
    "- session_date — дата интернет-сессии\n",
    "- user_id — идентификатор пользователя\n",
    "\n",
    "\n",
    "Таблица `df_tariffs` (информация о тарифах):\n",
    "\n",
    "- tariff_name — название тарифа\n",
    "- rub_monthly_fee — ежемесячная абонентская плата в рублях\n",
    "- minutes_included — количество минут разговора в месяц, включённых в абонентскую плату\n",
    "- messages_included — количество сообщений в месяц, включённых в абонентскую плату\n",
    "- mb_per_month_included — объём интернет-трафика, включённого в абонентскую плату (в мегабайтах)\n",
    "- rub_per_minute — стоимость минуты разговора сверх тарифного пакета (например, если в тарифе 100 минут разговора в месяц, то со 101 минуты будет взиматься плата)\n",
    "- rub_per_message — стоимость отправки сообщения сверх тарифного пакета\n",
    "- rub_per_gb — стоимость дополнительного гигабайта интернет-трафика сверх тарифного пакета (1 гигабайт = 1024 мегабайта)"
   ]
  },
  {
   "cell_type": "markdown",
   "metadata": {},
   "source": [
    "### Замена типов, ошибки, заполнение пропусков"
   ]
  },
  {
   "cell_type": "code",
   "execution_count": 1,
   "metadata": {},
   "outputs": [],
   "source": [
    "import pandas as pd\n",
    "import numpy as np\n",
    "from IPython.display import display\n",
    "import math\n",
    "\n",
    "from pymystem3 import Mystem\n",
    "m=Mystem()\n",
    "\n",
    "import matplotlib.pyplot as plt\n",
    "%matplotlib inline\n",
    "pd.set_option('mode.chained_assignment', None) # игнор предупреждений\n",
    "\n",
    "pd.set_option('display.float_format', '{:,.2f}'.format)\n",
    "\n",
    "from matplotlib import pyplot as plt\n",
    "from math import factorial\n",
    "from scipy import stats as st\n",
    "\n",
    "import scipy.stats\n",
    "from scipy.stats import norm"
   ]
  },
  {
   "cell_type": "markdown",
   "metadata": {},
   "source": [
    "Посмотрим на данные и типы в таблице `df_calls`, где представлена информация о звонках."
   ]
  },
  {
   "cell_type": "code",
   "execution_count": 2,
   "metadata": {},
   "outputs": [
    {
     "name": "stdout",
     "output_type": "stream",
     "text": [
      "<class 'pandas.core.frame.DataFrame'>\n",
      "RangeIndex: 202607 entries, 0 to 202606\n",
      "Data columns (total 4 columns):\n",
      "id           202607 non-null object\n",
      "call_date    202607 non-null object\n",
      "duration     202607 non-null float64\n",
      "user_id      202607 non-null int64\n",
      "dtypes: float64(1), int64(1), object(2)\n",
      "memory usage: 6.2+ MB\n"
     ]
    }
   ],
   "source": [
    "df_calls = pd.read_csv('calls.csv')\n",
    "#help(pd.read_csv)\n",
    "df_calls.info()"
   ]
  },
  {
   "cell_type": "markdown",
   "metadata": {},
   "source": [
    "Пропусков нет.\n",
    "\n",
    "Столбец `call_date` приведем к нужному формату данных, а `duration` округлим до целых минут и данные внесем в столбец `call_duration`."
   ]
  },
  {
   "cell_type": "code",
   "execution_count": 3,
   "metadata": {},
   "outputs": [
    {
     "name": "stdout",
     "output_type": "stream",
     "text": [
      "<class 'pandas.core.frame.DataFrame'>\n",
      "RangeIndex: 202607 entries, 0 to 202606\n",
      "Data columns (total 4 columns):\n",
      "id           202607 non-null object\n",
      "call_date    202607 non-null datetime64[ns]\n",
      "duration     202607 non-null float64\n",
      "user_id      202607 non-null int64\n",
      "dtypes: datetime64[ns](1), float64(1), int64(1), object(1)\n",
      "memory usage: 6.2+ MB\n"
     ]
    }
   ],
   "source": [
    "df_calls['call_date'] = pd.to_datetime(df_calls['call_date'], format='%Y-%m-%d')\n",
    "df_calls.info()"
   ]
  },
  {
   "cell_type": "code",
   "execution_count": 4,
   "metadata": {},
   "outputs": [
    {
     "data": {
      "text/html": [
       "<div>\n",
       "<style scoped>\n",
       "    .dataframe tbody tr th:only-of-type {\n",
       "        vertical-align: middle;\n",
       "    }\n",
       "\n",
       "    .dataframe tbody tr th {\n",
       "        vertical-align: top;\n",
       "    }\n",
       "\n",
       "    .dataframe thead th {\n",
       "        text-align: right;\n",
       "    }\n",
       "</style>\n",
       "<table border=\"1\" class=\"dataframe\">\n",
       "  <thead>\n",
       "    <tr style=\"text-align: right;\">\n",
       "      <th></th>\n",
       "      <th>id</th>\n",
       "      <th>call_date</th>\n",
       "      <th>duration</th>\n",
       "      <th>user_id</th>\n",
       "      <th>call_duration</th>\n",
       "    </tr>\n",
       "  </thead>\n",
       "  <tbody>\n",
       "    <tr>\n",
       "      <td>0</td>\n",
       "      <td>1000_0</td>\n",
       "      <td>2018-07-25</td>\n",
       "      <td>0.00</td>\n",
       "      <td>1000</td>\n",
       "      <td>0.00</td>\n",
       "    </tr>\n",
       "    <tr>\n",
       "      <td>1</td>\n",
       "      <td>1000_1</td>\n",
       "      <td>2018-08-17</td>\n",
       "      <td>0.00</td>\n",
       "      <td>1000</td>\n",
       "      <td>0.00</td>\n",
       "    </tr>\n",
       "    <tr>\n",
       "      <td>2</td>\n",
       "      <td>1000_2</td>\n",
       "      <td>2018-06-11</td>\n",
       "      <td>2.85</td>\n",
       "      <td>1000</td>\n",
       "      <td>3.00</td>\n",
       "    </tr>\n",
       "    <tr>\n",
       "      <td>3</td>\n",
       "      <td>1000_3</td>\n",
       "      <td>2018-09-21</td>\n",
       "      <td>13.80</td>\n",
       "      <td>1000</td>\n",
       "      <td>14.00</td>\n",
       "    </tr>\n",
       "    <tr>\n",
       "      <td>4</td>\n",
       "      <td>1000_4</td>\n",
       "      <td>2018-12-15</td>\n",
       "      <td>5.18</td>\n",
       "      <td>1000</td>\n",
       "      <td>6.00</td>\n",
       "    </tr>\n",
       "  </tbody>\n",
       "</table>\n",
       "</div>"
      ],
      "text/plain": [
       "       id  call_date  duration  user_id  call_duration\n",
       "0  1000_0 2018-07-25      0.00     1000           0.00\n",
       "1  1000_1 2018-08-17      0.00     1000           0.00\n",
       "2  1000_2 2018-06-11      2.85     1000           3.00\n",
       "3  1000_3 2018-09-21     13.80     1000          14.00\n",
       "4  1000_4 2018-12-15      5.18     1000           6.00"
      ]
     },
     "execution_count": 4,
     "metadata": {},
     "output_type": "execute_result"
    }
   ],
   "source": [
    "#df_calls['call_duration'] = df_calls['duration'].round() # округлим до минуты\n",
    "df_calls['call_duration'] = np.ceil(df_calls['duration']) # округление до верхнего значения методом ceil\n",
    "df_calls.head()"
   ]
  },
  {
   "cell_type": "markdown",
   "metadata": {},
   "source": [
    "Изучим данные в таблице `df_internet` и получим информацию об интернет-сессиях."
   ]
  },
  {
   "cell_type": "code",
   "execution_count": 5,
   "metadata": {},
   "outputs": [
    {
     "name": "stdout",
     "output_type": "stream",
     "text": [
      "<class 'pandas.core.frame.DataFrame'>\n",
      "RangeIndex: 149396 entries, 0 to 149395\n",
      "Data columns (total 5 columns):\n",
      "Unnamed: 0      149396 non-null int64\n",
      "id              149396 non-null object\n",
      "mb_used         149396 non-null float64\n",
      "session_date    149396 non-null object\n",
      "user_id         149396 non-null int64\n",
      "dtypes: float64(1), int64(2), object(2)\n",
      "memory usage: 5.7+ MB\n"
     ]
    },
    {
     "data": {
      "text/html": [
       "<div>\n",
       "<style scoped>\n",
       "    .dataframe tbody tr th:only-of-type {\n",
       "        vertical-align: middle;\n",
       "    }\n",
       "\n",
       "    .dataframe tbody tr th {\n",
       "        vertical-align: top;\n",
       "    }\n",
       "\n",
       "    .dataframe thead th {\n",
       "        text-align: right;\n",
       "    }\n",
       "</style>\n",
       "<table border=\"1\" class=\"dataframe\">\n",
       "  <thead>\n",
       "    <tr style=\"text-align: right;\">\n",
       "      <th></th>\n",
       "      <th>Unnamed: 0</th>\n",
       "      <th>id</th>\n",
       "      <th>mb_used</th>\n",
       "      <th>session_date</th>\n",
       "      <th>user_id</th>\n",
       "    </tr>\n",
       "  </thead>\n",
       "  <tbody>\n",
       "    <tr>\n",
       "      <td>124605</td>\n",
       "      <td>124605</td>\n",
       "      <td>1420_88</td>\n",
       "      <td>586.04</td>\n",
       "      <td>2018-11-02</td>\n",
       "      <td>1420</td>\n",
       "    </tr>\n",
       "  </tbody>\n",
       "</table>\n",
       "</div>"
      ],
      "text/plain": [
       "        Unnamed: 0       id  mb_used session_date  user_id\n",
       "124605      124605  1420_88   586.04   2018-11-02     1420"
      ]
     },
     "execution_count": 5,
     "metadata": {},
     "output_type": "execute_result"
    }
   ],
   "source": [
    "df_internet = pd.read_csv('internet.csv')\n",
    "df_internet.info()\n",
    "df_internet.sample()"
   ]
  },
  {
   "cell_type": "markdown",
   "metadata": {},
   "source": [
    "Пропуски в таблице отсутствуют.\n",
    "\n",
    "Столбец `session_date`, отвечающий за даты интернет-сессии, приведем к формату данных даты."
   ]
  },
  {
   "cell_type": "code",
   "execution_count": 6,
   "metadata": {},
   "outputs": [
    {
     "name": "stdout",
     "output_type": "stream",
     "text": [
      "<class 'pandas.core.frame.DataFrame'>\n",
      "RangeIndex: 149396 entries, 0 to 149395\n",
      "Data columns (total 5 columns):\n",
      "Unnamed: 0      149396 non-null int64\n",
      "id              149396 non-null object\n",
      "mb_used         149396 non-null float64\n",
      "session_date    149396 non-null datetime64[ns]\n",
      "user_id         149396 non-null int64\n",
      "dtypes: datetime64[ns](1), float64(1), int64(2), object(1)\n",
      "memory usage: 5.7+ MB\n"
     ]
    }
   ],
   "source": [
    "df_internet['session_date'] = pd.to_datetime(df_internet['session_date'], format='%Y-%m-%d')\n",
    "df_internet.info()"
   ]
  },
  {
   "cell_type": "markdown",
   "metadata": {},
   "source": [
    "В таблице `df_messages` - данные об информации о сообщениях."
   ]
  },
  {
   "cell_type": "code",
   "execution_count": 7,
   "metadata": {},
   "outputs": [
    {
     "data": {
      "text/html": [
       "<div>\n",
       "<style scoped>\n",
       "    .dataframe tbody tr th:only-of-type {\n",
       "        vertical-align: middle;\n",
       "    }\n",
       "\n",
       "    .dataframe tbody tr th {\n",
       "        vertical-align: top;\n",
       "    }\n",
       "\n",
       "    .dataframe thead th {\n",
       "        text-align: right;\n",
       "    }\n",
       "</style>\n",
       "<table border=\"1\" class=\"dataframe\">\n",
       "  <thead>\n",
       "    <tr style=\"text-align: right;\">\n",
       "      <th></th>\n",
       "      <th>id</th>\n",
       "      <th>message_date</th>\n",
       "      <th>user_id</th>\n",
       "    </tr>\n",
       "  </thead>\n",
       "  <tbody>\n",
       "    <tr>\n",
       "      <td>0</td>\n",
       "      <td>1000_0</td>\n",
       "      <td>2018-06-27</td>\n",
       "      <td>1000</td>\n",
       "    </tr>\n",
       "    <tr>\n",
       "      <td>1</td>\n",
       "      <td>1000_1</td>\n",
       "      <td>2018-10-08</td>\n",
       "      <td>1000</td>\n",
       "    </tr>\n",
       "    <tr>\n",
       "      <td>2</td>\n",
       "      <td>1000_2</td>\n",
       "      <td>2018-08-04</td>\n",
       "      <td>1000</td>\n",
       "    </tr>\n",
       "    <tr>\n",
       "      <td>3</td>\n",
       "      <td>1000_3</td>\n",
       "      <td>2018-06-16</td>\n",
       "      <td>1000</td>\n",
       "    </tr>\n",
       "    <tr>\n",
       "      <td>4</td>\n",
       "      <td>1000_4</td>\n",
       "      <td>2018-12-05</td>\n",
       "      <td>1000</td>\n",
       "    </tr>\n",
       "  </tbody>\n",
       "</table>\n",
       "</div>"
      ],
      "text/plain": [
       "       id message_date  user_id\n",
       "0  1000_0   2018-06-27     1000\n",
       "1  1000_1   2018-10-08     1000\n",
       "2  1000_2   2018-08-04     1000\n",
       "3  1000_3   2018-06-16     1000\n",
       "4  1000_4   2018-12-05     1000"
      ]
     },
     "metadata": {},
     "output_type": "display_data"
    },
    {
     "name": "stdout",
     "output_type": "stream",
     "text": [
      "<class 'pandas.core.frame.DataFrame'>\n",
      "RangeIndex: 123036 entries, 0 to 123035\n",
      "Data columns (total 3 columns):\n",
      "id              123036 non-null object\n",
      "message_date    123036 non-null object\n",
      "user_id         123036 non-null int64\n",
      "dtypes: int64(1), object(2)\n",
      "memory usage: 2.8+ MB\n"
     ]
    }
   ],
   "source": [
    "df_messages = pd.read_csv('messages.csv')\n",
    "display(df_messages.head())\n",
    "df_messages.info()"
   ]
  },
  {
   "cell_type": "markdown",
   "metadata": {},
   "source": [
    "Пропуски не обнаружены. Столбец `message_date` - дата сообщения, приведем к формату даты."
   ]
  },
  {
   "cell_type": "code",
   "execution_count": 8,
   "metadata": {},
   "outputs": [
    {
     "name": "stdout",
     "output_type": "stream",
     "text": [
      "<class 'pandas.core.frame.DataFrame'>\n",
      "RangeIndex: 123036 entries, 0 to 123035\n",
      "Data columns (total 3 columns):\n",
      "id              123036 non-null object\n",
      "message_date    123036 non-null datetime64[ns]\n",
      "user_id         123036 non-null int64\n",
      "dtypes: datetime64[ns](1), int64(1), object(1)\n",
      "memory usage: 2.8+ MB\n"
     ]
    }
   ],
   "source": [
    "df_messages['message_date'] = pd.to_datetime(df_messages['message_date'], format='%Y-%m-%d') # приведем столбец к нужному формату данных\n",
    "df_messages.info()"
   ]
  },
  {
   "cell_type": "markdown",
   "metadata": {},
   "source": [
    "Таблица `df_users` с информацией о пользователях."
   ]
  },
  {
   "cell_type": "code",
   "execution_count": 9,
   "metadata": {},
   "outputs": [
    {
     "name": "stdout",
     "output_type": "stream",
     "text": [
      "<class 'pandas.core.frame.DataFrame'>\n",
      "RangeIndex: 500 entries, 0 to 499\n",
      "Data columns (total 8 columns):\n",
      "user_id       500 non-null int64\n",
      "age           500 non-null int64\n",
      "churn_date    38 non-null object\n",
      "city          500 non-null object\n",
      "first_name    500 non-null object\n",
      "last_name     500 non-null object\n",
      "reg_date      500 non-null object\n",
      "tariff        500 non-null object\n",
      "dtypes: int64(2), object(6)\n",
      "memory usage: 31.4+ KB\n"
     ]
    },
    {
     "data": {
      "text/html": [
       "<div>\n",
       "<style scoped>\n",
       "    .dataframe tbody tr th:only-of-type {\n",
       "        vertical-align: middle;\n",
       "    }\n",
       "\n",
       "    .dataframe tbody tr th {\n",
       "        vertical-align: top;\n",
       "    }\n",
       "\n",
       "    .dataframe thead th {\n",
       "        text-align: right;\n",
       "    }\n",
       "</style>\n",
       "<table border=\"1\" class=\"dataframe\">\n",
       "  <thead>\n",
       "    <tr style=\"text-align: right;\">\n",
       "      <th></th>\n",
       "      <th>user_id</th>\n",
       "      <th>age</th>\n",
       "      <th>churn_date</th>\n",
       "      <th>city</th>\n",
       "      <th>first_name</th>\n",
       "      <th>last_name</th>\n",
       "      <th>reg_date</th>\n",
       "      <th>tariff</th>\n",
       "    </tr>\n",
       "  </thead>\n",
       "  <tbody>\n",
       "    <tr>\n",
       "      <td>495</td>\n",
       "      <td>1495</td>\n",
       "      <td>65</td>\n",
       "      <td>NaN</td>\n",
       "      <td>Иркутск</td>\n",
       "      <td>Авксентий</td>\n",
       "      <td>Фокин</td>\n",
       "      <td>2018-08-28</td>\n",
       "      <td>ultra</td>\n",
       "    </tr>\n",
       "    <tr>\n",
       "      <td>496</td>\n",
       "      <td>1496</td>\n",
       "      <td>36</td>\n",
       "      <td>NaN</td>\n",
       "      <td>Вологда</td>\n",
       "      <td>Трифон</td>\n",
       "      <td>Блохин</td>\n",
       "      <td>2018-01-27</td>\n",
       "      <td>smart</td>\n",
       "    </tr>\n",
       "    <tr>\n",
       "      <td>497</td>\n",
       "      <td>1497</td>\n",
       "      <td>32</td>\n",
       "      <td>NaN</td>\n",
       "      <td>Челябинск</td>\n",
       "      <td>Каролина</td>\n",
       "      <td>Агеева</td>\n",
       "      <td>2018-10-09</td>\n",
       "      <td>smart</td>\n",
       "    </tr>\n",
       "    <tr>\n",
       "      <td>498</td>\n",
       "      <td>1498</td>\n",
       "      <td>68</td>\n",
       "      <td>2018-10-25</td>\n",
       "      <td>Владикавказ</td>\n",
       "      <td>Всеволод</td>\n",
       "      <td>Акимчин</td>\n",
       "      <td>2018-07-19</td>\n",
       "      <td>smart</td>\n",
       "    </tr>\n",
       "    <tr>\n",
       "      <td>499</td>\n",
       "      <td>1499</td>\n",
       "      <td>35</td>\n",
       "      <td>NaN</td>\n",
       "      <td>Пермь</td>\n",
       "      <td>Гектор</td>\n",
       "      <td>Корнилов</td>\n",
       "      <td>2018-09-27</td>\n",
       "      <td>smart</td>\n",
       "    </tr>\n",
       "  </tbody>\n",
       "</table>\n",
       "</div>"
      ],
      "text/plain": [
       "     user_id  age  churn_date         city first_name last_name    reg_date  \\\n",
       "495     1495   65         NaN      Иркутск  Авксентий     Фокин  2018-08-28   \n",
       "496     1496   36         NaN      Вологда     Трифон    Блохин  2018-01-27   \n",
       "497     1497   32         NaN    Челябинск   Каролина    Агеева  2018-10-09   \n",
       "498     1498   68  2018-10-25  Владикавказ   Всеволод   Акимчин  2018-07-19   \n",
       "499     1499   35         NaN        Пермь     Гектор  Корнилов  2018-09-27   \n",
       "\n",
       "    tariff  \n",
       "495  ultra  \n",
       "496  smart  \n",
       "497  smart  \n",
       "498  smart  \n",
       "499  smart  "
      ]
     },
     "execution_count": 9,
     "metadata": {},
     "output_type": "execute_result"
    }
   ],
   "source": [
    "df_users = pd.read_csv('users.csv')\n",
    "df_users.info()\n",
    "df_users.tail()"
   ]
  },
  {
   "cell_type": "markdown",
   "metadata": {},
   "source": [
    "В таблице встречаются 462 пропущенных значений в столбце `churn_date` - дата прекращения пользования тарифом. Однако, пропущенное значение показывает, что тариф ещё действовал на момент выгрузки данных.\n",
    "\n",
    "Посмотрим на уникальные значения в столбце `churn_date`."
   ]
  },
  {
   "cell_type": "code",
   "execution_count": 10,
   "metadata": {},
   "outputs": [
    {
     "data": {
      "text/plain": [
       "array([nan, '2018-10-05', '2018-12-18', '2018-11-21', '2018-10-03',\n",
       "       '2018-10-14', '2018-12-09', '2018-12-11', '2018-12-26',\n",
       "       '2018-08-31', '2018-12-03', '2018-12-23', '2018-11-07',\n",
       "       '2018-12-16', '2018-12-20', '2018-11-30', '2018-12-21',\n",
       "       '2018-08-17', '2018-09-02', '2018-10-04', '2018-11-13',\n",
       "       '2018-11-22', '2018-10-28', '2018-11-26', '2018-11-27',\n",
       "       '2018-11-16', '2018-10-27', '2018-12-30', '2018-09-27',\n",
       "       '2018-12-25', '2018-12-14', '2018-12-24', '2018-09-26',\n",
       "       '2018-10-25'], dtype=object)"
      ]
     },
     "execution_count": 10,
     "metadata": {},
     "output_type": "execute_result"
    }
   ],
   "source": [
    "df_users['churn_date'].unique()"
   ]
  },
  {
   "cell_type": "markdown",
   "metadata": {},
   "source": [
    "Приведем столбцы `reg_date` и `churn_date` к формату даты."
   ]
  },
  {
   "cell_type": "code",
   "execution_count": 11,
   "metadata": {},
   "outputs": [
    {
     "name": "stdout",
     "output_type": "stream",
     "text": [
      "<class 'pandas.core.frame.DataFrame'>\n",
      "RangeIndex: 500 entries, 0 to 499\n",
      "Data columns (total 8 columns):\n",
      "user_id       500 non-null int64\n",
      "age           500 non-null int64\n",
      "churn_date    38 non-null datetime64[ns]\n",
      "city          500 non-null object\n",
      "first_name    500 non-null object\n",
      "last_name     500 non-null object\n",
      "reg_date      500 non-null datetime64[ns]\n",
      "tariff        500 non-null object\n",
      "dtypes: datetime64[ns](2), int64(2), object(4)\n",
      "memory usage: 31.4+ KB\n"
     ]
    }
   ],
   "source": [
    "df_users['reg_date'] = pd.to_datetime(df_users['reg_date'], format='%Y-%m-%d')\n",
    "df_users['churn_date'] = pd.to_datetime(df_users['churn_date'], format='%Y-%m-%d')\n",
    "df_users.info()"
   ]
  },
  {
   "cell_type": "markdown",
   "metadata": {},
   "source": [
    "Оптимизируем некоторые типы данных."
   ]
  },
  {
   "cell_type": "code",
   "execution_count": 12,
   "metadata": {},
   "outputs": [
    {
     "name": "stdout",
     "output_type": "stream",
     "text": [
      "<class 'pandas.core.frame.DataFrame'>\n",
      "RangeIndex: 500 entries, 0 to 499\n",
      "Data columns (total 8 columns):\n",
      "user_id       500 non-null Int16\n",
      "age           500 non-null Int16\n",
      "churn_date    38 non-null datetime64[ns]\n",
      "city          500 non-null object\n",
      "first_name    500 non-null object\n",
      "last_name     500 non-null object\n",
      "reg_date      500 non-null datetime64[ns]\n",
      "tariff        500 non-null object\n",
      "dtypes: Int16(2), datetime64[ns](2), object(4)\n",
      "memory usage: 26.5+ KB\n"
     ]
    }
   ],
   "source": [
    "df_users[['age', 'user_id']] = df_users[['age', 'user_id']].astype('Int16')\n",
    "#df_users[['tariff']] = df_users[['tariff']].astype('category')\n",
    "df_users.info()"
   ]
  },
  {
   "cell_type": "markdown",
   "metadata": {},
   "source": [
    "Таблица `df_tariffs` с информацией о тарифах «Смарт» и «Ультра»."
   ]
  },
  {
   "cell_type": "code",
   "execution_count": 13,
   "metadata": {},
   "outputs": [
    {
     "data": {
      "text/html": [
       "<div>\n",
       "<style scoped>\n",
       "    .dataframe tbody tr th:only-of-type {\n",
       "        vertical-align: middle;\n",
       "    }\n",
       "\n",
       "    .dataframe tbody tr th {\n",
       "        vertical-align: top;\n",
       "    }\n",
       "\n",
       "    .dataframe thead th {\n",
       "        text-align: right;\n",
       "    }\n",
       "</style>\n",
       "<table border=\"1\" class=\"dataframe\">\n",
       "  <thead>\n",
       "    <tr style=\"text-align: right;\">\n",
       "      <th></th>\n",
       "      <th>messages_included</th>\n",
       "      <th>mb_per_month_included</th>\n",
       "      <th>minutes_included</th>\n",
       "      <th>rub_monthly_fee</th>\n",
       "      <th>rub_per_gb</th>\n",
       "      <th>rub_per_message</th>\n",
       "      <th>rub_per_minute</th>\n",
       "      <th>tariff_name</th>\n",
       "    </tr>\n",
       "  </thead>\n",
       "  <tbody>\n",
       "    <tr>\n",
       "      <td>0</td>\n",
       "      <td>50</td>\n",
       "      <td>15360</td>\n",
       "      <td>500</td>\n",
       "      <td>550</td>\n",
       "      <td>200</td>\n",
       "      <td>3</td>\n",
       "      <td>3</td>\n",
       "      <td>smart</td>\n",
       "    </tr>\n",
       "    <tr>\n",
       "      <td>1</td>\n",
       "      <td>1000</td>\n",
       "      <td>30720</td>\n",
       "      <td>3000</td>\n",
       "      <td>1950</td>\n",
       "      <td>150</td>\n",
       "      <td>1</td>\n",
       "      <td>1</td>\n",
       "      <td>ultra</td>\n",
       "    </tr>\n",
       "  </tbody>\n",
       "</table>\n",
       "</div>"
      ],
      "text/plain": [
       "   messages_included  mb_per_month_included  minutes_included  \\\n",
       "0                 50                  15360               500   \n",
       "1               1000                  30720              3000   \n",
       "\n",
       "   rub_monthly_fee  rub_per_gb  rub_per_message  rub_per_minute tariff_name  \n",
       "0              550         200                3               3       smart  \n",
       "1             1950         150                1               1       ultra  "
      ]
     },
     "metadata": {},
     "output_type": "display_data"
    },
    {
     "name": "stdout",
     "output_type": "stream",
     "text": [
      "<class 'pandas.core.frame.DataFrame'>\n",
      "RangeIndex: 2 entries, 0 to 1\n",
      "Data columns (total 8 columns):\n",
      "messages_included        2 non-null int64\n",
      "mb_per_month_included    2 non-null int64\n",
      "minutes_included         2 non-null int64\n",
      "rub_monthly_fee          2 non-null int64\n",
      "rub_per_gb               2 non-null int64\n",
      "rub_per_message          2 non-null int64\n",
      "rub_per_minute           2 non-null int64\n",
      "tariff_name              2 non-null object\n",
      "dtypes: int64(7), object(1)\n",
      "memory usage: 256.0+ bytes\n"
     ]
    }
   ],
   "source": [
    "df_tariffs = pd.read_csv('tariffs.csv')\n",
    "display(df_tariffs)\n",
    "df_tariffs.info()"
   ]
  },
  {
   "cell_type": "code",
   "execution_count": 14,
   "metadata": {},
   "outputs": [
    {
     "name": "stdout",
     "output_type": "stream",
     "text": [
      "<class 'pandas.core.frame.DataFrame'>\n",
      "RangeIndex: 2 entries, 0 to 1\n",
      "Data columns (total 8 columns):\n",
      "messages_included        2 non-null Int16\n",
      "mb_per_month_included    2 non-null Int16\n",
      "minutes_included         2 non-null Int16\n",
      "rub_monthly_fee          2 non-null Int16\n",
      "rub_per_gb               2 non-null Int16\n",
      "rub_per_message          2 non-null Int16\n",
      "rub_per_minute           2 non-null Int16\n",
      "tariff_name              2 non-null object\n",
      "dtypes: Int16(7), object(1)\n",
      "memory usage: 186.0+ bytes\n"
     ]
    }
   ],
   "source": [
    "df_tariffs[['messages_included', 'mb_per_month_included', 'minutes_included', 'rub_monthly_fee']] = df_tariffs[['messages_included', 'mb_per_month_included', 'minutes_included', 'rub_monthly_fee']].astype('Int16')\n",
    "df_tariffs[['rub_per_gb','rub_per_message', 'rub_per_minute']] = df_tariffs[['rub_per_gb','rub_per_message', 'rub_per_minute']].astype('Int16')\n",
    "#df_tariffs['tariff_name'] = df_tariffs['tariff_name'].astype('category')\n",
    "df_tariffs.info()"
   ]
  },
  {
   "cell_type": "markdown",
   "metadata": {},
   "source": [
    "Проверим, есть ли в наших таблицах дубликаты."
   ]
  },
  {
   "cell_type": "code",
   "execution_count": 15,
   "metadata": {},
   "outputs": [
    {
     "data": {
      "text/plain": [
       "0"
      ]
     },
     "metadata": {},
     "output_type": "display_data"
    },
    {
     "data": {
      "text/plain": [
       "0"
      ]
     },
     "metadata": {},
     "output_type": "display_data"
    },
    {
     "data": {
      "text/plain": [
       "0"
      ]
     },
     "metadata": {},
     "output_type": "display_data"
    },
    {
     "data": {
      "text/plain": [
       "0"
      ]
     },
     "metadata": {},
     "output_type": "display_data"
    },
    {
     "data": {
      "text/plain": [
       "0"
      ]
     },
     "metadata": {},
     "output_type": "display_data"
    }
   ],
   "source": [
    "df_all = [df_calls, df_internet, df_messages, df_tariffs, df_users]\n",
    "for i in range(len(df_all)):\n",
    "    display(df_all[i].duplicated().sum())"
   ]
  },
  {
   "cell_type": "markdown",
   "metadata": {},
   "source": [
    "В наших данных дубликаты не обнаружены."
   ]
  },
  {
   "cell_type": "markdown",
   "metadata": {},
   "source": [
    "## Предобработка данных"
   ]
  },
  {
   "cell_type": "markdown",
   "metadata": {},
   "source": [
    "Сделаем определенные преобразования с нашими исходными таблицами, создав дополнительные столбцы и сводные таблицы для дальнейшей группировки в единую сводную таблицу данных.\n",
    "\n",
    "Создадим столбец `call_month` в `df_calls`, поместим в него данные с номером месяца, полученные из столбца `call_date`. Сгруппируем данные по пользователям - `user_id`, посчитаем сумму израсходованных минут разговора по месяцам и количество сделанных звонков."
   ]
  },
  {
   "cell_type": "code",
   "execution_count": 16,
   "metadata": {},
   "outputs": [
    {
     "data": {
      "text/html": [
       "<div>\n",
       "<style scoped>\n",
       "    .dataframe tbody tr th:only-of-type {\n",
       "        vertical-align: middle;\n",
       "    }\n",
       "\n",
       "    .dataframe tbody tr th {\n",
       "        vertical-align: top;\n",
       "    }\n",
       "\n",
       "    .dataframe thead tr th {\n",
       "        text-align: left;\n",
       "    }\n",
       "</style>\n",
       "<table border=\"1\" class=\"dataframe\">\n",
       "  <thead>\n",
       "    <tr>\n",
       "      <th></th>\n",
       "      <th>user_id</th>\n",
       "      <th>month</th>\n",
       "      <th>sum</th>\n",
       "      <th>count</th>\n",
       "    </tr>\n",
       "    <tr>\n",
       "      <th></th>\n",
       "      <th></th>\n",
       "      <th></th>\n",
       "      <th>call_duration</th>\n",
       "      <th>call_duration</th>\n",
       "    </tr>\n",
       "  </thead>\n",
       "  <tbody>\n",
       "    <tr>\n",
       "      <td>0</td>\n",
       "      <td>1000</td>\n",
       "      <td>5</td>\n",
       "      <td>159.00</td>\n",
       "      <td>22</td>\n",
       "    </tr>\n",
       "    <tr>\n",
       "      <td>1</td>\n",
       "      <td>1000</td>\n",
       "      <td>6</td>\n",
       "      <td>172.00</td>\n",
       "      <td>43</td>\n",
       "    </tr>\n",
       "    <tr>\n",
       "      <td>2</td>\n",
       "      <td>1000</td>\n",
       "      <td>7</td>\n",
       "      <td>340.00</td>\n",
       "      <td>47</td>\n",
       "    </tr>\n",
       "    <tr>\n",
       "      <td>3</td>\n",
       "      <td>1000</td>\n",
       "      <td>8</td>\n",
       "      <td>408.00</td>\n",
       "      <td>52</td>\n",
       "    </tr>\n",
       "    <tr>\n",
       "      <td>4</td>\n",
       "      <td>1000</td>\n",
       "      <td>9</td>\n",
       "      <td>466.00</td>\n",
       "      <td>58</td>\n",
       "    </tr>\n",
       "  </tbody>\n",
       "</table>\n",
       "</div>"
      ],
      "text/plain": [
       "  user_id month           sum         count\n",
       "                call_duration call_duration\n",
       "0    1000     5        159.00            22\n",
       "1    1000     6        172.00            43\n",
       "2    1000     7        340.00            47\n",
       "3    1000     8        408.00            52\n",
       "4    1000     9        466.00            58"
      ]
     },
     "execution_count": 16,
     "metadata": {},
     "output_type": "execute_result"
    }
   ],
   "source": [
    "df_calls['month'] = pd.DatetimeIndex(df_calls['call_date']).month\n",
    "calls_per_month = df_calls.pivot_table(\n",
    "    index=['user_id', 'month'], \n",
    "    values=['call_duration'], \n",
    "    aggfunc=['sum', 'count']).reset_index()\n",
    "calls_per_month.head()"
   ]
  },
  {
   "cell_type": "code",
   "execution_count": 17,
   "metadata": {},
   "outputs": [
    {
     "data": {
      "text/html": [
       "<div>\n",
       "<style scoped>\n",
       "    .dataframe tbody tr th:only-of-type {\n",
       "        vertical-align: middle;\n",
       "    }\n",
       "\n",
       "    .dataframe tbody tr th {\n",
       "        vertical-align: top;\n",
       "    }\n",
       "\n",
       "    .dataframe thead th {\n",
       "        text-align: right;\n",
       "    }\n",
       "</style>\n",
       "<table border=\"1\" class=\"dataframe\">\n",
       "  <thead>\n",
       "    <tr style=\"text-align: right;\">\n",
       "      <th></th>\n",
       "      <th>user_id</th>\n",
       "      <th>month</th>\n",
       "      <th>call_sum</th>\n",
       "      <th>call_count</th>\n",
       "    </tr>\n",
       "  </thead>\n",
       "  <tbody>\n",
       "    <tr>\n",
       "      <td>1241</td>\n",
       "      <td>1196</td>\n",
       "      <td>10</td>\n",
       "      <td>1,069.00</td>\n",
       "      <td>156</td>\n",
       "    </tr>\n",
       "  </tbody>\n",
       "</table>\n",
       "</div>"
      ],
      "text/plain": [
       "      user_id  month  call_sum  call_count\n",
       "1241     1196     10  1,069.00         156"
      ]
     },
     "execution_count": 17,
     "metadata": {},
     "output_type": "execute_result"
    }
   ],
   "source": [
    "calls_per_month.columns = ['user_id', 'month', 'call_sum', 'call_count'] # переименуем двойные названия\n",
    "calls_per_month.sample()"
   ]
  },
  {
   "cell_type": "markdown",
   "metadata": {},
   "source": [
    "Сделаем аналогичные преобразования с `df_internet`. Создадим сводную таблицу ежемесячного потребления интернет-трафика для каждого пользователя. Округлим использованный трафик помесячно до гигабайтов в большую сторону в столбце `gb_used`."
   ]
  },
  {
   "cell_type": "code",
   "execution_count": 18,
   "metadata": {},
   "outputs": [
    {
     "data": {
      "text/html": [
       "<div>\n",
       "<style scoped>\n",
       "    .dataframe tbody tr th:only-of-type {\n",
       "        vertical-align: middle;\n",
       "    }\n",
       "\n",
       "    .dataframe tbody tr th {\n",
       "        vertical-align: top;\n",
       "    }\n",
       "\n",
       "    .dataframe thead tr th {\n",
       "        text-align: left;\n",
       "    }\n",
       "</style>\n",
       "<table border=\"1\" class=\"dataframe\">\n",
       "  <thead>\n",
       "    <tr>\n",
       "      <th></th>\n",
       "      <th>user_id</th>\n",
       "      <th>month</th>\n",
       "      <th>sum</th>\n",
       "      <th>gb_used</th>\n",
       "    </tr>\n",
       "    <tr>\n",
       "      <th></th>\n",
       "      <th></th>\n",
       "      <th></th>\n",
       "      <th>mb_used</th>\n",
       "      <th></th>\n",
       "    </tr>\n",
       "  </thead>\n",
       "  <tbody>\n",
       "    <tr>\n",
       "      <td>0</td>\n",
       "      <td>1000</td>\n",
       "      <td>5</td>\n",
       "      <td>2,253.49</td>\n",
       "      <td>3.00</td>\n",
       "    </tr>\n",
       "    <tr>\n",
       "      <td>1</td>\n",
       "      <td>1000</td>\n",
       "      <td>6</td>\n",
       "      <td>23,233.77</td>\n",
       "      <td>23.00</td>\n",
       "    </tr>\n",
       "    <tr>\n",
       "      <td>2</td>\n",
       "      <td>1000</td>\n",
       "      <td>7</td>\n",
       "      <td>14,003.64</td>\n",
       "      <td>14.00</td>\n",
       "    </tr>\n",
       "    <tr>\n",
       "      <td>3</td>\n",
       "      <td>1000</td>\n",
       "      <td>8</td>\n",
       "      <td>14,055.93</td>\n",
       "      <td>14.00</td>\n",
       "    </tr>\n",
       "    <tr>\n",
       "      <td>4</td>\n",
       "      <td>1000</td>\n",
       "      <td>9</td>\n",
       "      <td>14,568.91</td>\n",
       "      <td>15.00</td>\n",
       "    </tr>\n",
       "  </tbody>\n",
       "</table>\n",
       "</div>"
      ],
      "text/plain": [
       "  user_id month       sum gb_used\n",
       "                  mb_used        \n",
       "0    1000     5  2,253.49    3.00\n",
       "1    1000     6 23,233.77   23.00\n",
       "2    1000     7 14,003.64   14.00\n",
       "3    1000     8 14,055.93   14.00\n",
       "4    1000     9 14,568.91   15.00"
      ]
     },
     "execution_count": 18,
     "metadata": {},
     "output_type": "execute_result"
    }
   ],
   "source": [
    "df_internet['month'] = pd.DatetimeIndex(df_internet['session_date']).month\n",
    "internet_per_month = df_internet.pivot_table(\n",
    "    index=['user_id', 'month'], \n",
    "    values=['mb_used'], \n",
    "    aggfunc=['sum']).reset_index()\n",
    "internet_per_month['gb_used'] = np.ceil(internet_per_month[('sum', 'mb_used')]/1024)\n",
    "internet_per_month.head()"
   ]
  },
  {
   "cell_type": "code",
   "execution_count": 19,
   "metadata": {},
   "outputs": [
    {
     "name": "stdout",
     "output_type": "stream",
     "text": [
      "<class 'pandas.core.frame.DataFrame'>\n",
      "RangeIndex: 3203 entries, 0 to 3202\n",
      "Data columns (total 4 columns):\n",
      "user_id        3203 non-null int64\n",
      "month          3203 non-null int64\n",
      "mb_used_sum    3203 non-null float64\n",
      "gb_used        3203 non-null float64\n",
      "dtypes: float64(2), int64(2)\n",
      "memory usage: 100.2 KB\n"
     ]
    }
   ],
   "source": [
    "internet_per_month.columns = ['user_id', 'month', 'mb_used_sum', 'gb_used'] # переименуем двойные названия\n",
    "internet_per_month.info()"
   ]
  },
  {
   "cell_type": "markdown",
   "metadata": {},
   "source": [
    "В `df_messages` создадим аналогичный столбец `month`, и сделаем сводную таблицу `messages_per_month`, где расчитаем количество отправленных смс в месяц."
   ]
  },
  {
   "cell_type": "code",
   "execution_count": 20,
   "metadata": {},
   "outputs": [
    {
     "data": {
      "text/html": [
       "<div>\n",
       "<style scoped>\n",
       "    .dataframe tbody tr th:only-of-type {\n",
       "        vertical-align: middle;\n",
       "    }\n",
       "\n",
       "    .dataframe tbody tr th {\n",
       "        vertical-align: top;\n",
       "    }\n",
       "\n",
       "    .dataframe thead tr th {\n",
       "        text-align: left;\n",
       "    }\n",
       "</style>\n",
       "<table border=\"1\" class=\"dataframe\">\n",
       "  <thead>\n",
       "    <tr>\n",
       "      <th></th>\n",
       "      <th>user_id</th>\n",
       "      <th>month</th>\n",
       "      <th colspan=\"2\" halign=\"left\">count</th>\n",
       "    </tr>\n",
       "    <tr>\n",
       "      <th></th>\n",
       "      <th></th>\n",
       "      <th></th>\n",
       "      <th>id</th>\n",
       "      <th>message_date</th>\n",
       "    </tr>\n",
       "  </thead>\n",
       "  <tbody>\n",
       "    <tr>\n",
       "      <td>0</td>\n",
       "      <td>1000</td>\n",
       "      <td>5</td>\n",
       "      <td>22</td>\n",
       "      <td>22</td>\n",
       "    </tr>\n",
       "    <tr>\n",
       "      <td>1</td>\n",
       "      <td>1000</td>\n",
       "      <td>6</td>\n",
       "      <td>60</td>\n",
       "      <td>60</td>\n",
       "    </tr>\n",
       "    <tr>\n",
       "      <td>2</td>\n",
       "      <td>1000</td>\n",
       "      <td>7</td>\n",
       "      <td>75</td>\n",
       "      <td>75</td>\n",
       "    </tr>\n",
       "    <tr>\n",
       "      <td>3</td>\n",
       "      <td>1000</td>\n",
       "      <td>8</td>\n",
       "      <td>81</td>\n",
       "      <td>81</td>\n",
       "    </tr>\n",
       "    <tr>\n",
       "      <td>4</td>\n",
       "      <td>1000</td>\n",
       "      <td>9</td>\n",
       "      <td>57</td>\n",
       "      <td>57</td>\n",
       "    </tr>\n",
       "  </tbody>\n",
       "</table>\n",
       "</div>"
      ],
      "text/plain": [
       "  user_id month count             \n",
       "                   id message_date\n",
       "0    1000     5    22           22\n",
       "1    1000     6    60           60\n",
       "2    1000     7    75           75\n",
       "3    1000     8    81           81\n",
       "4    1000     9    57           57"
      ]
     },
     "execution_count": 20,
     "metadata": {},
     "output_type": "execute_result"
    }
   ],
   "source": [
    "df_messages['month'] = pd.DatetimeIndex(df_messages['message_date']).month\n",
    "messages_per_month = df_messages.pivot_table(\n",
    "    index=['user_id', 'month'], \n",
    "    aggfunc=['count']).reset_index()\n",
    "messages_per_month.head()"
   ]
  },
  {
   "cell_type": "code",
   "execution_count": 21,
   "metadata": {},
   "outputs": [],
   "source": [
    "messages_per_month.columns = ['user_id', 'month', 'id_count', 'message_count']"
   ]
  },
  {
   "cell_type": "markdown",
   "metadata": {},
   "source": [
    "Объединим последовательно таблицы `internet_per_month`, `calls_per_month` и `messages_per_month` методом merge, сохранив результат в таблицу `service_per_month`."
   ]
  },
  {
   "cell_type": "code",
   "execution_count": 22,
   "metadata": {},
   "outputs": [],
   "source": [
    "service_per_month = calls_per_month.merge(internet_per_month, on=['user_id', 'month'], how='outer')"
   ]
  },
  {
   "cell_type": "markdown",
   "metadata": {},
   "source": [
    "Добавим таблицу `messages_per_month`."
   ]
  },
  {
   "cell_type": "code",
   "execution_count": 23,
   "metadata": {},
   "outputs": [
    {
     "data": {
      "text/html": [
       "<div>\n",
       "<style scoped>\n",
       "    .dataframe tbody tr th:only-of-type {\n",
       "        vertical-align: middle;\n",
       "    }\n",
       "\n",
       "    .dataframe tbody tr th {\n",
       "        vertical-align: top;\n",
       "    }\n",
       "\n",
       "    .dataframe thead th {\n",
       "        text-align: right;\n",
       "    }\n",
       "</style>\n",
       "<table border=\"1\" class=\"dataframe\">\n",
       "  <thead>\n",
       "    <tr style=\"text-align: right;\">\n",
       "      <th></th>\n",
       "      <th>user_id</th>\n",
       "      <th>month</th>\n",
       "      <th>call_sum</th>\n",
       "      <th>call_count</th>\n",
       "      <th>mb_used_sum</th>\n",
       "      <th>gb_used</th>\n",
       "      <th>id_count</th>\n",
       "      <th>message_count</th>\n",
       "    </tr>\n",
       "  </thead>\n",
       "  <tbody>\n",
       "    <tr>\n",
       "      <td>0</td>\n",
       "      <td>1000</td>\n",
       "      <td>5</td>\n",
       "      <td>159.00</td>\n",
       "      <td>22.00</td>\n",
       "      <td>2,253.49</td>\n",
       "      <td>3.00</td>\n",
       "      <td>22.00</td>\n",
       "      <td>22.00</td>\n",
       "    </tr>\n",
       "    <tr>\n",
       "      <td>1</td>\n",
       "      <td>1000</td>\n",
       "      <td>6</td>\n",
       "      <td>172.00</td>\n",
       "      <td>43.00</td>\n",
       "      <td>23,233.77</td>\n",
       "      <td>23.00</td>\n",
       "      <td>60.00</td>\n",
       "      <td>60.00</td>\n",
       "    </tr>\n",
       "    <tr>\n",
       "      <td>2</td>\n",
       "      <td>1000</td>\n",
       "      <td>7</td>\n",
       "      <td>340.00</td>\n",
       "      <td>47.00</td>\n",
       "      <td>14,003.64</td>\n",
       "      <td>14.00</td>\n",
       "      <td>75.00</td>\n",
       "      <td>75.00</td>\n",
       "    </tr>\n",
       "    <tr>\n",
       "      <td>3</td>\n",
       "      <td>1000</td>\n",
       "      <td>8</td>\n",
       "      <td>408.00</td>\n",
       "      <td>52.00</td>\n",
       "      <td>14,055.93</td>\n",
       "      <td>14.00</td>\n",
       "      <td>81.00</td>\n",
       "      <td>81.00</td>\n",
       "    </tr>\n",
       "    <tr>\n",
       "      <td>4</td>\n",
       "      <td>1000</td>\n",
       "      <td>9</td>\n",
       "      <td>466.00</td>\n",
       "      <td>58.00</td>\n",
       "      <td>14,568.91</td>\n",
       "      <td>15.00</td>\n",
       "      <td>57.00</td>\n",
       "      <td>57.00</td>\n",
       "    </tr>\n",
       "    <tr>\n",
       "      <td>...</td>\n",
       "      <td>...</td>\n",
       "      <td>...</td>\n",
       "      <td>...</td>\n",
       "      <td>...</td>\n",
       "      <td>...</td>\n",
       "      <td>...</td>\n",
       "      <td>...</td>\n",
       "      <td>...</td>\n",
       "    </tr>\n",
       "    <tr>\n",
       "      <td>3209</td>\n",
       "      <td>1489</td>\n",
       "      <td>8</td>\n",
       "      <td>nan</td>\n",
       "      <td>nan</td>\n",
       "      <td>11,050.56</td>\n",
       "      <td>11.00</td>\n",
       "      <td>17.00</td>\n",
       "      <td>17.00</td>\n",
       "    </tr>\n",
       "    <tr>\n",
       "      <td>3210</td>\n",
       "      <td>1489</td>\n",
       "      <td>9</td>\n",
       "      <td>nan</td>\n",
       "      <td>nan</td>\n",
       "      <td>17,206.30</td>\n",
       "      <td>17.00</td>\n",
       "      <td>32.00</td>\n",
       "      <td>32.00</td>\n",
       "    </tr>\n",
       "    <tr>\n",
       "      <td>3211</td>\n",
       "      <td>1489</td>\n",
       "      <td>10</td>\n",
       "      <td>nan</td>\n",
       "      <td>nan</td>\n",
       "      <td>19,559.44</td>\n",
       "      <td>20.00</td>\n",
       "      <td>21.00</td>\n",
       "      <td>21.00</td>\n",
       "    </tr>\n",
       "    <tr>\n",
       "      <td>3212</td>\n",
       "      <td>1489</td>\n",
       "      <td>11</td>\n",
       "      <td>nan</td>\n",
       "      <td>nan</td>\n",
       "      <td>17,491.56</td>\n",
       "      <td>18.00</td>\n",
       "      <td>20.00</td>\n",
       "      <td>20.00</td>\n",
       "    </tr>\n",
       "    <tr>\n",
       "      <td>3213</td>\n",
       "      <td>1489</td>\n",
       "      <td>12</td>\n",
       "      <td>nan</td>\n",
       "      <td>nan</td>\n",
       "      <td>17,322.51</td>\n",
       "      <td>17.00</td>\n",
       "      <td>35.00</td>\n",
       "      <td>35.00</td>\n",
       "    </tr>\n",
       "  </tbody>\n",
       "</table>\n",
       "<p>3214 rows × 8 columns</p>\n",
       "</div>"
      ],
      "text/plain": [
       "      user_id  month  call_sum  call_count  mb_used_sum  gb_used  id_count  \\\n",
       "0        1000      5    159.00       22.00     2,253.49     3.00     22.00   \n",
       "1        1000      6    172.00       43.00    23,233.77    23.00     60.00   \n",
       "2        1000      7    340.00       47.00    14,003.64    14.00     75.00   \n",
       "3        1000      8    408.00       52.00    14,055.93    14.00     81.00   \n",
       "4        1000      9    466.00       58.00    14,568.91    15.00     57.00   \n",
       "...       ...    ...       ...         ...          ...      ...       ...   \n",
       "3209     1489      8       nan         nan    11,050.56    11.00     17.00   \n",
       "3210     1489      9       nan         nan    17,206.30    17.00     32.00   \n",
       "3211     1489     10       nan         nan    19,559.44    20.00     21.00   \n",
       "3212     1489     11       nan         nan    17,491.56    18.00     20.00   \n",
       "3213     1489     12       nan         nan    17,322.51    17.00     35.00   \n",
       "\n",
       "      message_count  \n",
       "0             22.00  \n",
       "1             60.00  \n",
       "2             75.00  \n",
       "3             81.00  \n",
       "4             57.00  \n",
       "...             ...  \n",
       "3209          17.00  \n",
       "3210          32.00  \n",
       "3211          21.00  \n",
       "3212          20.00  \n",
       "3213          35.00  \n",
       "\n",
       "[3214 rows x 8 columns]"
      ]
     },
     "execution_count": 23,
     "metadata": {},
     "output_type": "execute_result"
    }
   ],
   "source": [
    "service_per_month = service_per_month.merge(messages_per_month, on=['user_id', 'month'], how='outer')\n",
    "service_per_month"
   ]
  },
  {
   "cell_type": "code",
   "execution_count": 24,
   "metadata": {},
   "outputs": [
    {
     "data": {
      "text/html": [
       "<div>\n",
       "<style scoped>\n",
       "    .dataframe tbody tr th:only-of-type {\n",
       "        vertical-align: middle;\n",
       "    }\n",
       "\n",
       "    .dataframe tbody tr th {\n",
       "        vertical-align: top;\n",
       "    }\n",
       "\n",
       "    .dataframe thead th {\n",
       "        text-align: right;\n",
       "    }\n",
       "</style>\n",
       "<table border=\"1\" class=\"dataframe\">\n",
       "  <thead>\n",
       "    <tr style=\"text-align: right;\">\n",
       "      <th></th>\n",
       "      <th>user_id</th>\n",
       "      <th>month</th>\n",
       "      <th>call_sum</th>\n",
       "      <th>call_count</th>\n",
       "      <th>gb_used</th>\n",
       "      <th>message_count</th>\n",
       "    </tr>\n",
       "  </thead>\n",
       "  <tbody>\n",
       "    <tr>\n",
       "      <td>2028</td>\n",
       "      <td>1324</td>\n",
       "      <td>8</td>\n",
       "      <td>782.00</td>\n",
       "      <td>104.00</td>\n",
       "      <td>24.00</td>\n",
       "      <td>134.00</td>\n",
       "    </tr>\n",
       "  </tbody>\n",
       "</table>\n",
       "</div>"
      ],
      "text/plain": [
       "      user_id  month  call_sum  call_count  gb_used  message_count\n",
       "2028     1324      8    782.00      104.00    24.00         134.00"
      ]
     },
     "execution_count": 24,
     "metadata": {},
     "output_type": "execute_result"
    }
   ],
   "source": [
    "# оставим нужные столбцы для дальнейшего анализа данных\n",
    "service = pd.DataFrame(data = service_per_month,\n",
    "                       columns = ['user_id', 'month', 'call_sum', 'call_count', 'gb_used', 'message_count'])\n",
    "service.sample()"
   ]
  },
  {
   "cell_type": "markdown",
   "metadata": {},
   "source": [
    "Объединим таблицы `df_users` - информация о пользователях и `df_tariffs` - информация о тарифах в `users_all`.\n",
    "\n",
    "Переименуем столбец `tariff_name` в таблице `df_tariffs` в одноименный `tariff`, чтобы связать наши таблицы."
   ]
  },
  {
   "cell_type": "code",
   "execution_count": 25,
   "metadata": {},
   "outputs": [],
   "source": [
    "df_tariffs = df_tariffs.rename(columns={'tariff_name': 'tariff'})"
   ]
  },
  {
   "cell_type": "code",
   "execution_count": 26,
   "metadata": {},
   "outputs": [
    {
     "name": "stdout",
     "output_type": "stream",
     "text": [
      "<class 'pandas.core.frame.DataFrame'>\n",
      "Int64Index: 500 entries, 0 to 499\n",
      "Data columns (total 15 columns):\n",
      "user_id                  500 non-null Int16\n",
      "age                      500 non-null Int16\n",
      "churn_date               38 non-null datetime64[ns]\n",
      "city                     500 non-null object\n",
      "first_name               500 non-null object\n",
      "last_name                500 non-null object\n",
      "reg_date                 500 non-null datetime64[ns]\n",
      "tariff                   500 non-null object\n",
      "messages_included        500 non-null Int16\n",
      "mb_per_month_included    500 non-null Int16\n",
      "minutes_included         500 non-null Int16\n",
      "rub_monthly_fee          500 non-null Int16\n",
      "rub_per_gb               500 non-null Int16\n",
      "rub_per_message          500 non-null Int16\n",
      "rub_per_minute           500 non-null Int16\n",
      "dtypes: Int16(9), datetime64[ns](2), object(4)\n",
      "memory usage: 40.5+ KB\n"
     ]
    }
   ],
   "source": [
    "users_all = df_users.merge(df_tariffs, on='tariff', how='left')\n",
    "users_all.info()"
   ]
  },
  {
   "cell_type": "markdown",
   "metadata": {},
   "source": [
    "Сделаем итоговую таблицу `summary`, объединив таблицу с информацией об услугах `service` и данными по пользователям и тарифам `users_all`."
   ]
  },
  {
   "cell_type": "code",
   "execution_count": 27,
   "metadata": {},
   "outputs": [
    {
     "name": "stdout",
     "output_type": "stream",
     "text": [
      "<class 'pandas.core.frame.DataFrame'>\n",
      "Int64Index: 3216 entries, 0 to 3215\n",
      "Data columns (total 20 columns):\n",
      "user_id                  3216 non-null Int16\n",
      "age                      3216 non-null Int16\n",
      "churn_date               189 non-null datetime64[ns]\n",
      "city                     3216 non-null object\n",
      "first_name               3216 non-null object\n",
      "last_name                3216 non-null object\n",
      "reg_date                 3216 non-null datetime64[ns]\n",
      "tariff                   3216 non-null object\n",
      "messages_included        3216 non-null Int16\n",
      "mb_per_month_included    3216 non-null Int16\n",
      "minutes_included         3216 non-null Int16\n",
      "rub_monthly_fee          3216 non-null Int16\n",
      "rub_per_gb               3216 non-null Int16\n",
      "rub_per_message          3216 non-null Int16\n",
      "rub_per_minute           3216 non-null Int16\n",
      "month                    3214 non-null float64\n",
      "call_sum                 3174 non-null float64\n",
      "call_count               3174 non-null float64\n",
      "gb_used                  3203 non-null float64\n",
      "message_count            2717 non-null float64\n",
      "dtypes: Int16(9), datetime64[ns](2), float64(5), object(4)\n",
      "memory usage: 386.3+ KB\n"
     ]
    },
    {
     "data": {
      "text/html": [
       "<div>\n",
       "<style scoped>\n",
       "    .dataframe tbody tr th:only-of-type {\n",
       "        vertical-align: middle;\n",
       "    }\n",
       "\n",
       "    .dataframe tbody tr th {\n",
       "        vertical-align: top;\n",
       "    }\n",
       "\n",
       "    .dataframe thead th {\n",
       "        text-align: right;\n",
       "    }\n",
       "</style>\n",
       "<table border=\"1\" class=\"dataframe\">\n",
       "  <thead>\n",
       "    <tr style=\"text-align: right;\">\n",
       "      <th></th>\n",
       "      <th>user_id</th>\n",
       "      <th>age</th>\n",
       "      <th>churn_date</th>\n",
       "      <th>city</th>\n",
       "      <th>first_name</th>\n",
       "      <th>last_name</th>\n",
       "      <th>reg_date</th>\n",
       "      <th>tariff</th>\n",
       "      <th>messages_included</th>\n",
       "      <th>mb_per_month_included</th>\n",
       "      <th>minutes_included</th>\n",
       "      <th>rub_monthly_fee</th>\n",
       "      <th>rub_per_gb</th>\n",
       "      <th>rub_per_message</th>\n",
       "      <th>rub_per_minute</th>\n",
       "      <th>month</th>\n",
       "      <th>call_sum</th>\n",
       "      <th>call_count</th>\n",
       "      <th>gb_used</th>\n",
       "      <th>message_count</th>\n",
       "    </tr>\n",
       "  </thead>\n",
       "  <tbody>\n",
       "    <tr>\n",
       "      <td>3166</td>\n",
       "      <td>1491</td>\n",
       "      <td>56</td>\n",
       "      <td>NaT</td>\n",
       "      <td>Челябинск</td>\n",
       "      <td>Радислав</td>\n",
       "      <td>Андрейкин</td>\n",
       "      <td>2018-04-25</td>\n",
       "      <td>ultra</td>\n",
       "      <td>1000</td>\n",
       "      <td>30720</td>\n",
       "      <td>3000</td>\n",
       "      <td>1950</td>\n",
       "      <td>150</td>\n",
       "      <td>1</td>\n",
       "      <td>1</td>\n",
       "      <td>5.00</td>\n",
       "      <td>530.00</td>\n",
       "      <td>81.00</td>\n",
       "      <td>25.00</td>\n",
       "      <td>55.00</td>\n",
       "    </tr>\n",
       "    <tr>\n",
       "      <td>3167</td>\n",
       "      <td>1491</td>\n",
       "      <td>56</td>\n",
       "      <td>NaT</td>\n",
       "      <td>Челябинск</td>\n",
       "      <td>Радислав</td>\n",
       "      <td>Андрейкин</td>\n",
       "      <td>2018-04-25</td>\n",
       "      <td>ultra</td>\n",
       "      <td>1000</td>\n",
       "      <td>30720</td>\n",
       "      <td>3000</td>\n",
       "      <td>1950</td>\n",
       "      <td>150</td>\n",
       "      <td>1</td>\n",
       "      <td>1</td>\n",
       "      <td>6.00</td>\n",
       "      <td>424.00</td>\n",
       "      <td>68.00</td>\n",
       "      <td>16.00</td>\n",
       "      <td>56.00</td>\n",
       "    </tr>\n",
       "    <tr>\n",
       "      <td>3168</td>\n",
       "      <td>1491</td>\n",
       "      <td>56</td>\n",
       "      <td>NaT</td>\n",
       "      <td>Челябинск</td>\n",
       "      <td>Радислав</td>\n",
       "      <td>Андрейкин</td>\n",
       "      <td>2018-04-25</td>\n",
       "      <td>ultra</td>\n",
       "      <td>1000</td>\n",
       "      <td>30720</td>\n",
       "      <td>3000</td>\n",
       "      <td>1950</td>\n",
       "      <td>150</td>\n",
       "      <td>1</td>\n",
       "      <td>1</td>\n",
       "      <td>7.00</td>\n",
       "      <td>606.00</td>\n",
       "      <td>80.00</td>\n",
       "      <td>21.00</td>\n",
       "      <td>58.00</td>\n",
       "    </tr>\n",
       "    <tr>\n",
       "      <td>3169</td>\n",
       "      <td>1491</td>\n",
       "      <td>56</td>\n",
       "      <td>NaT</td>\n",
       "      <td>Челябинск</td>\n",
       "      <td>Радислав</td>\n",
       "      <td>Андрейкин</td>\n",
       "      <td>2018-04-25</td>\n",
       "      <td>ultra</td>\n",
       "      <td>1000</td>\n",
       "      <td>30720</td>\n",
       "      <td>3000</td>\n",
       "      <td>1950</td>\n",
       "      <td>150</td>\n",
       "      <td>1</td>\n",
       "      <td>1</td>\n",
       "      <td>8.00</td>\n",
       "      <td>611.00</td>\n",
       "      <td>74.00</td>\n",
       "      <td>17.00</td>\n",
       "      <td>49.00</td>\n",
       "    </tr>\n",
       "    <tr>\n",
       "      <td>3170</td>\n",
       "      <td>1491</td>\n",
       "      <td>56</td>\n",
       "      <td>NaT</td>\n",
       "      <td>Челябинск</td>\n",
       "      <td>Радислав</td>\n",
       "      <td>Андрейкин</td>\n",
       "      <td>2018-04-25</td>\n",
       "      <td>ultra</td>\n",
       "      <td>1000</td>\n",
       "      <td>30720</td>\n",
       "      <td>3000</td>\n",
       "      <td>1950</td>\n",
       "      <td>150</td>\n",
       "      <td>1</td>\n",
       "      <td>1</td>\n",
       "      <td>9.00</td>\n",
       "      <td>531.00</td>\n",
       "      <td>77.00</td>\n",
       "      <td>15.00</td>\n",
       "      <td>52.00</td>\n",
       "    </tr>\n",
       "    <tr>\n",
       "      <td>3171</td>\n",
       "      <td>1491</td>\n",
       "      <td>56</td>\n",
       "      <td>NaT</td>\n",
       "      <td>Челябинск</td>\n",
       "      <td>Радислав</td>\n",
       "      <td>Андрейкин</td>\n",
       "      <td>2018-04-25</td>\n",
       "      <td>ultra</td>\n",
       "      <td>1000</td>\n",
       "      <td>30720</td>\n",
       "      <td>3000</td>\n",
       "      <td>1950</td>\n",
       "      <td>150</td>\n",
       "      <td>1</td>\n",
       "      <td>1</td>\n",
       "      <td>10.00</td>\n",
       "      <td>583.00</td>\n",
       "      <td>90.00</td>\n",
       "      <td>24.00</td>\n",
       "      <td>61.00</td>\n",
       "    </tr>\n",
       "    <tr>\n",
       "      <td>3172</td>\n",
       "      <td>1491</td>\n",
       "      <td>56</td>\n",
       "      <td>NaT</td>\n",
       "      <td>Челябинск</td>\n",
       "      <td>Радислав</td>\n",
       "      <td>Андрейкин</td>\n",
       "      <td>2018-04-25</td>\n",
       "      <td>ultra</td>\n",
       "      <td>1000</td>\n",
       "      <td>30720</td>\n",
       "      <td>3000</td>\n",
       "      <td>1950</td>\n",
       "      <td>150</td>\n",
       "      <td>1</td>\n",
       "      <td>1</td>\n",
       "      <td>11.00</td>\n",
       "      <td>518.00</td>\n",
       "      <td>71.00</td>\n",
       "      <td>18.00</td>\n",
       "      <td>40.00</td>\n",
       "    </tr>\n",
       "    <tr>\n",
       "      <td>3173</td>\n",
       "      <td>1491</td>\n",
       "      <td>56</td>\n",
       "      <td>NaT</td>\n",
       "      <td>Челябинск</td>\n",
       "      <td>Радислав</td>\n",
       "      <td>Андрейкин</td>\n",
       "      <td>2018-04-25</td>\n",
       "      <td>ultra</td>\n",
       "      <td>1000</td>\n",
       "      <td>30720</td>\n",
       "      <td>3000</td>\n",
       "      <td>1950</td>\n",
       "      <td>150</td>\n",
       "      <td>1</td>\n",
       "      <td>1</td>\n",
       "      <td>12.00</td>\n",
       "      <td>674.00</td>\n",
       "      <td>90.00</td>\n",
       "      <td>22.00</td>\n",
       "      <td>51.00</td>\n",
       "    </tr>\n",
       "    <tr>\n",
       "      <td>3174</td>\n",
       "      <td>1492</td>\n",
       "      <td>63</td>\n",
       "      <td>NaT</td>\n",
       "      <td>Санкт-Петербург</td>\n",
       "      <td>Руслана</td>\n",
       "      <td>Артёменко</td>\n",
       "      <td>2018-06-26</td>\n",
       "      <td>smart</td>\n",
       "      <td>50</td>\n",
       "      <td>15360</td>\n",
       "      <td>500</td>\n",
       "      <td>550</td>\n",
       "      <td>200</td>\n",
       "      <td>3</td>\n",
       "      <td>3</td>\n",
       "      <td>6.00</td>\n",
       "      <td>84.00</td>\n",
       "      <td>11.00</td>\n",
       "      <td>4.00</td>\n",
       "      <td>1.00</td>\n",
       "    </tr>\n",
       "    <tr>\n",
       "      <td>3175</td>\n",
       "      <td>1492</td>\n",
       "      <td>63</td>\n",
       "      <td>NaT</td>\n",
       "      <td>Санкт-Петербург</td>\n",
       "      <td>Руслана</td>\n",
       "      <td>Артёменко</td>\n",
       "      <td>2018-06-26</td>\n",
       "      <td>smart</td>\n",
       "      <td>50</td>\n",
       "      <td>15360</td>\n",
       "      <td>500</td>\n",
       "      <td>550</td>\n",
       "      <td>200</td>\n",
       "      <td>3</td>\n",
       "      <td>3</td>\n",
       "      <td>7.00</td>\n",
       "      <td>517.00</td>\n",
       "      <td>80.00</td>\n",
       "      <td>15.00</td>\n",
       "      <td>19.00</td>\n",
       "    </tr>\n",
       "    <tr>\n",
       "      <td>3176</td>\n",
       "      <td>1492</td>\n",
       "      <td>63</td>\n",
       "      <td>NaT</td>\n",
       "      <td>Санкт-Петербург</td>\n",
       "      <td>Руслана</td>\n",
       "      <td>Артёменко</td>\n",
       "      <td>2018-06-26</td>\n",
       "      <td>smart</td>\n",
       "      <td>50</td>\n",
       "      <td>15360</td>\n",
       "      <td>500</td>\n",
       "      <td>550</td>\n",
       "      <td>200</td>\n",
       "      <td>3</td>\n",
       "      <td>3</td>\n",
       "      <td>8.00</td>\n",
       "      <td>603.00</td>\n",
       "      <td>78.00</td>\n",
       "      <td>20.00</td>\n",
       "      <td>15.00</td>\n",
       "    </tr>\n",
       "    <tr>\n",
       "      <td>3177</td>\n",
       "      <td>1492</td>\n",
       "      <td>63</td>\n",
       "      <td>NaT</td>\n",
       "      <td>Санкт-Петербург</td>\n",
       "      <td>Руслана</td>\n",
       "      <td>Артёменко</td>\n",
       "      <td>2018-06-26</td>\n",
       "      <td>smart</td>\n",
       "      <td>50</td>\n",
       "      <td>15360</td>\n",
       "      <td>500</td>\n",
       "      <td>550</td>\n",
       "      <td>200</td>\n",
       "      <td>3</td>\n",
       "      <td>3</td>\n",
       "      <td>9.00</td>\n",
       "      <td>694.00</td>\n",
       "      <td>99.00</td>\n",
       "      <td>21.00</td>\n",
       "      <td>10.00</td>\n",
       "    </tr>\n",
       "    <tr>\n",
       "      <td>3178</td>\n",
       "      <td>1492</td>\n",
       "      <td>63</td>\n",
       "      <td>NaT</td>\n",
       "      <td>Санкт-Петербург</td>\n",
       "      <td>Руслана</td>\n",
       "      <td>Артёменко</td>\n",
       "      <td>2018-06-26</td>\n",
       "      <td>smart</td>\n",
       "      <td>50</td>\n",
       "      <td>15360</td>\n",
       "      <td>500</td>\n",
       "      <td>550</td>\n",
       "      <td>200</td>\n",
       "      <td>3</td>\n",
       "      <td>3</td>\n",
       "      <td>10.00</td>\n",
       "      <td>619.00</td>\n",
       "      <td>88.00</td>\n",
       "      <td>25.00</td>\n",
       "      <td>21.00</td>\n",
       "    </tr>\n",
       "    <tr>\n",
       "      <td>3179</td>\n",
       "      <td>1492</td>\n",
       "      <td>63</td>\n",
       "      <td>NaT</td>\n",
       "      <td>Санкт-Петербург</td>\n",
       "      <td>Руслана</td>\n",
       "      <td>Артёменко</td>\n",
       "      <td>2018-06-26</td>\n",
       "      <td>smart</td>\n",
       "      <td>50</td>\n",
       "      <td>15360</td>\n",
       "      <td>500</td>\n",
       "      <td>550</td>\n",
       "      <td>200</td>\n",
       "      <td>3</td>\n",
       "      <td>3</td>\n",
       "      <td>11.00</td>\n",
       "      <td>510.00</td>\n",
       "      <td>81.00</td>\n",
       "      <td>17.00</td>\n",
       "      <td>13.00</td>\n",
       "    </tr>\n",
       "    <tr>\n",
       "      <td>3180</td>\n",
       "      <td>1492</td>\n",
       "      <td>63</td>\n",
       "      <td>NaT</td>\n",
       "      <td>Санкт-Петербург</td>\n",
       "      <td>Руслана</td>\n",
       "      <td>Артёменко</td>\n",
       "      <td>2018-06-26</td>\n",
       "      <td>smart</td>\n",
       "      <td>50</td>\n",
       "      <td>15360</td>\n",
       "      <td>500</td>\n",
       "      <td>550</td>\n",
       "      <td>200</td>\n",
       "      <td>3</td>\n",
       "      <td>3</td>\n",
       "      <td>12.00</td>\n",
       "      <td>781.00</td>\n",
       "      <td>102.00</td>\n",
       "      <td>25.00</td>\n",
       "      <td>19.00</td>\n",
       "    </tr>\n",
       "    <tr>\n",
       "      <td>3181</td>\n",
       "      <td>1493</td>\n",
       "      <td>71</td>\n",
       "      <td>NaT</td>\n",
       "      <td>Красноярск</td>\n",
       "      <td>Таисия</td>\n",
       "      <td>Ахматулина</td>\n",
       "      <td>2018-11-24</td>\n",
       "      <td>ultra</td>\n",
       "      <td>1000</td>\n",
       "      <td>30720</td>\n",
       "      <td>3000</td>\n",
       "      <td>1950</td>\n",
       "      <td>150</td>\n",
       "      <td>1</td>\n",
       "      <td>1</td>\n",
       "      <td>11.00</td>\n",
       "      <td>173.00</td>\n",
       "      <td>26.00</td>\n",
       "      <td>12.00</td>\n",
       "      <td>16.00</td>\n",
       "    </tr>\n",
       "    <tr>\n",
       "      <td>3182</td>\n",
       "      <td>1493</td>\n",
       "      <td>71</td>\n",
       "      <td>NaT</td>\n",
       "      <td>Красноярск</td>\n",
       "      <td>Таисия</td>\n",
       "      <td>Ахматулина</td>\n",
       "      <td>2018-11-24</td>\n",
       "      <td>ultra</td>\n",
       "      <td>1000</td>\n",
       "      <td>30720</td>\n",
       "      <td>3000</td>\n",
       "      <td>1950</td>\n",
       "      <td>150</td>\n",
       "      <td>1</td>\n",
       "      <td>1</td>\n",
       "      <td>12.00</td>\n",
       "      <td>571.00</td>\n",
       "      <td>84.00</td>\n",
       "      <td>42.00</td>\n",
       "      <td>78.00</td>\n",
       "    </tr>\n",
       "    <tr>\n",
       "      <td>3183</td>\n",
       "      <td>1494</td>\n",
       "      <td>62</td>\n",
       "      <td>NaT</td>\n",
       "      <td>Омск</td>\n",
       "      <td>Ренат</td>\n",
       "      <td>Андропов</td>\n",
       "      <td>2018-08-17</td>\n",
       "      <td>smart</td>\n",
       "      <td>50</td>\n",
       "      <td>15360</td>\n",
       "      <td>500</td>\n",
       "      <td>550</td>\n",
       "      <td>200</td>\n",
       "      <td>3</td>\n",
       "      <td>3</td>\n",
       "      <td>8.00</td>\n",
       "      <td>262.00</td>\n",
       "      <td>32.00</td>\n",
       "      <td>7.00</td>\n",
       "      <td>nan</td>\n",
       "    </tr>\n",
       "    <tr>\n",
       "      <td>3184</td>\n",
       "      <td>1494</td>\n",
       "      <td>62</td>\n",
       "      <td>NaT</td>\n",
       "      <td>Омск</td>\n",
       "      <td>Ренат</td>\n",
       "      <td>Андропов</td>\n",
       "      <td>2018-08-17</td>\n",
       "      <td>smart</td>\n",
       "      <td>50</td>\n",
       "      <td>15360</td>\n",
       "      <td>500</td>\n",
       "      <td>550</td>\n",
       "      <td>200</td>\n",
       "      <td>3</td>\n",
       "      <td>3</td>\n",
       "      <td>9.00</td>\n",
       "      <td>501.00</td>\n",
       "      <td>66.00</td>\n",
       "      <td>17.00</td>\n",
       "      <td>nan</td>\n",
       "    </tr>\n",
       "    <tr>\n",
       "      <td>3185</td>\n",
       "      <td>1494</td>\n",
       "      <td>62</td>\n",
       "      <td>NaT</td>\n",
       "      <td>Омск</td>\n",
       "      <td>Ренат</td>\n",
       "      <td>Андропов</td>\n",
       "      <td>2018-08-17</td>\n",
       "      <td>smart</td>\n",
       "      <td>50</td>\n",
       "      <td>15360</td>\n",
       "      <td>500</td>\n",
       "      <td>550</td>\n",
       "      <td>200</td>\n",
       "      <td>3</td>\n",
       "      <td>3</td>\n",
       "      <td>10.00</td>\n",
       "      <td>354.00</td>\n",
       "      <td>52.00</td>\n",
       "      <td>18.00</td>\n",
       "      <td>nan</td>\n",
       "    </tr>\n",
       "    <tr>\n",
       "      <td>3186</td>\n",
       "      <td>1494</td>\n",
       "      <td>62</td>\n",
       "      <td>NaT</td>\n",
       "      <td>Омск</td>\n",
       "      <td>Ренат</td>\n",
       "      <td>Андропов</td>\n",
       "      <td>2018-08-17</td>\n",
       "      <td>smart</td>\n",
       "      <td>50</td>\n",
       "      <td>15360</td>\n",
       "      <td>500</td>\n",
       "      <td>550</td>\n",
       "      <td>200</td>\n",
       "      <td>3</td>\n",
       "      <td>3</td>\n",
       "      <td>11.00</td>\n",
       "      <td>411.00</td>\n",
       "      <td>63.00</td>\n",
       "      <td>18.00</td>\n",
       "      <td>nan</td>\n",
       "    </tr>\n",
       "    <tr>\n",
       "      <td>3187</td>\n",
       "      <td>1494</td>\n",
       "      <td>62</td>\n",
       "      <td>NaT</td>\n",
       "      <td>Омск</td>\n",
       "      <td>Ренат</td>\n",
       "      <td>Андропов</td>\n",
       "      <td>2018-08-17</td>\n",
       "      <td>smart</td>\n",
       "      <td>50</td>\n",
       "      <td>15360</td>\n",
       "      <td>500</td>\n",
       "      <td>550</td>\n",
       "      <td>200</td>\n",
       "      <td>3</td>\n",
       "      <td>3</td>\n",
       "      <td>12.00</td>\n",
       "      <td>418.00</td>\n",
       "      <td>62.00</td>\n",
       "      <td>18.00</td>\n",
       "      <td>nan</td>\n",
       "    </tr>\n",
       "    <tr>\n",
       "      <td>3188</td>\n",
       "      <td>1495</td>\n",
       "      <td>65</td>\n",
       "      <td>NaT</td>\n",
       "      <td>Иркутск</td>\n",
       "      <td>Авксентий</td>\n",
       "      <td>Фокин</td>\n",
       "      <td>2018-08-28</td>\n",
       "      <td>ultra</td>\n",
       "      <td>1000</td>\n",
       "      <td>30720</td>\n",
       "      <td>3000</td>\n",
       "      <td>1950</td>\n",
       "      <td>150</td>\n",
       "      <td>1</td>\n",
       "      <td>1</td>\n",
       "      <td>8.00</td>\n",
       "      <td>92.00</td>\n",
       "      <td>17.00</td>\n",
       "      <td>3.00</td>\n",
       "      <td>13.00</td>\n",
       "    </tr>\n",
       "    <tr>\n",
       "      <td>3189</td>\n",
       "      <td>1495</td>\n",
       "      <td>65</td>\n",
       "      <td>NaT</td>\n",
       "      <td>Иркутск</td>\n",
       "      <td>Авксентий</td>\n",
       "      <td>Фокин</td>\n",
       "      <td>2018-08-28</td>\n",
       "      <td>ultra</td>\n",
       "      <td>1000</td>\n",
       "      <td>30720</td>\n",
       "      <td>3000</td>\n",
       "      <td>1950</td>\n",
       "      <td>150</td>\n",
       "      <td>1</td>\n",
       "      <td>1</td>\n",
       "      <td>9.00</td>\n",
       "      <td>813.00</td>\n",
       "      <td>112.00</td>\n",
       "      <td>33.00</td>\n",
       "      <td>82.00</td>\n",
       "    </tr>\n",
       "    <tr>\n",
       "      <td>3190</td>\n",
       "      <td>1495</td>\n",
       "      <td>65</td>\n",
       "      <td>NaT</td>\n",
       "      <td>Иркутск</td>\n",
       "      <td>Авксентий</td>\n",
       "      <td>Фокин</td>\n",
       "      <td>2018-08-28</td>\n",
       "      <td>ultra</td>\n",
       "      <td>1000</td>\n",
       "      <td>30720</td>\n",
       "      <td>3000</td>\n",
       "      <td>1950</td>\n",
       "      <td>150</td>\n",
       "      <td>1</td>\n",
       "      <td>1</td>\n",
       "      <td>10.00</td>\n",
       "      <td>1,030.00</td>\n",
       "      <td>152.00</td>\n",
       "      <td>29.00</td>\n",
       "      <td>82.00</td>\n",
       "    </tr>\n",
       "    <tr>\n",
       "      <td>3191</td>\n",
       "      <td>1495</td>\n",
       "      <td>65</td>\n",
       "      <td>NaT</td>\n",
       "      <td>Иркутск</td>\n",
       "      <td>Авксентий</td>\n",
       "      <td>Фокин</td>\n",
       "      <td>2018-08-28</td>\n",
       "      <td>ultra</td>\n",
       "      <td>1000</td>\n",
       "      <td>30720</td>\n",
       "      <td>3000</td>\n",
       "      <td>1950</td>\n",
       "      <td>150</td>\n",
       "      <td>1</td>\n",
       "      <td>1</td>\n",
       "      <td>11.00</td>\n",
       "      <td>954.00</td>\n",
       "      <td>129.00</td>\n",
       "      <td>39.00</td>\n",
       "      <td>79.00</td>\n",
       "    </tr>\n",
       "    <tr>\n",
       "      <td>3192</td>\n",
       "      <td>1495</td>\n",
       "      <td>65</td>\n",
       "      <td>NaT</td>\n",
       "      <td>Иркутск</td>\n",
       "      <td>Авксентий</td>\n",
       "      <td>Фокин</td>\n",
       "      <td>2018-08-28</td>\n",
       "      <td>ultra</td>\n",
       "      <td>1000</td>\n",
       "      <td>30720</td>\n",
       "      <td>3000</td>\n",
       "      <td>1950</td>\n",
       "      <td>150</td>\n",
       "      <td>1</td>\n",
       "      <td>1</td>\n",
       "      <td>12.00</td>\n",
       "      <td>1,031.00</td>\n",
       "      <td>155.00</td>\n",
       "      <td>23.00</td>\n",
       "      <td>84.00</td>\n",
       "    </tr>\n",
       "    <tr>\n",
       "      <td>3193</td>\n",
       "      <td>1496</td>\n",
       "      <td>36</td>\n",
       "      <td>NaT</td>\n",
       "      <td>Вологда</td>\n",
       "      <td>Трифон</td>\n",
       "      <td>Блохин</td>\n",
       "      <td>2018-01-27</td>\n",
       "      <td>smart</td>\n",
       "      <td>50</td>\n",
       "      <td>15360</td>\n",
       "      <td>500</td>\n",
       "      <td>550</td>\n",
       "      <td>200</td>\n",
       "      <td>3</td>\n",
       "      <td>3</td>\n",
       "      <td>1.00</td>\n",
       "      <td>48.00</td>\n",
       "      <td>7.00</td>\n",
       "      <td>4.00</td>\n",
       "      <td>9.00</td>\n",
       "    </tr>\n",
       "    <tr>\n",
       "      <td>3194</td>\n",
       "      <td>1496</td>\n",
       "      <td>36</td>\n",
       "      <td>NaT</td>\n",
       "      <td>Вологда</td>\n",
       "      <td>Трифон</td>\n",
       "      <td>Блохин</td>\n",
       "      <td>2018-01-27</td>\n",
       "      <td>smart</td>\n",
       "      <td>50</td>\n",
       "      <td>15360</td>\n",
       "      <td>500</td>\n",
       "      <td>550</td>\n",
       "      <td>200</td>\n",
       "      <td>3</td>\n",
       "      <td>3</td>\n",
       "      <td>2.00</td>\n",
       "      <td>594.00</td>\n",
       "      <td>77.00</td>\n",
       "      <td>28.00</td>\n",
       "      <td>45.00</td>\n",
       "    </tr>\n",
       "    <tr>\n",
       "      <td>3195</td>\n",
       "      <td>1496</td>\n",
       "      <td>36</td>\n",
       "      <td>NaT</td>\n",
       "      <td>Вологда</td>\n",
       "      <td>Трифон</td>\n",
       "      <td>Блохин</td>\n",
       "      <td>2018-01-27</td>\n",
       "      <td>smart</td>\n",
       "      <td>50</td>\n",
       "      <td>15360</td>\n",
       "      <td>500</td>\n",
       "      <td>550</td>\n",
       "      <td>200</td>\n",
       "      <td>3</td>\n",
       "      <td>3</td>\n",
       "      <td>3.00</td>\n",
       "      <td>557.00</td>\n",
       "      <td>79.00</td>\n",
       "      <td>25.00</td>\n",
       "      <td>46.00</td>\n",
       "    </tr>\n",
       "    <tr>\n",
       "      <td>3196</td>\n",
       "      <td>1496</td>\n",
       "      <td>36</td>\n",
       "      <td>NaT</td>\n",
       "      <td>Вологда</td>\n",
       "      <td>Трифон</td>\n",
       "      <td>Блохин</td>\n",
       "      <td>2018-01-27</td>\n",
       "      <td>smart</td>\n",
       "      <td>50</td>\n",
       "      <td>15360</td>\n",
       "      <td>500</td>\n",
       "      <td>550</td>\n",
       "      <td>200</td>\n",
       "      <td>3</td>\n",
       "      <td>3</td>\n",
       "      <td>4.00</td>\n",
       "      <td>521.00</td>\n",
       "      <td>67.00</td>\n",
       "      <td>21.00</td>\n",
       "      <td>49.00</td>\n",
       "    </tr>\n",
       "    <tr>\n",
       "      <td>3197</td>\n",
       "      <td>1496</td>\n",
       "      <td>36</td>\n",
       "      <td>NaT</td>\n",
       "      <td>Вологда</td>\n",
       "      <td>Трифон</td>\n",
       "      <td>Блохин</td>\n",
       "      <td>2018-01-27</td>\n",
       "      <td>smart</td>\n",
       "      <td>50</td>\n",
       "      <td>15360</td>\n",
       "      <td>500</td>\n",
       "      <td>550</td>\n",
       "      <td>200</td>\n",
       "      <td>3</td>\n",
       "      <td>3</td>\n",
       "      <td>5.00</td>\n",
       "      <td>484.00</td>\n",
       "      <td>63.00</td>\n",
       "      <td>24.00</td>\n",
       "      <td>40.00</td>\n",
       "    </tr>\n",
       "    <tr>\n",
       "      <td>3198</td>\n",
       "      <td>1496</td>\n",
       "      <td>36</td>\n",
       "      <td>NaT</td>\n",
       "      <td>Вологда</td>\n",
       "      <td>Трифон</td>\n",
       "      <td>Блохин</td>\n",
       "      <td>2018-01-27</td>\n",
       "      <td>smart</td>\n",
       "      <td>50</td>\n",
       "      <td>15360</td>\n",
       "      <td>500</td>\n",
       "      <td>550</td>\n",
       "      <td>200</td>\n",
       "      <td>3</td>\n",
       "      <td>3</td>\n",
       "      <td>6.00</td>\n",
       "      <td>555.00</td>\n",
       "      <td>74.00</td>\n",
       "      <td>20.00</td>\n",
       "      <td>35.00</td>\n",
       "    </tr>\n",
       "    <tr>\n",
       "      <td>3199</td>\n",
       "      <td>1496</td>\n",
       "      <td>36</td>\n",
       "      <td>NaT</td>\n",
       "      <td>Вологда</td>\n",
       "      <td>Трифон</td>\n",
       "      <td>Блохин</td>\n",
       "      <td>2018-01-27</td>\n",
       "      <td>smart</td>\n",
       "      <td>50</td>\n",
       "      <td>15360</td>\n",
       "      <td>500</td>\n",
       "      <td>550</td>\n",
       "      <td>200</td>\n",
       "      <td>3</td>\n",
       "      <td>3</td>\n",
       "      <td>7.00</td>\n",
       "      <td>582.00</td>\n",
       "      <td>73.00</td>\n",
       "      <td>24.00</td>\n",
       "      <td>42.00</td>\n",
       "    </tr>\n",
       "    <tr>\n",
       "      <td>3200</td>\n",
       "      <td>1496</td>\n",
       "      <td>36</td>\n",
       "      <td>NaT</td>\n",
       "      <td>Вологда</td>\n",
       "      <td>Трифон</td>\n",
       "      <td>Блохин</td>\n",
       "      <td>2018-01-27</td>\n",
       "      <td>smart</td>\n",
       "      <td>50</td>\n",
       "      <td>15360</td>\n",
       "      <td>500</td>\n",
       "      <td>550</td>\n",
       "      <td>200</td>\n",
       "      <td>3</td>\n",
       "      <td>3</td>\n",
       "      <td>8.00</td>\n",
       "      <td>527.00</td>\n",
       "      <td>88.00</td>\n",
       "      <td>23.00</td>\n",
       "      <td>41.00</td>\n",
       "    </tr>\n",
       "    <tr>\n",
       "      <td>3201</td>\n",
       "      <td>1496</td>\n",
       "      <td>36</td>\n",
       "      <td>NaT</td>\n",
       "      <td>Вологда</td>\n",
       "      <td>Трифон</td>\n",
       "      <td>Блохин</td>\n",
       "      <td>2018-01-27</td>\n",
       "      <td>smart</td>\n",
       "      <td>50</td>\n",
       "      <td>15360</td>\n",
       "      <td>500</td>\n",
       "      <td>550</td>\n",
       "      <td>200</td>\n",
       "      <td>3</td>\n",
       "      <td>3</td>\n",
       "      <td>9.00</td>\n",
       "      <td>486.00</td>\n",
       "      <td>68.00</td>\n",
       "      <td>27.00</td>\n",
       "      <td>29.00</td>\n",
       "    </tr>\n",
       "    <tr>\n",
       "      <td>3202</td>\n",
       "      <td>1496</td>\n",
       "      <td>36</td>\n",
       "      <td>NaT</td>\n",
       "      <td>Вологда</td>\n",
       "      <td>Трифон</td>\n",
       "      <td>Блохин</td>\n",
       "      <td>2018-01-27</td>\n",
       "      <td>smart</td>\n",
       "      <td>50</td>\n",
       "      <td>15360</td>\n",
       "      <td>500</td>\n",
       "      <td>550</td>\n",
       "      <td>200</td>\n",
       "      <td>3</td>\n",
       "      <td>3</td>\n",
       "      <td>10.00</td>\n",
       "      <td>450.00</td>\n",
       "      <td>72.00</td>\n",
       "      <td>28.00</td>\n",
       "      <td>35.00</td>\n",
       "    </tr>\n",
       "    <tr>\n",
       "      <td>3203</td>\n",
       "      <td>1496</td>\n",
       "      <td>36</td>\n",
       "      <td>NaT</td>\n",
       "      <td>Вологда</td>\n",
       "      <td>Трифон</td>\n",
       "      <td>Блохин</td>\n",
       "      <td>2018-01-27</td>\n",
       "      <td>smart</td>\n",
       "      <td>50</td>\n",
       "      <td>15360</td>\n",
       "      <td>500</td>\n",
       "      <td>550</td>\n",
       "      <td>200</td>\n",
       "      <td>3</td>\n",
       "      <td>3</td>\n",
       "      <td>11.00</td>\n",
       "      <td>662.00</td>\n",
       "      <td>80.00</td>\n",
       "      <td>25.00</td>\n",
       "      <td>46.00</td>\n",
       "    </tr>\n",
       "    <tr>\n",
       "      <td>3204</td>\n",
       "      <td>1496</td>\n",
       "      <td>36</td>\n",
       "      <td>NaT</td>\n",
       "      <td>Вологда</td>\n",
       "      <td>Трифон</td>\n",
       "      <td>Блохин</td>\n",
       "      <td>2018-01-27</td>\n",
       "      <td>smart</td>\n",
       "      <td>50</td>\n",
       "      <td>15360</td>\n",
       "      <td>500</td>\n",
       "      <td>550</td>\n",
       "      <td>200</td>\n",
       "      <td>3</td>\n",
       "      <td>3</td>\n",
       "      <td>12.00</td>\n",
       "      <td>518.00</td>\n",
       "      <td>80.00</td>\n",
       "      <td>21.00</td>\n",
       "      <td>51.00</td>\n",
       "    </tr>\n",
       "    <tr>\n",
       "      <td>3205</td>\n",
       "      <td>1497</td>\n",
       "      <td>32</td>\n",
       "      <td>NaT</td>\n",
       "      <td>Челябинск</td>\n",
       "      <td>Каролина</td>\n",
       "      <td>Агеева</td>\n",
       "      <td>2018-10-09</td>\n",
       "      <td>smart</td>\n",
       "      <td>50</td>\n",
       "      <td>15360</td>\n",
       "      <td>500</td>\n",
       "      <td>550</td>\n",
       "      <td>200</td>\n",
       "      <td>3</td>\n",
       "      <td>3</td>\n",
       "      <td>10.00</td>\n",
       "      <td>490.00</td>\n",
       "      <td>66.00</td>\n",
       "      <td>12.00</td>\n",
       "      <td>20.00</td>\n",
       "    </tr>\n",
       "    <tr>\n",
       "      <td>3206</td>\n",
       "      <td>1497</td>\n",
       "      <td>32</td>\n",
       "      <td>NaT</td>\n",
       "      <td>Челябинск</td>\n",
       "      <td>Каролина</td>\n",
       "      <td>Агеева</td>\n",
       "      <td>2018-10-09</td>\n",
       "      <td>smart</td>\n",
       "      <td>50</td>\n",
       "      <td>15360</td>\n",
       "      <td>500</td>\n",
       "      <td>550</td>\n",
       "      <td>200</td>\n",
       "      <td>3</td>\n",
       "      <td>3</td>\n",
       "      <td>11.00</td>\n",
       "      <td>371.00</td>\n",
       "      <td>64.00</td>\n",
       "      <td>14.00</td>\n",
       "      <td>14.00</td>\n",
       "    </tr>\n",
       "    <tr>\n",
       "      <td>3207</td>\n",
       "      <td>1497</td>\n",
       "      <td>32</td>\n",
       "      <td>NaT</td>\n",
       "      <td>Челябинск</td>\n",
       "      <td>Каролина</td>\n",
       "      <td>Агеева</td>\n",
       "      <td>2018-10-09</td>\n",
       "      <td>smart</td>\n",
       "      <td>50</td>\n",
       "      <td>15360</td>\n",
       "      <td>500</td>\n",
       "      <td>550</td>\n",
       "      <td>200</td>\n",
       "      <td>3</td>\n",
       "      <td>3</td>\n",
       "      <td>12.00</td>\n",
       "      <td>545.00</td>\n",
       "      <td>71.00</td>\n",
       "      <td>20.00</td>\n",
       "      <td>17.00</td>\n",
       "    </tr>\n",
       "    <tr>\n",
       "      <td>3208</td>\n",
       "      <td>1498</td>\n",
       "      <td>68</td>\n",
       "      <td>2018-10-25</td>\n",
       "      <td>Владикавказ</td>\n",
       "      <td>Всеволод</td>\n",
       "      <td>Акимчин</td>\n",
       "      <td>2018-07-19</td>\n",
       "      <td>smart</td>\n",
       "      <td>50</td>\n",
       "      <td>15360</td>\n",
       "      <td>500</td>\n",
       "      <td>550</td>\n",
       "      <td>200</td>\n",
       "      <td>3</td>\n",
       "      <td>3</td>\n",
       "      <td>7.00</td>\n",
       "      <td>175.00</td>\n",
       "      <td>23.00</td>\n",
       "      <td>8.00</td>\n",
       "      <td>20.00</td>\n",
       "    </tr>\n",
       "    <tr>\n",
       "      <td>3209</td>\n",
       "      <td>1498</td>\n",
       "      <td>68</td>\n",
       "      <td>2018-10-25</td>\n",
       "      <td>Владикавказ</td>\n",
       "      <td>Всеволод</td>\n",
       "      <td>Акимчин</td>\n",
       "      <td>2018-07-19</td>\n",
       "      <td>smart</td>\n",
       "      <td>50</td>\n",
       "      <td>15360</td>\n",
       "      <td>500</td>\n",
       "      <td>550</td>\n",
       "      <td>200</td>\n",
       "      <td>3</td>\n",
       "      <td>3</td>\n",
       "      <td>8.00</td>\n",
       "      <td>400.00</td>\n",
       "      <td>57.00</td>\n",
       "      <td>24.00</td>\n",
       "      <td>62.00</td>\n",
       "    </tr>\n",
       "    <tr>\n",
       "      <td>3210</td>\n",
       "      <td>1498</td>\n",
       "      <td>68</td>\n",
       "      <td>2018-10-25</td>\n",
       "      <td>Владикавказ</td>\n",
       "      <td>Всеволод</td>\n",
       "      <td>Акимчин</td>\n",
       "      <td>2018-07-19</td>\n",
       "      <td>smart</td>\n",
       "      <td>50</td>\n",
       "      <td>15360</td>\n",
       "      <td>500</td>\n",
       "      <td>550</td>\n",
       "      <td>200</td>\n",
       "      <td>3</td>\n",
       "      <td>3</td>\n",
       "      <td>9.00</td>\n",
       "      <td>471.00</td>\n",
       "      <td>59.00</td>\n",
       "      <td>22.00</td>\n",
       "      <td>44.00</td>\n",
       "    </tr>\n",
       "    <tr>\n",
       "      <td>3211</td>\n",
       "      <td>1498</td>\n",
       "      <td>68</td>\n",
       "      <td>2018-10-25</td>\n",
       "      <td>Владикавказ</td>\n",
       "      <td>Всеволод</td>\n",
       "      <td>Акимчин</td>\n",
       "      <td>2018-07-19</td>\n",
       "      <td>smart</td>\n",
       "      <td>50</td>\n",
       "      <td>15360</td>\n",
       "      <td>500</td>\n",
       "      <td>550</td>\n",
       "      <td>200</td>\n",
       "      <td>3</td>\n",
       "      <td>3</td>\n",
       "      <td>10.00</td>\n",
       "      <td>247.00</td>\n",
       "      <td>41.00</td>\n",
       "      <td>21.00</td>\n",
       "      <td>42.00</td>\n",
       "    </tr>\n",
       "    <tr>\n",
       "      <td>3212</td>\n",
       "      <td>1499</td>\n",
       "      <td>35</td>\n",
       "      <td>NaT</td>\n",
       "      <td>Пермь</td>\n",
       "      <td>Гектор</td>\n",
       "      <td>Корнилов</td>\n",
       "      <td>2018-09-27</td>\n",
       "      <td>smart</td>\n",
       "      <td>50</td>\n",
       "      <td>15360</td>\n",
       "      <td>500</td>\n",
       "      <td>550</td>\n",
       "      <td>200</td>\n",
       "      <td>3</td>\n",
       "      <td>3</td>\n",
       "      <td>9.00</td>\n",
       "      <td>70.00</td>\n",
       "      <td>9.00</td>\n",
       "      <td>2.00</td>\n",
       "      <td>11.00</td>\n",
       "    </tr>\n",
       "    <tr>\n",
       "      <td>3213</td>\n",
       "      <td>1499</td>\n",
       "      <td>35</td>\n",
       "      <td>NaT</td>\n",
       "      <td>Пермь</td>\n",
       "      <td>Гектор</td>\n",
       "      <td>Корнилов</td>\n",
       "      <td>2018-09-27</td>\n",
       "      <td>smart</td>\n",
       "      <td>50</td>\n",
       "      <td>15360</td>\n",
       "      <td>500</td>\n",
       "      <td>550</td>\n",
       "      <td>200</td>\n",
       "      <td>3</td>\n",
       "      <td>3</td>\n",
       "      <td>10.00</td>\n",
       "      <td>449.00</td>\n",
       "      <td>68.00</td>\n",
       "      <td>18.00</td>\n",
       "      <td>48.00</td>\n",
       "    </tr>\n",
       "    <tr>\n",
       "      <td>3214</td>\n",
       "      <td>1499</td>\n",
       "      <td>35</td>\n",
       "      <td>NaT</td>\n",
       "      <td>Пермь</td>\n",
       "      <td>Гектор</td>\n",
       "      <td>Корнилов</td>\n",
       "      <td>2018-09-27</td>\n",
       "      <td>smart</td>\n",
       "      <td>50</td>\n",
       "      <td>15360</td>\n",
       "      <td>500</td>\n",
       "      <td>550</td>\n",
       "      <td>200</td>\n",
       "      <td>3</td>\n",
       "      <td>3</td>\n",
       "      <td>11.00</td>\n",
       "      <td>612.00</td>\n",
       "      <td>74.00</td>\n",
       "      <td>18.00</td>\n",
       "      <td>59.00</td>\n",
       "    </tr>\n",
       "    <tr>\n",
       "      <td>3215</td>\n",
       "      <td>1499</td>\n",
       "      <td>35</td>\n",
       "      <td>NaT</td>\n",
       "      <td>Пермь</td>\n",
       "      <td>Гектор</td>\n",
       "      <td>Корнилов</td>\n",
       "      <td>2018-09-27</td>\n",
       "      <td>smart</td>\n",
       "      <td>50</td>\n",
       "      <td>15360</td>\n",
       "      <td>500</td>\n",
       "      <td>550</td>\n",
       "      <td>200</td>\n",
       "      <td>3</td>\n",
       "      <td>3</td>\n",
       "      <td>12.00</td>\n",
       "      <td>492.00</td>\n",
       "      <td>69.00</td>\n",
       "      <td>13.00</td>\n",
       "      <td>66.00</td>\n",
       "    </tr>\n",
       "  </tbody>\n",
       "</table>\n",
       "</div>"
      ],
      "text/plain": [
       "      user_id  age churn_date             city first_name   last_name  \\\n",
       "3166     1491   56        NaT        Челябинск   Радислав   Андрейкин   \n",
       "3167     1491   56        NaT        Челябинск   Радислав   Андрейкин   \n",
       "3168     1491   56        NaT        Челябинск   Радислав   Андрейкин   \n",
       "3169     1491   56        NaT        Челябинск   Радислав   Андрейкин   \n",
       "3170     1491   56        NaT        Челябинск   Радислав   Андрейкин   \n",
       "3171     1491   56        NaT        Челябинск   Радислав   Андрейкин   \n",
       "3172     1491   56        NaT        Челябинск   Радислав   Андрейкин   \n",
       "3173     1491   56        NaT        Челябинск   Радислав   Андрейкин   \n",
       "3174     1492   63        NaT  Санкт-Петербург    Руслана   Артёменко   \n",
       "3175     1492   63        NaT  Санкт-Петербург    Руслана   Артёменко   \n",
       "3176     1492   63        NaT  Санкт-Петербург    Руслана   Артёменко   \n",
       "3177     1492   63        NaT  Санкт-Петербург    Руслана   Артёменко   \n",
       "3178     1492   63        NaT  Санкт-Петербург    Руслана   Артёменко   \n",
       "3179     1492   63        NaT  Санкт-Петербург    Руслана   Артёменко   \n",
       "3180     1492   63        NaT  Санкт-Петербург    Руслана   Артёменко   \n",
       "3181     1493   71        NaT       Красноярск     Таисия  Ахматулина   \n",
       "3182     1493   71        NaT       Красноярск     Таисия  Ахматулина   \n",
       "3183     1494   62        NaT             Омск      Ренат    Андропов   \n",
       "3184     1494   62        NaT             Омск      Ренат    Андропов   \n",
       "3185     1494   62        NaT             Омск      Ренат    Андропов   \n",
       "3186     1494   62        NaT             Омск      Ренат    Андропов   \n",
       "3187     1494   62        NaT             Омск      Ренат    Андропов   \n",
       "3188     1495   65        NaT          Иркутск  Авксентий       Фокин   \n",
       "3189     1495   65        NaT          Иркутск  Авксентий       Фокин   \n",
       "3190     1495   65        NaT          Иркутск  Авксентий       Фокин   \n",
       "3191     1495   65        NaT          Иркутск  Авксентий       Фокин   \n",
       "3192     1495   65        NaT          Иркутск  Авксентий       Фокин   \n",
       "3193     1496   36        NaT          Вологда     Трифон      Блохин   \n",
       "3194     1496   36        NaT          Вологда     Трифон      Блохин   \n",
       "3195     1496   36        NaT          Вологда     Трифон      Блохин   \n",
       "3196     1496   36        NaT          Вологда     Трифон      Блохин   \n",
       "3197     1496   36        NaT          Вологда     Трифон      Блохин   \n",
       "3198     1496   36        NaT          Вологда     Трифон      Блохин   \n",
       "3199     1496   36        NaT          Вологда     Трифон      Блохин   \n",
       "3200     1496   36        NaT          Вологда     Трифон      Блохин   \n",
       "3201     1496   36        NaT          Вологда     Трифон      Блохин   \n",
       "3202     1496   36        NaT          Вологда     Трифон      Блохин   \n",
       "3203     1496   36        NaT          Вологда     Трифон      Блохин   \n",
       "3204     1496   36        NaT          Вологда     Трифон      Блохин   \n",
       "3205     1497   32        NaT        Челябинск   Каролина      Агеева   \n",
       "3206     1497   32        NaT        Челябинск   Каролина      Агеева   \n",
       "3207     1497   32        NaT        Челябинск   Каролина      Агеева   \n",
       "3208     1498   68 2018-10-25      Владикавказ   Всеволод     Акимчин   \n",
       "3209     1498   68 2018-10-25      Владикавказ   Всеволод     Акимчин   \n",
       "3210     1498   68 2018-10-25      Владикавказ   Всеволод     Акимчин   \n",
       "3211     1498   68 2018-10-25      Владикавказ   Всеволод     Акимчин   \n",
       "3212     1499   35        NaT            Пермь     Гектор    Корнилов   \n",
       "3213     1499   35        NaT            Пермь     Гектор    Корнилов   \n",
       "3214     1499   35        NaT            Пермь     Гектор    Корнилов   \n",
       "3215     1499   35        NaT            Пермь     Гектор    Корнилов   \n",
       "\n",
       "       reg_date tariff  messages_included  mb_per_month_included  \\\n",
       "3166 2018-04-25  ultra               1000                  30720   \n",
       "3167 2018-04-25  ultra               1000                  30720   \n",
       "3168 2018-04-25  ultra               1000                  30720   \n",
       "3169 2018-04-25  ultra               1000                  30720   \n",
       "3170 2018-04-25  ultra               1000                  30720   \n",
       "3171 2018-04-25  ultra               1000                  30720   \n",
       "3172 2018-04-25  ultra               1000                  30720   \n",
       "3173 2018-04-25  ultra               1000                  30720   \n",
       "3174 2018-06-26  smart                 50                  15360   \n",
       "3175 2018-06-26  smart                 50                  15360   \n",
       "3176 2018-06-26  smart                 50                  15360   \n",
       "3177 2018-06-26  smart                 50                  15360   \n",
       "3178 2018-06-26  smart                 50                  15360   \n",
       "3179 2018-06-26  smart                 50                  15360   \n",
       "3180 2018-06-26  smart                 50                  15360   \n",
       "3181 2018-11-24  ultra               1000                  30720   \n",
       "3182 2018-11-24  ultra               1000                  30720   \n",
       "3183 2018-08-17  smart                 50                  15360   \n",
       "3184 2018-08-17  smart                 50                  15360   \n",
       "3185 2018-08-17  smart                 50                  15360   \n",
       "3186 2018-08-17  smart                 50                  15360   \n",
       "3187 2018-08-17  smart                 50                  15360   \n",
       "3188 2018-08-28  ultra               1000                  30720   \n",
       "3189 2018-08-28  ultra               1000                  30720   \n",
       "3190 2018-08-28  ultra               1000                  30720   \n",
       "3191 2018-08-28  ultra               1000                  30720   \n",
       "3192 2018-08-28  ultra               1000                  30720   \n",
       "3193 2018-01-27  smart                 50                  15360   \n",
       "3194 2018-01-27  smart                 50                  15360   \n",
       "3195 2018-01-27  smart                 50                  15360   \n",
       "3196 2018-01-27  smart                 50                  15360   \n",
       "3197 2018-01-27  smart                 50                  15360   \n",
       "3198 2018-01-27  smart                 50                  15360   \n",
       "3199 2018-01-27  smart                 50                  15360   \n",
       "3200 2018-01-27  smart                 50                  15360   \n",
       "3201 2018-01-27  smart                 50                  15360   \n",
       "3202 2018-01-27  smart                 50                  15360   \n",
       "3203 2018-01-27  smart                 50                  15360   \n",
       "3204 2018-01-27  smart                 50                  15360   \n",
       "3205 2018-10-09  smart                 50                  15360   \n",
       "3206 2018-10-09  smart                 50                  15360   \n",
       "3207 2018-10-09  smart                 50                  15360   \n",
       "3208 2018-07-19  smart                 50                  15360   \n",
       "3209 2018-07-19  smart                 50                  15360   \n",
       "3210 2018-07-19  smart                 50                  15360   \n",
       "3211 2018-07-19  smart                 50                  15360   \n",
       "3212 2018-09-27  smart                 50                  15360   \n",
       "3213 2018-09-27  smart                 50                  15360   \n",
       "3214 2018-09-27  smart                 50                  15360   \n",
       "3215 2018-09-27  smart                 50                  15360   \n",
       "\n",
       "      minutes_included  rub_monthly_fee  rub_per_gb  rub_per_message  \\\n",
       "3166              3000             1950         150                1   \n",
       "3167              3000             1950         150                1   \n",
       "3168              3000             1950         150                1   \n",
       "3169              3000             1950         150                1   \n",
       "3170              3000             1950         150                1   \n",
       "3171              3000             1950         150                1   \n",
       "3172              3000             1950         150                1   \n",
       "3173              3000             1950         150                1   \n",
       "3174               500              550         200                3   \n",
       "3175               500              550         200                3   \n",
       "3176               500              550         200                3   \n",
       "3177               500              550         200                3   \n",
       "3178               500              550         200                3   \n",
       "3179               500              550         200                3   \n",
       "3180               500              550         200                3   \n",
       "3181              3000             1950         150                1   \n",
       "3182              3000             1950         150                1   \n",
       "3183               500              550         200                3   \n",
       "3184               500              550         200                3   \n",
       "3185               500              550         200                3   \n",
       "3186               500              550         200                3   \n",
       "3187               500              550         200                3   \n",
       "3188              3000             1950         150                1   \n",
       "3189              3000             1950         150                1   \n",
       "3190              3000             1950         150                1   \n",
       "3191              3000             1950         150                1   \n",
       "3192              3000             1950         150                1   \n",
       "3193               500              550         200                3   \n",
       "3194               500              550         200                3   \n",
       "3195               500              550         200                3   \n",
       "3196               500              550         200                3   \n",
       "3197               500              550         200                3   \n",
       "3198               500              550         200                3   \n",
       "3199               500              550         200                3   \n",
       "3200               500              550         200                3   \n",
       "3201               500              550         200                3   \n",
       "3202               500              550         200                3   \n",
       "3203               500              550         200                3   \n",
       "3204               500              550         200                3   \n",
       "3205               500              550         200                3   \n",
       "3206               500              550         200                3   \n",
       "3207               500              550         200                3   \n",
       "3208               500              550         200                3   \n",
       "3209               500              550         200                3   \n",
       "3210               500              550         200                3   \n",
       "3211               500              550         200                3   \n",
       "3212               500              550         200                3   \n",
       "3213               500              550         200                3   \n",
       "3214               500              550         200                3   \n",
       "3215               500              550         200                3   \n",
       "\n",
       "      rub_per_minute  month  call_sum  call_count  gb_used  message_count  \n",
       "3166               1   5.00    530.00       81.00    25.00          55.00  \n",
       "3167               1   6.00    424.00       68.00    16.00          56.00  \n",
       "3168               1   7.00    606.00       80.00    21.00          58.00  \n",
       "3169               1   8.00    611.00       74.00    17.00          49.00  \n",
       "3170               1   9.00    531.00       77.00    15.00          52.00  \n",
       "3171               1  10.00    583.00       90.00    24.00          61.00  \n",
       "3172               1  11.00    518.00       71.00    18.00          40.00  \n",
       "3173               1  12.00    674.00       90.00    22.00          51.00  \n",
       "3174               3   6.00     84.00       11.00     4.00           1.00  \n",
       "3175               3   7.00    517.00       80.00    15.00          19.00  \n",
       "3176               3   8.00    603.00       78.00    20.00          15.00  \n",
       "3177               3   9.00    694.00       99.00    21.00          10.00  \n",
       "3178               3  10.00    619.00       88.00    25.00          21.00  \n",
       "3179               3  11.00    510.00       81.00    17.00          13.00  \n",
       "3180               3  12.00    781.00      102.00    25.00          19.00  \n",
       "3181               1  11.00    173.00       26.00    12.00          16.00  \n",
       "3182               1  12.00    571.00       84.00    42.00          78.00  \n",
       "3183               3   8.00    262.00       32.00     7.00            nan  \n",
       "3184               3   9.00    501.00       66.00    17.00            nan  \n",
       "3185               3  10.00    354.00       52.00    18.00            nan  \n",
       "3186               3  11.00    411.00       63.00    18.00            nan  \n",
       "3187               3  12.00    418.00       62.00    18.00            nan  \n",
       "3188               1   8.00     92.00       17.00     3.00          13.00  \n",
       "3189               1   9.00    813.00      112.00    33.00          82.00  \n",
       "3190               1  10.00  1,030.00      152.00    29.00          82.00  \n",
       "3191               1  11.00    954.00      129.00    39.00          79.00  \n",
       "3192               1  12.00  1,031.00      155.00    23.00          84.00  \n",
       "3193               3   1.00     48.00        7.00     4.00           9.00  \n",
       "3194               3   2.00    594.00       77.00    28.00          45.00  \n",
       "3195               3   3.00    557.00       79.00    25.00          46.00  \n",
       "3196               3   4.00    521.00       67.00    21.00          49.00  \n",
       "3197               3   5.00    484.00       63.00    24.00          40.00  \n",
       "3198               3   6.00    555.00       74.00    20.00          35.00  \n",
       "3199               3   7.00    582.00       73.00    24.00          42.00  \n",
       "3200               3   8.00    527.00       88.00    23.00          41.00  \n",
       "3201               3   9.00    486.00       68.00    27.00          29.00  \n",
       "3202               3  10.00    450.00       72.00    28.00          35.00  \n",
       "3203               3  11.00    662.00       80.00    25.00          46.00  \n",
       "3204               3  12.00    518.00       80.00    21.00          51.00  \n",
       "3205               3  10.00    490.00       66.00    12.00          20.00  \n",
       "3206               3  11.00    371.00       64.00    14.00          14.00  \n",
       "3207               3  12.00    545.00       71.00    20.00          17.00  \n",
       "3208               3   7.00    175.00       23.00     8.00          20.00  \n",
       "3209               3   8.00    400.00       57.00    24.00          62.00  \n",
       "3210               3   9.00    471.00       59.00    22.00          44.00  \n",
       "3211               3  10.00    247.00       41.00    21.00          42.00  \n",
       "3212               3   9.00     70.00        9.00     2.00          11.00  \n",
       "3213               3  10.00    449.00       68.00    18.00          48.00  \n",
       "3214               3  11.00    612.00       74.00    18.00          59.00  \n",
       "3215               3  12.00    492.00       69.00    13.00          66.00  "
      ]
     },
     "execution_count": 27,
     "metadata": {},
     "output_type": "execute_result"
    }
   ],
   "source": [
    "summary = users_all.merge(service, on='user_id', how='left')\n",
    "summary.info()\n",
    "summary.tail(50)"
   ]
  },
  {
   "cell_type": "markdown",
   "metadata": {},
   "source": [
    "Приведем данные некоторых столбцов к следующим типам:"
   ]
  },
  {
   "cell_type": "code",
   "execution_count": 28,
   "metadata": {},
   "outputs": [
    {
     "name": "stdout",
     "output_type": "stream",
     "text": [
      "<class 'pandas.core.frame.DataFrame'>\n",
      "Int64Index: 3216 entries, 0 to 3215\n",
      "Data columns (total 20 columns):\n",
      "user_id                  3216 non-null Int16\n",
      "age                      3216 non-null Int16\n",
      "churn_date               189 non-null datetime64[ns]\n",
      "city                     3216 non-null object\n",
      "first_name               3216 non-null object\n",
      "last_name                3216 non-null object\n",
      "reg_date                 3216 non-null datetime64[ns]\n",
      "tariff                   3216 non-null object\n",
      "messages_included        3216 non-null Int16\n",
      "mb_per_month_included    3216 non-null Int16\n",
      "minutes_included         3216 non-null Int16\n",
      "rub_monthly_fee          3216 non-null Int16\n",
      "rub_per_gb               3216 non-null Int16\n",
      "rub_per_message          3216 non-null Int16\n",
      "rub_per_minute           3216 non-null Int16\n",
      "month                    3214 non-null Int8\n",
      "call_sum                 3174 non-null Int16\n",
      "call_count               3174 non-null Int16\n",
      "gb_used                  3203 non-null Int16\n",
      "message_count            2717 non-null Int16\n",
      "dtypes: Int16(13), Int8(1), datetime64[ns](2), object(4)\n",
      "memory usage: 304.6+ KB\n"
     ]
    }
   ],
   "source": [
    "summary['month'] = summary['month'].astype('Int8')\n",
    "summary[['gb_used', 'message_count',\n",
    "         'call_count', 'call_sum']] = summary[['gb_used', 'message_count', 'call_count', 'call_sum']].astype('Int16')\n",
    "summary.info()"
   ]
  },
  {
   "cell_type": "markdown",
   "metadata": {},
   "source": [
    "В таблице в столбце `month` 3214 значений. Выясним: почему? По-видимому, у нас есть 2 пользователя, которые не пользовались ни одной из услуг по тарифу. Посмотрим на уникальные значения в столбце `month`:"
   ]
  },
  {
   "cell_type": "code",
   "execution_count": 29,
   "metadata": {},
   "outputs": [
    {
     "data": {
      "text/plain": [
       "<IntegerArray>\n",
       "[5, 6, 7, 8, 9, 10, 11, 12, 1, 2, 3, 4, NaN]\n",
       "Length: 13, dtype: Int8"
      ]
     },
     "execution_count": 29,
     "metadata": {},
     "output_type": "execute_result"
    }
   ],
   "source": [
    "summary['month'].unique()"
   ]
  },
  {
   "cell_type": "markdown",
   "metadata": {},
   "source": [
    "Есть пропущенные значения NaN. Заменим пропуски на 0 и сделаем запрос методом query, чтобы посмотреть эти строки:"
   ]
  },
  {
   "cell_type": "code",
   "execution_count": 30,
   "metadata": {},
   "outputs": [
    {
     "data": {
      "text/html": [
       "<div>\n",
       "<style scoped>\n",
       "    .dataframe tbody tr th:only-of-type {\n",
       "        vertical-align: middle;\n",
       "    }\n",
       "\n",
       "    .dataframe tbody tr th {\n",
       "        vertical-align: top;\n",
       "    }\n",
       "\n",
       "    .dataframe thead th {\n",
       "        text-align: right;\n",
       "    }\n",
       "</style>\n",
       "<table border=\"1\" class=\"dataframe\">\n",
       "  <thead>\n",
       "    <tr style=\"text-align: right;\">\n",
       "      <th></th>\n",
       "      <th>user_id</th>\n",
       "      <th>age</th>\n",
       "      <th>churn_date</th>\n",
       "      <th>city</th>\n",
       "      <th>first_name</th>\n",
       "      <th>last_name</th>\n",
       "      <th>reg_date</th>\n",
       "      <th>tariff</th>\n",
       "      <th>messages_included</th>\n",
       "      <th>mb_per_month_included</th>\n",
       "      <th>minutes_included</th>\n",
       "      <th>rub_monthly_fee</th>\n",
       "      <th>rub_per_gb</th>\n",
       "      <th>rub_per_message</th>\n",
       "      <th>rub_per_minute</th>\n",
       "      <th>month</th>\n",
       "      <th>call_sum</th>\n",
       "      <th>call_count</th>\n",
       "      <th>gb_used</th>\n",
       "      <th>message_count</th>\n",
       "    </tr>\n",
       "  </thead>\n",
       "  <tbody>\n",
       "    <tr>\n",
       "      <td>827</td>\n",
       "      <td>1128</td>\n",
       "      <td>51</td>\n",
       "      <td>2018-12-23</td>\n",
       "      <td>Волжский</td>\n",
       "      <td>Ксения</td>\n",
       "      <td>Агаева</td>\n",
       "      <td>2018-12-15</td>\n",
       "      <td>ultra</td>\n",
       "      <td>1000</td>\n",
       "      <td>30720</td>\n",
       "      <td>3000</td>\n",
       "      <td>1950</td>\n",
       "      <td>150</td>\n",
       "      <td>1</td>\n",
       "      <td>1</td>\n",
       "      <td>0</td>\n",
       "      <td>NaN</td>\n",
       "      <td>NaN</td>\n",
       "      <td>NaN</td>\n",
       "      <td>NaN</td>\n",
       "    </tr>\n",
       "    <tr>\n",
       "      <td>2335</td>\n",
       "      <td>1371</td>\n",
       "      <td>50</td>\n",
       "      <td>2018-12-30</td>\n",
       "      <td>Омск</td>\n",
       "      <td>Ириней</td>\n",
       "      <td>Трофимов</td>\n",
       "      <td>2018-12-25</td>\n",
       "      <td>smart</td>\n",
       "      <td>50</td>\n",
       "      <td>15360</td>\n",
       "      <td>500</td>\n",
       "      <td>550</td>\n",
       "      <td>200</td>\n",
       "      <td>3</td>\n",
       "      <td>3</td>\n",
       "      <td>0</td>\n",
       "      <td>NaN</td>\n",
       "      <td>NaN</td>\n",
       "      <td>NaN</td>\n",
       "      <td>NaN</td>\n",
       "    </tr>\n",
       "  </tbody>\n",
       "</table>\n",
       "</div>"
      ],
      "text/plain": [
       "      user_id  age churn_date      city first_name last_name   reg_date  \\\n",
       "827      1128   51 2018-12-23  Волжский     Ксения    Агаева 2018-12-15   \n",
       "2335     1371   50 2018-12-30      Омск     Ириней  Трофимов 2018-12-25   \n",
       "\n",
       "     tariff  messages_included  mb_per_month_included  minutes_included  \\\n",
       "827   ultra               1000                  30720              3000   \n",
       "2335  smart                 50                  15360               500   \n",
       "\n",
       "      rub_monthly_fee  rub_per_gb  rub_per_message  rub_per_minute  month  \\\n",
       "827              1950         150                1               1      0   \n",
       "2335              550         200                3               3      0   \n",
       "\n",
       "      call_sum  call_count  gb_used  message_count  \n",
       "827        NaN         NaN      NaN            NaN  \n",
       "2335       NaN         NaN      NaN            NaN  "
      ]
     },
     "execution_count": 30,
     "metadata": {},
     "output_type": "execute_result"
    }
   ],
   "source": [
    "summary['month'] = summary['month'].fillna(0)\n",
    "summary_exception_month = summary.query('month == 0')\n",
    "summary_exception_month"
   ]
  },
  {
   "cell_type": "markdown",
   "metadata": {},
   "source": [
    "Действительно, в колонках `call_sum`, `call_count`, `gb_used` есть пропуски. Удалим этих пользователей из нашего исследования."
   ]
  },
  {
   "cell_type": "code",
   "execution_count": 31,
   "metadata": {
    "scrolled": true
   },
   "outputs": [
    {
     "name": "stdout",
     "output_type": "stream",
     "text": [
      "<class 'pandas.core.frame.DataFrame'>\n",
      "Int64Index: 3214 entries, 0 to 3215\n",
      "Data columns (total 20 columns):\n",
      "user_id                  3214 non-null Int16\n",
      "age                      3214 non-null Int16\n",
      "churn_date               187 non-null datetime64[ns]\n",
      "city                     3214 non-null object\n",
      "first_name               3214 non-null object\n",
      "last_name                3214 non-null object\n",
      "reg_date                 3214 non-null datetime64[ns]\n",
      "tariff                   3214 non-null object\n",
      "messages_included        3214 non-null Int16\n",
      "mb_per_month_included    3214 non-null Int16\n",
      "minutes_included         3214 non-null Int16\n",
      "rub_monthly_fee          3214 non-null Int16\n",
      "rub_per_gb               3214 non-null Int16\n",
      "rub_per_message          3214 non-null Int16\n",
      "rub_per_minute           3214 non-null Int16\n",
      "month                    3214 non-null Int8\n",
      "call_sum                 3174 non-null Int16\n",
      "call_count               3174 non-null Int16\n",
      "gb_used                  3203 non-null Int16\n",
      "message_count            2717 non-null Int16\n",
      "dtypes: Int16(13), Int8(1), datetime64[ns](2), object(4)\n",
      "memory usage: 304.5+ KB\n"
     ]
    }
   ],
   "source": [
    "summary.drop(summary[summary['month'] == 0].index, inplace=True)\n",
    "summary.info()"
   ]
  },
  {
   "cell_type": "markdown",
   "metadata": {},
   "source": [
    "Cоздадим столбец, куда поместим значения объёма интернет-трафика, включённого в абонентскую плату в Гб."
   ]
  },
  {
   "cell_type": "code",
   "execution_count": 32,
   "metadata": {},
   "outputs": [],
   "source": [
    "summary['gb_per_month_included'] = summary['mb_per_month_included']/1024\n",
    "summary['payoff'] = 0 # создадим столбец для расчета помесячной выручки"
   ]
  },
  {
   "cell_type": "markdown",
   "metadata": {},
   "source": [
    "Поместим в созданный столбец `payoff` нашей итоговой таблицы помесячную выручку с каждого пользователя. Для этого вычтем бесплатный лимит из суммарного количества времени звонков, количества сообщений и интернет-трафика, умножив остаток на значение из тарифного плана, и прибавим абонентскую плату, соответствующую тарифному плану. Напишем функцию `payoff_total`."
   ]
  },
  {
   "cell_type": "code",
   "execution_count": 33,
   "metadata": {},
   "outputs": [
    {
     "data": {
      "text/html": [
       "<div>\n",
       "<style scoped>\n",
       "    .dataframe tbody tr th:only-of-type {\n",
       "        vertical-align: middle;\n",
       "    }\n",
       "\n",
       "    .dataframe tbody tr th {\n",
       "        vertical-align: top;\n",
       "    }\n",
       "\n",
       "    .dataframe thead th {\n",
       "        text-align: right;\n",
       "    }\n",
       "</style>\n",
       "<table border=\"1\" class=\"dataframe\">\n",
       "  <thead>\n",
       "    <tr style=\"text-align: right;\">\n",
       "      <th></th>\n",
       "      <th>user_id</th>\n",
       "      <th>age</th>\n",
       "      <th>churn_date</th>\n",
       "      <th>city</th>\n",
       "      <th>first_name</th>\n",
       "      <th>last_name</th>\n",
       "      <th>reg_date</th>\n",
       "      <th>tariff</th>\n",
       "      <th>messages_included</th>\n",
       "      <th>mb_per_month_included</th>\n",
       "      <th>...</th>\n",
       "      <th>rub_per_gb</th>\n",
       "      <th>rub_per_message</th>\n",
       "      <th>rub_per_minute</th>\n",
       "      <th>month</th>\n",
       "      <th>call_sum</th>\n",
       "      <th>call_count</th>\n",
       "      <th>gb_used</th>\n",
       "      <th>message_count</th>\n",
       "      <th>gb_per_month_included</th>\n",
       "      <th>payoff</th>\n",
       "    </tr>\n",
       "  </thead>\n",
       "  <tbody>\n",
       "    <tr>\n",
       "      <td>0</td>\n",
       "      <td>1000</td>\n",
       "      <td>52</td>\n",
       "      <td>NaT</td>\n",
       "      <td>Краснодар</td>\n",
       "      <td>Рафаил</td>\n",
       "      <td>Верещагин</td>\n",
       "      <td>2018-05-25</td>\n",
       "      <td>ultra</td>\n",
       "      <td>1000</td>\n",
       "      <td>30720</td>\n",
       "      <td>...</td>\n",
       "      <td>150</td>\n",
       "      <td>1</td>\n",
       "      <td>1</td>\n",
       "      <td>5</td>\n",
       "      <td>159</td>\n",
       "      <td>22</td>\n",
       "      <td>3</td>\n",
       "      <td>22</td>\n",
       "      <td>30.00</td>\n",
       "      <td>1,950.00</td>\n",
       "    </tr>\n",
       "    <tr>\n",
       "      <td>1</td>\n",
       "      <td>1000</td>\n",
       "      <td>52</td>\n",
       "      <td>NaT</td>\n",
       "      <td>Краснодар</td>\n",
       "      <td>Рафаил</td>\n",
       "      <td>Верещагин</td>\n",
       "      <td>2018-05-25</td>\n",
       "      <td>ultra</td>\n",
       "      <td>1000</td>\n",
       "      <td>30720</td>\n",
       "      <td>...</td>\n",
       "      <td>150</td>\n",
       "      <td>1</td>\n",
       "      <td>1</td>\n",
       "      <td>6</td>\n",
       "      <td>172</td>\n",
       "      <td>43</td>\n",
       "      <td>23</td>\n",
       "      <td>60</td>\n",
       "      <td>30.00</td>\n",
       "      <td>1,950.00</td>\n",
       "    </tr>\n",
       "    <tr>\n",
       "      <td>2</td>\n",
       "      <td>1000</td>\n",
       "      <td>52</td>\n",
       "      <td>NaT</td>\n",
       "      <td>Краснодар</td>\n",
       "      <td>Рафаил</td>\n",
       "      <td>Верещагин</td>\n",
       "      <td>2018-05-25</td>\n",
       "      <td>ultra</td>\n",
       "      <td>1000</td>\n",
       "      <td>30720</td>\n",
       "      <td>...</td>\n",
       "      <td>150</td>\n",
       "      <td>1</td>\n",
       "      <td>1</td>\n",
       "      <td>7</td>\n",
       "      <td>340</td>\n",
       "      <td>47</td>\n",
       "      <td>14</td>\n",
       "      <td>75</td>\n",
       "      <td>30.00</td>\n",
       "      <td>1,950.00</td>\n",
       "    </tr>\n",
       "    <tr>\n",
       "      <td>3</td>\n",
       "      <td>1000</td>\n",
       "      <td>52</td>\n",
       "      <td>NaT</td>\n",
       "      <td>Краснодар</td>\n",
       "      <td>Рафаил</td>\n",
       "      <td>Верещагин</td>\n",
       "      <td>2018-05-25</td>\n",
       "      <td>ultra</td>\n",
       "      <td>1000</td>\n",
       "      <td>30720</td>\n",
       "      <td>...</td>\n",
       "      <td>150</td>\n",
       "      <td>1</td>\n",
       "      <td>1</td>\n",
       "      <td>8</td>\n",
       "      <td>408</td>\n",
       "      <td>52</td>\n",
       "      <td>14</td>\n",
       "      <td>81</td>\n",
       "      <td>30.00</td>\n",
       "      <td>1,950.00</td>\n",
       "    </tr>\n",
       "    <tr>\n",
       "      <td>4</td>\n",
       "      <td>1000</td>\n",
       "      <td>52</td>\n",
       "      <td>NaT</td>\n",
       "      <td>Краснодар</td>\n",
       "      <td>Рафаил</td>\n",
       "      <td>Верещагин</td>\n",
       "      <td>2018-05-25</td>\n",
       "      <td>ultra</td>\n",
       "      <td>1000</td>\n",
       "      <td>30720</td>\n",
       "      <td>...</td>\n",
       "      <td>150</td>\n",
       "      <td>1</td>\n",
       "      <td>1</td>\n",
       "      <td>9</td>\n",
       "      <td>466</td>\n",
       "      <td>58</td>\n",
       "      <td>15</td>\n",
       "      <td>57</td>\n",
       "      <td>30.00</td>\n",
       "      <td>1,950.00</td>\n",
       "    </tr>\n",
       "  </tbody>\n",
       "</table>\n",
       "<p>5 rows × 22 columns</p>\n",
       "</div>"
      ],
      "text/plain": [
       "   user_id  age churn_date       city first_name  last_name   reg_date tariff  \\\n",
       "0     1000   52        NaT  Краснодар     Рафаил  Верещагин 2018-05-25  ultra   \n",
       "1     1000   52        NaT  Краснодар     Рафаил  Верещагин 2018-05-25  ultra   \n",
       "2     1000   52        NaT  Краснодар     Рафаил  Верещагин 2018-05-25  ultra   \n",
       "3     1000   52        NaT  Краснодар     Рафаил  Верещагин 2018-05-25  ultra   \n",
       "4     1000   52        NaT  Краснодар     Рафаил  Верещагин 2018-05-25  ultra   \n",
       "\n",
       "   messages_included  mb_per_month_included  ...  rub_per_gb  rub_per_message  \\\n",
       "0               1000                  30720  ...         150                1   \n",
       "1               1000                  30720  ...         150                1   \n",
       "2               1000                  30720  ...         150                1   \n",
       "3               1000                  30720  ...         150                1   \n",
       "4               1000                  30720  ...         150                1   \n",
       "\n",
       "   rub_per_minute  month  call_sum  call_count  gb_used  message_count  \\\n",
       "0               1      5       159          22        3             22   \n",
       "1               1      6       172          43       23             60   \n",
       "2               1      7       340          47       14             75   \n",
       "3               1      8       408          52       14             81   \n",
       "4               1      9       466          58       15             57   \n",
       "\n",
       "   gb_per_month_included   payoff  \n",
       "0                  30.00 1,950.00  \n",
       "1                  30.00 1,950.00  \n",
       "2                  30.00 1,950.00  \n",
       "3                  30.00 1,950.00  \n",
       "4                  30.00 1,950.00  \n",
       "\n",
       "[5 rows x 22 columns]"
      ]
     },
     "execution_count": 33,
     "metadata": {},
     "output_type": "execute_result"
    }
   ],
   "source": [
    "def payoff_total(row):\n",
    "    call_payoff = 0\n",
    "    messages_payoff = 0\n",
    "    internet_payoff = 0\n",
    "    if row['call_sum'] - row['minutes_included'] > 0:\n",
    "        call_payoff = (row['call_sum'] - row['minutes_included']) * row['rub_per_minute']\n",
    "    if  row['message_count'] - row['messages_included'] > 0:\n",
    "        messages_payoff = (row['message_count'] - row['messages_included']) * row['rub_per_message']\n",
    "    if row['gb_used'] - row['gb_per_month_included'] > 0:\n",
    "        internet_payoff = (row['gb_used'] - row['gb_per_month_included']) * row['rub_per_gb']\n",
    "    return call_payoff + messages_payoff + internet_payoff\n",
    "summary['payoff'] = summary.apply(payoff_total, axis = 1)\n",
    "summary['payoff'] = summary['payoff'] + summary['rub_monthly_fee']\n",
    "summary.head()"
   ]
  },
  {
   "cell_type": "markdown",
   "metadata": {},
   "source": [
    "Изменим тип данных на Float32 в столбцах:"
   ]
  },
  {
   "cell_type": "code",
   "execution_count": 34,
   "metadata": {},
   "outputs": [
    {
     "name": "stdout",
     "output_type": "stream",
     "text": [
      "<class 'pandas.core.frame.DataFrame'>\n",
      "Int64Index: 3214 entries, 0 to 3215\n",
      "Data columns (total 22 columns):\n",
      "user_id                  3214 non-null Int16\n",
      "age                      3214 non-null Int16\n",
      "churn_date               187 non-null datetime64[ns]\n",
      "city                     3214 non-null object\n",
      "first_name               3214 non-null object\n",
      "last_name                3214 non-null object\n",
      "reg_date                 3214 non-null datetime64[ns]\n",
      "tariff                   3214 non-null object\n",
      "messages_included        3214 non-null Int16\n",
      "mb_per_month_included    3214 non-null Int16\n",
      "minutes_included         3214 non-null Int16\n",
      "rub_monthly_fee          3214 non-null Int16\n",
      "rub_per_gb               3214 non-null Int16\n",
      "rub_per_message          3214 non-null Int16\n",
      "rub_per_minute           3214 non-null Int16\n",
      "month                    3214 non-null Int8\n",
      "call_sum                 3174 non-null Int16\n",
      "call_count               3174 non-null Int16\n",
      "gb_used                  3203 non-null Int16\n",
      "message_count            2717 non-null Int16\n",
      "gb_per_month_included    3214 non-null float32\n",
      "payoff                   3214 non-null float32\n",
      "dtypes: Int16(13), Int8(1), datetime64[ns](2), float32(2), object(4)\n",
      "memory usage: 329.6+ KB\n"
     ]
    }
   ],
   "source": [
    "summary['gb_per_month_included'] = summary['gb_per_month_included'].astype('Float32')\n",
    "summary['payoff'] = summary['payoff'].astype('Float32')\n",
    "summary.info()"
   ]
  },
  {
   "cell_type": "markdown",
   "metadata": {},
   "source": [
    "### вывод\n",
    "Сводная таблица `summary` для дальнейшего анализа готова. Данные приведены к необходимым типам."
   ]
  },
  {
   "cell_type": "markdown",
   "metadata": {},
   "source": [
    "Вернуться в [начало](#startpage)."
   ]
  },
  {
   "cell_type": "markdown",
   "metadata": {},
   "source": [
    "## Анализ и описание данных\n",
    "Опишем поведение клиентов оператора, исходя из нашей выборки: какое количество минут разговора, сообщений и какой объём интернет-трафика требуется пользователям каждого тарифа в месяц. Посчитаем среднее количество, дисперсию и стандартное отклонение. Построим гистограммы. Изучим распределения."
   ]
  },
  {
   "cell_type": "code",
   "execution_count": 35,
   "metadata": {},
   "outputs": [
    {
     "name": "stdout",
     "output_type": "stream",
     "text": [
      "<class 'pandas.core.frame.DataFrame'>\n",
      "Index: 2 entries, smart to ultra\n",
      "Data columns (total 9 columns):\n",
      "(mean, call_sum)         2 non-null float64\n",
      "(mean, gb_used)          2 non-null float64\n",
      "(mean, message_count)    2 non-null float64\n",
      "(var, call_sum)          2 non-null float64\n",
      "(var, gb_used)           2 non-null float64\n",
      "(var, message_count)     2 non-null float64\n",
      "(std, call_sum)          2 non-null float64\n",
      "(std, gb_used)           2 non-null float64\n",
      "(std, message_count)     2 non-null float64\n",
      "dtypes: float64(9)\n",
      "memory usage: 160.0+ bytes\n"
     ]
    },
    {
     "data": {
      "text/html": [
       "<div>\n",
       "<style scoped>\n",
       "    .dataframe tbody tr th:only-of-type {\n",
       "        vertical-align: middle;\n",
       "    }\n",
       "\n",
       "    .dataframe tbody tr th {\n",
       "        vertical-align: top;\n",
       "    }\n",
       "\n",
       "    .dataframe thead tr th {\n",
       "        text-align: left;\n",
       "    }\n",
       "\n",
       "    .dataframe thead tr:last-of-type th {\n",
       "        text-align: right;\n",
       "    }\n",
       "</style>\n",
       "<table border=\"1\" class=\"dataframe\">\n",
       "  <thead>\n",
       "    <tr>\n",
       "      <th></th>\n",
       "      <th colspan=\"3\" halign=\"left\">mean</th>\n",
       "      <th colspan=\"3\" halign=\"left\">var</th>\n",
       "      <th colspan=\"3\" halign=\"left\">std</th>\n",
       "    </tr>\n",
       "    <tr>\n",
       "      <th></th>\n",
       "      <th>call_sum</th>\n",
       "      <th>gb_used</th>\n",
       "      <th>message_count</th>\n",
       "      <th>call_sum</th>\n",
       "      <th>gb_used</th>\n",
       "      <th>message_count</th>\n",
       "      <th>call_sum</th>\n",
       "      <th>gb_used</th>\n",
       "      <th>message_count</th>\n",
       "    </tr>\n",
       "    <tr>\n",
       "      <th>tariff</th>\n",
       "      <th></th>\n",
       "      <th></th>\n",
       "      <th></th>\n",
       "      <th></th>\n",
       "      <th></th>\n",
       "      <th></th>\n",
       "      <th></th>\n",
       "      <th></th>\n",
       "      <th></th>\n",
       "    </tr>\n",
       "  </thead>\n",
       "  <tbody>\n",
       "    <tr>\n",
       "      <td>smart</td>\n",
       "      <td>419.06</td>\n",
       "      <td>16.34</td>\n",
       "      <td>38.72</td>\n",
       "      <td>35,844.19</td>\n",
       "      <td>32.92</td>\n",
       "      <td>717.59</td>\n",
       "      <td>189.33</td>\n",
       "      <td>5.74</td>\n",
       "      <td>26.79</td>\n",
       "    </tr>\n",
       "    <tr>\n",
       "      <td>ultra</td>\n",
       "      <td>545.45</td>\n",
       "      <td>19.69</td>\n",
       "      <td>61.16</td>\n",
       "      <td>94,203.42</td>\n",
       "      <td>94.15</td>\n",
       "      <td>2,109.66</td>\n",
       "      <td>306.93</td>\n",
       "      <td>9.70</td>\n",
       "      <td>45.93</td>\n",
       "    </tr>\n",
       "  </tbody>\n",
       "</table>\n",
       "</div>"
      ],
      "text/plain": [
       "           mean                             var                        \\\n",
       "       call_sum gb_used message_count  call_sum gb_used message_count   \n",
       "tariff                                                                  \n",
       "smart    419.06   16.34         38.72 35,844.19   32.92        717.59   \n",
       "ultra    545.45   19.69         61.16 94,203.42   94.15      2,109.66   \n",
       "\n",
       "            std                        \n",
       "       call_sum gb_used message_count  \n",
       "tariff                                 \n",
       "smart    189.33    5.74         26.79  \n",
       "ultra    306.93    9.70         45.93  "
      ]
     },
     "execution_count": 35,
     "metadata": {},
     "output_type": "execute_result"
    }
   ],
   "source": [
    "payoff = summary.pivot_table(index='tariff', values=['call_sum', 'message_count', 'gb_used'],\n",
    "                             aggfunc= ['mean', 'var','std']).round(2)\n",
    "payoff.info()\n",
    "payoff"
   ]
  },
  {
   "cell_type": "markdown",
   "metadata": {},
   "source": [
    "Избавимся от двойных индексов в названии, переименовав столбцы."
   ]
  },
  {
   "cell_type": "code",
   "execution_count": 36,
   "metadata": {
    "scrolled": true
   },
   "outputs": [
    {
     "data": {
      "text/html": [
       "<div>\n",
       "<style scoped>\n",
       "    .dataframe tbody tr th:only-of-type {\n",
       "        vertical-align: middle;\n",
       "    }\n",
       "\n",
       "    .dataframe tbody tr th {\n",
       "        vertical-align: top;\n",
       "    }\n",
       "\n",
       "    .dataframe thead th {\n",
       "        text-align: right;\n",
       "    }\n",
       "</style>\n",
       "<table border=\"1\" class=\"dataframe\">\n",
       "  <thead>\n",
       "    <tr style=\"text-align: right;\">\n",
       "      <th></th>\n",
       "      <th>call_sum_mean</th>\n",
       "      <th>gb_used_mean</th>\n",
       "      <th>message_count_mean</th>\n",
       "      <th>call_sum_var</th>\n",
       "      <th>gb_used_var</th>\n",
       "      <th>message_count_var</th>\n",
       "      <th>call_sum_std</th>\n",
       "      <th>gb_used_std</th>\n",
       "      <th>message_count_std</th>\n",
       "    </tr>\n",
       "    <tr>\n",
       "      <th>tariff</th>\n",
       "      <th></th>\n",
       "      <th></th>\n",
       "      <th></th>\n",
       "      <th></th>\n",
       "      <th></th>\n",
       "      <th></th>\n",
       "      <th></th>\n",
       "      <th></th>\n",
       "      <th></th>\n",
       "    </tr>\n",
       "  </thead>\n",
       "  <tbody>\n",
       "    <tr>\n",
       "      <td>smart</td>\n",
       "      <td>419.06</td>\n",
       "      <td>16.34</td>\n",
       "      <td>38.72</td>\n",
       "      <td>35,844.19</td>\n",
       "      <td>32.92</td>\n",
       "      <td>717.59</td>\n",
       "      <td>189.33</td>\n",
       "      <td>5.74</td>\n",
       "      <td>26.79</td>\n",
       "    </tr>\n",
       "    <tr>\n",
       "      <td>ultra</td>\n",
       "      <td>545.45</td>\n",
       "      <td>19.69</td>\n",
       "      <td>61.16</td>\n",
       "      <td>94,203.42</td>\n",
       "      <td>94.15</td>\n",
       "      <td>2,109.66</td>\n",
       "      <td>306.93</td>\n",
       "      <td>9.70</td>\n",
       "      <td>45.93</td>\n",
       "    </tr>\n",
       "  </tbody>\n",
       "</table>\n",
       "</div>"
      ],
      "text/plain": [
       "        call_sum_mean  gb_used_mean  message_count_mean  call_sum_var  \\\n",
       "tariff                                                                  \n",
       "smart          419.06         16.34               38.72     35,844.19   \n",
       "ultra          545.45         19.69               61.16     94,203.42   \n",
       "\n",
       "        gb_used_var  message_count_var  call_sum_std  gb_used_std  \\\n",
       "tariff                                                              \n",
       "smart         32.92             717.59        189.33         5.74   \n",
       "ultra         94.15           2,109.66        306.93         9.70   \n",
       "\n",
       "        message_count_std  \n",
       "tariff                     \n",
       "smart               26.79  \n",
       "ultra               45.93  "
      ]
     },
     "execution_count": 36,
     "metadata": {},
     "output_type": "execute_result"
    }
   ],
   "source": [
    "payoff.columns = ['call_sum_mean', 'gb_used_mean', 'message_count_mean', \n",
    "                        'call_sum_var', 'gb_used_var', 'message_count_var', \n",
    "                        'call_sum_std', 'gb_used_std', 'message_count_std']\n",
    "payoff"
   ]
  },
  {
   "cell_type": "markdown",
   "metadata": {},
   "source": [
    "<div style=\"border:solid blue 1px; padding: 20px\">\n",
    "Клиенты тарифа «Смарт» в среднем тратят около 420 мин разговора в месяц, используют 16.5 Гб интернет-трафика и посылают 39 сообщений. Клиенты «Ультра» - 545 мин разговора, 20 Гб интернет-трафика и 61 сообщение в месяц, соответственно.\n",
    "\n",
    "Дисперсии выборок сильно различаются, примем это во внимание при дальнейшей проверке гипотез."
   ]
  },
  {
   "cell_type": "markdown",
   "metadata": {},
   "source": [
    "Сделаем срезы из таблицы `summary` с учетом тарифов."
   ]
  },
  {
   "cell_type": "code",
   "execution_count": 37,
   "metadata": {},
   "outputs": [],
   "source": [
    "summary_ultra = summary.query('tariff == \"ultra\"')\n",
    "summary_smart = summary.query('tariff == \"smart\"')"
   ]
  },
  {
   "cell_type": "code",
   "execution_count": 50,
   "metadata": {
    "scrolled": true
   },
   "outputs": [
    {
     "data": {
      "text/html": [
       "<div>\n",
       "<style scoped>\n",
       "    .dataframe tbody tr th:only-of-type {\n",
       "        vertical-align: middle;\n",
       "    }\n",
       "\n",
       "    .dataframe tbody tr th {\n",
       "        vertical-align: top;\n",
       "    }\n",
       "\n",
       "    .dataframe thead th {\n",
       "        text-align: right;\n",
       "    }\n",
       "</style>\n",
       "<table border=\"1\" class=\"dataframe\">\n",
       "  <thead>\n",
       "    <tr style=\"text-align: right;\">\n",
       "      <th></th>\n",
       "      <th>count</th>\n",
       "      <th>mean</th>\n",
       "      <th>std</th>\n",
       "      <th>min</th>\n",
       "      <th>25%</th>\n",
       "      <th>50%</th>\n",
       "      <th>75%</th>\n",
       "      <th>max</th>\n",
       "    </tr>\n",
       "  </thead>\n",
       "  <tbody>\n",
       "    <tr>\n",
       "      <td>user_id</td>\n",
       "      <td>985.00</td>\n",
       "      <td>1,263.09</td>\n",
       "      <td>140.69</td>\n",
       "      <td>1,000.00</td>\n",
       "      <td>1,143.00</td>\n",
       "      <td>1,277.00</td>\n",
       "      <td>1,381.00</td>\n",
       "      <td>1,495.00</td>\n",
       "    </tr>\n",
       "    <tr>\n",
       "      <td>age</td>\n",
       "      <td>985.00</td>\n",
       "      <td>46.83</td>\n",
       "      <td>17.11</td>\n",
       "      <td>18.00</td>\n",
       "      <td>30.00</td>\n",
       "      <td>45.00</td>\n",
       "      <td>63.00</td>\n",
       "      <td>75.00</td>\n",
       "    </tr>\n",
       "    <tr>\n",
       "      <td>messages_included</td>\n",
       "      <td>985.00</td>\n",
       "      <td>1,000.00</td>\n",
       "      <td>0.00</td>\n",
       "      <td>1,000.00</td>\n",
       "      <td>1,000.00</td>\n",
       "      <td>1,000.00</td>\n",
       "      <td>1,000.00</td>\n",
       "      <td>1,000.00</td>\n",
       "    </tr>\n",
       "    <tr>\n",
       "      <td>mb_per_month_included</td>\n",
       "      <td>985.00</td>\n",
       "      <td>30,720.00</td>\n",
       "      <td>0.00</td>\n",
       "      <td>30,720.00</td>\n",
       "      <td>30,720.00</td>\n",
       "      <td>30,720.00</td>\n",
       "      <td>30,720.00</td>\n",
       "      <td>30,720.00</td>\n",
       "    </tr>\n",
       "    <tr>\n",
       "      <td>minutes_included</td>\n",
       "      <td>985.00</td>\n",
       "      <td>3,000.00</td>\n",
       "      <td>0.00</td>\n",
       "      <td>3,000.00</td>\n",
       "      <td>3,000.00</td>\n",
       "      <td>3,000.00</td>\n",
       "      <td>3,000.00</td>\n",
       "      <td>3,000.00</td>\n",
       "    </tr>\n",
       "    <tr>\n",
       "      <td>rub_monthly_fee</td>\n",
       "      <td>985.00</td>\n",
       "      <td>1,950.00</td>\n",
       "      <td>0.00</td>\n",
       "      <td>1,950.00</td>\n",
       "      <td>1,950.00</td>\n",
       "      <td>1,950.00</td>\n",
       "      <td>1,950.00</td>\n",
       "      <td>1,950.00</td>\n",
       "    </tr>\n",
       "    <tr>\n",
       "      <td>rub_per_gb</td>\n",
       "      <td>985.00</td>\n",
       "      <td>150.00</td>\n",
       "      <td>0.00</td>\n",
       "      <td>150.00</td>\n",
       "      <td>150.00</td>\n",
       "      <td>150.00</td>\n",
       "      <td>150.00</td>\n",
       "      <td>150.00</td>\n",
       "    </tr>\n",
       "    <tr>\n",
       "      <td>rub_per_message</td>\n",
       "      <td>985.00</td>\n",
       "      <td>1.00</td>\n",
       "      <td>0.00</td>\n",
       "      <td>1.00</td>\n",
       "      <td>1.00</td>\n",
       "      <td>1.00</td>\n",
       "      <td>1.00</td>\n",
       "      <td>1.00</td>\n",
       "    </tr>\n",
       "    <tr>\n",
       "      <td>rub_per_minute</td>\n",
       "      <td>985.00</td>\n",
       "      <td>1.00</td>\n",
       "      <td>0.00</td>\n",
       "      <td>1.00</td>\n",
       "      <td>1.00</td>\n",
       "      <td>1.00</td>\n",
       "      <td>1.00</td>\n",
       "      <td>1.00</td>\n",
       "    </tr>\n",
       "    <tr>\n",
       "      <td>month</td>\n",
       "      <td>985.00</td>\n",
       "      <td>8.25</td>\n",
       "      <td>2.87</td>\n",
       "      <td>1.00</td>\n",
       "      <td>6.00</td>\n",
       "      <td>9.00</td>\n",
       "      <td>11.00</td>\n",
       "      <td>12.00</td>\n",
       "    </tr>\n",
       "    <tr>\n",
       "      <td>call_sum</td>\n",
       "      <td>951.00</td>\n",
       "      <td>545.45</td>\n",
       "      <td>306.93</td>\n",
       "      <td>0.00</td>\n",
       "      <td>310.00</td>\n",
       "      <td>528.00</td>\n",
       "      <td>756.50</td>\n",
       "      <td>1,673.00</td>\n",
       "    </tr>\n",
       "    <tr>\n",
       "      <td>call_count</td>\n",
       "      <td>951.00</td>\n",
       "      <td>76.02</td>\n",
       "      <td>42.40</td>\n",
       "      <td>1.00</td>\n",
       "      <td>43.00</td>\n",
       "      <td>75.00</td>\n",
       "      <td>105.00</td>\n",
       "      <td>244.00</td>\n",
       "    </tr>\n",
       "    <tr>\n",
       "      <td>gb_used</td>\n",
       "      <td>975.00</td>\n",
       "      <td>19.69</td>\n",
       "      <td>9.70</td>\n",
       "      <td>0.00</td>\n",
       "      <td>12.00</td>\n",
       "      <td>19.00</td>\n",
       "      <td>27.00</td>\n",
       "      <td>49.00</td>\n",
       "    </tr>\n",
       "    <tr>\n",
       "      <td>message_count</td>\n",
       "      <td>795.00</td>\n",
       "      <td>61.16</td>\n",
       "      <td>45.93</td>\n",
       "      <td>1.00</td>\n",
       "      <td>24.00</td>\n",
       "      <td>51.00</td>\n",
       "      <td>87.50</td>\n",
       "      <td>224.00</td>\n",
       "    </tr>\n",
       "    <tr>\n",
       "      <td>gb_per_month_included</td>\n",
       "      <td>985.00</td>\n",
       "      <td>30.00</td>\n",
       "      <td>0.00</td>\n",
       "      <td>30.00</td>\n",
       "      <td>30.00</td>\n",
       "      <td>30.00</td>\n",
       "      <td>30.00</td>\n",
       "      <td>30.00</td>\n",
       "    </tr>\n",
       "    <tr>\n",
       "      <td>payoff</td>\n",
       "      <td>985.00</td>\n",
       "      <td>2,070.15</td>\n",
       "      <td>376.19</td>\n",
       "      <td>1,950.00</td>\n",
       "      <td>1,950.00</td>\n",
       "      <td>1,950.00</td>\n",
       "      <td>1,950.00</td>\n",
       "      <td>4,800.00</td>\n",
       "    </tr>\n",
       "  </tbody>\n",
       "</table>\n",
       "</div>"
      ],
      "text/plain": [
       "                       count      mean    std       min       25%       50%  \\\n",
       "user_id               985.00  1,263.09 140.69  1,000.00  1,143.00  1,277.00   \n",
       "age                   985.00     46.83  17.11     18.00     30.00     45.00   \n",
       "messages_included     985.00  1,000.00   0.00  1,000.00  1,000.00  1,000.00   \n",
       "mb_per_month_included 985.00 30,720.00   0.00 30,720.00 30,720.00 30,720.00   \n",
       "minutes_included      985.00  3,000.00   0.00  3,000.00  3,000.00  3,000.00   \n",
       "rub_monthly_fee       985.00  1,950.00   0.00  1,950.00  1,950.00  1,950.00   \n",
       "rub_per_gb            985.00    150.00   0.00    150.00    150.00    150.00   \n",
       "rub_per_message       985.00      1.00   0.00      1.00      1.00      1.00   \n",
       "rub_per_minute        985.00      1.00   0.00      1.00      1.00      1.00   \n",
       "month                 985.00      8.25   2.87      1.00      6.00      9.00   \n",
       "call_sum              951.00    545.45 306.93      0.00    310.00    528.00   \n",
       "call_count            951.00     76.02  42.40      1.00     43.00     75.00   \n",
       "gb_used               975.00     19.69   9.70      0.00     12.00     19.00   \n",
       "message_count         795.00     61.16  45.93      1.00     24.00     51.00   \n",
       "gb_per_month_included 985.00     30.00   0.00     30.00     30.00     30.00   \n",
       "payoff                985.00  2,070.15 376.19  1,950.00  1,950.00  1,950.00   \n",
       "\n",
       "                            75%       max  \n",
       "user_id                1,381.00  1,495.00  \n",
       "age                       63.00     75.00  \n",
       "messages_included      1,000.00  1,000.00  \n",
       "mb_per_month_included 30,720.00 30,720.00  \n",
       "minutes_included       3,000.00  3,000.00  \n",
       "rub_monthly_fee        1,950.00  1,950.00  \n",
       "rub_per_gb               150.00    150.00  \n",
       "rub_per_message            1.00      1.00  \n",
       "rub_per_minute             1.00      1.00  \n",
       "month                     11.00     12.00  \n",
       "call_sum                 756.50  1,673.00  \n",
       "call_count               105.00    244.00  \n",
       "gb_used                   27.00     49.00  \n",
       "message_count             87.50    224.00  \n",
       "gb_per_month_included     30.00     30.00  \n",
       "payoff                 1,950.00  4,800.00  "
      ]
     },
     "execution_count": 50,
     "metadata": {},
     "output_type": "execute_result"
    }
   ],
   "source": [
    "summary_ultra.describe().T"
   ]
  },
  {
   "cell_type": "code",
   "execution_count": 39,
   "metadata": {},
   "outputs": [
    {
     "data": {
      "text/html": [
       "<div>\n",
       "<style scoped>\n",
       "    .dataframe tbody tr th:only-of-type {\n",
       "        vertical-align: middle;\n",
       "    }\n",
       "\n",
       "    .dataframe tbody tr th {\n",
       "        vertical-align: top;\n",
       "    }\n",
       "\n",
       "    .dataframe thead th {\n",
       "        text-align: right;\n",
       "    }\n",
       "</style>\n",
       "<table border=\"1\" class=\"dataframe\">\n",
       "  <thead>\n",
       "    <tr style=\"text-align: right;\">\n",
       "      <th></th>\n",
       "      <th>count</th>\n",
       "      <th>mean</th>\n",
       "      <th>std</th>\n",
       "      <th>min</th>\n",
       "      <th>25%</th>\n",
       "      <th>50%</th>\n",
       "      <th>75%</th>\n",
       "      <th>max</th>\n",
       "    </tr>\n",
       "  </thead>\n",
       "  <tbody>\n",
       "    <tr>\n",
       "      <td>user_id</td>\n",
       "      <td>2,229.00</td>\n",
       "      <td>1,246.51</td>\n",
       "      <td>146.12</td>\n",
       "      <td>1,001.00</td>\n",
       "      <td>1,121.00</td>\n",
       "      <td>1,239.00</td>\n",
       "      <td>1,376.00</td>\n",
       "      <td>1,499.00</td>\n",
       "    </tr>\n",
       "    <tr>\n",
       "      <td>age</td>\n",
       "      <td>2,229.00</td>\n",
       "      <td>46.56</td>\n",
       "      <td>16.35</td>\n",
       "      <td>18.00</td>\n",
       "      <td>32.00</td>\n",
       "      <td>47.00</td>\n",
       "      <td>62.00</td>\n",
       "      <td>75.00</td>\n",
       "    </tr>\n",
       "    <tr>\n",
       "      <td>messages_included</td>\n",
       "      <td>2,229.00</td>\n",
       "      <td>50.00</td>\n",
       "      <td>0.00</td>\n",
       "      <td>50.00</td>\n",
       "      <td>50.00</td>\n",
       "      <td>50.00</td>\n",
       "      <td>50.00</td>\n",
       "      <td>50.00</td>\n",
       "    </tr>\n",
       "    <tr>\n",
       "      <td>mb_per_month_included</td>\n",
       "      <td>2,229.00</td>\n",
       "      <td>15,360.00</td>\n",
       "      <td>0.00</td>\n",
       "      <td>15,360.00</td>\n",
       "      <td>15,360.00</td>\n",
       "      <td>15,360.00</td>\n",
       "      <td>15,360.00</td>\n",
       "      <td>15,360.00</td>\n",
       "    </tr>\n",
       "    <tr>\n",
       "      <td>minutes_included</td>\n",
       "      <td>2,229.00</td>\n",
       "      <td>500.00</td>\n",
       "      <td>0.00</td>\n",
       "      <td>500.00</td>\n",
       "      <td>500.00</td>\n",
       "      <td>500.00</td>\n",
       "      <td>500.00</td>\n",
       "      <td>500.00</td>\n",
       "    </tr>\n",
       "    <tr>\n",
       "      <td>rub_monthly_fee</td>\n",
       "      <td>2,229.00</td>\n",
       "      <td>550.00</td>\n",
       "      <td>0.00</td>\n",
       "      <td>550.00</td>\n",
       "      <td>550.00</td>\n",
       "      <td>550.00</td>\n",
       "      <td>550.00</td>\n",
       "      <td>550.00</td>\n",
       "    </tr>\n",
       "    <tr>\n",
       "      <td>rub_per_gb</td>\n",
       "      <td>2,229.00</td>\n",
       "      <td>200.00</td>\n",
       "      <td>0.00</td>\n",
       "      <td>200.00</td>\n",
       "      <td>200.00</td>\n",
       "      <td>200.00</td>\n",
       "      <td>200.00</td>\n",
       "      <td>200.00</td>\n",
       "    </tr>\n",
       "    <tr>\n",
       "      <td>rub_per_message</td>\n",
       "      <td>2,229.00</td>\n",
       "      <td>3.00</td>\n",
       "      <td>0.00</td>\n",
       "      <td>3.00</td>\n",
       "      <td>3.00</td>\n",
       "      <td>3.00</td>\n",
       "      <td>3.00</td>\n",
       "      <td>3.00</td>\n",
       "    </tr>\n",
       "    <tr>\n",
       "      <td>rub_per_minute</td>\n",
       "      <td>2,229.00</td>\n",
       "      <td>3.00</td>\n",
       "      <td>0.00</td>\n",
       "      <td>3.00</td>\n",
       "      <td>3.00</td>\n",
       "      <td>3.00</td>\n",
       "      <td>3.00</td>\n",
       "      <td>3.00</td>\n",
       "    </tr>\n",
       "    <tr>\n",
       "      <td>month</td>\n",
       "      <td>2,229.00</td>\n",
       "      <td>8.35</td>\n",
       "      <td>2.92</td>\n",
       "      <td>1.00</td>\n",
       "      <td>6.00</td>\n",
       "      <td>9.00</td>\n",
       "      <td>11.00</td>\n",
       "      <td>12.00</td>\n",
       "    </tr>\n",
       "    <tr>\n",
       "      <td>call_sum</td>\n",
       "      <td>2,223.00</td>\n",
       "      <td>419.06</td>\n",
       "      <td>189.33</td>\n",
       "      <td>0.00</td>\n",
       "      <td>285.00</td>\n",
       "      <td>423.00</td>\n",
       "      <td>545.50</td>\n",
       "      <td>1,435.00</td>\n",
       "    </tr>\n",
       "    <tr>\n",
       "      <td>call_count</td>\n",
       "      <td>2,223.00</td>\n",
       "      <td>58.62</td>\n",
       "      <td>25.80</td>\n",
       "      <td>1.00</td>\n",
       "      <td>40.00</td>\n",
       "      <td>60.00</td>\n",
       "      <td>76.00</td>\n",
       "      <td>198.00</td>\n",
       "    </tr>\n",
       "    <tr>\n",
       "      <td>gb_used</td>\n",
       "      <td>2,228.00</td>\n",
       "      <td>16.34</td>\n",
       "      <td>5.74</td>\n",
       "      <td>0.00</td>\n",
       "      <td>13.00</td>\n",
       "      <td>17.00</td>\n",
       "      <td>20.00</td>\n",
       "      <td>38.00</td>\n",
       "    </tr>\n",
       "    <tr>\n",
       "      <td>message_count</td>\n",
       "      <td>1,922.00</td>\n",
       "      <td>38.72</td>\n",
       "      <td>26.79</td>\n",
       "      <td>1.00</td>\n",
       "      <td>17.00</td>\n",
       "      <td>34.00</td>\n",
       "      <td>55.00</td>\n",
       "      <td>143.00</td>\n",
       "    </tr>\n",
       "    <tr>\n",
       "      <td>gb_per_month_included</td>\n",
       "      <td>2,229.00</td>\n",
       "      <td>15.00</td>\n",
       "      <td>0.00</td>\n",
       "      <td>15.00</td>\n",
       "      <td>15.00</td>\n",
       "      <td>15.00</td>\n",
       "      <td>15.00</td>\n",
       "      <td>15.00</td>\n",
       "    </tr>\n",
       "    <tr>\n",
       "      <td>payoff</td>\n",
       "      <td>2,229.00</td>\n",
       "      <td>1,289.97</td>\n",
       "      <td>818.40</td>\n",
       "      <td>550.00</td>\n",
       "      <td>550.00</td>\n",
       "      <td>1,023.00</td>\n",
       "      <td>1,750.00</td>\n",
       "      <td>6,770.00</td>\n",
       "    </tr>\n",
       "  </tbody>\n",
       "</table>\n",
       "</div>"
      ],
      "text/plain": [
       "                         count      mean    std       min       25%       50%  \\\n",
       "user_id               2,229.00  1,246.51 146.12  1,001.00  1,121.00  1,239.00   \n",
       "age                   2,229.00     46.56  16.35     18.00     32.00     47.00   \n",
       "messages_included     2,229.00     50.00   0.00     50.00     50.00     50.00   \n",
       "mb_per_month_included 2,229.00 15,360.00   0.00 15,360.00 15,360.00 15,360.00   \n",
       "minutes_included      2,229.00    500.00   0.00    500.00    500.00    500.00   \n",
       "rub_monthly_fee       2,229.00    550.00   0.00    550.00    550.00    550.00   \n",
       "rub_per_gb            2,229.00    200.00   0.00    200.00    200.00    200.00   \n",
       "rub_per_message       2,229.00      3.00   0.00      3.00      3.00      3.00   \n",
       "rub_per_minute        2,229.00      3.00   0.00      3.00      3.00      3.00   \n",
       "month                 2,229.00      8.35   2.92      1.00      6.00      9.00   \n",
       "call_sum              2,223.00    419.06 189.33      0.00    285.00    423.00   \n",
       "call_count            2,223.00     58.62  25.80      1.00     40.00     60.00   \n",
       "gb_used               2,228.00     16.34   5.74      0.00     13.00     17.00   \n",
       "message_count         1,922.00     38.72  26.79      1.00     17.00     34.00   \n",
       "gb_per_month_included 2,229.00     15.00   0.00     15.00     15.00     15.00   \n",
       "payoff                2,229.00  1,289.97 818.40    550.00    550.00  1,023.00   \n",
       "\n",
       "                            75%       max  \n",
       "user_id                1,376.00  1,499.00  \n",
       "age                       62.00     75.00  \n",
       "messages_included         50.00     50.00  \n",
       "mb_per_month_included 15,360.00 15,360.00  \n",
       "minutes_included         500.00    500.00  \n",
       "rub_monthly_fee          550.00    550.00  \n",
       "rub_per_gb               200.00    200.00  \n",
       "rub_per_message            3.00      3.00  \n",
       "rub_per_minute             3.00      3.00  \n",
       "month                     11.00     12.00  \n",
       "call_sum                 545.50  1,435.00  \n",
       "call_count                76.00    198.00  \n",
       "gb_used                   20.00     38.00  \n",
       "message_count             55.00    143.00  \n",
       "gb_per_month_included     15.00     15.00  \n",
       "payoff                 1,750.00  6,770.00  "
      ]
     },
     "execution_count": 39,
     "metadata": {},
     "output_type": "execute_result"
    }
   ],
   "source": [
    "summary_smart.describe().T"
   ]
  },
  {
   "cell_type": "markdown",
   "metadata": {},
   "source": [
    "Посмотрим на распределениe суммарного количества продолжительности звонков по тарифу в месяц."
   ]
  },
  {
   "cell_type": "code",
   "execution_count": 40,
   "metadata": {
    "scrolled": false
   },
   "outputs": [
    {
     "data": {
      "image/png": "[encoded data removed]",
      "text/plain": [
       "<Figure size 432x288 with 1 Axes>"
      ]
     },
     "metadata": {
      "needs_background": "light"
     },
     "output_type": "display_data"
    }
   ],
   "source": [
    "summary_smart['call_sum'].hist(bins=20, alpha=.8)\n",
    "summary_ultra['call_sum'].hist(bins=20, alpha=.6)\n",
    "plt.grid\n",
    "plt.title('Распределение суммарного количества продолжительности звонков по тарифу в месяц')\n",
    "plt.xlabel('Продолжительность, мин')\n",
    "plt.legend(('smart', 'ultra'))\n",
    "plt.show()"
   ]
  },
  {
   "cell_type": "markdown",
   "metadata": {},
   "source": [
    "Большинство клиентов тарифа «Смарт» и все клиенты «Ультра» используют ежемесячное количество минут разговора в пределах абонентской платы."
   ]
  },
  {
   "cell_type": "code",
   "execution_count": 41,
   "metadata": {
    "scrolled": true
   },
   "outputs": [
    {
     "data": {
      "image/png": "[encoded data removed]",
      "text/plain": [
       "<Figure size 432x288 with 1 Axes>"
      ]
     },
     "metadata": {
      "needs_background": "light"
     },
     "output_type": "display_data"
    }
   ],
   "source": [
    "summary_smart['message_count'].hist(bins=20, alpha=.8)\n",
    "summary_ultra['message_count'].hist(bins=20, alpha=.6)\n",
    "plt.grid\n",
    "plt.title('Распределение ежемесячного количества сообщений по тарифу')\n",
    "plt.xlabel('Количество сообщений, ед.')\n",
    "plt.legend(('smart', 'ultra'))\n",
    "plt.show()"
   ]
  },
  {
   "cell_type": "markdown",
   "metadata": {},
   "source": [
    "Аналогична картина с использованием сообщений ежемесячно: большинство клиентов тарифа «Смарт» и все клиенты «Ультра» посылают сообщения в пределах количества, включенных в абонентскую плату услуг."
   ]
  },
  {
   "cell_type": "code",
   "execution_count": 42,
   "metadata": {},
   "outputs": [
    {
     "data": {
      "image/png": "[encoded data removed]",
      "text/plain": [
       "<Figure size 432x288 with 1 Axes>"
      ]
     },
     "metadata": {
      "needs_background": "light"
     },
     "output_type": "display_data"
    }
   ],
   "source": [
    "summary_smart['gb_used'].hist(bins=15, alpha=.8)\n",
    "summary_ultra['gb_used'].hist(bins=15, alpha=.6)\n",
    "plt.grid\n",
    "plt.title('Распределение ежемесячного потребления интернет-трафика')\n",
    "plt.xlabel('количество интернет-трафика, Гб')\n",
    "plt.legend(('smart', 'ultra'))\n",
    "plt.show()"
   ]
  },
  {
   "cell_type": "markdown",
   "metadata": {},
   "source": [
    "В тарифе «Ультра» клиенты используют в среднем 19.7 Гб интернет-трафика при медиане в 19 Гб, третий квартиль Q3 равен 27.Гб, таким образом большинство клиентов находятся в пределах трат, включенных в абонентскую плату.\n",
    "\n",
    "Клиенты тарифа «Смарт» в среднем используют больше интернет-трафика, чем 15 Гб, входящие в абонентскую плату. Среднее потребление составляет 16.3 Гб, медиана проходит по 17 Гб."
   ]
  },
  {
   "cell_type": "code",
   "execution_count": 43,
   "metadata": {},
   "outputs": [
    {
     "data": {
      "image/png": "[encoded data removed]",
      "text/plain": [
       "<Figure size 432x288 with 1 Axes>"
      ]
     },
     "metadata": {
      "needs_background": "light"
     },
     "output_type": "display_data"
    }
   ],
   "source": [
    "summary_smart['payoff'].hist(bins=30, alpha=.8)\n",
    "summary_ultra['payoff'].hist(bins=30, alpha=.6)\n",
    "plt.grid\n",
    "plt.title('Распределение ежемесячной выручки по тарифам')\n",
    "plt.xlabel('Выручка, руб')\n",
    "plt.legend(('smart', 'ultra'))\n",
    "plt.show()"
   ]
  },
  {
   "cell_type": "markdown",
   "metadata": {},
   "source": [
    "Распределение выручки по тарифам показывает, что большинство клиентов в тарифе «Ультра» не выходят за пределы абонентской платы (значения в первом-третьем квартилях составляет 1950 руб. при среднем в 1950 руб).\n",
    "В тарифе «Смарт» распределение выручки иное: только первый квартиль Q1 находится в зоне абонетской платы в 550 руб, медиана составляет 1023 руб., а Q3 равен 1750 руб. при среднем значении в 1290 руб."
   ]
  },
  {
   "cell_type": "markdown",
   "metadata": {},
   "source": [
    "### Вывод\n",
    "Анализ данных показывает, что большая часть клиентов тарифа «Ультра» тратят не более абонентской платы, клиенты тарифа «Смарт» выходят за ее пределы."
   ]
  },
  {
   "cell_type": "markdown",
   "metadata": {},
   "source": [
    "## Проверка гипотез"
   ]
  },
  {
   "cell_type": "markdown",
   "metadata": {},
   "source": [
    "Проверим следующие гипотезы:\n",
    "\n",
    "-\tсредняя выручка пользователей тарифов «Ультра» и «Смарт» различаются;\n",
    "-\tсредняя выручка пользователи из Москвы отличается от выручки пользователей из других регионов."
   ]
  },
  {
   "cell_type": "markdown",
   "metadata": {},
   "source": [
    "### Гипотеза 1 \n",
    "\n",
    "Сформулируем нулевую гипотезу о том, что средняя выручка пользователей тарифов «Ультра» и «Смарт» равны, и альтернативную гипотезу, что средняя выручка пользователей тарифов «Ультра» и «Смарт» различаются. Пороговое значение alpha зададим в 0.05.\n",
    "\n",
    "Чтобы проверить гипотезу о равенстве среднего наших генеральных совокупностей по взятым из них выборкам, применим метод scipy.stats.ttest_ind(), так как размеры выборок достаточно большие. В нашем случае размеры выборки (985 для ultra и 2229 для smart) и дисперсии (стандартные отклонения: 376 и 818, соответственно) не равны в наших группах, поэтому передадим параметр: equal_var = False."
   ]
  },
  {
   "cell_type": "code",
   "execution_count": 44,
   "metadata": {},
   "outputs": [
    {
     "name": "stdout",
     "output_type": "stream",
     "text": [
      "p-значение:  4.260323834580536e-250\n",
      "Отвергаем нулевую гипотезу\n"
     ]
    }
   ],
   "source": [
    "alpha = .05\n",
    "results = st.ttest_ind(summary_smart['payoff'], summary_ultra['payoff'], equal_var = False)\n",
    "print('p-значение: ', results.pvalue)\n",
    "\n",
    "if results.pvalue < alpha:\n",
    "    print ('Отвергаем нулевую гипотезу')\n",
    "else:\n",
    "    print ('Не получилось отвергнуть нулевую гипотезу')"
   ]
  },
  {
   "cell_type": "markdown",
   "metadata": {},
   "source": [
    "Данные предоставляют достаточное основание для выбранного уровня значимости отвергнуть нулевую гипотезу. Значит, можно сделать вывод, что средняя выручка пользователей тарифов «Ультра» и «Смарт» различаются. Даже при более строгом критическом значении статистической значимости в 0.01, мы бы получили тот же результат: p-value не превышает и этого значения."
   ]
  },
  {
   "cell_type": "markdown",
   "metadata": {},
   "source": [
    "### Гипотеза 2 \n",
    "\n",
    "Сформулируем нулевую гипотезу о том, что средняя выручка пользователей из Москвы не отличается от выручки пользователей из других регионов (равна), и альтернативную гипотезу, что средняя выручка пользователей из Москвы отличается от выручки пользователей из других регионов."
   ]
  },
  {
   "cell_type": "markdown",
   "metadata": {},
   "source": [
    "Сделаем срезы из таблицы `summary` с учетом региона (Москва и другие)."
   ]
  },
  {
   "cell_type": "code",
   "execution_count": 45,
   "metadata": {},
   "outputs": [
    {
     "data": {
      "text/html": [
       "<div>\n",
       "<style scoped>\n",
       "    .dataframe tbody tr th:only-of-type {\n",
       "        vertical-align: middle;\n",
       "    }\n",
       "\n",
       "    .dataframe tbody tr th {\n",
       "        vertical-align: top;\n",
       "    }\n",
       "\n",
       "    .dataframe thead th {\n",
       "        text-align: right;\n",
       "    }\n",
       "</style>\n",
       "<table border=\"1\" class=\"dataframe\">\n",
       "  <thead>\n",
       "    <tr style=\"text-align: right;\">\n",
       "      <th></th>\n",
       "      <th>count</th>\n",
       "      <th>mean</th>\n",
       "      <th>std</th>\n",
       "      <th>min</th>\n",
       "      <th>25%</th>\n",
       "      <th>50%</th>\n",
       "      <th>75%</th>\n",
       "      <th>max</th>\n",
       "    </tr>\n",
       "  </thead>\n",
       "  <tbody>\n",
       "    <tr>\n",
       "      <td>payoff</td>\n",
       "      <td>611.00</td>\n",
       "      <td>1,546.71</td>\n",
       "      <td>752.09</td>\n",
       "      <td>550.00</td>\n",
       "      <td>780.50</td>\n",
       "      <td>1,750.00</td>\n",
       "      <td>1,950.00</td>\n",
       "      <td>5,321.00</td>\n",
       "    </tr>\n",
       "  </tbody>\n",
       "</table>\n",
       "</div>"
      ],
      "text/plain": [
       "        count     mean    std    min    25%      50%      75%      max\n",
       "payoff 611.00 1,546.71 752.09 550.00 780.50 1,750.00 1,950.00 5,321.00"
      ]
     },
     "execution_count": 45,
     "metadata": {},
     "output_type": "execute_result"
    }
   ],
   "source": [
    "summary_Moscow = summary.query('city == \"Москва\"')\n",
    "summary_Moscow.describe().T.tail(1)"
   ]
  },
  {
   "cell_type": "code",
   "execution_count": 46,
   "metadata": {},
   "outputs": [
    {
     "data": {
      "text/html": [
       "<div>\n",
       "<style scoped>\n",
       "    .dataframe tbody tr th:only-of-type {\n",
       "        vertical-align: middle;\n",
       "    }\n",
       "\n",
       "    .dataframe tbody tr th {\n",
       "        vertical-align: top;\n",
       "    }\n",
       "\n",
       "    .dataframe thead th {\n",
       "        text-align: right;\n",
       "    }\n",
       "</style>\n",
       "<table border=\"1\" class=\"dataframe\">\n",
       "  <thead>\n",
       "    <tr style=\"text-align: right;\">\n",
       "      <th></th>\n",
       "      <th>count</th>\n",
       "      <th>mean</th>\n",
       "      <th>std</th>\n",
       "      <th>min</th>\n",
       "      <th>25%</th>\n",
       "      <th>50%</th>\n",
       "      <th>75%</th>\n",
       "      <th>max</th>\n",
       "    </tr>\n",
       "  </thead>\n",
       "  <tbody>\n",
       "    <tr>\n",
       "      <td>payoff</td>\n",
       "      <td>2,603.00</td>\n",
       "      <td>1,524.94</td>\n",
       "      <td>808.79</td>\n",
       "      <td>550.00</td>\n",
       "      <td>750.00</td>\n",
       "      <td>1,583.00</td>\n",
       "      <td>1,950.00</td>\n",
       "      <td>6,770.00</td>\n",
       "    </tr>\n",
       "  </tbody>\n",
       "</table>\n",
       "</div>"
      ],
      "text/plain": [
       "          count     mean    std    min    25%      50%      75%      max\n",
       "payoff 2,603.00 1,524.94 808.79 550.00 750.00 1,583.00 1,950.00 6,770.00"
      ]
     },
     "execution_count": 46,
     "metadata": {},
     "output_type": "execute_result"
    }
   ],
   "source": [
    "summary_regions = summary.query('city != \"Москва\"')\n",
    "summary_regions.describe().T.tail(1)"
   ]
  },
  {
   "cell_type": "markdown",
   "metadata": {},
   "source": [
    "Для проверки гипотезы, применим метод scipy.stats.ttest_ind() . Методу, как и в проверке первой гипотезы, передадим параметр по умолчанию: equal_var = False. Пороговое значение alpha зададим также в 0.05."
   ]
  },
  {
   "cell_type": "code",
   "execution_count": 47,
   "metadata": {},
   "outputs": [
    {
     "name": "stdout",
     "output_type": "stream",
     "text": [
      "p-значение:  0.5257379067598599\n",
      "Не получилось отвергнуть нулевую гипотезу\n"
     ]
    }
   ],
   "source": [
    "alpha = .05\n",
    "results = st.ttest_ind(summary_Moscow['payoff'], summary_regions['payoff'], equal_var = False)\n",
    "print('p-значение: ', results.pvalue)\n",
    "\n",
    "if results.pvalue < alpha:\n",
    "    print ('Отвергаем нулевую гипотезу')\n",
    "else:\n",
    "    print ('Не получилось отвергнуть нулевую гипотезу')"
   ]
  },
  {
   "cell_type": "markdown",
   "metadata": {},
   "source": [
    "Значение pvalue в 0.5 дает достаточное основание для выбранного уровня значимости принять нулевую гипотезу. Значит, можно сделать вывод, что средняя выручка пользователей из Москвы не отличается от выручки пользователей из других регионов."
   ]
  },
  {
   "cell_type": "markdown",
   "metadata": {},
   "source": [
    "## Общий вывод"
   ]
  },
  {
   "cell_type": "markdown",
   "metadata": {},
   "source": [
    "Сравним тарифы пользователей «Мегалайна» по доходности. \n",
    "Здесь необходимо сделать оговорку на счет критерия \"хорошести\" тарифа. Поскольку, нам не известны оценочные критерии компании, доходность по каждому тарифу и т.п., то рассуждать будем, исходя из полученных данных по выручке и перерасходам услуг тарифных пакетов."
   ]
  },
  {
   "cell_type": "code",
   "execution_count": 48,
   "metadata": {},
   "outputs": [
    {
     "data": {
      "text/html": [
       "<div>\n",
       "<style scoped>\n",
       "    .dataframe tbody tr th:only-of-type {\n",
       "        vertical-align: middle;\n",
       "    }\n",
       "\n",
       "    .dataframe tbody tr th {\n",
       "        vertical-align: top;\n",
       "    }\n",
       "\n",
       "    .dataframe thead th {\n",
       "        text-align: right;\n",
       "    }\n",
       "</style>\n",
       "<table border=\"1\" class=\"dataframe\">\n",
       "  <thead>\n",
       "    <tr style=\"text-align: right;\">\n",
       "      <th></th>\n",
       "      <th>count</th>\n",
       "      <th>mean</th>\n",
       "      <th>std</th>\n",
       "      <th>min</th>\n",
       "      <th>25%</th>\n",
       "      <th>50%</th>\n",
       "      <th>75%</th>\n",
       "      <th>max</th>\n",
       "    </tr>\n",
       "  </thead>\n",
       "  <tbody>\n",
       "    <tr>\n",
       "      <td>payoff</td>\n",
       "      <td>985.00</td>\n",
       "      <td>2,070.15</td>\n",
       "      <td>376.19</td>\n",
       "      <td>1,950.00</td>\n",
       "      <td>1,950.00</td>\n",
       "      <td>1,950.00</td>\n",
       "      <td>1,950.00</td>\n",
       "      <td>4,800.00</td>\n",
       "    </tr>\n",
       "  </tbody>\n",
       "</table>\n",
       "</div>"
      ],
      "text/plain": [
       "        count     mean    std      min      25%      50%      75%      max\n",
       "payoff 985.00 2,070.15 376.19 1,950.00 1,950.00 1,950.00 1,950.00 4,800.00"
      ]
     },
     "execution_count": 48,
     "metadata": {},
     "output_type": "execute_result"
    }
   ],
   "source": [
    "summary_ultra.describe().T.tail(1)"
   ]
  },
  {
   "cell_type": "code",
   "execution_count": 49,
   "metadata": {},
   "outputs": [
    {
     "data": {
      "text/html": [
       "<div>\n",
       "<style scoped>\n",
       "    .dataframe tbody tr th:only-of-type {\n",
       "        vertical-align: middle;\n",
       "    }\n",
       "\n",
       "    .dataframe tbody tr th {\n",
       "        vertical-align: top;\n",
       "    }\n",
       "\n",
       "    .dataframe thead th {\n",
       "        text-align: right;\n",
       "    }\n",
       "</style>\n",
       "<table border=\"1\" class=\"dataframe\">\n",
       "  <thead>\n",
       "    <tr style=\"text-align: right;\">\n",
       "      <th></th>\n",
       "      <th>count</th>\n",
       "      <th>mean</th>\n",
       "      <th>std</th>\n",
       "      <th>min</th>\n",
       "      <th>25%</th>\n",
       "      <th>50%</th>\n",
       "      <th>75%</th>\n",
       "      <th>max</th>\n",
       "    </tr>\n",
       "  </thead>\n",
       "  <tbody>\n",
       "    <tr>\n",
       "      <td>payoff</td>\n",
       "      <td>2,229.00</td>\n",
       "      <td>1,289.97</td>\n",
       "      <td>818.40</td>\n",
       "      <td>550.00</td>\n",
       "      <td>550.00</td>\n",
       "      <td>1,023.00</td>\n",
       "      <td>1,750.00</td>\n",
       "      <td>6,770.00</td>\n",
       "    </tr>\n",
       "  </tbody>\n",
       "</table>\n",
       "</div>"
      ],
      "text/plain": [
       "          count     mean    std    min    25%      50%      75%      max\n",
       "payoff 2,229.00 1,289.97 818.40 550.00 550.00 1,023.00 1,750.00 6,770.00"
      ]
     },
     "execution_count": 49,
     "metadata": {},
     "output_type": "execute_result"
    }
   ],
   "source": [
    "summary_smart.describe().T.tail(1)"
   ]
  },
  {
   "cell_type": "markdown",
   "metadata": {},
   "source": [
    "**Выводы:**"
   ]
  },
  {
   "cell_type": "markdown",
   "metadata": {},
   "source": [
    "<div style=\"border:solid blue 1px; padding: 20px\"> \n",
    "\n",
    "- Тариф «Ультра»\n",
    "    \n",
    "Средняя ежемесячная плата по тарифу составляет 2070 руб, что очень близко к абонентской плате в 1950 руб.\n",
    "Клиенты тарифа Ультра не выходят за пределы включенных в тариф услуг, таких как: количество минут, сообщений.  Расход интернет-трафика в среднем составляет 19.7 Гб (большинство клиентов находятся в пределах трат, включенных в абонентскую плату).\n",
    "\n",
    "- Тариф «Смарт»\n",
    "    \n",
    "Средняя ежемесячная плата - 1290 руб, что в два раза больше абонентской платы в 550 руб.\n",
    "У клиентов тарифа Смарт наблюдается перерасход, включенных в абонентскую плату услуг по средним показателям использования интернет-трафика и отправления сообщений.\n",
    "\n",
    "Исходя из нашего сравнения, тариф «Смарт» более выгоден компании «Мегалайн»."
   ]
  },
  {
   "cell_type": "markdown",
   "metadata": {},
   "source": [
    "Вернуться в [начало](#startpage)."
   ]
  }
 ],
 "metadata": {
  "ExecuteTimeLog": [
   {
    "duration": 1552,
    "start_time": "2022-02-14T08:48:37.374Z"
   },
   {
    "duration": 370,
    "start_time": "2022-02-16T10:15:20.548Z"
   },
   {
    "duration": 1038,
    "start_time": "2022-02-16T10:16:01.575Z"
   },
   {
    "duration": 563,
    "start_time": "2022-02-16T10:16:07.411Z"
   },
   {
    "duration": 38,
    "start_time": "2022-02-16T10:16:30.839Z"
   },
   {
    "duration": 14,
    "start_time": "2022-02-16T10:16:45.584Z"
   },
   {
    "duration": 406,
    "start_time": "2022-02-16T10:17:05.447Z"
   },
   {
    "duration": 29,
    "start_time": "2022-02-16T10:17:23.148Z"
   },
   {
    "duration": 239,
    "start_time": "2022-02-16T10:17:41.118Z"
   },
   {
    "duration": 118,
    "start_time": "2022-02-16T10:17:56.431Z"
   },
   {
    "duration": 24,
    "start_time": "2022-02-16T10:18:21.624Z"
   },
   {
    "duration": 138,
    "start_time": "2022-02-16T10:18:51.302Z"
   },
   {
    "duration": 4,
    "start_time": "2022-02-16T10:19:10.671Z"
   },
   {
    "duration": 10,
    "start_time": "2022-02-16T10:19:29.797Z"
   },
   {
    "duration": 153,
    "start_time": "2022-02-16T10:20:01.424Z"
   },
   {
    "duration": 157,
    "start_time": "2022-02-16T10:20:31.542Z"
   },
   {
    "duration": 67,
    "start_time": "2022-02-16T10:23:24.630Z"
   },
   {
    "duration": 8,
    "start_time": "2022-02-16T10:23:32.503Z"
   },
   {
    "duration": 45,
    "start_time": "2022-02-16T10:23:50.775Z"
   },
   {
    "duration": 7,
    "start_time": "2022-02-16T10:23:59.526Z"
   },
   {
    "duration": 38,
    "start_time": "2022-02-16T10:24:17.166Z"
   },
   {
    "duration": 2,
    "start_time": "2022-02-16T10:24:24.366Z"
   },
   {
    "duration": 8,
    "start_time": "2022-02-16T10:24:40.038Z"
   },
   {
    "duration": 18,
    "start_time": "2022-02-16T10:24:56.540Z"
   },
   {
    "duration": 9,
    "start_time": "2022-02-16T10:25:04.373Z"
   },
   {
    "duration": 4,
    "start_time": "2022-02-16T10:25:20.791Z"
   },
   {
    "duration": 10,
    "start_time": "2022-02-16T10:25:35.439Z"
   },
   {
    "duration": 40,
    "start_time": "2022-02-16T10:25:59.822Z"
   },
   {
    "duration": 2,
    "start_time": "2022-02-16T10:26:29.286Z"
   },
   {
    "duration": 8,
    "start_time": "2022-02-16T10:26:39.364Z"
   },
   {
    "duration": 4,
    "start_time": "2022-02-16T10:27:33.734Z"
   },
   {
    "duration": 18,
    "start_time": "2022-02-16T10:28:06.959Z"
   },
   {
    "duration": 11,
    "start_time": "2022-02-16T10:28:53.750Z"
   },
   {
    "duration": 4,
    "start_time": "2022-02-16T10:29:04.511Z"
   },
   {
    "duration": 196,
    "start_time": "2022-02-16T10:29:22.287Z"
   },
   {
    "duration": 52,
    "start_time": "2022-02-16T10:30:40.082Z"
   },
   {
    "duration": 359,
    "start_time": "2022-02-16T10:31:04.222Z"
   },
   {
    "duration": 2,
    "start_time": "2022-02-16T10:31:51.073Z"
   },
   {
    "duration": 367,
    "start_time": "2022-02-16T10:36:36.293Z"
   },
   {
    "duration": 116,
    "start_time": "2022-02-16T10:38:10.421Z"
   },
   {
    "duration": 343,
    "start_time": "2022-02-16T10:39:12.438Z"
   },
   {
    "duration": 3,
    "start_time": "2022-02-16T10:45:27.068Z"
   },
   {
    "duration": 12,
    "start_time": "2022-02-16T10:45:38.765Z"
   },
   {
    "duration": 10,
    "start_time": "2022-02-16T10:47:15.868Z"
   },
   {
    "duration": 3,
    "start_time": "2022-02-16T10:49:47.604Z"
   },
   {
    "duration": 10,
    "start_time": "2022-02-16T10:50:07.763Z"
   },
   {
    "duration": 196,
    "start_time": "2022-02-16T11:02:23.835Z"
   },
   {
    "duration": 106,
    "start_time": "2022-02-16T11:08:57.178Z"
   },
   {
    "duration": 15,
    "start_time": "2022-02-16T11:09:09.473Z"
   },
   {
    "duration": 181,
    "start_time": "2022-02-16T11:22:10.008Z"
   },
   {
    "duration": 370,
    "start_time": "2022-02-16T11:29:33.286Z"
   },
   {
    "duration": 6,
    "start_time": "2022-02-16T11:30:09.381Z"
   },
   {
    "duration": 195,
    "start_time": "2022-02-16T11:30:22.368Z"
   },
   {
    "duration": 8,
    "start_time": "2022-02-16T11:31:00.399Z"
   },
   {
    "duration": 364,
    "start_time": "2022-02-16T11:38:30.062Z"
   },
   {
    "duration": 46,
    "start_time": "2022-02-16T11:38:40.411Z"
   },
   {
    "duration": 357,
    "start_time": "2022-02-16T11:38:59.958Z"
   },
   {
    "duration": 368,
    "start_time": "2022-02-16T11:39:05.943Z"
   },
   {
    "duration": 44,
    "start_time": "2022-02-16T11:39:41.757Z"
   },
   {
    "duration": 372,
    "start_time": "2022-02-16T12:14:08.495Z"
   },
   {
    "duration": 334,
    "start_time": "2022-02-16T12:16:48.026Z"
   },
   {
    "duration": 386,
    "start_time": "2022-02-16T12:25:19.112Z"
   },
   {
    "duration": 330,
    "start_time": "2022-02-16T12:25:48.885Z"
   },
   {
    "duration": 693,
    "start_time": "2022-02-16T12:27:04.784Z"
   },
   {
    "duration": 699,
    "start_time": "2022-02-16T12:33:15.785Z"
   },
   {
    "duration": 367,
    "start_time": "2022-02-16T12:33:22.632Z"
   },
   {
    "duration": 3431,
    "start_time": "2022-02-16T12:35:16.098Z"
   },
   {
    "duration": 2589,
    "start_time": "2022-02-16T12:35:21.038Z"
   },
   {
    "duration": 1003,
    "start_time": "2022-02-16T12:37:20.399Z"
   },
   {
    "duration": 1683,
    "start_time": "2022-02-16T12:41:18.191Z"
   },
   {
    "duration": 181,
    "start_time": "2022-02-16T12:43:03.647Z"
   },
   {
    "duration": 180,
    "start_time": "2022-02-16T12:43:42.439Z"
   },
   {
    "duration": 178,
    "start_time": "2022-02-16T12:44:14.982Z"
   },
   {
    "duration": 535,
    "start_time": "2022-02-16T12:44:31.912Z"
   },
   {
    "duration": 276,
    "start_time": "2022-02-16T12:44:43.390Z"
   },
   {
    "duration": 209,
    "start_time": "2022-02-16T12:44:59.318Z"
   },
   {
    "duration": 214,
    "start_time": "2022-02-16T12:45:50.815Z"
   },
   {
    "duration": 196,
    "start_time": "2022-02-16T13:22:11.082Z"
   },
   {
    "duration": 209,
    "start_time": "2022-02-16T13:23:19.970Z"
   },
   {
    "duration": 189,
    "start_time": "2022-02-16T13:23:29.290Z"
   },
   {
    "duration": 255,
    "start_time": "2022-02-16T13:23:37.024Z"
   },
   {
    "duration": 198,
    "start_time": "2022-02-16T13:23:42.770Z"
   },
   {
    "duration": 207,
    "start_time": "2022-02-16T13:27:17.865Z"
   },
   {
    "duration": 564,
    "start_time": "2022-02-16T13:27:54.929Z"
   },
   {
    "duration": 198,
    "start_time": "2022-02-16T13:29:37.809Z"
   },
   {
    "duration": 210,
    "start_time": "2022-02-16T13:30:18.211Z"
   },
   {
    "duration": 402,
    "start_time": "2022-02-16T13:34:13.785Z"
   },
   {
    "duration": 212,
    "start_time": "2022-02-16T13:35:44.232Z"
   },
   {
    "duration": 192,
    "start_time": "2022-02-16T13:54:15.701Z"
   },
   {
    "duration": 193,
    "start_time": "2022-02-16T13:54:54.975Z"
   },
   {
    "duration": 215,
    "start_time": "2022-02-16T13:55:26.382Z"
   },
   {
    "duration": 208,
    "start_time": "2022-02-16T15:07:26.513Z"
   },
   {
    "duration": 304,
    "start_time": "2022-02-16T15:08:17.254Z"
   },
   {
    "duration": 352,
    "start_time": "2022-02-16T15:08:42.662Z"
   },
   {
    "duration": 422,
    "start_time": "2022-02-16T15:09:01.790Z"
   },
   {
    "duration": 346,
    "start_time": "2022-02-16T15:09:19.246Z"
   },
   {
    "duration": 243,
    "start_time": "2022-02-16T15:09:33.197Z"
   },
   {
    "duration": 228,
    "start_time": "2022-02-16T15:09:54.398Z"
   },
   {
    "duration": 344,
    "start_time": "2022-02-16T15:10:17.813Z"
   },
   {
    "duration": 250,
    "start_time": "2022-02-16T15:44:30.673Z"
   },
   {
    "duration": 258,
    "start_time": "2022-02-16T15:44:48.563Z"
   },
   {
    "duration": 281,
    "start_time": "2022-02-16T15:45:06.561Z"
   },
   {
    "duration": 341,
    "start_time": "2022-02-22T14:27:32.815Z"
   },
   {
    "duration": 261,
    "start_time": "2022-02-22T14:27:47.830Z"
   },
   {
    "duration": 1430,
    "start_time": "2022-02-22T14:28:19.675Z"
   },
   {
    "duration": 573,
    "start_time": "2022-02-22T14:28:22.670Z"
   },
   {
    "duration": 61,
    "start_time": "2022-02-22T14:28:26.411Z"
   },
   {
    "duration": 20,
    "start_time": "2022-02-22T14:28:29.939Z"
   },
   {
    "duration": 484,
    "start_time": "2022-02-22T14:28:32.596Z"
   },
   {
    "duration": 46,
    "start_time": "2022-02-22T14:28:36.668Z"
   },
   {
    "duration": 360,
    "start_time": "2022-02-22T14:28:39.315Z"
   },
   {
    "duration": 38,
    "start_time": "2022-02-22T14:28:43.164Z"
   },
   {
    "duration": 128,
    "start_time": "2022-02-22T14:28:45.868Z"
   },
   {
    "duration": 7,
    "start_time": "2022-02-22T14:28:48.947Z"
   },
   {
    "duration": 18,
    "start_time": "2022-02-22T14:28:52.235Z"
   },
   {
    "duration": 100,
    "start_time": "2022-02-22T14:28:56.019Z"
   },
   {
    "duration": 330,
    "start_time": "2022-02-22T14:29:05.499Z"
   },
   {
    "duration": 112,
    "start_time": "2022-02-22T14:29:08.731Z"
   },
   {
    "duration": 14,
    "start_time": "2022-02-22T14:29:12.259Z"
   },
   {
    "duration": 72,
    "start_time": "2022-02-22T14:29:15.051Z"
   },
   {
    "duration": 11,
    "start_time": "2022-02-22T14:29:35.427Z"
   },
   {
    "duration": 64,
    "start_time": "2022-02-22T14:29:38.051Z"
   },
   {
    "duration": 15,
    "start_time": "2022-02-22T14:29:41.762Z"
   },
   {
    "duration": 38,
    "start_time": "2022-02-22T14:29:45.098Z"
   },
   {
    "duration": 17,
    "start_time": "2022-02-22T14:29:53.203Z"
   },
   {
    "duration": 7,
    "start_time": "2022-02-22T14:29:56.219Z"
   },
   {
    "duration": 18,
    "start_time": "2022-02-22T14:29:58.587Z"
   },
   {
    "duration": 74,
    "start_time": "2022-02-22T14:30:01.356Z"
   },
   {
    "duration": 7,
    "start_time": "2022-02-22T14:30:12.515Z"
   },
   {
    "duration": 27,
    "start_time": "2022-02-22T14:30:15.779Z"
   },
   {
    "duration": 16,
    "start_time": "2022-02-22T14:30:19.370Z"
   },
   {
    "duration": 7,
    "start_time": "2022-02-22T14:30:24.266Z"
   },
   {
    "duration": 370,
    "start_time": "2022-02-22T14:30:27.923Z"
   },
   {
    "duration": 60,
    "start_time": "2022-02-22T14:30:42.680Z"
   },
   {
    "duration": 1523,
    "start_time": "2022-02-22T14:30:47.324Z"
   },
   {
    "duration": 59,
    "start_time": "2022-02-22T14:32:20.963Z"
   },
   {
    "duration": 56,
    "start_time": "2022-02-22T14:33:17.467Z"
   },
   {
    "duration": 19,
    "start_time": "2022-02-22T14:34:34.274Z"
   },
   {
    "duration": 1478,
    "start_time": "2022-02-22T14:34:44.726Z"
   },
   {
    "duration": 702,
    "start_time": "2022-02-22T14:34:46.207Z"
   },
   {
    "duration": 66,
    "start_time": "2022-02-22T14:34:46.913Z"
   },
   {
    "duration": 21,
    "start_time": "2022-02-22T14:34:46.982Z"
   },
   {
    "duration": 430,
    "start_time": "2022-02-22T14:34:47.026Z"
   },
   {
    "duration": 78,
    "start_time": "2022-02-22T14:34:47.459Z"
   },
   {
    "duration": 281,
    "start_time": "2022-02-22T14:34:47.539Z"
   },
   {
    "duration": 35,
    "start_time": "2022-02-22T14:34:47.828Z"
   },
   {
    "duration": 94,
    "start_time": "2022-02-22T14:34:47.868Z"
   },
   {
    "duration": 7,
    "start_time": "2022-02-22T14:34:47.964Z"
   },
   {
    "duration": 17,
    "start_time": "2022-02-22T14:34:47.973Z"
   },
   {
    "duration": 6,
    "start_time": "2022-02-22T14:34:47.993Z"
   },
   {
    "duration": 1821,
    "start_time": "2022-02-22T14:34:48.002Z"
   },
   {
    "duration": 3,
    "start_time": "2022-02-22T14:34:49.825Z"
   },
   {
    "duration": 324,
    "start_time": "2022-02-22T14:34:49.831Z"
   },
   {
    "duration": 140,
    "start_time": "2022-02-22T14:34:50.158Z"
   },
   {
    "duration": 25,
    "start_time": "2022-02-22T14:34:50.301Z"
   },
   {
    "duration": 82,
    "start_time": "2022-02-22T14:34:50.329Z"
   },
   {
    "duration": 20,
    "start_time": "2022-02-22T14:34:50.414Z"
   },
   {
    "duration": 61,
    "start_time": "2022-02-22T14:34:50.437Z"
   },
   {
    "duration": 5,
    "start_time": "2022-02-22T14:34:50.526Z"
   },
   {
    "duration": 15,
    "start_time": "2022-02-22T14:34:50.534Z"
   },
   {
    "duration": 29,
    "start_time": "2022-02-22T14:34:50.554Z"
   },
   {
    "duration": 48,
    "start_time": "2022-02-22T14:34:50.587Z"
   },
   {
    "duration": 10,
    "start_time": "2022-02-22T14:34:50.638Z"
   },
   {
    "duration": 24,
    "start_time": "2022-02-22T14:34:50.651Z"
   },
   {
    "duration": 91,
    "start_time": "2022-02-22T14:34:50.677Z"
   },
   {
    "duration": 4,
    "start_time": "2022-02-22T14:34:50.770Z"
   },
   {
    "duration": 13,
    "start_time": "2022-02-22T14:34:50.776Z"
   },
   {
    "duration": 54,
    "start_time": "2022-02-22T14:34:50.791Z"
   },
   {
    "duration": 16,
    "start_time": "2022-02-22T14:34:50.848Z"
   },
   {
    "duration": 24,
    "start_time": "2022-02-22T14:34:50.866Z"
   },
   {
    "duration": 394,
    "start_time": "2022-02-22T14:34:50.893Z"
   },
   {
    "duration": 3,
    "start_time": "2022-02-22T14:34:51.289Z"
   },
   {
    "duration": 82,
    "start_time": "2022-02-22T14:34:51.294Z"
   },
   {
    "duration": 17,
    "start_time": "2022-02-22T14:34:51.378Z"
   },
   {
    "duration": 33,
    "start_time": "2022-02-22T14:34:51.398Z"
   },
   {
    "duration": 138,
    "start_time": "2022-02-22T14:34:51.433Z"
   },
   {
    "duration": 498,
    "start_time": "2022-02-22T14:34:51.573Z"
   },
   {
    "duration": 463,
    "start_time": "2022-02-22T14:34:52.073Z"
   },
   {
    "duration": 414,
    "start_time": "2022-02-22T14:34:52.538Z"
   },
   {
    "duration": 539,
    "start_time": "2022-02-22T14:34:52.955Z"
   },
   {
    "duration": 357,
    "start_time": "2022-02-22T14:34:53.497Z"
   },
   {
    "duration": 11,
    "start_time": "2022-02-22T14:34:53.856Z"
   },
   {
    "duration": 83,
    "start_time": "2022-02-22T14:35:34.307Z"
   },
   {
    "duration": 1435,
    "start_time": "2022-02-22T14:36:04.854Z"
   },
   {
    "duration": 513,
    "start_time": "2022-02-22T14:36:06.292Z"
   },
   {
    "duration": 60,
    "start_time": "2022-02-22T14:36:06.808Z"
   },
   {
    "duration": 19,
    "start_time": "2022-02-22T14:36:06.871Z"
   },
   {
    "duration": 336,
    "start_time": "2022-02-22T14:36:06.893Z"
   },
   {
    "duration": 44,
    "start_time": "2022-02-22T14:36:07.232Z"
   },
   {
    "duration": 1297,
    "start_time": "2022-02-22T14:36:07.279Z"
   },
   {
    "duration": 54,
    "start_time": "2022-02-22T14:36:08.580Z"
   },
   {
    "duration": 71,
    "start_time": "2022-02-22T14:36:08.637Z"
   },
   {
    "duration": 6,
    "start_time": "2022-02-22T14:36:08.710Z"
   },
   {
    "duration": 16,
    "start_time": "2022-02-22T14:36:08.718Z"
   },
   {
    "duration": 4,
    "start_time": "2022-02-22T14:36:08.737Z"
   },
   {
    "duration": 76,
    "start_time": "2022-02-22T14:36:08.744Z"
   },
   {
    "duration": 4,
    "start_time": "2022-02-22T14:36:08.822Z"
   },
   {
    "duration": 313,
    "start_time": "2022-02-22T14:36:08.828Z"
   },
   {
    "duration": 136,
    "start_time": "2022-02-22T14:36:09.144Z"
   },
   {
    "duration": 12,
    "start_time": "2022-02-22T14:36:09.282Z"
   },
   {
    "duration": 95,
    "start_time": "2022-02-22T14:36:09.296Z"
   },
   {
    "duration": 9,
    "start_time": "2022-02-22T14:36:09.394Z"
   },
   {
    "duration": 80,
    "start_time": "2022-02-22T14:36:09.405Z"
   },
   {
    "duration": 4,
    "start_time": "2022-02-22T14:36:09.488Z"
   },
   {
    "duration": 37,
    "start_time": "2022-02-22T14:36:09.494Z"
   },
   {
    "duration": 32,
    "start_time": "2022-02-22T14:36:09.536Z"
   },
   {
    "duration": 16,
    "start_time": "2022-02-22T14:36:09.571Z"
   },
   {
    "duration": 36,
    "start_time": "2022-02-22T14:36:09.590Z"
   },
   {
    "duration": 20,
    "start_time": "2022-02-22T14:36:09.629Z"
   },
   {
    "duration": 97,
    "start_time": "2022-02-22T14:36:09.652Z"
   },
   {
    "duration": 4,
    "start_time": "2022-02-22T14:36:09.752Z"
   },
   {
    "duration": 10,
    "start_time": "2022-02-22T14:36:09.758Z"
   },
   {
    "duration": 60,
    "start_time": "2022-02-22T14:36:09.770Z"
   },
   {
    "duration": 17,
    "start_time": "2022-02-22T14:36:09.833Z"
   },
   {
    "duration": 13,
    "start_time": "2022-02-22T14:36:09.852Z"
   },
   {
    "duration": 402,
    "start_time": "2022-02-22T14:36:09.868Z"
   },
   {
    "duration": 3,
    "start_time": "2022-02-22T14:36:10.273Z"
   },
   {
    "duration": 92,
    "start_time": "2022-02-22T14:36:10.278Z"
   },
   {
    "duration": 16,
    "start_time": "2022-02-22T14:36:10.373Z"
   },
   {
    "duration": 34,
    "start_time": "2022-02-22T14:36:10.392Z"
   },
   {
    "duration": 81,
    "start_time": "2022-02-22T14:36:10.428Z"
   },
   {
    "duration": 82,
    "start_time": "2022-02-22T14:36:10.526Z"
   },
   {
    "duration": 553,
    "start_time": "2022-02-22T14:36:10.626Z"
   },
   {
    "duration": 508,
    "start_time": "2022-02-22T14:36:11.182Z"
   },
   {
    "duration": 433,
    "start_time": "2022-02-22T14:36:11.693Z"
   },
   {
    "duration": 569,
    "start_time": "2022-02-22T14:36:12.129Z"
   },
   {
    "duration": 366,
    "start_time": "2022-02-22T14:36:12.700Z"
   },
   {
    "duration": 10,
    "start_time": "2022-02-22T14:36:13.068Z"
   },
   {
    "duration": 10,
    "start_time": "2022-02-22T15:40:47.768Z"
   },
   {
    "duration": 10,
    "start_time": "2022-02-22T15:44:32.265Z"
   },
   {
    "duration": 8,
    "start_time": "2022-02-22T15:45:17.560Z"
   },
   {
    "duration": 1517,
    "start_time": "2022-02-22T15:45:49.669Z"
   },
   {
    "duration": 490,
    "start_time": "2022-02-22T15:45:51.189Z"
   },
   {
    "duration": 63,
    "start_time": "2022-02-22T15:45:51.682Z"
   },
   {
    "duration": 19,
    "start_time": "2022-02-22T15:45:51.747Z"
   },
   {
    "duration": 390,
    "start_time": "2022-02-22T15:45:51.769Z"
   },
   {
    "duration": 44,
    "start_time": "2022-02-22T15:45:52.161Z"
   },
   {
    "duration": 1386,
    "start_time": "2022-02-22T15:45:52.207Z"
   },
   {
    "duration": 45,
    "start_time": "2022-02-22T15:45:53.597Z"
   },
   {
    "duration": 96,
    "start_time": "2022-02-22T15:45:53.645Z"
   },
   {
    "duration": 5,
    "start_time": "2022-02-22T15:45:53.744Z"
   },
   {
    "duration": 18,
    "start_time": "2022-02-22T15:45:53.752Z"
   },
   {
    "duration": 4,
    "start_time": "2022-02-22T15:45:53.772Z"
   },
   {
    "duration": 146,
    "start_time": "2022-02-22T15:45:53.778Z"
   },
   {
    "duration": 4,
    "start_time": "2022-02-22T15:45:53.927Z"
   },
   {
    "duration": 328,
    "start_time": "2022-02-22T15:45:53.934Z"
   },
   {
    "duration": 132,
    "start_time": "2022-02-22T15:45:54.265Z"
   },
   {
    "duration": 13,
    "start_time": "2022-02-22T15:45:54.400Z"
   },
   {
    "duration": 73,
    "start_time": "2022-02-22T15:45:54.427Z"
   },
   {
    "duration": 29,
    "start_time": "2022-02-22T15:45:54.503Z"
   },
   {
    "duration": 63,
    "start_time": "2022-02-22T15:45:54.535Z"
   },
   {
    "duration": 4,
    "start_time": "2022-02-22T15:45:54.600Z"
   },
   {
    "duration": 12,
    "start_time": "2022-02-22T15:45:54.627Z"
   },
   {
    "duration": 29,
    "start_time": "2022-02-22T15:45:54.644Z"
   },
   {
    "duration": 15,
    "start_time": "2022-02-22T15:45:54.676Z"
   },
   {
    "duration": 36,
    "start_time": "2022-02-22T15:45:54.694Z"
   },
   {
    "duration": 20,
    "start_time": "2022-02-22T15:45:54.732Z"
   },
   {
    "duration": 98,
    "start_time": "2022-02-22T15:45:54.754Z"
   },
   {
    "duration": 3,
    "start_time": "2022-02-22T15:45:54.855Z"
   },
   {
    "duration": 12,
    "start_time": "2022-02-22T15:45:54.860Z"
   },
   {
    "duration": 56,
    "start_time": "2022-02-22T15:45:54.874Z"
   },
   {
    "duration": 15,
    "start_time": "2022-02-22T15:45:54.933Z"
   },
   {
    "duration": 5,
    "start_time": "2022-02-22T15:45:54.951Z"
   },
   {
    "duration": 398,
    "start_time": "2022-02-22T15:45:54.959Z"
   },
   {
    "duration": 3,
    "start_time": "2022-02-22T15:45:55.360Z"
   },
   {
    "duration": 81,
    "start_time": "2022-02-22T15:45:55.365Z"
   },
   {
    "duration": 18,
    "start_time": "2022-02-22T15:45:55.448Z"
   },
   {
    "duration": 13,
    "start_time": "2022-02-22T15:45:55.468Z"
   },
   {
    "duration": 105,
    "start_time": "2022-02-22T15:45:55.483Z"
   },
   {
    "duration": 87,
    "start_time": "2022-02-22T15:45:55.590Z"
   },
   {
    "duration": 500,
    "start_time": "2022-02-22T15:45:55.680Z"
   },
   {
    "duration": 81,
    "start_time": "2022-02-22T15:45:56.182Z"
   },
   {
    "duration": 1576,
    "start_time": "2022-02-22T15:45:54.689Z"
   },
   {
    "duration": 1571,
    "start_time": "2022-02-22T15:45:54.696Z"
   },
   {
    "duration": 1568,
    "start_time": "2022-02-22T15:45:54.700Z"
   },
   {
    "duration": 1567,
    "start_time": "2022-02-22T15:45:54.702Z"
   },
   {
    "duration": 1567,
    "start_time": "2022-02-22T15:45:54.704Z"
   },
   {
    "duration": 1561,
    "start_time": "2022-02-22T15:45:54.711Z"
   },
   {
    "duration": 1560,
    "start_time": "2022-02-22T15:45:54.714Z"
   },
   {
    "duration": 8,
    "start_time": "2022-02-22T15:46:10.409Z"
   },
   {
    "duration": 8,
    "start_time": "2022-02-22T17:50:01.827Z"
   },
   {
    "duration": 8,
    "start_time": "2022-02-22T18:02:09.112Z"
   },
   {
    "duration": 1119,
    "start_time": "2022-02-23T06:03:43.547Z"
   },
   {
    "duration": 361,
    "start_time": "2022-02-23T06:03:44.667Z"
   },
   {
    "duration": 52,
    "start_time": "2022-02-23T06:03:45.032Z"
   },
   {
    "duration": 13,
    "start_time": "2022-02-23T06:03:45.086Z"
   },
   {
    "duration": 292,
    "start_time": "2022-02-23T06:03:45.101Z"
   },
   {
    "duration": 31,
    "start_time": "2022-02-23T06:03:45.394Z"
   },
   {
    "duration": 197,
    "start_time": "2022-02-23T06:03:45.428Z"
   },
   {
    "duration": 32,
    "start_time": "2022-02-23T06:03:45.627Z"
   },
   {
    "duration": 78,
    "start_time": "2022-02-23T06:03:45.661Z"
   },
   {
    "duration": 4,
    "start_time": "2022-02-23T06:03:45.741Z"
   },
   {
    "duration": 11,
    "start_time": "2022-02-23T06:03:45.746Z"
   },
   {
    "duration": 5,
    "start_time": "2022-02-23T06:03:45.759Z"
   },
   {
    "duration": 68,
    "start_time": "2022-02-23T06:03:45.766Z"
   },
   {
    "duration": 2,
    "start_time": "2022-02-23T06:03:45.837Z"
   },
   {
    "duration": 236,
    "start_time": "2022-02-23T06:03:45.841Z"
   },
   {
    "duration": 93,
    "start_time": "2022-02-23T06:03:46.079Z"
   },
   {
    "duration": 7,
    "start_time": "2022-02-23T06:03:46.174Z"
   },
   {
    "duration": 52,
    "start_time": "2022-02-23T06:03:46.183Z"
   },
   {
    "duration": 22,
    "start_time": "2022-02-23T06:03:46.237Z"
   },
   {
    "duration": 41,
    "start_time": "2022-02-23T06:03:46.261Z"
   },
   {
    "duration": 2,
    "start_time": "2022-02-23T06:03:46.304Z"
   },
   {
    "duration": 9,
    "start_time": "2022-02-23T06:03:46.309Z"
   },
   {
    "duration": 40,
    "start_time": "2022-02-23T06:03:46.320Z"
   },
   {
    "duration": 9,
    "start_time": "2022-02-23T06:03:46.362Z"
   },
   {
    "duration": 4,
    "start_time": "2022-02-23T06:03:46.373Z"
   },
   {
    "duration": 15,
    "start_time": "2022-02-23T06:03:46.379Z"
   },
   {
    "duration": 65,
    "start_time": "2022-02-23T06:03:46.395Z"
   },
   {
    "duration": 2,
    "start_time": "2022-02-23T06:03:46.462Z"
   },
   {
    "duration": 7,
    "start_time": "2022-02-23T06:03:46.465Z"
   },
   {
    "duration": 20,
    "start_time": "2022-02-23T06:03:46.474Z"
   },
   {
    "duration": 12,
    "start_time": "2022-02-23T06:03:46.496Z"
   },
   {
    "duration": 4,
    "start_time": "2022-02-23T06:03:46.510Z"
   },
   {
    "duration": 233,
    "start_time": "2022-02-23T06:03:46.515Z"
   },
   {
    "duration": 10,
    "start_time": "2022-02-23T06:03:46.749Z"
   },
   {
    "duration": 40,
    "start_time": "2022-02-23T06:03:46.761Z"
   },
   {
    "duration": 12,
    "start_time": "2022-02-23T06:03:46.804Z"
   },
   {
    "duration": 10,
    "start_time": "2022-02-23T06:03:46.818Z"
   },
   {
    "duration": 74,
    "start_time": "2022-02-23T06:03:46.830Z"
   },
   {
    "duration": 58,
    "start_time": "2022-02-23T06:03:46.906Z"
   },
   {
    "duration": 320,
    "start_time": "2022-02-23T06:03:46.966Z"
   },
   {
    "duration": 62,
    "start_time": "2022-02-23T06:03:47.288Z"
   },
   {
    "duration": 2349,
    "start_time": "2022-02-23T06:03:45.003Z"
   },
   {
    "duration": 2343,
    "start_time": "2022-02-23T06:03:45.010Z"
   },
   {
    "duration": 2340,
    "start_time": "2022-02-23T06:03:45.015Z"
   },
   {
    "duration": 2337,
    "start_time": "2022-02-23T06:03:45.019Z"
   },
   {
    "duration": 2332,
    "start_time": "2022-02-23T06:03:45.026Z"
   },
   {
    "duration": 2329,
    "start_time": "2022-02-23T06:03:45.030Z"
   },
   {
    "duration": 2326,
    "start_time": "2022-02-23T06:03:45.034Z"
   },
   {
    "duration": 5,
    "start_time": "2022-02-23T06:43:48.399Z"
   },
   {
    "duration": 33,
    "start_time": "2022-02-23T07:07:42.612Z"
   },
   {
    "duration": 6,
    "start_time": "2022-02-23T07:08:24.729Z"
   },
   {
    "duration": 32,
    "start_time": "2022-02-23T07:08:33.783Z"
   },
   {
    "duration": 49,
    "start_time": "2022-02-23T07:09:10.272Z"
   },
   {
    "duration": 51,
    "start_time": "2022-02-23T07:10:20.144Z"
   },
   {
    "duration": 6,
    "start_time": "2022-02-23T07:17:18.915Z"
   },
   {
    "duration": 232,
    "start_time": "2022-02-23T07:35:23.619Z"
   },
   {
    "duration": 8,
    "start_time": "2022-02-23T07:35:26.717Z"
   },
   {
    "duration": 9,
    "start_time": "2022-02-23T07:41:57.244Z"
   },
   {
    "duration": 12,
    "start_time": "2022-02-23T07:42:40.825Z"
   },
   {
    "duration": 83,
    "start_time": "2022-02-23T07:53:43.584Z"
   },
   {
    "duration": 51,
    "start_time": "2022-02-23T07:53:59.459Z"
   },
   {
    "duration": 47,
    "start_time": "2022-02-23T07:54:25.722Z"
   },
   {
    "duration": 46,
    "start_time": "2022-02-23T07:54:46.538Z"
   },
   {
    "duration": 334,
    "start_time": "2022-02-23T08:09:34.455Z"
   },
   {
    "duration": 254,
    "start_time": "2022-02-23T08:09:36.585Z"
   },
   {
    "duration": 291,
    "start_time": "2022-02-23T08:09:40.537Z"
   },
   {
    "duration": 48,
    "start_time": "2022-02-23T08:26:24.864Z"
   },
   {
    "duration": 48,
    "start_time": "2022-02-23T08:26:38.680Z"
   },
   {
    "duration": 1080,
    "start_time": "2022-02-23T09:58:32.291Z"
   },
   {
    "duration": 391,
    "start_time": "2022-02-23T09:58:33.373Z"
   },
   {
    "duration": 41,
    "start_time": "2022-02-23T09:58:33.766Z"
   },
   {
    "duration": 15,
    "start_time": "2022-02-23T09:58:33.809Z"
   },
   {
    "duration": 335,
    "start_time": "2022-02-23T09:58:33.825Z"
   },
   {
    "duration": 33,
    "start_time": "2022-02-23T09:58:34.162Z"
   },
   {
    "duration": 1767,
    "start_time": "2022-02-23T09:58:34.197Z"
   },
   {
    "duration": 28,
    "start_time": "2022-02-23T09:58:35.967Z"
   },
   {
    "duration": 87,
    "start_time": "2022-02-23T09:58:35.998Z"
   },
   {
    "duration": 6,
    "start_time": "2022-02-23T09:58:36.087Z"
   },
   {
    "duration": 15,
    "start_time": "2022-02-23T09:58:36.095Z"
   },
   {
    "duration": 5,
    "start_time": "2022-02-23T09:58:36.112Z"
   },
   {
    "duration": 82,
    "start_time": "2022-02-23T09:58:36.119Z"
   },
   {
    "duration": 2,
    "start_time": "2022-02-23T09:58:36.203Z"
   },
   {
    "duration": 213,
    "start_time": "2022-02-23T09:58:36.206Z"
   },
   {
    "duration": 95,
    "start_time": "2022-02-23T09:58:36.420Z"
   },
   {
    "duration": 7,
    "start_time": "2022-02-23T09:58:36.517Z"
   },
   {
    "duration": 66,
    "start_time": "2022-02-23T09:58:36.526Z"
   },
   {
    "duration": 6,
    "start_time": "2022-02-23T09:58:36.594Z"
   },
   {
    "duration": 58,
    "start_time": "2022-02-23T09:58:36.602Z"
   },
   {
    "duration": 3,
    "start_time": "2022-02-23T09:58:36.662Z"
   },
   {
    "duration": 14,
    "start_time": "2022-02-23T09:58:36.666Z"
   },
   {
    "duration": 20,
    "start_time": "2022-02-23T09:58:36.683Z"
   },
   {
    "duration": 11,
    "start_time": "2022-02-23T09:58:36.705Z"
   },
   {
    "duration": 4,
    "start_time": "2022-02-23T09:58:36.717Z"
   },
   {
    "duration": 39,
    "start_time": "2022-02-23T09:58:36.722Z"
   },
   {
    "duration": 44,
    "start_time": "2022-02-23T09:58:36.762Z"
   },
   {
    "duration": 2,
    "start_time": "2022-02-23T09:58:36.808Z"
   },
   {
    "duration": 9,
    "start_time": "2022-02-23T09:58:36.812Z"
   },
   {
    "duration": 42,
    "start_time": "2022-02-23T09:58:36.823Z"
   },
   {
    "duration": 13,
    "start_time": "2022-02-23T09:58:36.866Z"
   },
   {
    "duration": 4,
    "start_time": "2022-02-23T09:58:36.881Z"
   },
   {
    "duration": 232,
    "start_time": "2022-02-23T09:58:36.886Z"
   },
   {
    "duration": 2,
    "start_time": "2022-02-23T09:58:37.120Z"
   },
   {
    "duration": 55,
    "start_time": "2022-02-23T09:58:37.123Z"
   },
   {
    "duration": 12,
    "start_time": "2022-02-23T09:58:37.180Z"
   },
   {
    "duration": 9,
    "start_time": "2022-02-23T09:58:37.194Z"
   },
   {
    "duration": 72,
    "start_time": "2022-02-23T09:58:37.204Z"
   },
   {
    "duration": 48,
    "start_time": "2022-02-23T09:58:37.279Z"
   },
   {
    "duration": 354,
    "start_time": "2022-02-23T09:58:37.329Z"
   },
   {
    "duration": 324,
    "start_time": "2022-02-23T09:58:37.685Z"
   },
   {
    "duration": 58,
    "start_time": "2022-02-23T09:58:38.011Z"
   },
   {
    "duration": 126,
    "start_time": "2022-02-23T09:58:37.946Z"
   },
   {
    "duration": 124,
    "start_time": "2022-02-23T09:58:37.949Z"
   },
   {
    "duration": 122,
    "start_time": "2022-02-23T09:58:37.951Z"
   },
   {
    "duration": 116,
    "start_time": "2022-02-23T09:58:37.958Z"
   },
   {
    "duration": 116,
    "start_time": "2022-02-23T09:58:37.960Z"
   },
   {
    "duration": 115,
    "start_time": "2022-02-23T09:58:37.962Z"
   },
   {
    "duration": 113,
    "start_time": "2022-02-23T09:58:37.964Z"
   },
   {
    "duration": 111,
    "start_time": "2022-02-23T09:58:37.967Z"
   },
   {
    "duration": 12,
    "start_time": "2022-02-23T11:19:09.273Z"
   },
   {
    "duration": 5,
    "start_time": "2022-02-23T11:21:54.895Z"
   },
   {
    "duration": 80,
    "start_time": "2022-02-23T11:22:52.072Z"
   },
   {
    "duration": 80,
    "start_time": "2022-02-23T11:23:40.928Z"
   },
   {
    "duration": 10,
    "start_time": "2022-02-23T11:23:45.999Z"
   },
   {
    "duration": 47,
    "start_time": "2022-02-23T11:23:59.354Z"
   },
   {
    "duration": 8,
    "start_time": "2022-02-23T11:24:10.976Z"
   },
   {
    "duration": 41,
    "start_time": "2022-02-23T11:24:24.863Z"
   },
   {
    "duration": 3,
    "start_time": "2022-02-23T11:24:33.032Z"
   },
   {
    "duration": 8,
    "start_time": "2022-02-23T11:24:47.112Z"
   },
   {
    "duration": 18,
    "start_time": "2022-02-23T11:24:54.328Z"
   },
   {
    "duration": 10,
    "start_time": "2022-02-23T11:24:58.521Z"
   },
   {
    "duration": 4,
    "start_time": "2022-02-23T11:25:07.959Z"
   },
   {
    "duration": 13,
    "start_time": "2022-02-23T11:25:10.519Z"
   },
   {
    "duration": 45,
    "start_time": "2022-02-23T11:25:21.714Z"
   },
   {
    "duration": 5,
    "start_time": "2022-02-23T11:25:43.199Z"
   },
   {
    "duration": 19,
    "start_time": "2022-02-23T11:25:54.128Z"
   },
   {
    "duration": 10,
    "start_time": "2022-02-23T11:26:04.608Z"
   },
   {
    "duration": 5,
    "start_time": "2022-02-23T11:26:18.624Z"
   },
   {
    "duration": 210,
    "start_time": "2022-02-23T11:26:39.080Z"
   },
   {
    "duration": 50,
    "start_time": "2022-02-23T11:28:22.065Z"
   },
   {
    "duration": 355,
    "start_time": "2022-02-23T11:29:05.039Z"
   },
   {
    "duration": 7,
    "start_time": "2022-02-23T11:34:34.256Z"
   },
   {
    "duration": 54,
    "start_time": "2022-02-23T11:34:39.567Z"
   },
   {
    "duration": 17,
    "start_time": "2022-02-23T11:35:51.622Z"
   },
   {
    "duration": 6,
    "start_time": "2022-02-23T11:36:04.239Z"
   },
   {
    "duration": 45,
    "start_time": "2022-02-23T11:36:07.359Z"
   },
   {
    "duration": 10,
    "start_time": "2022-02-23T11:36:38.008Z"
   },
   {
    "duration": 11,
    "start_time": "2022-02-23T11:42:32.526Z"
   },
   {
    "duration": 23,
    "start_time": "2022-02-23T11:42:56.086Z"
   },
   {
    "duration": 14,
    "start_time": "2022-02-23T11:43:49.893Z"
   },
   {
    "duration": 30,
    "start_time": "2022-02-23T11:44:06.022Z"
   },
   {
    "duration": 7,
    "start_time": "2022-02-23T11:44:31.166Z"
   },
   {
    "duration": 19,
    "start_time": "2022-02-23T11:44:33.910Z"
   },
   {
    "duration": 12,
    "start_time": "2022-02-23T11:44:48.765Z"
   },
   {
    "duration": 1120,
    "start_time": "2022-02-23T11:45:28.117Z"
   },
   {
    "duration": 464,
    "start_time": "2022-02-23T11:45:29.239Z"
   },
   {
    "duration": 59,
    "start_time": "2022-02-23T11:45:29.708Z"
   },
   {
    "duration": 19,
    "start_time": "2022-02-23T11:45:29.769Z"
   },
   {
    "duration": 370,
    "start_time": "2022-02-23T11:45:29.790Z"
   },
   {
    "duration": 43,
    "start_time": "2022-02-23T11:45:30.162Z"
   },
   {
    "duration": 1082,
    "start_time": "2022-02-23T11:45:30.209Z"
   },
   {
    "duration": 26,
    "start_time": "2022-02-23T11:45:31.293Z"
   },
   {
    "duration": 87,
    "start_time": "2022-02-23T11:45:31.321Z"
   },
   {
    "duration": 5,
    "start_time": "2022-02-23T11:45:31.409Z"
   },
   {
    "duration": 35,
    "start_time": "2022-02-23T11:45:31.416Z"
   },
   {
    "duration": 37,
    "start_time": "2022-02-23T11:45:31.452Z"
   },
   {
    "duration": 68,
    "start_time": "2022-02-23T11:45:31.491Z"
   },
   {
    "duration": 15,
    "start_time": "2022-02-23T11:45:31.561Z"
   },
   {
    "duration": 221,
    "start_time": "2022-02-23T11:45:31.578Z"
   },
   {
    "duration": 95,
    "start_time": "2022-02-23T11:45:31.801Z"
   },
   {
    "duration": 8,
    "start_time": "2022-02-23T11:45:31.898Z"
   },
   {
    "duration": 60,
    "start_time": "2022-02-23T11:45:31.907Z"
   },
   {
    "duration": 7,
    "start_time": "2022-02-23T11:45:31.969Z"
   },
   {
    "duration": 45,
    "start_time": "2022-02-23T11:45:31.977Z"
   },
   {
    "duration": 3,
    "start_time": "2022-02-23T11:45:32.024Z"
   },
   {
    "duration": 30,
    "start_time": "2022-02-23T11:45:32.030Z"
   },
   {
    "duration": 18,
    "start_time": "2022-02-23T11:45:32.062Z"
   },
   {
    "duration": 9,
    "start_time": "2022-02-23T11:45:32.082Z"
   },
   {
    "duration": 4,
    "start_time": "2022-02-23T11:45:32.093Z"
   },
   {
    "duration": 15,
    "start_time": "2022-02-23T11:45:32.098Z"
   },
   {
    "duration": 82,
    "start_time": "2022-02-23T11:45:32.115Z"
   },
   {
    "duration": 15,
    "start_time": "2022-02-23T11:45:32.199Z"
   },
   {
    "duration": 8,
    "start_time": "2022-02-23T11:45:32.215Z"
   },
   {
    "duration": 62,
    "start_time": "2022-02-23T11:45:32.225Z"
   },
   {
    "duration": 13,
    "start_time": "2022-02-23T11:45:32.290Z"
   },
   {
    "duration": 8,
    "start_time": "2022-02-23T11:45:32.305Z"
   },
   {
    "duration": 244,
    "start_time": "2022-02-23T11:45:32.314Z"
   },
   {
    "duration": 66,
    "start_time": "2022-02-23T11:45:32.560Z"
   },
   {
    "duration": 32,
    "start_time": "2022-02-23T11:45:32.628Z"
   },
   {
    "duration": 11,
    "start_time": "2022-02-23T11:45:32.662Z"
   },
   {
    "duration": 52,
    "start_time": "2022-02-23T11:45:32.675Z"
   },
   {
    "duration": 82,
    "start_time": "2022-02-23T11:45:32.728Z"
   },
   {
    "duration": 314,
    "start_time": "2022-02-23T11:45:32.812Z"
   },
   {
    "duration": 308,
    "start_time": "2022-02-23T11:45:33.128Z"
   },
   {
    "duration": 352,
    "start_time": "2022-02-23T11:45:33.437Z"
   },
   {
    "duration": 377,
    "start_time": "2022-02-23T11:45:33.791Z"
   },
   {
    "duration": 5,
    "start_time": "2022-02-23T11:45:34.169Z"
   },
   {
    "duration": 56,
    "start_time": "2022-02-23T11:45:34.176Z"
   },
   {
    "duration": 74,
    "start_time": "2022-02-23T11:45:34.234Z"
   },
   {
    "duration": 5,
    "start_time": "2022-02-23T11:45:34.310Z"
   },
   {
    "duration": 73,
    "start_time": "2022-02-23T11:45:34.317Z"
   },
   {
    "duration": 72,
    "start_time": "2022-02-23T11:45:34.392Z"
   },
   {
    "duration": 15,
    "start_time": "2022-02-23T11:46:48.173Z"
   },
   {
    "duration": 263,
    "start_time": "2022-02-23T11:47:03.213Z"
   },
   {
    "duration": 265,
    "start_time": "2022-02-23T11:50:42.276Z"
   },
   {
    "duration": 189,
    "start_time": "2022-02-23T11:50:52.794Z"
   },
   {
    "duration": 5,
    "start_time": "2022-02-23T11:51:59.712Z"
   },
   {
    "duration": 220,
    "start_time": "2022-02-23T11:57:15.530Z"
   },
   {
    "duration": 215,
    "start_time": "2022-02-23T11:58:28.714Z"
   },
   {
    "duration": 229,
    "start_time": "2022-02-23T11:59:03.216Z"
   },
   {
    "duration": 12,
    "start_time": "2022-02-23T11:59:06.474Z"
   },
   {
    "duration": 12,
    "start_time": "2022-02-23T12:08:08.603Z"
   },
   {
    "duration": 412,
    "start_time": "2022-02-23T12:10:58.336Z"
   },
   {
    "duration": 7,
    "start_time": "2022-02-23T12:11:04.664Z"
   },
   {
    "duration": 55,
    "start_time": "2022-02-23T12:12:58.095Z"
   },
   {
    "duration": 1096,
    "start_time": "2022-02-23T12:20:41.163Z"
   },
   {
    "duration": 329,
    "start_time": "2022-02-23T12:20:42.261Z"
   },
   {
    "duration": 44,
    "start_time": "2022-02-23T12:20:42.592Z"
   },
   {
    "duration": 31,
    "start_time": "2022-02-23T12:20:42.638Z"
   },
   {
    "duration": 322,
    "start_time": "2022-02-23T12:20:42.671Z"
   },
   {
    "duration": 33,
    "start_time": "2022-02-23T12:20:42.995Z"
   },
   {
    "duration": 1765,
    "start_time": "2022-02-23T12:20:43.030Z"
   },
   {
    "duration": 39,
    "start_time": "2022-02-23T12:20:44.799Z"
   },
   {
    "duration": 52,
    "start_time": "2022-02-23T12:20:44.841Z"
   },
   {
    "duration": 4,
    "start_time": "2022-02-23T12:20:44.895Z"
   },
   {
    "duration": 12,
    "start_time": "2022-02-23T12:20:44.901Z"
   },
   {
    "duration": 10,
    "start_time": "2022-02-23T12:20:44.914Z"
   },
   {
    "duration": 94,
    "start_time": "2022-02-23T12:20:44.926Z"
   },
   {
    "duration": 17,
    "start_time": "2022-02-23T12:20:45.022Z"
   },
   {
    "duration": 231,
    "start_time": "2022-02-23T12:20:45.041Z"
   },
   {
    "duration": 94,
    "start_time": "2022-02-23T12:20:45.273Z"
   },
   {
    "duration": 7,
    "start_time": "2022-02-23T12:20:45.369Z"
   },
   {
    "duration": 54,
    "start_time": "2022-02-23T12:20:45.378Z"
   },
   {
    "duration": 29,
    "start_time": "2022-02-23T12:20:45.434Z"
   },
   {
    "duration": 44,
    "start_time": "2022-02-23T12:20:45.465Z"
   },
   {
    "duration": 3,
    "start_time": "2022-02-23T12:20:45.511Z"
   },
   {
    "duration": 12,
    "start_time": "2022-02-23T12:20:45.516Z"
   },
   {
    "duration": 19,
    "start_time": "2022-02-23T12:20:45.559Z"
   },
   {
    "duration": 9,
    "start_time": "2022-02-23T12:20:45.580Z"
   },
   {
    "duration": 4,
    "start_time": "2022-02-23T12:20:45.591Z"
   },
   {
    "duration": 14,
    "start_time": "2022-02-23T12:20:45.597Z"
   },
   {
    "duration": 84,
    "start_time": "2022-02-23T12:20:45.613Z"
   },
   {
    "duration": 15,
    "start_time": "2022-02-23T12:20:45.699Z"
   },
   {
    "duration": 4,
    "start_time": "2022-02-23T12:20:45.716Z"
   },
   {
    "duration": 53,
    "start_time": "2022-02-23T12:20:45.722Z"
   },
   {
    "duration": 16,
    "start_time": "2022-02-23T12:20:45.777Z"
   },
   {
    "duration": 4,
    "start_time": "2022-02-23T12:20:45.795Z"
   },
   {
    "duration": 233,
    "start_time": "2022-02-23T12:20:45.801Z"
   },
   {
    "duration": 11,
    "start_time": "2022-02-23T12:20:46.036Z"
   },
   {
    "duration": 59,
    "start_time": "2022-02-23T12:20:46.059Z"
   },
   {
    "duration": 12,
    "start_time": "2022-02-23T12:20:46.119Z"
   },
   {
    "duration": 38,
    "start_time": "2022-02-23T12:20:46.132Z"
   },
   {
    "duration": 52,
    "start_time": "2022-02-23T12:20:46.171Z"
   },
   {
    "duration": 81,
    "start_time": "2022-02-23T12:20:46.225Z"
   },
   {
    "duration": 335,
    "start_time": "2022-02-23T12:20:46.308Z"
   },
   {
    "duration": 331,
    "start_time": "2022-02-23T12:20:46.645Z"
   },
   {
    "duration": 283,
    "start_time": "2022-02-23T12:20:46.978Z"
   },
   {
    "duration": 372,
    "start_time": "2022-02-23T12:20:47.263Z"
   },
   {
    "duration": 6,
    "start_time": "2022-02-23T12:20:47.637Z"
   },
   {
    "duration": 62,
    "start_time": "2022-02-23T12:20:47.645Z"
   },
   {
    "duration": 75,
    "start_time": "2022-02-23T12:20:47.709Z"
   },
   {
    "duration": 5,
    "start_time": "2022-02-23T12:20:47.786Z"
   },
   {
    "duration": 48,
    "start_time": "2022-02-23T12:20:47.793Z"
   },
   {
    "duration": 54,
    "start_time": "2022-02-23T12:20:47.860Z"
   },
   {
    "duration": 54,
    "start_time": "2022-02-23T12:55:29.908Z"
   },
   {
    "duration": 968,
    "start_time": "2022-03-06T04:14:01.940Z"
   },
   {
    "duration": 349,
    "start_time": "2022-03-06T04:14:02.910Z"
   },
   {
    "duration": 39,
    "start_time": "2022-03-06T04:14:03.261Z"
   },
   {
    "duration": 12,
    "start_time": "2022-03-06T04:14:03.302Z"
   },
   {
    "duration": 310,
    "start_time": "2022-03-06T04:14:03.333Z"
   },
   {
    "duration": 29,
    "start_time": "2022-03-06T04:14:03.644Z"
   },
   {
    "duration": 248,
    "start_time": "2022-03-06T04:14:03.675Z"
   },
   {
    "duration": 29,
    "start_time": "2022-03-06T04:14:03.925Z"
   },
   {
    "duration": 65,
    "start_time": "2022-03-06T04:14:03.956Z"
   },
   {
    "duration": 5,
    "start_time": "2022-03-06T04:14:04.022Z"
   },
   {
    "duration": 10,
    "start_time": "2022-03-06T04:14:04.029Z"
   },
   {
    "duration": 15,
    "start_time": "2022-03-06T04:14:04.041Z"
   },
   {
    "duration": 1767,
    "start_time": "2022-03-06T04:14:04.057Z"
   },
   {
    "duration": 16,
    "start_time": "2022-03-06T04:14:05.825Z"
   },
   {
    "duration": 194,
    "start_time": "2022-03-06T04:14:05.843Z"
   },
   {
    "duration": 72,
    "start_time": "2022-03-06T04:14:06.038Z"
   },
   {
    "duration": 24,
    "start_time": "2022-03-06T04:14:06.112Z"
   },
   {
    "duration": 45,
    "start_time": "2022-03-06T04:14:06.138Z"
   },
   {
    "duration": 5,
    "start_time": "2022-03-06T04:14:06.185Z"
   },
   {
    "duration": 61,
    "start_time": "2022-03-06T04:14:06.192Z"
   },
   {
    "duration": 3,
    "start_time": "2022-03-06T04:14:06.254Z"
   },
   {
    "duration": 9,
    "start_time": "2022-03-06T04:14:06.258Z"
   },
   {
    "duration": 17,
    "start_time": "2022-03-06T04:14:06.270Z"
   },
   {
    "duration": 9,
    "start_time": "2022-03-06T04:14:06.289Z"
   },
   {
    "duration": 4,
    "start_time": "2022-03-06T04:14:06.299Z"
   },
   {
    "duration": 14,
    "start_time": "2022-03-06T04:14:06.332Z"
   },
   {
    "duration": 44,
    "start_time": "2022-03-06T04:14:06.347Z"
   },
   {
    "duration": 14,
    "start_time": "2022-03-06T04:14:06.393Z"
   },
   {
    "duration": 5,
    "start_time": "2022-03-06T04:14:06.432Z"
   },
   {
    "duration": 24,
    "start_time": "2022-03-06T04:14:06.439Z"
   },
   {
    "duration": 15,
    "start_time": "2022-03-06T04:14:06.464Z"
   },
   {
    "duration": 4,
    "start_time": "2022-03-06T04:14:06.480Z"
   },
   {
    "duration": 228,
    "start_time": "2022-03-06T04:14:06.485Z"
   },
   {
    "duration": 18,
    "start_time": "2022-03-06T04:14:06.715Z"
   },
   {
    "duration": 53,
    "start_time": "2022-03-06T04:14:06.734Z"
   },
   {
    "duration": 10,
    "start_time": "2022-03-06T04:14:06.789Z"
   },
   {
    "duration": 39,
    "start_time": "2022-03-06T04:14:06.801Z"
   },
   {
    "duration": 45,
    "start_time": "2022-03-06T04:14:06.842Z"
   },
   {
    "duration": 68,
    "start_time": "2022-03-06T04:14:06.889Z"
   },
   {
    "duration": 279,
    "start_time": "2022-03-06T04:14:06.959Z"
   },
   {
    "duration": 257,
    "start_time": "2022-03-06T04:14:07.240Z"
   },
   {
    "duration": 236,
    "start_time": "2022-03-06T04:14:07.499Z"
   },
   {
    "duration": 296,
    "start_time": "2022-03-06T04:14:07.737Z"
   },
   {
    "duration": 5,
    "start_time": "2022-03-06T04:14:08.034Z"
   },
   {
    "duration": 47,
    "start_time": "2022-03-06T04:14:08.041Z"
   },
   {
    "duration": 77,
    "start_time": "2022-03-06T04:14:08.090Z"
   },
   {
    "duration": 5,
    "start_time": "2022-03-06T04:14:08.169Z"
   },
   {
    "duration": 64,
    "start_time": "2022-03-06T04:14:08.176Z"
   },
   {
    "duration": 48,
    "start_time": "2022-03-06T04:14:08.242Z"
   },
   {
    "duration": 1488,
    "start_time": "2022-03-06T10:49:23.848Z"
   },
   {
    "duration": 112,
    "start_time": "2022-03-06T10:50:51.811Z"
   },
   {
    "duration": 376,
    "start_time": "2022-03-06T10:53:10.895Z"
   },
   {
    "duration": 1351,
    "start_time": "2022-03-06T10:53:21.278Z"
   },
   {
    "duration": 457,
    "start_time": "2022-03-06T10:53:22.632Z"
   },
   {
    "duration": 65,
    "start_time": "2022-03-06T10:53:23.092Z"
   },
   {
    "duration": 31,
    "start_time": "2022-03-06T10:53:23.160Z"
   },
   {
    "duration": 380,
    "start_time": "2022-03-06T10:53:23.194Z"
   },
   {
    "duration": 45,
    "start_time": "2022-03-06T10:53:23.577Z"
   },
   {
    "duration": 267,
    "start_time": "2022-03-06T10:53:23.625Z"
   },
   {
    "duration": 56,
    "start_time": "2022-03-06T10:53:23.895Z"
   },
   {
    "duration": 1686,
    "start_time": "2022-03-06T10:53:23.953Z"
   },
   {
    "duration": 7,
    "start_time": "2022-03-06T10:53:25.641Z"
   },
   {
    "duration": 17,
    "start_time": "2022-03-06T10:53:25.651Z"
   },
   {
    "duration": 17,
    "start_time": "2022-03-06T10:53:25.671Z"
   },
   {
    "duration": 98,
    "start_time": "2022-03-06T10:53:25.690Z"
   },
   {
    "duration": 26,
    "start_time": "2022-03-06T10:53:25.790Z"
   },
   {
    "duration": 313,
    "start_time": "2022-03-06T10:53:25.818Z"
   },
   {
    "duration": 141,
    "start_time": "2022-03-06T10:53:26.134Z"
   },
   {
    "duration": 19,
    "start_time": "2022-03-06T10:53:26.279Z"
   },
   {
    "duration": 113,
    "start_time": "2022-03-06T10:53:26.304Z"
   },
   {
    "duration": 12,
    "start_time": "2022-03-06T10:53:26.421Z"
   },
   {
    "duration": 107,
    "start_time": "2022-03-06T10:53:26.436Z"
   },
   {
    "duration": 5,
    "start_time": "2022-03-06T10:53:26.546Z"
   },
   {
    "duration": 32,
    "start_time": "2022-03-06T10:53:26.554Z"
   },
   {
    "duration": 36,
    "start_time": "2022-03-06T10:53:26.589Z"
   },
   {
    "duration": 18,
    "start_time": "2022-03-06T10:53:26.628Z"
   },
   {
    "duration": 7,
    "start_time": "2022-03-06T10:53:26.673Z"
   },
   {
    "duration": 24,
    "start_time": "2022-03-06T10:53:26.682Z"
   },
   {
    "duration": 101,
    "start_time": "2022-03-06T10:53:26.708Z"
   },
   {
    "duration": 21,
    "start_time": "2022-03-06T10:53:26.811Z"
   },
   {
    "duration": 6,
    "start_time": "2022-03-06T10:53:26.834Z"
   },
   {
    "duration": 62,
    "start_time": "2022-03-06T10:53:26.843Z"
   },
   {
    "duration": 24,
    "start_time": "2022-03-06T10:53:26.908Z"
   },
   {
    "duration": 6,
    "start_time": "2022-03-06T10:53:26.934Z"
   },
   {
    "duration": 391,
    "start_time": "2022-03-06T10:53:26.942Z"
   },
   {
    "duration": 15,
    "start_time": "2022-03-06T10:53:27.335Z"
   },
   {
    "duration": 104,
    "start_time": "2022-03-06T10:53:27.352Z"
   },
   {
    "duration": 13,
    "start_time": "2022-03-06T10:53:27.473Z"
   },
   {
    "duration": 18,
    "start_time": "2022-03-06T10:53:27.488Z"
   },
   {
    "duration": 93,
    "start_time": "2022-03-06T10:53:27.508Z"
   },
   {
    "duration": 97,
    "start_time": "2022-03-06T10:53:27.603Z"
   },
   {
    "duration": 509,
    "start_time": "2022-03-06T10:53:27.703Z"
   },
   {
    "duration": 466,
    "start_time": "2022-03-06T10:53:28.215Z"
   },
   {
    "duration": 408,
    "start_time": "2022-03-06T10:53:28.683Z"
   },
   {
    "duration": 584,
    "start_time": "2022-03-06T10:53:29.094Z"
   },
   {
    "duration": 9,
    "start_time": "2022-03-06T10:53:29.681Z"
   },
   {
    "duration": 109,
    "start_time": "2022-03-06T10:53:29.693Z"
   },
   {
    "duration": 152,
    "start_time": "2022-03-06T10:53:29.805Z"
   },
   {
    "duration": 15,
    "start_time": "2022-03-06T10:53:29.960Z"
   },
   {
    "duration": 79,
    "start_time": "2022-03-06T10:53:29.978Z"
   },
   {
    "duration": 96,
    "start_time": "2022-03-06T10:53:30.060Z"
   },
   {
    "duration": 73,
    "start_time": "2022-03-06T10:55:11.946Z"
   }
  ],
  "kernelspec": {
   "display_name": "Python 3 (ipykernel)",
   "language": "python",
   "name": "python3"
  },
  "language_info": {
   "codemirror_mode": {
    "name": "ipython",
    "version": 3
   },
   "file_extension": ".py",
   "mimetype": "text/x-python",
   "name": "python",
   "nbconvert_exporter": "python",
   "pygments_lexer": "ipython3",
   "version": "3.9.5"
  },
  "toc": {
   "base_numbering": 1,
   "nav_menu": {},
   "number_sections": true,
   "sideBar": true,
   "skip_h1_title": true,
   "title_cell": "Содержание",
   "title_sidebar": "Contents",
   "toc_cell": true,
   "toc_position": {
    "height": "calc(100% - 180px)",
    "left": "10px",
    "top": "150px",
    "width": "215.391px"
   },
   "toc_section_display": true,
   "toc_window_display": true
  }
 },
 "nbformat": 4,
 "nbformat_minor": 2
}
