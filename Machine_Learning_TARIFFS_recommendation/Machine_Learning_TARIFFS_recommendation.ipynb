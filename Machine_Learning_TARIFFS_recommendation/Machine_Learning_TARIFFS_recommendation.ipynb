{
 "cells": [
  {
   "cell_type": "markdown",
   "metadata": {},
   "source": [
    "<a id='startpage'></a>"
   ]
  },
  {
   "cell_type": "markdown",
   "metadata": {},
   "source": [
    "# Рекомендация тарифов"
   ]
  },
  {
   "cell_type": "markdown",
   "metadata": {},
   "source": [
    "В вашем распоряжении данные о поведении клиентов, которые уже перешли на эти тарифы (из проекта курса «Статистический анализ данных»). Нужно построить модель для задачи классификации, которая выберет подходящий тариф. Предобработка данных не понадобится — вы её уже сделали.\n",
    "\n",
    "Постройте модель с максимально большим значением *accuracy*. Чтобы сдать проект успешно, нужно довести долю правильных ответов по крайней мере до 0.75. Проверьте *accuracy* на тестовой выборке самостоятельно."
   ]
  },
  {
   "cell_type": "markdown",
   "metadata": {},
   "source": [
    "## Изучение данных"
   ]
  },
  {
   "cell_type": "code",
   "execution_count": 3,
   "metadata": {},
   "outputs": [],
   "source": [
    "import pandas as pd\n",
    "\n",
    "from IPython.display import display\n",
    "\n",
    "from sklearn.metrics import accuracy_score \n",
    "from sklearn.model_selection import train_test_split\n",
    "from sklearn.metrics import mean_squared_error\n",
    "\n",
    "from sklearn.tree import DecisionTreeClassifier\n",
    "from sklearn.ensemble import RandomForestClassifier\n",
    "from sklearn.linear_model import LogisticRegression\n",
    "from sklearn.dummy import DummyClassifier\n",
    "from sklearn.model_selection import GridSearchCV\n",
    "\n",
    "import warnings \n",
    "warnings.simplefilter(action='ignore', category=FutureWarning)"
   ]
  },
  {
   "cell_type": "code",
   "execution_count": 4,
   "metadata": {
    "scrolled": true
   },
   "outputs": [
    {
     "data": {
      "text/html": [
       "<div>\n",
       "<style scoped>\n",
       "    .dataframe tbody tr th:only-of-type {\n",
       "        vertical-align: middle;\n",
       "    }\n",
       "\n",
       "    .dataframe tbody tr th {\n",
       "        vertical-align: top;\n",
       "    }\n",
       "\n",
       "    .dataframe thead th {\n",
       "        text-align: right;\n",
       "    }\n",
       "</style>\n",
       "<table border=\"1\" class=\"dataframe\">\n",
       "  <thead>\n",
       "    <tr style=\"text-align: right;\">\n",
       "      <th></th>\n",
       "      <th>calls</th>\n",
       "      <th>minutes</th>\n",
       "      <th>messages</th>\n",
       "      <th>mb_used</th>\n",
       "      <th>is_ultra</th>\n",
       "    </tr>\n",
       "  </thead>\n",
       "  <tbody>\n",
       "    <tr>\n",
       "      <th>3209</th>\n",
       "      <td>122.0</td>\n",
       "      <td>910.98</td>\n",
       "      <td>20.0</td>\n",
       "      <td>35124.90</td>\n",
       "      <td>1</td>\n",
       "    </tr>\n",
       "    <tr>\n",
       "      <th>3210</th>\n",
       "      <td>25.0</td>\n",
       "      <td>190.36</td>\n",
       "      <td>0.0</td>\n",
       "      <td>3275.61</td>\n",
       "      <td>0</td>\n",
       "    </tr>\n",
       "    <tr>\n",
       "      <th>3211</th>\n",
       "      <td>97.0</td>\n",
       "      <td>634.44</td>\n",
       "      <td>70.0</td>\n",
       "      <td>13974.06</td>\n",
       "      <td>0</td>\n",
       "    </tr>\n",
       "    <tr>\n",
       "      <th>3212</th>\n",
       "      <td>64.0</td>\n",
       "      <td>462.32</td>\n",
       "      <td>90.0</td>\n",
       "      <td>31239.78</td>\n",
       "      <td>0</td>\n",
       "    </tr>\n",
       "    <tr>\n",
       "      <th>3213</th>\n",
       "      <td>80.0</td>\n",
       "      <td>566.09</td>\n",
       "      <td>6.0</td>\n",
       "      <td>29480.52</td>\n",
       "      <td>1</td>\n",
       "    </tr>\n",
       "  </tbody>\n",
       "</table>\n",
       "</div>"
      ],
      "text/plain": [
       "      calls  minutes  messages   mb_used  is_ultra\n",
       "3209  122.0   910.98      20.0  35124.90         1\n",
       "3210   25.0   190.36       0.0   3275.61         0\n",
       "3211   97.0   634.44      70.0  13974.06         0\n",
       "3212   64.0   462.32      90.0  31239.78         0\n",
       "3213   80.0   566.09       6.0  29480.52         1"
      ]
     },
     "execution_count": 4,
     "metadata": {},
     "output_type": "execute_result"
    }
   ],
   "source": [
    "df = pd.read_csv('/datasets/users_behavior.csv')\n",
    "df.tail()"
   ]
  },
  {
   "cell_type": "markdown",
   "metadata": {},
   "source": [
    "### Описание данных\n",
    "*\tсalls — количество звонков,\n",
    "*\tminutes — суммарная длительность звонков в минутах,\n",
    "*\tmessages — количество sms-сообщений,\n",
    "*\tmb_used — израсходованный интернет-трафик в Мб,\n",
    "*\tis_ultra — каким тарифом пользовался в течение месяца («Ультра» — 1, «Смарт» — 0).\n",
    "\n",
    "Каждый объект в наборе данных — это информация о поведении одного пользователя за месяц."
   ]
  },
  {
   "cell_type": "markdown",
   "metadata": {},
   "source": [
    "Целевая переменная находится в столбце is_ultra, данные категориальные (бинарный целевой признак). Признаки - в остальных столбцах."
   ]
  },
  {
   "cell_type": "markdown",
   "metadata": {},
   "source": [
    "## Разбивка данных на выборки"
   ]
  },
  {
   "cell_type": "markdown",
   "metadata": {},
   "source": [
    "Для более корректной работы моделей необходимо убрать лишние признаки, коррелирующие между собой.\n",
    "У нас есть столбцы `calls` и `minutes`, которые взаимосвязаны. Для оценки силы этой взаимосвязи, посмотрим  на коэффициент корреляции."
   ]
  },
  {
   "cell_type": "code",
   "execution_count": 5,
   "metadata": {},
   "outputs": [
    {
     "data": {
      "text/plain": [
       "0.9820832355742293"
      ]
     },
     "execution_count": 5,
     "metadata": {},
     "output_type": "execute_result"
    }
   ],
   "source": [
    "df['calls'].corr(df['minutes'])"
   ]
  },
  {
   "cell_type": "markdown",
   "metadata": {},
   "source": [
    "Коэффициент корреляции по шкале Чеддока очень высокий. `calls` и `minutes` - коллинеарные признаки. Удалим `calls`."
   ]
  },
  {
   "cell_type": "code",
   "execution_count": 6,
   "metadata": {},
   "outputs": [
    {
     "name": "stdout",
     "output_type": "stream",
     "text": [
      "<class 'pandas.core.frame.DataFrame'>\n",
      "RangeIndex: 3214 entries, 0 to 3213\n",
      "Data columns (total 4 columns):\n",
      " #   Column    Non-Null Count  Dtype  \n",
      "---  ------    --------------  -----  \n",
      " 0   minutes   3214 non-null   float64\n",
      " 1   messages  3214 non-null   float64\n",
      " 2   mb_used   3214 non-null   float64\n",
      " 3   is_ultra  3214 non-null   int64  \n",
      "dtypes: float64(3), int64(1)\n",
      "memory usage: 100.6 KB\n"
     ]
    }
   ],
   "source": [
    "df = df.drop(['calls'], axis=1)\n",
    "df.info()"
   ]
  },
  {
   "cell_type": "markdown",
   "metadata": {},
   "source": [
    "### Обучающая, валидационная и тестовая выборки\n",
    "\n",
    "Разделим наши данные в соотношении 60/20/20 - обучающая/валидационная/тестовая выборки."
   ]
  },
  {
   "cell_type": "code",
   "execution_count": 7,
   "metadata": {
    "scrolled": true
   },
   "outputs": [
    {
     "name": "stdout",
     "output_type": "stream",
     "text": [
      "(1928, 4)\n",
      "(643, 4)\n",
      "(643, 4)\n"
     ]
    }
   ],
   "source": [
    "df_train, df_valid = train_test_split(df, test_size=0.40, random_state=12345) # отделим 40% данных от обучающей выборки\n",
    "df_valid, df_test = train_test_split(df_valid, test_size=0.50, random_state=12345) # разделим поровну данные для валидационной и тестовой выборки\n",
    "print(df_train.shape)\n",
    "print(df_valid.shape)\n",
    "print(df_test.shape)"
   ]
  },
  {
   "cell_type": "code",
   "execution_count": 8,
   "metadata": {},
   "outputs": [],
   "source": [
    "features_train = df_train.drop(['is_ultra'],axis = 1) # Переменные для обучающей выборки\n",
    "target_train = df_train['is_ultra']\n",
    "\n",
    "features_valid = df_valid.drop(['is_ultra'],axis = 1) # Переменные для валидационной выборки\n",
    "target_valid = df_valid['is_ultra']\n",
    "\n",
    "features_test = df_test.drop(['is_ultra'],axis = 1) # Переменные для тестовой выборки\n",
    "target_test = df_test['is_ultra']"
   ]
  },
  {
   "cell_type": "markdown",
   "metadata": {},
   "source": [
    "## Исследование моделей"
   ]
  },
  {
   "cell_type": "markdown",
   "metadata": {},
   "source": [
    "Перед нами задача бинарной классификации. Исходя из этого исследуемыми моделями будут:\n",
    "* \"Дерево решений\";\n",
    "* \"Случайный лес\";\n",
    "* \"Метод логической регрессии\"."
   ]
  },
  {
   "cell_type": "markdown",
   "metadata": {},
   "source": [
    "### Модель \"Дерево решений\""
   ]
  },
  {
   "cell_type": "markdown",
   "metadata": {},
   "source": [
    "Создадим и обучим модель, выбрав произвольный параметр `max_depth`, равным 15.\n",
    "Для постоянства результата зададим `random_state`, равный 12345."
   ]
  },
  {
   "cell_type": "code",
   "execution_count": 9,
   "metadata": {},
   "outputs": [
    {
     "name": "stdout",
     "output_type": "stream",
     "text": [
      "Accuracy: 0.7449\n"
     ]
    }
   ],
   "source": [
    "model = DecisionTreeClassifier(random_state=12345, max_depth=15)\n",
    "model.fit(features_train, target_train) # обучим модель\n",
    "predictions = model.predict(features_valid) # получим предсказания модели\n",
    "result = accuracy_score(target_valid, predictions).round(4) # посчитаем качество модели, округлим результат\n",
    "print('Accuracy:', result)"
   ]
  },
  {
   "cell_type": "markdown",
   "metadata": {},
   "source": [
    "Подберем наилучший гиперпараметр для модели, варьируя с `max_depth` в диапазоне (1, 60):"
   ]
  },
  {
   "cell_type": "code",
   "execution_count": 10,
   "metadata": {
    "scrolled": true
   },
   "outputs": [
    {
     "name": "stdout",
     "output_type": "stream",
     "text": [
      "Accuracy лучшей модели DecisionTree: 0.7885 \n",
      "Лучшая модель: DecisionTreeClassifier(max_depth=4, random_state=12345)\n"
     ]
    }
   ],
   "source": [
    "best_model = None\n",
    "best_result = 0\n",
    "for depth in range(1, 60):\n",
    "    model_dt = DecisionTreeClassifier(random_state=12345, max_depth=depth) # модель с заданной глубиной дерева\n",
    "    model_dt.fit(features_train, target_train) # обучим модель\n",
    "    predictions = model_dt.predict(features_valid) # получим предсказания модели\n",
    "    result = accuracy_score(target_valid, predictions) # посчитаем качество модели\n",
    "    if result > best_result:\n",
    "        best_model = model_dt\n",
    "        best_result = result\n",
    "        \n",
    "print(\"Accuracy лучшей модели DecisionTree:\", best_result.round(4), \"\\nЛучшая модель:\", best_model)"
   ]
  },
  {
   "cell_type": "markdown",
   "metadata": {},
   "source": [
    "### Модель \"Случайный лес\""
   ]
  },
  {
   "cell_type": "markdown",
   "metadata": {},
   "source": [
    "Создадим и обучим модель `RandomForest`, задав гиперпараметры по умолчанию."
   ]
  },
  {
   "cell_type": "code",
   "execution_count": 11,
   "metadata": {},
   "outputs": [
    {
     "name": "stdout",
     "output_type": "stream",
     "text": [
      "Accuracy: 0.7792\n"
     ]
    }
   ],
   "source": [
    "model = RandomForestClassifier(random_state=12345)\n",
    "model.fit(features_train, target_train)\n",
    "result = model.score(features_valid, target_valid).round(4)\n",
    "print('Accuracy:', result)"
   ]
  },
  {
   "cell_type": "markdown",
   "metadata": {},
   "source": [
    "Подберем гиперпараметры для модели: `n_estimators`, `max_depth`:"
   ]
  },
  {
   "cell_type": "code",
   "execution_count": 12,
   "metadata": {},
   "outputs": [
    {
     "name": "stdout",
     "output_type": "stream",
     "text": [
      "Accuracy наилучшей модели RandomForest: 0.7994 \n",
      "Лучшая модель: RandomForestClassifier(max_depth=8, n_estimators=20, random_state=12345)\n"
     ]
    }
   ],
   "source": [
    "best_model = None\n",
    "best_result = 0\n",
    "\n",
    "for est in range(10, 61, 10):\n",
    "    for depth in range(1, 11):\n",
    "        model_rf = RandomForestClassifier(random_state=12345, n_estimators=est, max_depth=depth)\n",
    "        model_rf.fit(features_train, target_train) # обучим модель на тренировочной выборке\n",
    "        result = model_rf.score(features_valid, target_valid) # посчитаем качество модели на валидационной выборке\n",
    "        if result > best_result:\n",
    "            best_model = model_rf # сохраним наилучшую модель\n",
    "            best_result = result #  сохраним наилучшее значение метрики accuracy на валидационных данных\n",
    "print(\"Accuracy наилучшей модели RandomForest:\", best_result.round(4), \"\\nЛучшая модель:\", best_model)"
   ]
  },
  {
   "cell_type": "markdown",
   "metadata": {},
   "source": [
    "### Модель \"Логическая регрессия\""
   ]
  },
  {
   "cell_type": "markdown",
   "metadata": {},
   "source": [
    "Добавим дополнительные гиперпараметры: solver='lbfgs', который позволяет выбрать алгоритм, который будет строить модель и max_iter=1000 - максимальное количество итераций обучения."
   ]
  },
  {
   "cell_type": "code",
   "execution_count": 13,
   "metadata": {},
   "outputs": [
    {
     "name": "stdout",
     "output_type": "stream",
     "text": [
      "Accuracy модели LogisticRegression: 0.7076 \n",
      "Модель: LogisticRegression(max_iter=1000, random_state=12345)\n"
     ]
    }
   ],
   "source": [
    "model_lgr = LogisticRegression(random_state=12345, solver='lbfgs', max_iter=1000) \n",
    "model_lgr.fit(features_train, target_train) # обучим модель на тренировочной выборке\n",
    "result = model_lgr.score(features_valid, target_valid).round(4) # получим метрику качества модели на валидационной выборке\n",
    "\n",
    "print(\"Accuracy модели LogisticRegression:\", result, \"\\nМодель:\", model_lgr)"
   ]
  },
  {
   "cell_type": "markdown",
   "metadata": {},
   "source": [
    "### Вывод\n",
    "Мы обучили \"Дерево решений\", \"Случайный лес\" и \"Логическую регрессию\". Самое высокое значение доли правильных ответов `accuracy` показала модель \"Случайный лес\" - 0.79005. Следовательно, эта модель (из рассмотренных нами) наилучшим образом подходит для предсказания поставленной задачи."
   ]
  },
  {
   "cell_type": "code",
   "execution_count": 14,
   "metadata": {},
   "outputs": [
    {
     "name": "stdout",
     "output_type": "stream",
     "text": [
      "Fitting 5 folds for each of 32 candidates, totalling 160 fits\n",
      "[CV] END bootstrap=True, max_depth=80, max_features=2, min_samples_leaf=3, min_samples_split=8, n_estimators=50; total time=   0.2s\n",
      "[CV] END bootstrap=True, max_depth=80, max_features=2, min_samples_leaf=3, min_samples_split=8, n_estimators=50; total time=   0.2s\n",
      "[CV] END bootstrap=True, max_depth=80, max_features=2, min_samples_leaf=3, min_samples_split=8, n_estimators=50; total time=   0.2s\n",
      "[CV] END bootstrap=True, max_depth=80, max_features=2, min_samples_leaf=3, min_samples_split=8, n_estimators=50; total time=   0.2s\n",
      "[CV] END bootstrap=True, max_depth=80, max_features=2, min_samples_leaf=3, min_samples_split=8, n_estimators=50; total time=   0.2s\n",
      "[CV] END bootstrap=True, max_depth=80, max_features=2, min_samples_leaf=3, min_samples_split=8, n_estimators=100; total time=   0.3s\n",
      "[CV] END bootstrap=True, max_depth=80, max_features=2, min_samples_leaf=3, min_samples_split=8, n_estimators=100; total time=   0.3s\n",
      "[CV] END bootstrap=True, max_depth=80, max_features=2, min_samples_leaf=3, min_samples_split=8, n_estimators=100; total time=   0.4s\n",
      "[CV] END bootstrap=True, max_depth=80, max_features=2, min_samples_leaf=3, min_samples_split=8, n_estimators=100; total time=   0.4s\n",
      "[CV] END bootstrap=True, max_depth=80, max_features=2, min_samples_leaf=3, min_samples_split=8, n_estimators=100; total time=   0.3s\n",
      "[CV] END bootstrap=True, max_depth=80, max_features=2, min_samples_leaf=3, min_samples_split=10, n_estimators=50; total time=   0.2s\n",
      "[CV] END bootstrap=True, max_depth=80, max_features=2, min_samples_leaf=3, min_samples_split=10, n_estimators=50; total time=   0.2s\n",
      "[CV] END bootstrap=True, max_depth=80, max_features=2, min_samples_leaf=3, min_samples_split=10, n_estimators=50; total time=   0.2s\n",
      "[CV] END bootstrap=True, max_depth=80, max_features=2, min_samples_leaf=3, min_samples_split=10, n_estimators=50; total time=   0.2s\n",
      "[CV] END bootstrap=True, max_depth=80, max_features=2, min_samples_leaf=3, min_samples_split=10, n_estimators=50; total time=   0.2s\n",
      "[CV] END bootstrap=True, max_depth=80, max_features=2, min_samples_leaf=3, min_samples_split=10, n_estimators=100; total time=   0.3s\n",
      "[CV] END bootstrap=True, max_depth=80, max_features=2, min_samples_leaf=3, min_samples_split=10, n_estimators=100; total time=   0.3s\n",
      "[CV] END bootstrap=True, max_depth=80, max_features=2, min_samples_leaf=3, min_samples_split=10, n_estimators=100; total time=   0.3s\n",
      "[CV] END bootstrap=True, max_depth=80, max_features=2, min_samples_leaf=3, min_samples_split=10, n_estimators=100; total time=   0.3s\n",
      "[CV] END bootstrap=True, max_depth=80, max_features=2, min_samples_leaf=3, min_samples_split=10, n_estimators=100; total time=   0.3s\n",
      "[CV] END bootstrap=True, max_depth=80, max_features=2, min_samples_leaf=4, min_samples_split=8, n_estimators=50; total time=   0.2s\n",
      "[CV] END bootstrap=True, max_depth=80, max_features=2, min_samples_leaf=4, min_samples_split=8, n_estimators=50; total time=   0.2s\n",
      "[CV] END bootstrap=True, max_depth=80, max_features=2, min_samples_leaf=4, min_samples_split=8, n_estimators=50; total time=   0.2s\n",
      "[CV] END bootstrap=True, max_depth=80, max_features=2, min_samples_leaf=4, min_samples_split=8, n_estimators=50; total time=   0.2s\n",
      "[CV] END bootstrap=True, max_depth=80, max_features=2, min_samples_leaf=4, min_samples_split=8, n_estimators=50; total time=   0.2s\n",
      "[CV] END bootstrap=True, max_depth=80, max_features=2, min_samples_leaf=4, min_samples_split=8, n_estimators=100; total time=   0.3s\n",
      "[CV] END bootstrap=True, max_depth=80, max_features=2, min_samples_leaf=4, min_samples_split=8, n_estimators=100; total time=   0.3s\n",
      "[CV] END bootstrap=True, max_depth=80, max_features=2, min_samples_leaf=4, min_samples_split=8, n_estimators=100; total time=   0.3s\n",
      "[CV] END bootstrap=True, max_depth=80, max_features=2, min_samples_leaf=4, min_samples_split=8, n_estimators=100; total time=   0.3s\n",
      "[CV] END bootstrap=True, max_depth=80, max_features=2, min_samples_leaf=4, min_samples_split=8, n_estimators=100; total time=   0.3s\n",
      "[CV] END bootstrap=True, max_depth=80, max_features=2, min_samples_leaf=4, min_samples_split=10, n_estimators=50; total time=   0.2s\n",
      "[CV] END bootstrap=True, max_depth=80, max_features=2, min_samples_leaf=4, min_samples_split=10, n_estimators=50; total time=   0.2s\n",
      "[CV] END bootstrap=True, max_depth=80, max_features=2, min_samples_leaf=4, min_samples_split=10, n_estimators=50; total time=   0.2s\n",
      "[CV] END bootstrap=True, max_depth=80, max_features=2, min_samples_leaf=4, min_samples_split=10, n_estimators=50; total time=   0.2s\n",
      "[CV] END bootstrap=True, max_depth=80, max_features=2, min_samples_leaf=4, min_samples_split=10, n_estimators=50; total time=   0.2s\n",
      "[CV] END bootstrap=True, max_depth=80, max_features=2, min_samples_leaf=4, min_samples_split=10, n_estimators=100; total time=   0.3s\n",
      "[CV] END bootstrap=True, max_depth=80, max_features=2, min_samples_leaf=4, min_samples_split=10, n_estimators=100; total time=   0.3s\n",
      "[CV] END bootstrap=True, max_depth=80, max_features=2, min_samples_leaf=4, min_samples_split=10, n_estimators=100; total time=   0.3s\n",
      "[CV] END bootstrap=True, max_depth=80, max_features=2, min_samples_leaf=4, min_samples_split=10, n_estimators=100; total time=   0.3s\n",
      "[CV] END bootstrap=True, max_depth=80, max_features=2, min_samples_leaf=4, min_samples_split=10, n_estimators=100; total time=   0.3s\n",
      "[CV] END bootstrap=True, max_depth=80, max_features=3, min_samples_leaf=3, min_samples_split=8, n_estimators=50; total time=   0.2s\n",
      "[CV] END bootstrap=True, max_depth=80, max_features=3, min_samples_leaf=3, min_samples_split=8, n_estimators=50; total time=   0.2s\n",
      "[CV] END bootstrap=True, max_depth=80, max_features=3, min_samples_leaf=3, min_samples_split=8, n_estimators=50; total time=   0.2s\n",
      "[CV] END bootstrap=True, max_depth=80, max_features=3, min_samples_leaf=3, min_samples_split=8, n_estimators=50; total time=   0.2s\n",
      "[CV] END bootstrap=True, max_depth=80, max_features=3, min_samples_leaf=3, min_samples_split=8, n_estimators=50; total time=   0.2s\n",
      "[CV] END bootstrap=True, max_depth=80, max_features=3, min_samples_leaf=3, min_samples_split=8, n_estimators=100; total time=   0.4s\n",
      "[CV] END bootstrap=True, max_depth=80, max_features=3, min_samples_leaf=3, min_samples_split=8, n_estimators=100; total time=   0.4s\n",
      "[CV] END bootstrap=True, max_depth=80, max_features=3, min_samples_leaf=3, min_samples_split=8, n_estimators=100; total time=   0.4s\n",
      "[CV] END bootstrap=True, max_depth=80, max_features=3, min_samples_leaf=3, min_samples_split=8, n_estimators=100; total time=   0.4s\n",
      "[CV] END bootstrap=True, max_depth=80, max_features=3, min_samples_leaf=3, min_samples_split=8, n_estimators=100; total time=   0.4s\n",
      "[CV] END bootstrap=True, max_depth=80, max_features=3, min_samples_leaf=3, min_samples_split=10, n_estimators=50; total time=   0.2s\n",
      "[CV] END bootstrap=True, max_depth=80, max_features=3, min_samples_leaf=3, min_samples_split=10, n_estimators=50; total time=   0.2s\n",
      "[CV] END bootstrap=True, max_depth=80, max_features=3, min_samples_leaf=3, min_samples_split=10, n_estimators=50; total time=   0.2s\n",
      "[CV] END bootstrap=True, max_depth=80, max_features=3, min_samples_leaf=3, min_samples_split=10, n_estimators=50; total time=   0.2s\n",
      "[CV] END bootstrap=True, max_depth=80, max_features=3, min_samples_leaf=3, min_samples_split=10, n_estimators=50; total time=   0.2s\n",
      "[CV] END bootstrap=True, max_depth=80, max_features=3, min_samples_leaf=3, min_samples_split=10, n_estimators=100; total time=   0.5s\n",
      "[CV] END bootstrap=True, max_depth=80, max_features=3, min_samples_leaf=3, min_samples_split=10, n_estimators=100; total time=   0.4s\n",
      "[CV] END bootstrap=True, max_depth=80, max_features=3, min_samples_leaf=3, min_samples_split=10, n_estimators=100; total time=   0.4s\n",
      "[CV] END bootstrap=True, max_depth=80, max_features=3, min_samples_leaf=3, min_samples_split=10, n_estimators=100; total time=   0.4s\n",
      "[CV] END bootstrap=True, max_depth=80, max_features=3, min_samples_leaf=3, min_samples_split=10, n_estimators=100; total time=   0.4s\n",
      "[CV] END bootstrap=True, max_depth=80, max_features=3, min_samples_leaf=4, min_samples_split=8, n_estimators=50; total time=   0.2s\n",
      "[CV] END bootstrap=True, max_depth=80, max_features=3, min_samples_leaf=4, min_samples_split=8, n_estimators=50; total time=   0.2s\n",
      "[CV] END bootstrap=True, max_depth=80, max_features=3, min_samples_leaf=4, min_samples_split=8, n_estimators=50; total time=   0.2s\n",
      "[CV] END bootstrap=True, max_depth=80, max_features=3, min_samples_leaf=4, min_samples_split=8, n_estimators=50; total time=   0.2s\n",
      "[CV] END bootstrap=True, max_depth=80, max_features=3, min_samples_leaf=4, min_samples_split=8, n_estimators=50; total time=   0.2s\n",
      "[CV] END bootstrap=True, max_depth=80, max_features=3, min_samples_leaf=4, min_samples_split=8, n_estimators=100; total time=   0.4s\n",
      "[CV] END bootstrap=True, max_depth=80, max_features=3, min_samples_leaf=4, min_samples_split=8, n_estimators=100; total time=   0.4s\n",
      "[CV] END bootstrap=True, max_depth=80, max_features=3, min_samples_leaf=4, min_samples_split=8, n_estimators=100; total time=   0.4s\n",
      "[CV] END bootstrap=True, max_depth=80, max_features=3, min_samples_leaf=4, min_samples_split=8, n_estimators=100; total time=   0.4s\n",
      "[CV] END bootstrap=True, max_depth=80, max_features=3, min_samples_leaf=4, min_samples_split=8, n_estimators=100; total time=   0.4s\n",
      "[CV] END bootstrap=True, max_depth=80, max_features=3, min_samples_leaf=4, min_samples_split=10, n_estimators=50; total time=   0.2s\n",
      "[CV] END bootstrap=True, max_depth=80, max_features=3, min_samples_leaf=4, min_samples_split=10, n_estimators=50; total time=   0.2s\n",
      "[CV] END bootstrap=True, max_depth=80, max_features=3, min_samples_leaf=4, min_samples_split=10, n_estimators=50; total time=   0.2s\n",
      "[CV] END bootstrap=True, max_depth=80, max_features=3, min_samples_leaf=4, min_samples_split=10, n_estimators=50; total time=   0.2s\n",
      "[CV] END bootstrap=True, max_depth=80, max_features=3, min_samples_leaf=4, min_samples_split=10, n_estimators=50; total time=   0.2s\n",
      "[CV] END bootstrap=True, max_depth=80, max_features=3, min_samples_leaf=4, min_samples_split=10, n_estimators=100; total time=   0.4s\n",
      "[CV] END bootstrap=True, max_depth=80, max_features=3, min_samples_leaf=4, min_samples_split=10, n_estimators=100; total time=   0.4s\n",
      "[CV] END bootstrap=True, max_depth=80, max_features=3, min_samples_leaf=4, min_samples_split=10, n_estimators=100; total time=   0.4s\n",
      "[CV] END bootstrap=True, max_depth=80, max_features=3, min_samples_leaf=4, min_samples_split=10, n_estimators=100; total time=   0.4s\n",
      "[CV] END bootstrap=True, max_depth=80, max_features=3, min_samples_leaf=4, min_samples_split=10, n_estimators=100; total time=   0.4s\n",
      "[CV] END bootstrap=True, max_depth=90, max_features=2, min_samples_leaf=3, min_samples_split=8, n_estimators=50; total time=   0.2s\n",
      "[CV] END bootstrap=True, max_depth=90, max_features=2, min_samples_leaf=3, min_samples_split=8, n_estimators=50; total time=   0.2s\n",
      "[CV] END bootstrap=True, max_depth=90, max_features=2, min_samples_leaf=3, min_samples_split=8, n_estimators=50; total time=   0.2s\n",
      "[CV] END bootstrap=True, max_depth=90, max_features=2, min_samples_leaf=3, min_samples_split=8, n_estimators=50; total time=   0.2s\n",
      "[CV] END bootstrap=True, max_depth=90, max_features=2, min_samples_leaf=3, min_samples_split=8, n_estimators=50; total time=   0.2s\n",
      "[CV] END bootstrap=True, max_depth=90, max_features=2, min_samples_leaf=3, min_samples_split=8, n_estimators=100; total time=   0.3s\n",
      "[CV] END bootstrap=True, max_depth=90, max_features=2, min_samples_leaf=3, min_samples_split=8, n_estimators=100; total time=   0.3s\n",
      "[CV] END bootstrap=True, max_depth=90, max_features=2, min_samples_leaf=3, min_samples_split=8, n_estimators=100; total time=   0.3s\n",
      "[CV] END bootstrap=True, max_depth=90, max_features=2, min_samples_leaf=3, min_samples_split=8, n_estimators=100; total time=   0.3s\n",
      "[CV] END bootstrap=True, max_depth=90, max_features=2, min_samples_leaf=3, min_samples_split=8, n_estimators=100; total time=   0.3s\n",
      "[CV] END bootstrap=True, max_depth=90, max_features=2, min_samples_leaf=3, min_samples_split=10, n_estimators=50; total time=   0.2s\n",
      "[CV] END bootstrap=True, max_depth=90, max_features=2, min_samples_leaf=3, min_samples_split=10, n_estimators=50; total time=   0.2s\n",
      "[CV] END bootstrap=True, max_depth=90, max_features=2, min_samples_leaf=3, min_samples_split=10, n_estimators=50; total time=   0.2s\n",
      "[CV] END bootstrap=True, max_depth=90, max_features=2, min_samples_leaf=3, min_samples_split=10, n_estimators=50; total time=   0.2s\n",
      "[CV] END bootstrap=True, max_depth=90, max_features=2, min_samples_leaf=3, min_samples_split=10, n_estimators=50; total time=   0.2s\n",
      "[CV] END bootstrap=True, max_depth=90, max_features=2, min_samples_leaf=3, min_samples_split=10, n_estimators=100; total time=   0.3s\n",
      "[CV] END bootstrap=True, max_depth=90, max_features=2, min_samples_leaf=3, min_samples_split=10, n_estimators=100; total time=   0.3s\n",
      "[CV] END bootstrap=True, max_depth=90, max_features=2, min_samples_leaf=3, min_samples_split=10, n_estimators=100; total time=   0.3s\n",
      "[CV] END bootstrap=True, max_depth=90, max_features=2, min_samples_leaf=3, min_samples_split=10, n_estimators=100; total time=   0.3s\n",
      "[CV] END bootstrap=True, max_depth=90, max_features=2, min_samples_leaf=3, min_samples_split=10, n_estimators=100; total time=   0.3s\n",
      "[CV] END bootstrap=True, max_depth=90, max_features=2, min_samples_leaf=4, min_samples_split=8, n_estimators=50; total time=   0.2s\n",
      "[CV] END bootstrap=True, max_depth=90, max_features=2, min_samples_leaf=4, min_samples_split=8, n_estimators=50; total time=   0.2s\n",
      "[CV] END bootstrap=True, max_depth=90, max_features=2, min_samples_leaf=4, min_samples_split=8, n_estimators=50; total time=   0.2s\n",
      "[CV] END bootstrap=True, max_depth=90, max_features=2, min_samples_leaf=4, min_samples_split=8, n_estimators=50; total time=   0.2s\n",
      "[CV] END bootstrap=True, max_depth=90, max_features=2, min_samples_leaf=4, min_samples_split=8, n_estimators=50; total time=   0.2s\n",
      "[CV] END bootstrap=True, max_depth=90, max_features=2, min_samples_leaf=4, min_samples_split=8, n_estimators=100; total time=   0.3s\n",
      "[CV] END bootstrap=True, max_depth=90, max_features=2, min_samples_leaf=4, min_samples_split=8, n_estimators=100; total time=   0.3s\n",
      "[CV] END bootstrap=True, max_depth=90, max_features=2, min_samples_leaf=4, min_samples_split=8, n_estimators=100; total time=   0.3s\n",
      "[CV] END bootstrap=True, max_depth=90, max_features=2, min_samples_leaf=4, min_samples_split=8, n_estimators=100; total time=   0.3s\n",
      "[CV] END bootstrap=True, max_depth=90, max_features=2, min_samples_leaf=4, min_samples_split=8, n_estimators=100; total time=   0.3s\n",
      "[CV] END bootstrap=True, max_depth=90, max_features=2, min_samples_leaf=4, min_samples_split=10, n_estimators=50; total time=   0.2s\n",
      "[CV] END bootstrap=True, max_depth=90, max_features=2, min_samples_leaf=4, min_samples_split=10, n_estimators=50; total time=   0.2s\n",
      "[CV] END bootstrap=True, max_depth=90, max_features=2, min_samples_leaf=4, min_samples_split=10, n_estimators=50; total time=   0.2s\n",
      "[CV] END bootstrap=True, max_depth=90, max_features=2, min_samples_leaf=4, min_samples_split=10, n_estimators=50; total time=   0.2s\n",
      "[CV] END bootstrap=True, max_depth=90, max_features=2, min_samples_leaf=4, min_samples_split=10, n_estimators=50; total time=   0.2s\n",
      "[CV] END bootstrap=True, max_depth=90, max_features=2, min_samples_leaf=4, min_samples_split=10, n_estimators=100; total time=   0.3s\n",
      "[CV] END bootstrap=True, max_depth=90, max_features=2, min_samples_leaf=4, min_samples_split=10, n_estimators=100; total time=   0.3s\n",
      "[CV] END bootstrap=True, max_depth=90, max_features=2, min_samples_leaf=4, min_samples_split=10, n_estimators=100; total time=   0.3s\n",
      "[CV] END bootstrap=True, max_depth=90, max_features=2, min_samples_leaf=4, min_samples_split=10, n_estimators=100; total time=   0.3s\n",
      "[CV] END bootstrap=True, max_depth=90, max_features=2, min_samples_leaf=4, min_samples_split=10, n_estimators=100; total time=   0.3s\n",
      "[CV] END bootstrap=True, max_depth=90, max_features=3, min_samples_leaf=3, min_samples_split=8, n_estimators=50; total time=   0.2s\n",
      "[CV] END bootstrap=True, max_depth=90, max_features=3, min_samples_leaf=3, min_samples_split=8, n_estimators=50; total time=   0.2s\n",
      "[CV] END bootstrap=True, max_depth=90, max_features=3, min_samples_leaf=3, min_samples_split=8, n_estimators=50; total time=   0.2s\n",
      "[CV] END bootstrap=True, max_depth=90, max_features=3, min_samples_leaf=3, min_samples_split=8, n_estimators=50; total time=   0.2s\n",
      "[CV] END bootstrap=True, max_depth=90, max_features=3, min_samples_leaf=3, min_samples_split=8, n_estimators=50; total time=   0.2s\n",
      "[CV] END bootstrap=True, max_depth=90, max_features=3, min_samples_leaf=3, min_samples_split=8, n_estimators=100; total time=   0.4s\n",
      "[CV] END bootstrap=True, max_depth=90, max_features=3, min_samples_leaf=3, min_samples_split=8, n_estimators=100; total time=   0.5s\n",
      "[CV] END bootstrap=True, max_depth=90, max_features=3, min_samples_leaf=3, min_samples_split=8, n_estimators=100; total time=   0.4s\n",
      "[CV] END bootstrap=True, max_depth=90, max_features=3, min_samples_leaf=3, min_samples_split=8, n_estimators=100; total time=   0.4s\n",
      "[CV] END bootstrap=True, max_depth=90, max_features=3, min_samples_leaf=3, min_samples_split=8, n_estimators=100; total time=   0.4s\n",
      "[CV] END bootstrap=True, max_depth=90, max_features=3, min_samples_leaf=3, min_samples_split=10, n_estimators=50; total time=   0.2s\n",
      "[CV] END bootstrap=True, max_depth=90, max_features=3, min_samples_leaf=3, min_samples_split=10, n_estimators=50; total time=   0.2s\n",
      "[CV] END bootstrap=True, max_depth=90, max_features=3, min_samples_leaf=3, min_samples_split=10, n_estimators=50; total time=   0.2s\n",
      "[CV] END bootstrap=True, max_depth=90, max_features=3, min_samples_leaf=3, min_samples_split=10, n_estimators=50; total time=   0.2s\n",
      "[CV] END bootstrap=True, max_depth=90, max_features=3, min_samples_leaf=3, min_samples_split=10, n_estimators=50; total time=   0.2s\n",
      "[CV] END bootstrap=True, max_depth=90, max_features=3, min_samples_leaf=3, min_samples_split=10, n_estimators=100; total time=   0.4s\n",
      "[CV] END bootstrap=True, max_depth=90, max_features=3, min_samples_leaf=3, min_samples_split=10, n_estimators=100; total time=   0.4s\n",
      "[CV] END bootstrap=True, max_depth=90, max_features=3, min_samples_leaf=3, min_samples_split=10, n_estimators=100; total time=   0.4s\n",
      "[CV] END bootstrap=True, max_depth=90, max_features=3, min_samples_leaf=3, min_samples_split=10, n_estimators=100; total time=   0.4s\n",
      "[CV] END bootstrap=True, max_depth=90, max_features=3, min_samples_leaf=3, min_samples_split=10, n_estimators=100; total time=   0.4s\n",
      "[CV] END bootstrap=True, max_depth=90, max_features=3, min_samples_leaf=4, min_samples_split=8, n_estimators=50; total time=   0.2s\n",
      "[CV] END bootstrap=True, max_depth=90, max_features=3, min_samples_leaf=4, min_samples_split=8, n_estimators=50; total time=   0.2s\n",
      "[CV] END bootstrap=True, max_depth=90, max_features=3, min_samples_leaf=4, min_samples_split=8, n_estimators=50; total time=   0.2s\n",
      "[CV] END bootstrap=True, max_depth=90, max_features=3, min_samples_leaf=4, min_samples_split=8, n_estimators=50; total time=   0.2s\n",
      "[CV] END bootstrap=True, max_depth=90, max_features=3, min_samples_leaf=4, min_samples_split=8, n_estimators=50; total time=   0.2s\n",
      "[CV] END bootstrap=True, max_depth=90, max_features=3, min_samples_leaf=4, min_samples_split=8, n_estimators=100; total time=   0.4s\n",
      "[CV] END bootstrap=True, max_depth=90, max_features=3, min_samples_leaf=4, min_samples_split=8, n_estimators=100; total time=   0.4s\n",
      "[CV] END bootstrap=True, max_depth=90, max_features=3, min_samples_leaf=4, min_samples_split=8, n_estimators=100; total time=   0.4s\n",
      "[CV] END bootstrap=True, max_depth=90, max_features=3, min_samples_leaf=4, min_samples_split=8, n_estimators=100; total time=   0.4s\n",
      "[CV] END bootstrap=True, max_depth=90, max_features=3, min_samples_leaf=4, min_samples_split=8, n_estimators=100; total time=   0.4s\n",
      "[CV] END bootstrap=True, max_depth=90, max_features=3, min_samples_leaf=4, min_samples_split=10, n_estimators=50; total time=   0.2s\n",
      "[CV] END bootstrap=True, max_depth=90, max_features=3, min_samples_leaf=4, min_samples_split=10, n_estimators=50; total time=   0.2s\n",
      "[CV] END bootstrap=True, max_depth=90, max_features=3, min_samples_leaf=4, min_samples_split=10, n_estimators=50; total time=   0.2s\n",
      "[CV] END bootstrap=True, max_depth=90, max_features=3, min_samples_leaf=4, min_samples_split=10, n_estimators=50; total time=   0.2s\n",
      "[CV] END bootstrap=True, max_depth=90, max_features=3, min_samples_leaf=4, min_samples_split=10, n_estimators=50; total time=   0.2s\n",
      "[CV] END bootstrap=True, max_depth=90, max_features=3, min_samples_leaf=4, min_samples_split=10, n_estimators=100; total time=   0.4s\n",
      "[CV] END bootstrap=True, max_depth=90, max_features=3, min_samples_leaf=4, min_samples_split=10, n_estimators=100; total time=   0.4s\n",
      "[CV] END bootstrap=True, max_depth=90, max_features=3, min_samples_leaf=4, min_samples_split=10, n_estimators=100; total time=   0.4s\n",
      "[CV] END bootstrap=True, max_depth=90, max_features=3, min_samples_leaf=4, min_samples_split=10, n_estimators=100; total time=   0.4s\n",
      "[CV] END bootstrap=True, max_depth=90, max_features=3, min_samples_leaf=4, min_samples_split=10, n_estimators=100; total time=   0.4s\n",
      "{'bootstrap': True, 'max_depth': 80, 'max_features': 2, 'min_samples_leaf': 3, 'min_samples_split': 10, 'n_estimators': 50}\n",
      "0.6622676351029251\n",
      "CPU times: user 42.8 s, sys: 283 ms, total: 43.1 s\n",
      "Wall time: 43.4 s\n"
     ]
    }
   ],
   "source": [
    "%%time\n",
    "# Create the parameter grid based on the results of random search \n",
    "param_grid = {\n",
    "    'bootstrap': [True],\n",
    "    'max_depth': [80, 90],\n",
    "    'max_features': [2, 3],\n",
    "    'min_samples_leaf': [3, 4],\n",
    "    'min_samples_split': [8, 10],\n",
    "    'n_estimators': [50, 100]\n",
    "}\n",
    "# Create a based model\n",
    "rf = RandomForestClassifier(random_state=12345)\n",
    "# Instantiate the grid search model\n",
    "grid_search = GridSearchCV(estimator = rf, param_grid = param_grid, scoring=\"f1\",\n",
    "                          cv = 5, n_jobs = -1, verbose = 2)\n",
    "\n",
    "# Fit the grid search to the data\n",
    "grid_search.fit(features_train, target_train)\n",
    "\n",
    "\n",
    "# Return set of parameters with the best performance\n",
    "print(grid_search.best_params_)\n",
    "# Return the performance metric score\n",
    "print(grid_search.best_score_)"
   ]
  },
  {
   "cell_type": "markdown",
   "metadata": {},
   "source": [
    "## Проверка модели на тестовой выборке"
   ]
  },
  {
   "cell_type": "markdown",
   "metadata": {},
   "source": [
    "Лучше всего на валидационной выборке показала себя модель \"Случайный лес\". Проверим эту модель с подобранными нами гиперпараметрами на тестовой выборке."
   ]
  },
  {
   "cell_type": "code",
   "execution_count": 14,
   "metadata": {
    "scrolled": true
   },
   "outputs": [
    {
     "name": "stdout",
     "output_type": "stream",
     "text": [
      "Accuracy наилучшей модели RandomForest на тестовой выборке: 0.8025\n"
     ]
    }
   ],
   "source": [
    "model_rf = RandomForestClassifier(max_depth=8, n_estimators=20, random_state=12345)\n",
    "model_rf.fit(features_train, target_train)\n",
    "result_rf_test = model_rf.score(features_test, target_test).round(4) # посчитаем качество модели на тестовой выборке\n",
    "print(\"Accuracy наилучшей модели RandomForest на тестовой выборке:\", result_rf_test)"
   ]
  },
  {
   "cell_type": "markdown",
   "metadata": {},
   "source": [
    "Протестируем остальные модели на нашей тестовой отложенной выборке."
   ]
  },
  {
   "cell_type": "code",
   "execution_count": 15,
   "metadata": {},
   "outputs": [
    {
     "name": "stdout",
     "output_type": "stream",
     "text": [
      "Accuracy лучшей модели DecisionTree на тестовой выборке: 0.7123\n",
      "Accuracy модели LogisticRegression на тестовой выборке: 0.6983\n"
     ]
    }
   ],
   "source": [
    "predictions = model_dt.predict(features_test) # получим предсказания модели DecisionTree\n",
    "result_dt_test = accuracy_score(target_test, predictions).round(4) # посчитаем качество модели на тестовой выборке\n",
    "print(\"Accuracy лучшей модели DecisionTree на тестовой выборке:\", result_dt_test)\n",
    "\n",
    "result_lgr_test = model_lgr.score(features_test, target_test).round(4) # получим метрику качества модели на валидационной выборке\n",
    "print(\"Accuracy модели LogisticRegression на тестовой выборке:\", result_lgr_test)"
   ]
  },
  {
   "cell_type": "markdown",
   "metadata": {},
   "source": [
    "Создадим сводную таблицу `summary`, куда поместим результаты наших исследований."
   ]
  },
  {
   "cell_type": "code",
   "execution_count": 16,
   "metadata": {},
   "outputs": [
    {
     "data": {
      "text/html": [
       "<div>\n",
       "<style scoped>\n",
       "    .dataframe tbody tr th:only-of-type {\n",
       "        vertical-align: middle;\n",
       "    }\n",
       "\n",
       "    .dataframe tbody tr th {\n",
       "        vertical-align: top;\n",
       "    }\n",
       "\n",
       "    .dataframe thead th {\n",
       "        text-align: right;\n",
       "    }\n",
       "</style>\n",
       "<table border=\"1\" class=\"dataframe\">\n",
       "  <thead>\n",
       "    <tr style=\"text-align: right;\">\n",
       "      <th></th>\n",
       "      <th>model</th>\n",
       "      <th>accuracy модели</th>\n",
       "      <th>accuracy тестовой выборки</th>\n",
       "    </tr>\n",
       "  </thead>\n",
       "  <tbody>\n",
       "    <tr>\n",
       "      <th>0</th>\n",
       "      <td>DecisionTree</td>\n",
       "      <td>0.7885</td>\n",
       "      <td>0.7123</td>\n",
       "    </tr>\n",
       "    <tr>\n",
       "      <th>1</th>\n",
       "      <td>RandomForest</td>\n",
       "      <td>0.7994</td>\n",
       "      <td>0.8025</td>\n",
       "    </tr>\n",
       "    <tr>\n",
       "      <th>2</th>\n",
       "      <td>LogisticRegression</td>\n",
       "      <td>0.7076</td>\n",
       "      <td>0.6983</td>\n",
       "    </tr>\n",
       "  </tbody>\n",
       "</table>\n",
       "</div>"
      ],
      "text/plain": [
       "                model  accuracy модели  accuracy тестовой выборки\n",
       "0        DecisionTree           0.7885                     0.7123\n",
       "1        RandomForest           0.7994                     0.8025\n",
       "2  LogisticRegression           0.7076                     0.6983"
      ]
     },
     "execution_count": 16,
     "metadata": {},
     "output_type": "execute_result"
    }
   ],
   "source": [
    "summary = pd.DataFrame(data = [['DecisionTree', 0.7885, 0.7123], ['RandomForest', 0.7994, 0.8025],\n",
    "                               ['LogisticRegression', 0.7076, 0.6983]], \n",
    "                     columns = ['model', 'accuracy модели', 'accuracy тестовой выборки'])\n",
    "summary"
   ]
  },
  {
   "cell_type": "markdown",
   "metadata": {},
   "source": [
    "**Из рассмотренных нами моделей наилучшей для решения данной задачи оказалась модель \"Случайный лес\", `accuracy` на тестовой выборке которой - 0.8025.**"
   ]
  },
  {
   "cell_type": "markdown",
   "metadata": {},
   "source": [
    "## (бонус) Проверка модели на адекватность"
   ]
  },
  {
   "cell_type": "markdown",
   "metadata": {},
   "source": [
    "### Вариант 1\n",
    "Самый частотный класс в целевом признаке - 0, то есть за константную модель берем такую, в которой все прогнозы 0. Чтобы оценить точность, разделим количество фактических нулей, на все объекты. Далее сравним полученную точность с `accuracy` RandomForest модели (0.7994)."
   ]
  },
  {
   "cell_type": "code",
   "execution_count": 17,
   "metadata": {},
   "outputs": [
    {
     "data": {
      "text/plain": [
       "0    0.693528\n",
       "1    0.306472\n",
       "Name: is_ultra, dtype: float64"
      ]
     },
     "execution_count": 17,
     "metadata": {},
     "output_type": "execute_result"
    }
   ],
   "source": [
    "df['is_ultra'].value_counts() / df.shape[0]"
   ]
  },
  {
   "cell_type": "markdown",
   "metadata": {},
   "source": [
    "Как мы видим, качество полученной модели выше константной, следовательно, наша модель адекватна."
   ]
  },
  {
   "cell_type": "markdown",
   "metadata": {},
   "source": [
    "### Вариант 2\n",
    "Проверку на адекватность реализуем с помощью DummyClassifier, задав `strategy=most_frequent` (метод прогнозирования всегда возвращает наиболее часто встречающуюся метку класса в наблюдаемом аргументе)."
   ]
  },
  {
   "cell_type": "code",
   "execution_count": 18,
   "metadata": {},
   "outputs": [
    {
     "name": "stdout",
     "output_type": "stream",
     "text": [
      "Accuracy Dummy модели: 0.7061\n",
      "Accuracy RandomForest модели: 0.7994\n",
      "Модель RandomForest адекватна\n"
     ]
    }
   ],
   "source": [
    "model_dummy = DummyClassifier(strategy=\"most_frequent\")\n",
    "model_dummy.fit(features_train, target_train)\n",
    "predictions = model_dummy.predict(features_valid) # получим предсказания модели\n",
    "result_dummy = accuracy_score(target_valid, predictions).round(4) # посчитаем качество модели, округлим результат\n",
    "print('Accuracy Dummy модели:', result_dummy)\n",
    "print('Accuracy RandomForest модели: 0.7994')\n",
    "if result_dummy < 0.7994:\n",
    "    print('Модель RandomForest адекватна')\n",
    "else:\n",
    "    print('Модель RandomForest не адекватна')"
   ]
  },
  {
   "cell_type": "markdown",
   "metadata": {},
   "source": [
    "Вернуться в [начало](#startpage)."
   ]
  }
 ],
 "metadata": {
  "ExecuteTimeLog": [
   {
    "duration": 1190,
    "start_time": "2022-04-06T12:48:47.437Z"
   },
   {
    "duration": 130,
    "start_time": "2022-04-06T12:49:52.809Z"
   },
   {
    "duration": 38,
    "start_time": "2022-04-06T12:51:44.307Z"
   },
   {
    "duration": 29,
    "start_time": "2022-04-06T12:51:53.632Z"
   },
   {
    "duration": 19,
    "start_time": "2022-04-06T12:52:05.149Z"
   },
   {
    "duration": 94,
    "start_time": "2022-04-06T13:21:05.766Z"
   },
   {
    "duration": 24,
    "start_time": "2022-04-06T13:21:26.345Z"
   },
   {
    "duration": 6,
    "start_time": "2022-04-06T13:21:30.100Z"
   },
   {
    "duration": 12,
    "start_time": "2022-04-06T13:23:37.067Z"
   },
   {
    "duration": 7,
    "start_time": "2022-04-06T13:35:19.158Z"
   },
   {
    "duration": 8,
    "start_time": "2022-04-06T13:37:46.964Z"
   },
   {
    "duration": 58,
    "start_time": "2022-04-06T13:42:32.715Z"
   },
   {
    "duration": 52,
    "start_time": "2022-04-06T13:44:26.745Z"
   },
   {
    "duration": 21,
    "start_time": "2022-04-06T13:51:55.880Z"
   },
   {
    "duration": 15,
    "start_time": "2022-04-06T13:52:22.662Z"
   },
   {
    "duration": 13,
    "start_time": "2022-04-06T13:52:55.889Z"
   },
   {
    "duration": 18,
    "start_time": "2022-04-06T13:53:38.858Z"
   },
   {
    "duration": 53,
    "start_time": "2022-04-06T13:57:52.046Z"
   },
   {
    "duration": 11,
    "start_time": "2022-04-06T13:58:28.512Z"
   },
   {
    "duration": 97,
    "start_time": "2022-04-06T13:59:23.056Z"
   },
   {
    "duration": 95,
    "start_time": "2022-04-06T13:59:30.313Z"
   },
   {
    "duration": 89,
    "start_time": "2022-04-06T13:59:42.800Z"
   },
   {
    "duration": 5296,
    "start_time": "2022-04-06T14:08:51.688Z"
   },
   {
    "duration": 5321,
    "start_time": "2022-04-06T14:08:57.317Z"
   },
   {
    "duration": 5645,
    "start_time": "2022-04-06T14:09:43.638Z"
   },
   {
    "duration": 7475,
    "start_time": "2022-04-06T14:11:24.854Z"
   },
   {
    "duration": 118,
    "start_time": "2022-04-06T14:12:06.405Z"
   },
   {
    "duration": 1144,
    "start_time": "2022-04-06T14:12:24.293Z"
   },
   {
    "duration": 45,
    "start_time": "2022-04-06T14:12:40.270Z"
   },
   {
    "duration": 365,
    "start_time": "2022-04-06T14:15:39.134Z"
   },
   {
    "duration": 7,
    "start_time": "2022-04-06T14:18:54.690Z"
   },
   {
    "duration": 15,
    "start_time": "2022-04-06T14:22:38.605Z"
   },
   {
    "duration": 17,
    "start_time": "2022-04-06T14:23:22.531Z"
   },
   {
    "duration": 505,
    "start_time": "2022-04-06T14:24:03.755Z"
   },
   {
    "duration": 533,
    "start_time": "2022-04-06T14:24:20.211Z"
   },
   {
    "duration": 17,
    "start_time": "2022-04-06T14:24:35.347Z"
   },
   {
    "duration": 22,
    "start_time": "2022-04-06T14:29:38.939Z"
   },
   {
    "duration": 18,
    "start_time": "2022-04-06T14:30:41.386Z"
   },
   {
    "duration": 17,
    "start_time": "2022-04-06T14:31:10.066Z"
   },
   {
    "duration": 21,
    "start_time": "2022-04-06T14:31:12.315Z"
   },
   {
    "duration": 18,
    "start_time": "2022-04-06T14:31:17.714Z"
   },
   {
    "duration": 6,
    "start_time": "2022-04-06T14:31:36.121Z"
   },
   {
    "duration": 1420,
    "start_time": "2022-04-06T14:32:31.379Z"
   },
   {
    "duration": 26,
    "start_time": "2022-04-06T14:32:32.802Z"
   },
   {
    "duration": 7,
    "start_time": "2022-04-06T14:32:32.830Z"
   },
   {
    "duration": 23,
    "start_time": "2022-04-06T14:32:32.839Z"
   },
   {
    "duration": 9,
    "start_time": "2022-04-06T14:32:32.864Z"
   },
   {
    "duration": 24,
    "start_time": "2022-04-06T14:32:32.875Z"
   },
   {
    "duration": 54,
    "start_time": "2022-04-06T14:32:32.901Z"
   },
   {
    "duration": 14,
    "start_time": "2022-04-06T14:32:32.957Z"
   },
   {
    "duration": 538,
    "start_time": "2022-04-06T14:32:32.973Z"
   },
   {
    "duration": 5,
    "start_time": "2022-04-06T14:32:33.514Z"
   },
   {
    "duration": 303,
    "start_time": "2022-04-06T14:32:33.521Z"
   },
   {
    "duration": 5114,
    "start_time": "2022-04-06T14:32:33.825Z"
   },
   {
    "duration": 7,
    "start_time": "2022-04-06T14:32:38.943Z"
   },
   {
    "duration": 18,
    "start_time": "2022-04-06T14:32:38.952Z"
   },
   {
    "duration": 19,
    "start_time": "2022-04-06T14:32:38.972Z"
   },
   {
    "duration": 21,
    "start_time": "2022-04-06T14:36:06.133Z"
   },
   {
    "duration": 17,
    "start_time": "2022-04-06T14:43:22.825Z"
   },
   {
    "duration": 2,
    "start_time": "2022-04-06T14:43:30.892Z"
   },
   {
    "duration": 16,
    "start_time": "2022-04-06T14:43:36.852Z"
   },
   {
    "duration": 6574,
    "start_time": "2022-04-06T14:53:45.127Z"
   },
   {
    "duration": 6971,
    "start_time": "2022-04-06T14:54:55.803Z"
   },
   {
    "duration": 4651,
    "start_time": "2022-04-06T15:00:52.557Z"
   },
   {
    "duration": 6,
    "start_time": "2022-04-06T15:01:28.560Z"
   },
   {
    "duration": 126,
    "start_time": "2022-04-06T15:04:42.104Z"
   },
   {
    "duration": 39077,
    "start_time": "2022-04-06T15:05:35.643Z"
   },
   {
    "duration": 31,
    "start_time": "2022-04-06T15:06:58.594Z"
   },
   {
    "duration": 37123,
    "start_time": "2022-04-06T15:08:10.601Z"
   },
   {
    "duration": 4964,
    "start_time": "2022-04-06T15:09:49.937Z"
   },
   {
    "duration": 4289,
    "start_time": "2022-04-06T15:11:17.689Z"
   },
   {
    "duration": 4241,
    "start_time": "2022-04-06T15:11:45.297Z"
   },
   {
    "duration": 18,
    "start_time": "2022-04-06T15:18:54.312Z"
   },
   {
    "duration": 16,
    "start_time": "2022-04-06T15:19:29.536Z"
   },
   {
    "duration": 16,
    "start_time": "2022-04-06T15:25:37.053Z"
   },
   {
    "duration": 18,
    "start_time": "2022-04-06T15:28:11.665Z"
   },
   {
    "duration": 20,
    "start_time": "2022-04-06T15:29:05.135Z"
   },
   {
    "duration": 5824,
    "start_time": "2022-04-06T15:30:45.752Z"
   },
   {
    "duration": 679,
    "start_time": "2022-04-06T15:32:15.862Z"
   },
   {
    "duration": 53,
    "start_time": "2022-04-06T15:34:09.360Z"
   },
   {
    "duration": 56,
    "start_time": "2022-04-06T15:38:22.302Z"
   },
   {
    "duration": 19,
    "start_time": "2022-04-06T15:38:41.894Z"
   },
   {
    "duration": 128,
    "start_time": "2022-04-06T15:39:02.919Z"
   },
   {
    "duration": 4254,
    "start_time": "2022-04-06T15:39:31.190Z"
   },
   {
    "duration": 362,
    "start_time": "2022-04-06T15:39:45.942Z"
   },
   {
    "duration": 548,
    "start_time": "2022-04-06T15:39:58.102Z"
   },
   {
    "duration": 15,
    "start_time": "2022-04-06T15:40:05.165Z"
   },
   {
    "duration": 128,
    "start_time": "2022-04-06T20:55:20.789Z"
   },
   {
    "duration": 1124,
    "start_time": "2022-04-06T20:55:47.038Z"
   },
   {
    "duration": 28,
    "start_time": "2022-04-06T20:55:48.164Z"
   },
   {
    "duration": 5,
    "start_time": "2022-04-06T20:55:48.194Z"
   },
   {
    "duration": 13,
    "start_time": "2022-04-06T20:55:48.200Z"
   },
   {
    "duration": 8,
    "start_time": "2022-04-06T20:55:48.215Z"
   },
   {
    "duration": 6,
    "start_time": "2022-04-06T20:55:48.237Z"
   },
   {
    "duration": 16,
    "start_time": "2022-04-06T20:55:48.244Z"
   },
   {
    "duration": 471,
    "start_time": "2022-04-06T20:55:48.261Z"
   },
   {
    "duration": 273,
    "start_time": "2022-04-06T20:55:48.734Z"
   },
   {
    "duration": 3836,
    "start_time": "2022-04-06T20:55:49.008Z"
   },
   {
    "duration": 38,
    "start_time": "2022-04-06T20:55:52.846Z"
   },
   {
    "duration": 4,
    "start_time": "2022-04-06T20:55:52.885Z"
   },
   {
    "duration": 22,
    "start_time": "2022-04-06T20:55:52.890Z"
   },
   {
    "duration": 69,
    "start_time": "2022-04-06T20:55:52.915Z"
   },
   {
    "duration": 107,
    "start_time": "2022-04-06T20:55:52.986Z"
   },
   {
    "duration": 108,
    "start_time": "2022-04-06T20:56:22.166Z"
   },
   {
    "duration": 110,
    "start_time": "2022-04-06T20:57:20.829Z"
   },
   {
    "duration": 149,
    "start_time": "2022-04-06T20:57:38.989Z"
   },
   {
    "duration": 113,
    "start_time": "2022-04-06T20:59:07.267Z"
   },
   {
    "duration": 9,
    "start_time": "2022-04-06T21:12:00.947Z"
   },
   {
    "duration": 9,
    "start_time": "2022-04-06T21:12:29.017Z"
   },
   {
    "duration": 51,
    "start_time": "2022-04-06T21:20:14.300Z"
   },
   {
    "duration": 6,
    "start_time": "2022-04-06T21:24:18.561Z"
   },
   {
    "duration": 10,
    "start_time": "2022-04-06T21:26:35.294Z"
   },
   {
    "duration": 9,
    "start_time": "2022-04-06T21:29:09.048Z"
   },
   {
    "duration": 9,
    "start_time": "2022-04-06T21:29:29.793Z"
   },
   {
    "duration": 10,
    "start_time": "2022-04-06T21:44:03.718Z"
   },
   {
    "duration": 92,
    "start_time": "2022-04-06T21:53:03.620Z"
   },
   {
    "duration": 4,
    "start_time": "2022-04-06T21:55:29.417Z"
   },
   {
    "duration": 5,
    "start_time": "2022-04-06T21:55:37.149Z"
   },
   {
    "duration": 99,
    "start_time": "2022-04-06T22:03:08.465Z"
   },
   {
    "duration": 125,
    "start_time": "2022-04-06T22:03:40.619Z"
   },
   {
    "duration": 109,
    "start_time": "2022-04-06T22:03:51.409Z"
   },
   {
    "duration": 121,
    "start_time": "2022-04-06T22:05:47.883Z"
   },
   {
    "duration": 6,
    "start_time": "2022-04-06T22:06:35.339Z"
   },
   {
    "duration": 4,
    "start_time": "2022-04-06T22:16:51.067Z"
   },
   {
    "duration": 6,
    "start_time": "2022-04-06T22:17:11.001Z"
   },
   {
    "duration": 10,
    "start_time": "2022-04-06T22:24:04.294Z"
   },
   {
    "duration": 13,
    "start_time": "2022-04-06T22:25:36.480Z"
   },
   {
    "duration": 144,
    "start_time": "2022-04-07T12:09:28.783Z"
   },
   {
    "duration": 1211,
    "start_time": "2022-04-09T20:13:07.428Z"
   },
   {
    "duration": 43,
    "start_time": "2022-04-09T20:13:08.642Z"
   },
   {
    "duration": 5,
    "start_time": "2022-04-09T20:13:08.686Z"
   },
   {
    "duration": 13,
    "start_time": "2022-04-09T20:13:08.693Z"
   },
   {
    "duration": 11,
    "start_time": "2022-04-09T20:13:08.707Z"
   },
   {
    "duration": 7,
    "start_time": "2022-04-09T20:13:08.719Z"
   },
   {
    "duration": 19,
    "start_time": "2022-04-09T20:13:08.728Z"
   },
   {
    "duration": 522,
    "start_time": "2022-04-09T20:13:08.749Z"
   },
   {
    "duration": 311,
    "start_time": "2022-04-09T20:13:09.273Z"
   },
   {
    "duration": 4109,
    "start_time": "2022-04-09T20:13:09.587Z"
   },
   {
    "duration": 2,
    "start_time": "2022-04-09T20:13:13.698Z"
   },
   {
    "duration": 23,
    "start_time": "2022-04-09T20:13:13.702Z"
   },
   {
    "duration": 73,
    "start_time": "2022-04-09T20:13:13.727Z"
   },
   {
    "duration": 8,
    "start_time": "2022-04-09T20:13:13.801Z"
   },
   {
    "duration": 8,
    "start_time": "2022-04-09T20:13:13.811Z"
   },
   {
    "duration": 7,
    "start_time": "2022-04-09T20:13:13.821Z"
   },
   {
    "duration": 5,
    "start_time": "2022-04-09T20:13:13.829Z"
   },
   {
    "duration": 142,
    "start_time": "2022-04-09T20:16:05.718Z"
   },
   {
    "duration": 107,
    "start_time": "2022-04-09T20:17:54.421Z"
   },
   {
    "duration": 11,
    "start_time": "2022-04-09T20:18:12.199Z"
   },
   {
    "duration": 10,
    "start_time": "2022-04-09T20:19:59.968Z"
   },
   {
    "duration": 1134,
    "start_time": "2022-04-09T20:31:09.399Z"
   },
   {
    "duration": 27,
    "start_time": "2022-04-09T20:31:10.535Z"
   },
   {
    "duration": 5,
    "start_time": "2022-04-09T20:31:10.564Z"
   },
   {
    "duration": 17,
    "start_time": "2022-04-09T20:31:10.570Z"
   },
   {
    "duration": 6,
    "start_time": "2022-04-09T20:31:10.590Z"
   },
   {
    "duration": 6,
    "start_time": "2022-04-09T20:31:10.598Z"
   },
   {
    "duration": 17,
    "start_time": "2022-04-09T20:31:10.606Z"
   },
   {
    "duration": 506,
    "start_time": "2022-04-09T20:31:10.626Z"
   },
   {
    "duration": 292,
    "start_time": "2022-04-09T20:31:11.134Z"
   },
   {
    "duration": 3954,
    "start_time": "2022-04-09T20:31:11.428Z"
   },
   {
    "duration": 2,
    "start_time": "2022-04-09T20:31:15.384Z"
   },
   {
    "duration": 22,
    "start_time": "2022-04-09T20:31:15.388Z"
   },
   {
    "duration": 40304,
    "start_time": "2022-04-09T20:31:15.412Z"
   },
   {
    "duration": 61,
    "start_time": "2022-04-09T20:31:55.718Z"
   },
   {
    "duration": 8,
    "start_time": "2022-04-09T20:31:55.781Z"
   },
   {
    "duration": 9,
    "start_time": "2022-04-09T20:31:55.791Z"
   },
   {
    "duration": 6,
    "start_time": "2022-04-09T20:31:55.802Z"
   },
   {
    "duration": 6,
    "start_time": "2022-04-09T20:31:55.810Z"
   },
   {
    "duration": 1141,
    "start_time": "2022-04-09T20:33:54.288Z"
   },
   {
    "duration": 26,
    "start_time": "2022-04-09T20:33:55.431Z"
   },
   {
    "duration": 5,
    "start_time": "2022-04-09T20:33:55.459Z"
   },
   {
    "duration": 20,
    "start_time": "2022-04-09T20:33:55.466Z"
   },
   {
    "duration": 6,
    "start_time": "2022-04-09T20:33:55.489Z"
   },
   {
    "duration": 5,
    "start_time": "2022-04-09T20:33:55.497Z"
   },
   {
    "duration": 18,
    "start_time": "2022-04-09T20:33:55.504Z"
   },
   {
    "duration": 495,
    "start_time": "2022-04-09T20:33:55.523Z"
   },
   {
    "duration": 295,
    "start_time": "2022-04-09T20:33:56.020Z"
   },
   {
    "duration": 3902,
    "start_time": "2022-04-09T20:33:56.316Z"
   },
   {
    "duration": 2,
    "start_time": "2022-04-09T20:34:00.220Z"
   },
   {
    "duration": 22,
    "start_time": "2022-04-09T20:34:00.223Z"
   },
   {
    "duration": 40543,
    "start_time": "2022-04-09T20:34:00.246Z"
   },
   {
    "duration": 51,
    "start_time": "2022-04-09T20:34:40.793Z"
   },
   {
    "duration": 9,
    "start_time": "2022-04-09T20:34:40.846Z"
   },
   {
    "duration": 9,
    "start_time": "2022-04-09T20:34:40.879Z"
   },
   {
    "duration": 8,
    "start_time": "2022-04-09T20:34:40.890Z"
   },
   {
    "duration": 6,
    "start_time": "2022-04-09T20:34:40.900Z"
   },
   {
    "duration": 56,
    "start_time": "2022-04-09T20:37:10.612Z"
   },
   {
    "duration": 56500,
    "start_time": "2022-04-09T21:52:20.261Z"
   },
   {
    "duration": 40400,
    "start_time": "2022-04-09T22:13:10.983Z"
   },
   {
    "duration": 110,
    "start_time": "2022-04-10T11:36:14.808Z"
   },
   {
    "duration": 6,
    "start_time": "2022-04-10T11:36:23.215Z"
   },
   {
    "duration": 3697,
    "start_time": "2022-04-10T11:36:33.799Z"
   },
   {
    "duration": 181,
    "start_time": "2022-04-10T11:36:40.950Z"
   },
   {
    "duration": 8,
    "start_time": "2023-02-14T11:12:29.262Z"
   },
   {
    "duration": 150,
    "start_time": "2023-02-14T11:13:53.114Z"
   },
   {
    "duration": 1118,
    "start_time": "2023-02-14T11:14:02.972Z"
   },
   {
    "duration": 141,
    "start_time": "2023-02-14T11:14:05.078Z"
   },
   {
    "duration": 5,
    "start_time": "2023-02-14T11:14:08.948Z"
   },
   {
    "duration": 13,
    "start_time": "2023-02-14T11:14:11.164Z"
   },
   {
    "duration": 8,
    "start_time": "2023-02-14T11:14:13.996Z"
   },
   {
    "duration": 7,
    "start_time": "2023-02-14T11:14:16.781Z"
   },
   {
    "duration": 15,
    "start_time": "2023-02-14T11:14:19.764Z"
   },
   {
    "duration": 498,
    "start_time": "2023-02-14T11:14:22.508Z"
   },
   {
    "duration": 302,
    "start_time": "2023-02-14T11:14:26.717Z"
   },
   {
    "duration": 4279,
    "start_time": "2023-02-14T11:14:30.237Z"
   },
   {
    "duration": 19,
    "start_time": "2023-02-14T11:14:49.341Z"
   },
   {
    "duration": 43406,
    "start_time": "2023-02-14T11:14:54.610Z"
   }
  ],
  "kernelspec": {
   "display_name": "Python 3 (ipykernel)",
   "language": "python",
   "name": "python3"
  },
  "language_info": {
   "codemirror_mode": {
    "name": "ipython",
    "version": 3
   },
   "file_extension": ".py",
   "mimetype": "text/x-python",
   "name": "python",
   "nbconvert_exporter": "python",
   "pygments_lexer": "ipython3",
   "version": "3.9.5"
  },
  "toc": {
   "base_numbering": 1,
   "nav_menu": {},
   "number_sections": true,
   "sideBar": true,
   "skip_h1_title": true,
   "title_cell": "Table of Contents",
   "title_sidebar": "Contents",
   "toc_cell": false,
   "toc_position": {
    "height": "calc(100% - 180px)",
    "left": "10px",
    "top": "150px",
    "width": "325.391px"
   },
   "toc_section_display": true,
   "toc_window_display": true
  }
 },
 "nbformat": 4,
 "nbformat_minor": 2
}
