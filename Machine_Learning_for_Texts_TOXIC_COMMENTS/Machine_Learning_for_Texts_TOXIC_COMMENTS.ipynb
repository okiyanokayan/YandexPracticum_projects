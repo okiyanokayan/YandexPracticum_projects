{
 "cells": [
  {
   "cell_type": "markdown",
   "metadata": {},
   "source": [
    "<a id='startpage'></a>"
   ]
  },
  {
   "cell_type": "markdown",
   "metadata": {
    "toc": true
   },
   "source": [
    "<h1>Содержание<span class=\"tocSkip\"></span></h1>\n",
    "<div class=\"toc\"><ul class=\"toc-item\"><li><span><a href=\"#Подготовка\" data-toc-modified-id=\"Подготовка-1\"><span class=\"toc-item-num\">1&nbsp;&nbsp;</span>Подготовка</a></span><ul class=\"toc-item\"><li><ul class=\"toc-item\"><li><span><a href=\"#Очистка-текстовых-данных\" data-toc-modified-id=\"Очистка-текстовых-данных-1.0.1\"><span class=\"toc-item-num\">1.0.1&nbsp;&nbsp;</span>Очистка текстовых данных</a></span></li><li><span><a href=\"#SpaCy-лематтизация\" data-toc-modified-id=\"SpaCy-лематтизация-1.0.2\"><span class=\"toc-item-num\">1.0.2&nbsp;&nbsp;</span>SpaCy лематтизация</a></span></li><li><span><a href=\"#Деление-на-обучающую-и-тестовую-выборки\" data-toc-modified-id=\"Деление-на-обучающую-и-тестовую-выборки-1.0.3\"><span class=\"toc-item-num\">1.0.3&nbsp;&nbsp;</span>Деление на обучающую и тестовую выборки</a></span></li><li><span><a href=\"#Масштабирование-данных-с-помощью-TF-IDF\" data-toc-modified-id=\"Масштабирование-данных-с-помощью-TF-IDF-1.0.4\"><span class=\"toc-item-num\">1.0.4&nbsp;&nbsp;</span>Масштабирование данных с помощью TF-IDF</a></span></li></ul></li></ul></li><li><span><a href=\"#Обучение-моделей\" data-toc-modified-id=\"Обучение-моделей-2\"><span class=\"toc-item-num\">2&nbsp;&nbsp;</span>Обучение моделей</a></span><ul class=\"toc-item\"><li><span><a href=\"#LogisticRegression\" data-toc-modified-id=\"LogisticRegression-2.1\"><span class=\"toc-item-num\">2.1&nbsp;&nbsp;</span>LogisticRegression</a></span></li><li><span><a href=\"#SGD-Classifier\" data-toc-modified-id=\"SGD-Classifier-2.2\"><span class=\"toc-item-num\">2.2&nbsp;&nbsp;</span>SGD Classifier</a></span></li></ul></li><li><span><a href=\"#Тестирование\" data-toc-modified-id=\"Тестирование-3\"><span class=\"toc-item-num\">3&nbsp;&nbsp;</span>Тестирование</a></span><ul class=\"toc-item\"><li><span><a href=\"#LogisticRegression\" data-toc-modified-id=\"LogisticRegression-3.1\"><span class=\"toc-item-num\">3.1&nbsp;&nbsp;</span>LogisticRegression</a></span></li><li><span><a href=\"#SGD-Classifier\" data-toc-modified-id=\"SGD-Classifier-3.2\"><span class=\"toc-item-num\">3.2&nbsp;&nbsp;</span>SGD Classifier</a></span></li></ul></li><li><span><a href=\"#Сравнение-результатов\" data-toc-modified-id=\"Сравнение-результатов-4\"><span class=\"toc-item-num\">4&nbsp;&nbsp;</span>Сравнение результатов</a></span><ul class=\"toc-item\"><li><span><a href=\"#Confusion-Matrix\" data-toc-modified-id=\"Confusion-Matrix-4.1\"><span class=\"toc-item-num\">4.1&nbsp;&nbsp;</span>Confusion Matrix</a></span></li></ul></li><li><span><a href=\"#Выводы\" data-toc-modified-id=\"Выводы-5\"><span class=\"toc-item-num\">5&nbsp;&nbsp;</span>Выводы</a></span></li></ul></div>"
   ]
  },
  {
   "cell_type": "markdown",
   "metadata": {},
   "source": [
    "# Проект для «Викишоп»"
   ]
  },
  {
   "cell_type": "markdown",
   "metadata": {},
   "source": [
    "Интернет-магазин «Викишоп» запускает новый сервис. Теперь пользователи могут редактировать и дополнять описания товаров, как в вики-сообществах. То есть клиенты предлагают свои правки и комментируют изменения других. Магазину нужен инструмент, который будет искать токсичные комментарии и отправлять их на модерацию. \n",
    "\n",
    "**Задача:**\n",
    "- Обучить модель классифицировать комментарии на позитивные и негативные. В нашем распоряжении набор данных с разметкой о токсичности правок.\n",
    "\n",
    "- Построить модель со значением метрики качества *F1* не меньше 0.75. \n",
    "\n",
    "**Описание данных**\n",
    "\n",
    "Данные находятся в файле `toxic_comments.csv`. Столбец *text* в нём содержит текст комментария, а *toxic* — целевой признак."
   ]
  },
  {
   "cell_type": "markdown",
   "metadata": {},
   "source": [
    "<div class=\"alert alert-info\"> \n",
    "    В работе использована литература:\n",
    "    \n",
    "- Мюллер Андреас, Гвидо Сара. Введение в машинное обучение с помощью Python, 2017.\n",
    "\n",
    "- Sebastian Raschka. Python Machine Learning: Packt PuЬlishing, 2020"
   ]
  },
  {
   "cell_type": "markdown",
   "metadata": {},
   "source": [
    "## Подготовка"
   ]
  },
  {
   "cell_type": "code",
   "execution_count": 1,
   "metadata": {},
   "outputs": [
    {
     "name": "stderr",
     "output_type": "stream",
     "text": [
      "[nltk_data] Downloading package stopwords to /home/jovyan/nltk_data...\n",
      "[nltk_data]   Package stopwords is already up-to-date!\n"
     ]
    },
    {
     "name": "stdout",
     "output_type": "stream",
     "text": [
      "Requirement already satisfied: spacy in /opt/conda/lib/python3.9/site-packages (3.2.0)\n",
      "Requirement already satisfied: spacy-loggers<2.0.0,>=1.0.0 in /opt/conda/lib/python3.9/site-packages (from spacy) (1.0.3)\n",
      "Requirement already satisfied: requests<3.0.0,>=2.13.0 in /opt/conda/lib/python3.9/site-packages (from spacy) (2.25.1)\n",
      "Requirement already satisfied: cymem<2.1.0,>=2.0.2 in /opt/conda/lib/python3.9/site-packages (from spacy) (2.0.6)\n",
      "Requirement already satisfied: wasabi<1.1.0,>=0.8.1 in /opt/conda/lib/python3.9/site-packages (from spacy) (0.10.1)\n",
      "Requirement already satisfied: blis<0.8.0,>=0.4.0 in /opt/conda/lib/python3.9/site-packages (from spacy) (0.7.8)\n",
      "Requirement already satisfied: pathy>=0.3.5 in /opt/conda/lib/python3.9/site-packages (from spacy) (0.6.2)\n",
      "Requirement already satisfied: langcodes<4.0.0,>=3.2.0 in /opt/conda/lib/python3.9/site-packages (from spacy) (3.3.0)\n",
      "Requirement already satisfied: thinc<8.1.0,>=8.0.12 in /opt/conda/lib/python3.9/site-packages (from spacy) (8.0.17)\n",
      "Requirement already satisfied: catalogue<2.1.0,>=2.0.6 in /opt/conda/lib/python3.9/site-packages (from spacy) (2.0.8)\n",
      "Requirement already satisfied: srsly<3.0.0,>=2.4.1 in /opt/conda/lib/python3.9/site-packages (from spacy) (2.4.4)\n",
      "Requirement already satisfied: spacy-legacy<3.1.0,>=3.0.8 in /opt/conda/lib/python3.9/site-packages (from spacy) (3.0.10)\n",
      "Requirement already satisfied: murmurhash<1.1.0,>=0.28.0 in /opt/conda/lib/python3.9/site-packages (from spacy) (1.0.8)\n",
      "Requirement already satisfied: numpy>=1.15.0 in /opt/conda/lib/python3.9/site-packages (from spacy) (1.21.1)\n",
      "Requirement already satisfied: tqdm<5.0.0,>=4.38.0 in /opt/conda/lib/python3.9/site-packages (from spacy) (4.61.2)\n",
      "Requirement already satisfied: setuptools in /opt/conda/lib/python3.9/site-packages (from spacy) (49.6.0.post20210108)\n",
      "Requirement already satisfied: preshed<3.1.0,>=3.0.2 in /opt/conda/lib/python3.9/site-packages (from spacy) (3.0.7)\n",
      "Requirement already satisfied: jinja2 in /opt/conda/lib/python3.9/site-packages (from spacy) (3.0.1)\n",
      "Requirement already satisfied: typer<0.5.0,>=0.3.0 in /opt/conda/lib/python3.9/site-packages (from spacy) (0.4.2)\n",
      "Requirement already satisfied: pydantic!=1.8,!=1.8.1,<1.9.0,>=1.7.4 in /opt/conda/lib/python3.9/site-packages (from spacy) (1.8.2)\n",
      "Requirement already satisfied: packaging>=20.0 in /opt/conda/lib/python3.9/site-packages (from spacy) (21.3)\n",
      "Requirement already satisfied: pyparsing!=3.0.5,>=2.0.2 in /opt/conda/lib/python3.9/site-packages (from packaging>=20.0->spacy) (2.4.7)\n",
      "Requirement already satisfied: smart-open<6.0.0,>=5.2.1 in /opt/conda/lib/python3.9/site-packages (from pathy>=0.3.5->spacy) (5.2.1)\n",
      "Requirement already satisfied: typing-extensions>=3.7.4.3 in /opt/conda/lib/python3.9/site-packages (from pydantic!=1.8,!=1.8.1,<1.9.0,>=1.7.4->spacy) (4.3.0)\n",
      "Requirement already satisfied: idna<3,>=2.5 in /opt/conda/lib/python3.9/site-packages (from requests<3.0.0,>=2.13.0->spacy) (2.10)\n",
      "Requirement already satisfied: chardet<5,>=3.0.2 in /opt/conda/lib/python3.9/site-packages (from requests<3.0.0,>=2.13.0->spacy) (4.0.0)\n",
      "Requirement already satisfied: certifi>=2017.4.17 in /opt/conda/lib/python3.9/site-packages (from requests<3.0.0,>=2.13.0->spacy) (2022.6.15)\n",
      "Requirement already satisfied: urllib3<1.27,>=1.21.1 in /opt/conda/lib/python3.9/site-packages (from requests<3.0.0,>=2.13.0->spacy) (1.26.6)\n",
      "Requirement already satisfied: click<9.0.0,>=7.1.1 in /opt/conda/lib/python3.9/site-packages (from typer<0.5.0,>=0.3.0->spacy) (8.1.3)\n",
      "Requirement already satisfied: MarkupSafe>=2.0 in /opt/conda/lib/python3.9/site-packages (from jinja2->spacy) (2.1.1)\n",
      "\u001b[38;5;3m⚠ As of spaCy v3.0, shortcuts like 'en' are deprecated. Please use the\n",
      "full pipeline package name 'en_core_web_sm' instead.\u001b[0m\n",
      "Collecting en-core-web-sm==3.2.0\n",
      "  Downloading https://github.com/explosion/spacy-models/releases/download/en_core_web_sm-3.2.0/en_core_web_sm-3.2.0-py3-none-any.whl (13.9 MB)\n",
      "\u001b[K     |████████████████████████████████| 13.9 MB 2.3 MB/s eta 0:00:01\n",
      "\u001b[?25hRequirement already satisfied: spacy<3.3.0,>=3.2.0 in /opt/conda/lib/python3.9/site-packages (from en-core-web-sm==3.2.0) (3.2.0)\n",
      "Requirement already satisfied: wasabi<1.1.0,>=0.8.1 in /opt/conda/lib/python3.9/site-packages (from spacy<3.3.0,>=3.2.0->en-core-web-sm==3.2.0) (0.10.1)\n",
      "Requirement already satisfied: numpy>=1.15.0 in /opt/conda/lib/python3.9/site-packages (from spacy<3.3.0,>=3.2.0->en-core-web-sm==3.2.0) (1.21.1)\n",
      "Requirement already satisfied: spacy-legacy<3.1.0,>=3.0.8 in /opt/conda/lib/python3.9/site-packages (from spacy<3.3.0,>=3.2.0->en-core-web-sm==3.2.0) (3.0.10)\n",
      "Requirement already satisfied: spacy-loggers<2.0.0,>=1.0.0 in /opt/conda/lib/python3.9/site-packages (from spacy<3.3.0,>=3.2.0->en-core-web-sm==3.2.0) (1.0.3)\n",
      "Requirement already satisfied: catalogue<2.1.0,>=2.0.6 in /opt/conda/lib/python3.9/site-packages (from spacy<3.3.0,>=3.2.0->en-core-web-sm==3.2.0) (2.0.8)\n",
      "Requirement already satisfied: preshed<3.1.0,>=3.0.2 in /opt/conda/lib/python3.9/site-packages (from spacy<3.3.0,>=3.2.0->en-core-web-sm==3.2.0) (3.0.7)\n",
      "Requirement already satisfied: srsly<3.0.0,>=2.4.1 in /opt/conda/lib/python3.9/site-packages (from spacy<3.3.0,>=3.2.0->en-core-web-sm==3.2.0) (2.4.4)\n",
      "Requirement already satisfied: langcodes<4.0.0,>=3.2.0 in /opt/conda/lib/python3.9/site-packages (from spacy<3.3.0,>=3.2.0->en-core-web-sm==3.2.0) (3.3.0)\n",
      "Requirement already satisfied: pydantic!=1.8,!=1.8.1,<1.9.0,>=1.7.4 in /opt/conda/lib/python3.9/site-packages (from spacy<3.3.0,>=3.2.0->en-core-web-sm==3.2.0) (1.8.2)\n",
      "Requirement already satisfied: packaging>=20.0 in /opt/conda/lib/python3.9/site-packages (from spacy<3.3.0,>=3.2.0->en-core-web-sm==3.2.0) (21.3)\n",
      "Requirement already satisfied: thinc<8.1.0,>=8.0.12 in /opt/conda/lib/python3.9/site-packages (from spacy<3.3.0,>=3.2.0->en-core-web-sm==3.2.0) (8.0.17)\n",
      "Requirement already satisfied: cymem<2.1.0,>=2.0.2 in /opt/conda/lib/python3.9/site-packages (from spacy<3.3.0,>=3.2.0->en-core-web-sm==3.2.0) (2.0.6)\n",
      "Requirement already satisfied: blis<0.8.0,>=0.4.0 in /opt/conda/lib/python3.9/site-packages (from spacy<3.3.0,>=3.2.0->en-core-web-sm==3.2.0) (0.7.8)\n",
      "Requirement already satisfied: murmurhash<1.1.0,>=0.28.0 in /opt/conda/lib/python3.9/site-packages (from spacy<3.3.0,>=3.2.0->en-core-web-sm==3.2.0) (1.0.8)\n",
      "Requirement already satisfied: typer<0.5.0,>=0.3.0 in /opt/conda/lib/python3.9/site-packages (from spacy<3.3.0,>=3.2.0->en-core-web-sm==3.2.0) (0.4.2)\n",
      "Requirement already satisfied: tqdm<5.0.0,>=4.38.0 in /opt/conda/lib/python3.9/site-packages (from spacy<3.3.0,>=3.2.0->en-core-web-sm==3.2.0) (4.61.2)\n",
      "Requirement already satisfied: requests<3.0.0,>=2.13.0 in /opt/conda/lib/python3.9/site-packages (from spacy<3.3.0,>=3.2.0->en-core-web-sm==3.2.0) (2.25.1)\n",
      "Requirement already satisfied: pathy>=0.3.5 in /opt/conda/lib/python3.9/site-packages (from spacy<3.3.0,>=3.2.0->en-core-web-sm==3.2.0) (0.6.2)\n",
      "Requirement already satisfied: jinja2 in /opt/conda/lib/python3.9/site-packages (from spacy<3.3.0,>=3.2.0->en-core-web-sm==3.2.0) (3.0.1)\n",
      "Requirement already satisfied: setuptools in /opt/conda/lib/python3.9/site-packages (from spacy<3.3.0,>=3.2.0->en-core-web-sm==3.2.0) (49.6.0.post20210108)\n",
      "Requirement already satisfied: pyparsing!=3.0.5,>=2.0.2 in /opt/conda/lib/python3.9/site-packages (from packaging>=20.0->spacy<3.3.0,>=3.2.0->en-core-web-sm==3.2.0) (2.4.7)\n",
      "Requirement already satisfied: smart-open<6.0.0,>=5.2.1 in /opt/conda/lib/python3.9/site-packages (from pathy>=0.3.5->spacy<3.3.0,>=3.2.0->en-core-web-sm==3.2.0) (5.2.1)\n",
      "Requirement already satisfied: typing-extensions>=3.7.4.3 in /opt/conda/lib/python3.9/site-packages (from pydantic!=1.8,!=1.8.1,<1.9.0,>=1.7.4->spacy<3.3.0,>=3.2.0->en-core-web-sm==3.2.0) (4.3.0)\n",
      "Requirement already satisfied: chardet<5,>=3.0.2 in /opt/conda/lib/python3.9/site-packages (from requests<3.0.0,>=2.13.0->spacy<3.3.0,>=3.2.0->en-core-web-sm==3.2.0) (4.0.0)\n",
      "Requirement already satisfied: idna<3,>=2.5 in /opt/conda/lib/python3.9/site-packages (from requests<3.0.0,>=2.13.0->spacy<3.3.0,>=3.2.0->en-core-web-sm==3.2.0) (2.10)\n",
      "Requirement already satisfied: urllib3<1.27,>=1.21.1 in /opt/conda/lib/python3.9/site-packages (from requests<3.0.0,>=2.13.0->spacy<3.3.0,>=3.2.0->en-core-web-sm==3.2.0) (1.26.6)\n",
      "Requirement already satisfied: certifi>=2017.4.17 in /opt/conda/lib/python3.9/site-packages (from requests<3.0.0,>=2.13.0->spacy<3.3.0,>=3.2.0->en-core-web-sm==3.2.0) (2022.6.15)\n",
      "Requirement already satisfied: click<9.0.0,>=7.1.1 in /opt/conda/lib/python3.9/site-packages (from typer<0.5.0,>=0.3.0->spacy<3.3.0,>=3.2.0->en-core-web-sm==3.2.0) (8.1.3)\n",
      "Requirement already satisfied: MarkupSafe>=2.0 in /opt/conda/lib/python3.9/site-packages (from jinja2->spacy<3.3.0,>=3.2.0->en-core-web-sm==3.2.0) (2.1.1)\n",
      "\u001b[38;5;2m✔ Download and installation successful\u001b[0m\n",
      "You can now load the package via spacy.load('en_core_web_sm')\n"
     ]
    }
   ],
   "source": [
    "import pandas as pd\n",
    "import numpy as np\n",
    "from IPython.display import display\n",
    "\n",
    "import re\n",
    "from sklearn.feature_extraction.text import CountVectorizer\n",
    "from sklearn.feature_extraction.text import TfidfVectorizer\n",
    "\n",
    "from sklearn.model_selection import train_test_split, GridSearchCV, RandomizedSearchCV, cross_val_score\n",
    "from sklearn.metrics import accuracy_score, f1_score, confusion_matrix\n",
    "\n",
    "from sklearn.linear_model import LogisticRegression, SGDClassifier\n",
    "from lightgbm import LGBMRegressor\n",
    "from catboost import CatBoostRegressor, Pool, cv\n",
    "\n",
    "from numpy.random import RandomState\n",
    "rdm = RandomState(12345)\n",
    "\n",
    "import nltk\n",
    "from nltk.corpus import stopwords as stopwords\n",
    "nltk.download('stopwords')\n",
    "stopwords = set(stopwords.words('english'))\n",
    "\n",
    "import matplotlib.pyplot as plt\n",
    "import seaborn as sns\n",
    "\n",
    "# Install spaCy (run in terminal/prompt)\n",
    "import sys\n",
    "!{sys.executable} -m pip install spacy\n",
    "# Download spaCy's  'en' Model\n",
    "!{sys.executable} -m spacy download en\n",
    "import spacy\n",
    "\n",
    "import warnings\n",
    "warnings.filterwarnings(\"ignore\")"
   ]
  },
  {
   "cell_type": "code",
   "execution_count": 2,
   "metadata": {},
   "outputs": [
    {
     "data": {
      "text/html": [
       "<div>\n",
       "<style scoped>\n",
       "    .dataframe tbody tr th:only-of-type {\n",
       "        vertical-align: middle;\n",
       "    }\n",
       "\n",
       "    .dataframe tbody tr th {\n",
       "        vertical-align: top;\n",
       "    }\n",
       "\n",
       "    .dataframe thead th {\n",
       "        text-align: right;\n",
       "    }\n",
       "</style>\n",
       "<table border=\"1\" class=\"dataframe\">\n",
       "  <thead>\n",
       "    <tr style=\"text-align: right;\">\n",
       "      <th></th>\n",
       "      <th>text</th>\n",
       "      <th>toxic</th>\n",
       "    </tr>\n",
       "  </thead>\n",
       "  <tbody>\n",
       "    <tr>\n",
       "      <th>78844</th>\n",
       "      <td>\"\\nI'm not sure on this one, and I don't reall...</td>\n",
       "      <td>0</td>\n",
       "    </tr>\n",
       "    <tr>\n",
       "      <th>111816</th>\n",
       "      <td>Andy Stasny is a fag and likes penis</td>\n",
       "      <td>1</td>\n",
       "    </tr>\n",
       "    <tr>\n",
       "      <th>2142</th>\n",
       "      <td>\"\\n\\n Scorched earth. \\n\\nIf I'm wrong, I apol...</td>\n",
       "      <td>0</td>\n",
       "    </tr>\n",
       "  </tbody>\n",
       "</table>\n",
       "</div>"
      ],
      "text/plain": [
       "                                                     text  toxic\n",
       "78844   \"\\nI'm not sure on this one, and I don't reall...      0\n",
       "111816               Andy Stasny is a fag and likes penis      1\n",
       "2142    \"\\n\\n Scorched earth. \\n\\nIf I'm wrong, I apol...      0"
      ]
     },
     "metadata": {},
     "output_type": "display_data"
    },
    {
     "name": "stdout",
     "output_type": "stream",
     "text": [
      "<class 'pandas.core.frame.DataFrame'>\n",
      "RangeIndex: 159571 entries, 0 to 159570\n",
      "Data columns (total 2 columns):\n",
      " #   Column  Non-Null Count   Dtype \n",
      "---  ------  --------------   ----- \n",
      " 0   text    159571 non-null  object\n",
      " 1   toxic   159571 non-null  int64 \n",
      "dtypes: int64(1), object(1)\n",
      "memory usage: 2.4+ MB\n",
      "None\n",
      "\n",
      "Уникальные значения \"toxic\":  [0 1]\n",
      "Количество дубликатов:  0\n"
     ]
    }
   ],
   "source": [
    "df = pd.read_csv('/datasets/toxic_comments.csv')\n",
    "display(df.sample(3))\n",
    "print(df.info())\n",
    "print('\\nУникальные значения \"toxic\": ', df['toxic'].unique())\n",
    "print('Количество дубликатов: ', df.duplicated().sum())"
   ]
  },
  {
   "cell_type": "markdown",
   "metadata": {},
   "source": [
    "Пропусков и дубликатов нет."
   ]
  },
  {
   "cell_type": "markdown",
   "metadata": {},
   "source": [
    "Посмотрим на баланс классов в целевом признаке."
   ]
  },
  {
   "cell_type": "code",
   "execution_count": 4,
   "metadata": {
    "scrolled": true
   },
   "outputs": [
    {
     "data": {
      "text/plain": [
       "0    143346\n",
       "1     16225\n",
       "Name: toxic, dtype: int64"
      ]
     },
     "execution_count": 4,
     "metadata": {},
     "output_type": "execute_result"
    }
   ],
   "source": [
    "df['toxic'].value_counts()"
   ]
  },
  {
   "cell_type": "markdown",
   "metadata": {},
   "source": [
    "Токсичных отзывов с категорией 1 - 10%. Классы не сбалансированы."
   ]
  },
  {
   "cell_type": "markdown",
   "metadata": {},
   "source": [
    "В исходных данных около 160 тысяч комментариев, примерно 10% из которых - \"токсичные\"."
   ]
  },
  {
   "cell_type": "markdown",
   "metadata": {},
   "source": [
    "#### Очистка текстовых данных"
   ]
  },
  {
   "cell_type": "markdown",
   "metadata": {},
   "source": [
    "Сделаем предобработку текста."
   ]
  },
  {
   "cell_type": "code",
   "execution_count": 5,
   "metadata": {},
   "outputs": [
    {
     "name": "stdout",
     "output_type": "stream",
     "text": [
      "df['text'][22]:\n",
      "\"\n",
      "\n",
      " Snowflakes are NOT always symmetrical! \n",
      "\n",
      "Under Geometry it is stated that \"\"A snowflake always has six symmetric arms.\"\" This assertion is simply not true! According to Kenneth Libbrecht, \"\"The rather unattractive irregular crystals are by far the most common variety.\"\" http://www.its.caltech.edu/~atomic/snowcrystals/myths/myths.htm#perfection Someone really need to take a look at his site and get FACTS off of it because I still see a decent number of falsities on this page. (forgive me Im new at this and dont want to edit anything)\"\n"
     ]
    }
   ],
   "source": [
    "print(\"df['text'][22]:\\n{}\".format(df['text'][22]))"
   ]
  },
  {
   "cell_type": "markdown",
   "metadata": {},
   "source": [
    "Как мы видим, столбец `text` представлен комментариями на английском языке, текст может содержать ссылки, разметку HTML, пунктуацию и другие небуквенные символы.\n",
    "Удалим все знаки препинания, сохранив символы эмоций (эмограммы), поскольку они дают эмоциональную окраску комментариев.\n",
    "\n",
    "Воспользуемся библиотекой регулярных выражений `Python ге` и функцией."
   ]
  },
  {
   "cell_type": "code",
   "execution_count": 6,
   "metadata": {},
   "outputs": [],
   "source": [
    "def preprocessor(text):\n",
    "    text = re.sub('>[^>]*>', '', text) # удаление разметки HTML\n",
    "    text = re.sub('http://\\S+|https://\\S+', '', text) # удаление ссылок\n",
    "    emogramms = re.findall('(?::|;|=)(?:-)?(?:\\)|\\(|D|P)', text) # эмограммы\n",
    "    text = re.sub('[\\W]+', ' ', text.lower())+\\\n",
    "    ' '.join(emogramms).replace ('-', '') # удаление несловарных символов, включение эмограмм, приведение к нижнему регистру \n",
    "    return text"
   ]
  },
  {
   "cell_type": "code",
   "execution_count": 7,
   "metadata": {},
   "outputs": [],
   "source": [
    "df['clear_text'] = df['text'].apply(preprocessor)"
   ]
  },
  {
   "cell_type": "code",
   "execution_count": 8,
   "metadata": {},
   "outputs": [
    {
     "name": "stdout",
     "output_type": "stream",
     "text": [
      "df['clear_text'][22]:\n",
      " snowflakes are not always symmetrical under geometry it is stated that a snowflake always has six symmetric arms this assertion is simply not true according to kenneth libbrecht the rather unattractive irregular crystals are by far the most common variety someone really need to take a look at his site and get facts off of it because i still see a decent number of falsities on this page forgive me im new at this and dont want to edit anything \n"
     ]
    }
   ],
   "source": [
    "print(\"df['clear_text'][22]:\\n{}\".format(df['clear_text'][22]))"
   ]
  },
  {
   "cell_type": "markdown",
   "metadata": {},
   "source": [
    "#### SpaCy лематтизация"
   ]
  },
  {
   "cell_type": "markdown",
   "metadata": {},
   "source": [
    "`SpaCy` по умолчанию определяет часть речи и назначает соответствующую лемму.\n",
    "\n",
    "Напишем функцию lemmatize(text). На вход она принимает текст из корпуса и возвращает лемматизированную строку."
   ]
  },
  {
   "cell_type": "code",
   "execution_count": 9,
   "metadata": {},
   "outputs": [
    {
     "name": "stdout",
     "output_type": "stream",
     "text": [
      "CPU times: user 2 µs, sys: 0 ns, total: 2 µs\n",
      "Wall time: 4.29 µs\n"
     ]
    }
   ],
   "source": [
    "%time\n",
    "\n",
    "nlp = spacy.load('en_core_web_sm') # вариант: ('en', disable=['parser', 'ner'])\n",
    "def lemmatize(text):\n",
    "    doc = nlp(text)\n",
    "    return \" \".join([token.lemma_ for token in doc])\n",
    "df['clear_text'] = df['clear_text'].apply(lemmatize)"
   ]
  },
  {
   "cell_type": "code",
   "execution_count": 10,
   "metadata": {},
   "outputs": [
    {
     "data": {
      "text/html": [
       "<div>\n",
       "<style scoped>\n",
       "    .dataframe tbody tr th:only-of-type {\n",
       "        vertical-align: middle;\n",
       "    }\n",
       "\n",
       "    .dataframe tbody tr th {\n",
       "        vertical-align: top;\n",
       "    }\n",
       "\n",
       "    .dataframe thead th {\n",
       "        text-align: right;\n",
       "    }\n",
       "</style>\n",
       "<table border=\"1\" class=\"dataframe\">\n",
       "  <thead>\n",
       "    <tr style=\"text-align: right;\">\n",
       "      <th></th>\n",
       "      <th>text</th>\n",
       "      <th>toxic</th>\n",
       "      <th>clear_text</th>\n",
       "    </tr>\n",
       "  </thead>\n",
       "  <tbody>\n",
       "    <tr>\n",
       "      <th>109563</th>\n",
       "      <td>\"::: Well then - we can always put in \"\"used i...</td>\n",
       "      <td>0</td>\n",
       "      <td>well then we can always put in use in offici...</td>\n",
       "    </tr>\n",
       "    <tr>\n",
       "      <th>722</th>\n",
       "      <td>Don't peddle your crap please.  Hate to see an...</td>\n",
       "      <td>1</td>\n",
       "      <td>don t peddle your crap please hate to see anot...</td>\n",
       "    </tr>\n",
       "  </tbody>\n",
       "</table>\n",
       "</div>"
      ],
      "text/plain": [
       "                                                     text  toxic  \\\n",
       "109563  \"::: Well then - we can always put in \"\"used i...      0   \n",
       "722     Don't peddle your crap please.  Hate to see an...      1   \n",
       "\n",
       "                                               clear_text  \n",
       "109563    well then we can always put in use in offici...  \n",
       "722     don t peddle your crap please hate to see anot...  "
      ]
     },
     "execution_count": 10,
     "metadata": {},
     "output_type": "execute_result"
    }
   ],
   "source": [
    "df.sample(2)"
   ]
  },
  {
   "cell_type": "markdown",
   "metadata": {},
   "source": [
    "#### Деление на обучающую и тестовую выборки"
   ]
  },
  {
   "cell_type": "markdown",
   "metadata": {},
   "source": [
    "Разобьем данные на обучающую и тестовую выборки перед использованием метода `TF-IDF`."
   ]
  },
  {
   "cell_type": "code",
   "execution_count": 11,
   "metadata": {},
   "outputs": [],
   "source": [
    "X = df['clear_text']\n",
    "y= df['toxic']"
   ]
  },
  {
   "cell_type": "code",
   "execution_count": 12,
   "metadata": {},
   "outputs": [
    {
     "name": "stdout",
     "output_type": "stream",
     "text": [
      "(111699,)\n",
      "(111699,)\n",
      "(47872,)\n",
      "(47872,)\n"
     ]
    }
   ],
   "source": [
    "X_train, X_test, y_train, y_test = train_test_split(X, y, test_size=0.3, random_state=rdm)\n",
    "print(X_train.shape)\n",
    "print(y_train.shape)\n",
    "print(X_test.shape)\n",
    "print(y_test.shape)"
   ]
  },
  {
   "cell_type": "markdown",
   "metadata": {},
   "source": [
    "#### Масштабирование данных с помощью TF-IDF"
   ]
  },
  {
   "cell_type": "code",
   "execution_count": 13,
   "metadata": {},
   "outputs": [
    {
     "data": {
      "text/plain": [
       "TfidfVectorizer(min_df=5,\n",
       "                stop_words={'a', 'about', 'above', 'after', 'again', 'against',\n",
       "                            'ain', 'all', 'am', 'an', 'and', 'any', 'are',\n",
       "                            'aren', \"aren't\", 'as', 'at', 'be', 'because',\n",
       "                            'been', 'before', 'being', 'below', 'between',\n",
       "                            'both', 'but', 'by', 'can', 'couldn', \"couldn't\", ...})"
      ]
     },
     "execution_count": 13,
     "metadata": {},
     "output_type": "execute_result"
    }
   ],
   "source": [
    "count_tf_idf = TfidfVectorizer(min_df=5, stop_words=stopwords)\n",
    "count_tf_idf.fit(X_train)"
   ]
  },
  {
   "cell_type": "code",
   "execution_count": 14,
   "metadata": {},
   "outputs": [],
   "source": [
    "X_train_tf_idf = count_tf_idf.transform(X_train)\n",
    "X_test_tf_idf = count_tf_idf.transform(X_test)"
   ]
  },
  {
   "cell_type": "code",
   "execution_count": 15,
   "metadata": {},
   "outputs": [
    {
     "data": {
      "text/plain": [
       "<111699x23404 sparse matrix of type '<class 'numpy.float64'>'\n",
       "\twith 2834631 stored elements in Compressed Sparse Row format>"
      ]
     },
     "execution_count": 15,
     "metadata": {},
     "output_type": "execute_result"
    }
   ],
   "source": [
    "X_train_tf_idf"
   ]
  },
  {
   "cell_type": "markdown",
   "metadata": {},
   "source": [
    "Посмотрим, какие слова в результате преобразования tf-idf стали наиболее и наименее важными. "
   ]
  },
  {
   "cell_type": "code",
   "execution_count": 16,
   "metadata": {
    "scrolled": true
   },
   "outputs": [
    {
     "name": "stdout",
     "output_type": "stream",
     "text": [
      "Признаки с наименьшими значениями tfidf:\n",
      "['hakenkreuz' 'newl' 'garter' 'gumbel' 'naidu' 'venkaiah' '27510'\n",
      " 'reserache' 'twirl' 'assuredly' 'cedff2' 'cleavage' 'citeref' 'reftest'\n",
      " '37169' 'simpleref' 'footown' 'namedref' 'elizium23' 'tekleni']\n",
      "Признаки с наибольшими значениями tfidf: \n",
      "['poor' 'poop' 'hello' 'wikipedia' 'rabbi' 'expose' 'marry' 'sing' 'smell'\n",
      " 'right' 'help' 'explain' 'situation' 'policy' 'exept' 'try' 'exception'\n",
      " 'usa' 'candidacy' 'wiki']\n"
     ]
    }
   ],
   "source": [
    "max_value = X_train_tf_idf.max(axis=0).toarray().ravel()\n",
    "sorted_by_tfidf = max_value.argsort()\n",
    "# получаем имена признаков\n",
    "feature_names = np.array(count_tf_idf.get_feature_names())\n",
    " \n",
    "print(\"Признаки с наименьшими значениями tfidf:\\n{}\".format(\n",
    " feature_names[sorted_by_tfidf[:20]]))\n",
    " \n",
    "print(\"Признаки с наибольшими значениями tfidf: \\n{}\".format(\n",
    " feature_names[sorted_by_tfidf[-20:]]))"
   ]
  },
  {
   "cell_type": "markdown",
   "metadata": {},
   "source": [
    "Как мы видим, «важное» не обязательно должно быть связано с интересующими нас метками «положительный коммент» или «токсичный коммент». \n",
    "Эти слова вряд ли помогут нам в классификации тональности комментариев, тем не менее они содержат много конкретной информации."
   ]
  },
  {
   "cell_type": "markdown",
   "metadata": {},
   "source": [
    "Посмотрим на слова, которые имеют низкое значение обратной частоты документа, то есть слова, которые встречаются часто и поэтому считаются менее важными."
   ]
  },
  {
   "cell_type": "code",
   "execution_count": 17,
   "metadata": {},
   "outputs": [
    {
     "name": "stdout",
     "output_type": "stream",
     "text": [
      "Признаки с наименьшими значениями idf:\n",
      "['article' 'page' 'talk' 'wikipedia' 'edit' 'make' 'please' 'one' 'like'\n",
      " 'would' 'see' 'use' 'thank' 'think' 'know' 'say' 'go' 'also' 'get' 'well'\n",
      " 'time' 'add' 'source' 'good' 'people' 'need' 'take' 'want' 'look' 'find'\n",
      " 'remove' 'may' 'user' 'even' 'work' 'delete' 'block' 'way' 'could' 'give'\n",
      " 'comment' 'try' 'link' 'name' 'thing' 'change' 'write' 'point'\n",
      " 'information' 'first' 'seem' 'read' 'help' 'much' 'fact' 'new' 'editor'\n",
      " 'right' 'section' 'list' 'really' 'come' 'question' 'discussion' 'many'\n",
      " 'place' 'mean' 'since' 'revert' 'include' 'wp' 'back' 'reference' 'ask'\n",
      " 'someone' 'reason' 'call' 'still' 'stop' 'consider' 'leave' 'note' 'two'\n",
      " 'create' 'put' 'something' 'show' 'state' 'keep' 'utc' 'issue' 'without'\n",
      " 'feel' 'let' 'post' 'year' 'case' 'another' 'mention' 'problem' 'sure'\n",
      " 'believe' 'might' 'content' 'policy' 'word' 'however' 'long' 'start'\n",
      " 'day' 'person' 'claim' 'request' 'part' 'never' 'tell' 'deletion'\n",
      " 'history' 'anything' 'actually' 'regard' 'continue' 'agree' 'hi' 'check'\n",
      " 'hope' 'free' 'far' 'understand' 'already' 'personal' 'nothing' 'though'\n",
      " 'image' 'notice' 'follow' 'great' 'view' 'vandalism' 'wrong' 'explain'\n",
      " 'provide' 'anyone' 'support' 'little' 'attack' 'wiki' 'welcome' 'last'\n",
      " 'opinion' 'rather' 'contribution' 'subject' 'example' 'sorry' 'message'\n",
      " 'site' 'appear' 'tag' 'suggest' 'move' 'hello' 'else' 'admin' 'different'\n",
      " 'world' 'matter' 'must' 'discuss' 'probably' 'lot' 'war' 'either' 'bad'\n",
      " 'term' 'correct' 'least' 'simply' 'enough' 'rule' 'reliable' 'book' 'yes'\n",
      " 'account' 'number' 'clear' 'life' 'non' 'every' 'idea' 'original'\n",
      " 'review' 'address' 'around' 'text' 'exist' 'yet' 'cite' 'instead'\n",
      " 'happen']\n"
     ]
    }
   ],
   "source": [
    "sorted_by_idf = np.argsort(count_tf_idf.idf_)\n",
    "print(\"Признаки с наименьшими значениями idf:\\n{}\".format(feature_names[sorted_by_idf[:200]]))"
   ]
  },
  {
   "cell_type": "markdown",
   "metadata": {},
   "source": [
    "## Обучение моделей"
   ]
  },
  {
   "cell_type": "markdown",
   "metadata": {},
   "source": [
    "В нашем исследовании обучим следующие линейные модели, как наиболее оптимальные (скорость-качество) при работе с текстами:\n",
    "- LogisticRegression\n",
    "- SGD Classifier"
   ]
  },
  {
   "cell_type": "markdown",
   "metadata": {},
   "source": [
    "### LogisticRegression"
   ]
  },
  {
   "cell_type": "code",
   "execution_count": 18,
   "metadata": {},
   "outputs": [
    {
     "name": "stdout",
     "output_type": "stream",
     "text": [
      "CPU times: user 2 µs, sys: 0 ns, total: 2 µs\n",
      "Wall time: 4.05 µs\n",
      "Fitting 5 folds for each of 4 candidates, totalling 20 fits\n",
      "[CV] END .............................................C=0.01; total time=   3.3s\n",
      "[CV] END .............................................C=0.01; total time=   3.7s\n",
      "[CV] END .............................................C=0.01; total time=   3.4s\n",
      "[CV] END .............................................C=0.01; total time=   3.7s\n",
      "[CV] END .............................................C=0.01; total time=   3.2s\n",
      "[CV] END ..............................................C=0.1; total time=  14.0s\n",
      "[CV] END ..............................................C=0.1; total time=  10.2s\n",
      "[CV] END ..............................................C=0.1; total time=  12.2s\n",
      "[CV] END ..............................................C=0.1; total time=  14.0s\n",
      "[CV] END ..............................................C=0.1; total time=  11.9s\n",
      "[CV] END ................................................C=1; total time=  21.3s\n",
      "[CV] END ................................................C=1; total time=  26.7s\n",
      "[CV] END ................................................C=1; total time=  24.8s\n",
      "[CV] END ................................................C=1; total time=  28.1s\n",
      "[CV] END ................................................C=1; total time=  26.6s\n",
      "[CV] END ...............................................C=10; total time=  22.2s\n",
      "[CV] END ...............................................C=10; total time=  26.7s\n",
      "[CV] END ...............................................C=10; total time=  26.8s\n",
      "[CV] END ...............................................C=10; total time=  27.1s\n",
      "[CV] END ...............................................C=10; total time=  26.7s\n",
      "F1 лучшей модели LogisticRegression: 0.7733 \n",
      "Лучшая модель: {'C': 10}\n"
     ]
    }
   ],
   "source": [
    "%time\n",
    "\n",
    "param_grid_lg = {'C': [0.01, 0.1, 1, 10]}\n",
    "lg = LogisticRegression(random_state=12345, class_weight='balance')\n",
    "grid_search_lg = GridSearchCV(estimator=lg, param_grid=param_grid_lg, scoring='f1', \n",
    "                              cv=5, n_jobs=-1, verbose=2)\n",
    "grid_search_lg.fit(X_train_tf_idf, y_train)\n",
    "print(\"F1 лучшей модели LogisticRegression:\", (grid_search_lg.best_score_).round(4),\n",
    "      \"\\nЛучшая модель:\", grid_search_lg.best_params_)"
   ]
  },
  {
   "cell_type": "markdown",
   "metadata": {},
   "source": [
    "F1 лучшей модели LogisticRegression: 0.7733 (с class_weight='balance')\n",
    "\n",
    "\n",
    "F1 лучшей модели LogisticRegression: 0.7765\n",
    "\n",
    "Лучшая модель: {'C': 10}"
   ]
  },
  {
   "cell_type": "markdown",
   "metadata": {},
   "source": [
    "### SGD Classifier"
   ]
  },
  {
   "cell_type": "code",
   "execution_count": 19,
   "metadata": {
    "scrolled": true
   },
   "outputs": [
    {
     "name": "stdout",
     "output_type": "stream",
     "text": [
      "CPU times: user 17 µs, sys: 2 µs, total: 19 µs\n",
      "Wall time: 6.68 µs\n",
      "Fitting 5 folds for each of 10 candidates, totalling 50 fits\n",
      "[CV] END .............................alpha=0.01, penalty=l2; total time=   0.5s\n",
      "[CV] END .............................alpha=0.01, penalty=l2; total time=   0.5s\n",
      "[CV] END .............................alpha=0.01, penalty=l2; total time=   0.4s\n",
      "[CV] END .............................alpha=0.01, penalty=l2; total time=   0.4s\n",
      "[CV] END .............................alpha=0.01, penalty=l2; total time=   0.5s\n",
      "[CV] END .............................alpha=0.01, penalty=l1; total time=   0.5s\n",
      "[CV] END .............................alpha=0.01, penalty=l1; total time=   0.5s\n",
      "[CV] END .............................alpha=0.01, penalty=l1; total time=   0.5s\n",
      "[CV] END .............................alpha=0.01, penalty=l1; total time=   0.5s\n",
      "[CV] END .............................alpha=0.01, penalty=l1; total time=   0.5s\n",
      "[CV] END ............................alpha=0.001, penalty=l2; total time=   0.4s\n",
      "[CV] END ............................alpha=0.001, penalty=l2; total time=   0.4s\n",
      "[CV] END ............................alpha=0.001, penalty=l2; total time=   0.4s\n",
      "[CV] END ............................alpha=0.001, penalty=l2; total time=   0.3s\n",
      "[CV] END ............................alpha=0.001, penalty=l2; total time=   0.3s\n",
      "[CV] END ............................alpha=0.001, penalty=l1; total time=   0.5s\n",
      "[CV] END ............................alpha=0.001, penalty=l1; total time=   0.4s\n",
      "[CV] END ............................alpha=0.001, penalty=l1; total time=   0.4s\n",
      "[CV] END ............................alpha=0.001, penalty=l1; total time=   0.4s\n",
      "[CV] END ............................alpha=0.001, penalty=l1; total time=   0.4s\n",
      "[CV] END ...........................alpha=0.0001, penalty=l2; total time=   0.3s\n",
      "[CV] END ...........................alpha=0.0001, penalty=l2; total time=   0.4s\n",
      "[CV] END ...........................alpha=0.0001, penalty=l2; total time=   0.4s\n",
      "[CV] END ...........................alpha=0.0001, penalty=l2; total time=   0.4s\n",
      "[CV] END ...........................alpha=0.0001, penalty=l2; total time=   0.4s\n",
      "[CV] END ...........................alpha=0.0001, penalty=l1; total time=   0.4s\n",
      "[CV] END ...........................alpha=0.0001, penalty=l1; total time=   0.4s\n",
      "[CV] END ...........................alpha=0.0001, penalty=l1; total time=   0.4s\n",
      "[CV] END ...........................alpha=0.0001, penalty=l1; total time=   0.5s\n",
      "[CV] END ...........................alpha=0.0001, penalty=l1; total time=   0.5s\n",
      "[CV] END ............................alpha=1e-05, penalty=l2; total time=   0.4s\n",
      "[CV] END ............................alpha=1e-05, penalty=l2; total time=   0.4s\n",
      "[CV] END ............................alpha=1e-05, penalty=l2; total time=   0.4s\n",
      "[CV] END ............................alpha=1e-05, penalty=l2; total time=   0.4s\n",
      "[CV] END ............................alpha=1e-05, penalty=l2; total time=   0.4s\n",
      "[CV] END ............................alpha=1e-05, penalty=l1; total time=   0.5s\n",
      "[CV] END ............................alpha=1e-05, penalty=l1; total time=   0.5s\n",
      "[CV] END ............................alpha=1e-05, penalty=l1; total time=   0.5s\n",
      "[CV] END ............................alpha=1e-05, penalty=l1; total time=   0.5s\n",
      "[CV] END ............................alpha=1e-05, penalty=l1; total time=   0.6s\n",
      "[CV] END ............................alpha=1e-06, penalty=l2; total time=   0.5s\n",
      "[CV] END ............................alpha=1e-06, penalty=l2; total time=   0.5s\n",
      "[CV] END ............................alpha=1e-06, penalty=l2; total time=   0.5s\n",
      "[CV] END ............................alpha=1e-06, penalty=l2; total time=   0.5s\n",
      "[CV] END ............................alpha=1e-06, penalty=l2; total time=   0.5s\n",
      "[CV] END ............................alpha=1e-06, penalty=l1; total time=   0.8s\n",
      "[CV] END ............................alpha=1e-06, penalty=l1; total time=   0.7s\n",
      "[CV] END ............................alpha=1e-06, penalty=l1; total time=   0.8s\n",
      "[CV] END ............................alpha=1e-06, penalty=l1; total time=   0.8s\n",
      "[CV] END ............................alpha=1e-06, penalty=l1; total time=   0.8s\n",
      "F1 лучшей модели SGDClassifier: 0.7739 \n",
      "Лучшая модель: {'alpha': 1e-05, 'penalty': 'l1'}\n"
     ]
    }
   ],
   "source": [
    "%time\n",
    "\n",
    "param_grid_sgd = {\n",
    "    \"alpha\" : [1e-02, 1e-03, 1e-04, 1e-05, 1e-06],\n",
    "    \"penalty\" : [\"l2\", \"l1\"]\n",
    "}\n",
    "sgd = SGDClassifier(random_state=12345, loss=\"log\")\n",
    "grid_search_sgd = GridSearchCV(estimator=sgd, param_grid=param_grid_sgd, scoring='f1', \n",
    "                              cv=5, n_jobs=-1, verbose=2)\n",
    "grid_search_sgd.fit(X_train_tf_idf, y_train)\n",
    "print(\"F1 лучшей модели SGDClassifier:\", (grid_search_sgd.best_score_).round(4),\n",
    "      \"\\nЛучшая модель:\", grid_search_sgd.best_params_)"
   ]
  },
  {
   "cell_type": "markdown",
   "metadata": {},
   "source": [
    "F1 лучшей модели SGDClassifier: 0.777\n",
    "\n",
    "Лучшая модель: {'alpha': 1e-06, 'penalty': 'l2'}"
   ]
  },
  {
   "cell_type": "markdown",
   "metadata": {},
   "source": [
    "## Тестирование"
   ]
  },
  {
   "cell_type": "markdown",
   "metadata": {},
   "source": [
    "### LogisticRegression"
   ]
  },
  {
   "cell_type": "code",
   "execution_count": 26,
   "metadata": {},
   "outputs": [
    {
     "name": "stdout",
     "output_type": "stream",
     "text": [
      "F1 LogisticRegression на тестовой выборке: 0.7889\n",
      "CPU times: user 7.59 s, sys: 18.6 s, total: 26.2 s\n",
      "Wall time: 26.2 s\n"
     ]
    }
   ],
   "source": [
    "%%time\n",
    "\n",
    "# Лучшая модель: {'C': 10}\n",
    "lg_best = LogisticRegression(C=10, random_state=12345, class_weight='balance')\n",
    "lg_best.fit(X_train_tf_idf, y_train)\n",
    "\n",
    "target_predict_lg = lg_best.predict(X_test_tf_idf)\n",
    "\n",
    "# F1 лучшей модели LinearRegression на обучающей выборке: 0.7765\n",
    "f1_lg_best_test = f1_score(y_test, target_predict_lg)\n",
    "print(\"F1 LogisticRegression на тестовой выборке:\", f1_lg_best_test.round(4))"
   ]
  },
  {
   "cell_type": "markdown",
   "metadata": {},
   "source": [
    "F1 LogisticRegression на тестовой выборке: 0.7889 (с class_weight='balance')\n",
    "\n",
    "\n",
    "F1 LogisticRegression на тестовой выборке: 0.7752\n",
    "\n",
    "CPU times: user 7.28 s, sys: 20.3 s, total: 27.6 s\n",
    "\n",
    "Wall time: 27.7 s"
   ]
  },
  {
   "cell_type": "markdown",
   "metadata": {},
   "source": [
    "### SGD Classifier"
   ]
  },
  {
   "cell_type": "code",
   "execution_count": 21,
   "metadata": {},
   "outputs": [
    {
     "name": "stdout",
     "output_type": "stream",
     "text": [
      "F1 SGDClassifier на тестовой выборке: 0.7889\n",
      "CPU times: user 535 ms, sys: 106 ms, total: 641 ms\n",
      "Wall time: 652 ms\n"
     ]
    }
   ],
   "source": [
    "%%time\n",
    "\n",
    "# Лучшая модель: {'alpha': 1e-06, 'penalty': 'l2'}\n",
    "sgd_best = SGDClassifier(alpha=1e-06, penalty='l2', random_state=12345, loss=\"log\")\n",
    "sgd_best.fit(X_train_tf_idf, y_train)\n",
    "\n",
    "target_predict_sgd = sgd_best.predict(X_test_tf_idf)\n",
    "\n",
    "# F1 лучшей модели SGDClassifier на обучающей выборке: 0.777\n",
    "f1_sgd_best_test = f1_score(y_test, target_predict_lg)\n",
    "print(\"F1 SGDClassifier на тестовой выборке:\", f1_sgd_best_test.round(4))"
   ]
  },
  {
   "cell_type": "markdown",
   "metadata": {},
   "source": [
    "F1 SGDClassifier на тестовой выборке: 0.7752\n",
    "\n",
    "CPU times: user 546 ms, sys: 120 ms, total: 665 ms\n",
    "\n",
    "Wall time: 621 ms"
   ]
  },
  {
   "cell_type": "markdown",
   "metadata": {},
   "source": [
    "## Сравнение результатов"
   ]
  },
  {
   "cell_type": "markdown",
   "metadata": {},
   "source": [
    "### Confusion Matrix\n",
    "\n",
    "Для визуализации качества предсказания моделей обратимся к `Confusion Matrix`. Используем функцию."
   ]
  },
  {
   "cell_type": "code",
   "execution_count": 22,
   "metadata": {},
   "outputs": [],
   "source": [
    "def model_conf_matrix(model, feature, target):\n",
    "\n",
    "    pred = model.predict(feature)\n",
    "    conf_matrix = confusion_matrix(target, pred)\n",
    "    \n",
    "    print('F1_score = {:.3}'.format(f1_score(target, pred)))\n",
    "    \n",
    "    plt.figure(figsize=(4,4))\n",
    "    sns.heatmap(conf_matrix, annot=True, cmap=\"Oranges\", cbar=False, fmt=\"d\")\n",
    "    plt.title('Confusion Matrix');"
   ]
  },
  {
   "cell_type": "code",
   "execution_count": 23,
   "metadata": {},
   "outputs": [
    {
     "name": "stdout",
     "output_type": "stream",
     "text": [
      "LogisticRegression, тестовая выборка\n",
      "F1_score = 0.789\n"
     ]
    },
    {
     "data": {
      "image/png": "[encoded data removed]",
      "text/plain": [
       "<Figure size 288x288 with 1 Axes>"
      ]
     },
     "metadata": {
      "needs_background": "light"
     },
     "output_type": "display_data"
    }
   ],
   "source": [
    "print('LogisticRegression, тестовая выборка')\n",
    "model_conf_matrix(lg_best, X_test_tf_idf, y_test)"
   ]
  },
  {
   "cell_type": "code",
   "execution_count": 24,
   "metadata": {
    "scrolled": true
   },
   "outputs": [
    {
     "name": "stdout",
     "output_type": "stream",
     "text": [
      "SGDClassifier, тестовая выборка\n",
      "F1_score = 0.788\n"
     ]
    },
    {
     "data": {
      "image/png": "[encoded data removed]",
      "text/plain": [
       "<Figure size 288x288 with 1 Axes>"
      ]
     },
     "metadata": {
      "needs_background": "light"
     },
     "output_type": "display_data"
    }
   ],
   "source": [
    "print('SGDClassifier, тестовая выборка')\n",
    "model_conf_matrix(sgd_best, X_test_tf_idf, y_test)"
   ]
  },
  {
   "cell_type": "markdown",
   "metadata": {},
   "source": [
    "Поскольку в нашем исследовании стоит задача выявления токсичных комментариев, то SGDClassifier показывает чуть лучшие результаты по сравнению с LogisticRegression: TN выше, и ошибка второго рода меньше, однако ошибка первого рода выше.\n",
    "\n",
    "Суммарно ошибки составляют около 4% от предсказанных значений на тестовой выборке."
   ]
  },
  {
   "cell_type": "markdown",
   "metadata": {},
   "source": [
    "Занесем данные в итоговую сравнительную таблицу."
   ]
  },
  {
   "cell_type": "code",
   "execution_count": 25,
   "metadata": {},
   "outputs": [
    {
     "data": {
      "text/html": [
       "<div>\n",
       "<style scoped>\n",
       "    .dataframe tbody tr th:only-of-type {\n",
       "        vertical-align: middle;\n",
       "    }\n",
       "\n",
       "    .dataframe tbody tr th {\n",
       "        vertical-align: top;\n",
       "    }\n",
       "\n",
       "    .dataframe thead th {\n",
       "        text-align: right;\n",
       "    }\n",
       "</style>\n",
       "<table border=\"1\" class=\"dataframe\">\n",
       "  <thead>\n",
       "    <tr style=\"text-align: right;\">\n",
       "      <th></th>\n",
       "      <th>F1 модели на обучающей выборке</th>\n",
       "      <th>F1 модели на тестовой выборке</th>\n",
       "    </tr>\n",
       "  </thead>\n",
       "  <tbody>\n",
       "    <tr>\n",
       "      <th>LogisticRegression</th>\n",
       "      <td>0.7765</td>\n",
       "      <td>0.7752</td>\n",
       "    </tr>\n",
       "    <tr>\n",
       "      <th>SGDClassifier</th>\n",
       "      <td>0.7770</td>\n",
       "      <td>0.7752</td>\n",
       "    </tr>\n",
       "  </tbody>\n",
       "</table>\n",
       "</div>"
      ],
      "text/plain": [
       "                    F1 модели на обучающей выборке  \\\n",
       "LogisticRegression                          0.7765   \n",
       "SGDClassifier                               0.7770   \n",
       "\n",
       "                    F1 модели на тестовой выборке  \n",
       "LogisticRegression                         0.7752  \n",
       "SGDClassifier                              0.7752  "
      ]
     },
     "execution_count": 25,
     "metadata": {},
     "output_type": "execute_result"
    }
   ],
   "source": [
    "index = ['LogisticRegression',\n",
    "         'SGDClassifier']\n",
    "data = {'F1 модели на обучающей выборке':[0.7765, \n",
    "                                          0.777],\n",
    "        'F1 модели на тестовой выборке':[0.7752,\n",
    "                                         0.7752]}\n",
    "\n",
    "summary = pd.DataFrame(data=data, index=index)\n",
    "summary"
   ]
  },
  {
   "cell_type": "markdown",
   "metadata": {},
   "source": [
    "## Выводы"
   ]
  },
  {
   "cell_type": "markdown",
   "metadata": {},
   "source": [
    "**Вывод:** \n",
    "\n",
    "Обе линейные модели `LogisticRegression` и `SGDClassifier` показали хорошие результаты при работе с нашими текстовыми данными, показав одинаковый F1 на тестовой выборке, равный 0.7752. Учитывая результаты, полученные на `Confusion Matrix`, лучшей моделью выберем `SGDClassifier` с подобранными гиперпараметрами: 'alpha': 1e-06, 'penalty': 'l2'."
   ]
  },
  {
   "cell_type": "markdown",
   "metadata": {},
   "source": [
    "Вернуться в [начало](#startpage)."
   ]
  }
 ],
 "metadata": {
  "ExecuteTimeLog": [
   {
    "duration": 44,
    "start_time": "2022-06-10T11:42:45.615Z"
   },
   {
    "duration": 57,
    "start_time": "2022-06-10T11:42:58.026Z"
   },
   {
    "duration": 376,
    "start_time": "2022-06-10T11:43:10.959Z"
   },
   {
    "duration": 33,
    "start_time": "2022-06-10T11:43:13.011Z"
   },
   {
    "duration": 2314,
    "start_time": "2022-06-10T11:44:17.902Z"
   },
   {
    "duration": 826,
    "start_time": "2022-06-10T11:45:55.835Z"
   },
   {
    "duration": 840,
    "start_time": "2022-06-10T11:49:30.934Z"
   },
   {
    "duration": 783,
    "start_time": "2022-06-10T11:50:23.375Z"
   },
   {
    "duration": 63,
    "start_time": "2022-06-10T11:52:13.584Z"
   },
   {
    "duration": 28,
    "start_time": "2022-06-10T11:54:05.422Z"
   },
   {
    "duration": 21,
    "start_time": "2022-06-10T11:54:17.821Z"
   },
   {
    "duration": 638,
    "start_time": "2022-06-10T11:56:09.201Z"
   },
   {
    "duration": 36,
    "start_time": "2022-06-10T11:57:09.160Z"
   },
   {
    "duration": 3,
    "start_time": "2022-06-10T11:57:14.057Z"
   },
   {
    "duration": 3,
    "start_time": "2022-06-10T11:57:37.732Z"
   },
   {
    "duration": 20,
    "start_time": "2022-06-10T12:01:09.962Z"
   },
   {
    "duration": 821,
    "start_time": "2022-06-10T12:01:49.028Z"
   },
   {
    "duration": 22,
    "start_time": "2022-06-10T12:01:52.742Z"
   },
   {
    "duration": 27,
    "start_time": "2022-06-10T12:03:27.300Z"
   },
   {
    "duration": 8,
    "start_time": "2022-06-10T12:07:51.938Z"
   },
   {
    "duration": 1935,
    "start_time": "2022-06-10T12:08:02.533Z"
   },
   {
    "duration": 32,
    "start_time": "2022-06-10T12:08:07.707Z"
   },
   {
    "duration": 9646,
    "start_time": "2022-06-10T12:08:32.394Z"
   },
   {
    "duration": 9682,
    "start_time": "2022-06-10T12:10:11.149Z"
   },
   {
    "duration": 3,
    "start_time": "2022-06-10T12:10:30.786Z"
   },
   {
    "duration": 9913,
    "start_time": "2022-06-10T12:12:01.031Z"
   },
   {
    "duration": 3,
    "start_time": "2022-06-10T12:13:15.986Z"
   },
   {
    "duration": 45,
    "start_time": "2022-06-10T12:15:32.287Z"
   },
   {
    "duration": 860,
    "start_time": "2022-06-10T12:15:59.175Z"
   },
   {
    "duration": 2371,
    "start_time": "2022-06-10T12:16:00.036Z"
   },
   {
    "duration": 1904,
    "start_time": "2022-06-10T12:16:02.408Z"
   },
   {
    "duration": 9305,
    "start_time": "2022-06-10T12:16:04.314Z"
   },
   {
    "duration": 185,
    "start_time": "2022-06-10T12:16:13.620Z"
   },
   {
    "duration": 36,
    "start_time": "2022-06-10T12:27:18.062Z"
   },
   {
    "duration": 403,
    "start_time": "2022-06-10T12:27:54.239Z"
   },
   {
    "duration": 5,
    "start_time": "2022-06-10T12:33:46.253Z"
   },
   {
    "duration": 23,
    "start_time": "2022-06-10T12:39:43.252Z"
   },
   {
    "duration": 5,
    "start_time": "2022-06-10T12:51:30.271Z"
   },
   {
    "duration": 188,
    "start_time": "2022-06-10T16:23:49.482Z"
   },
   {
    "duration": 160,
    "start_time": "2022-06-10T16:24:01.892Z"
   },
   {
    "duration": 796,
    "start_time": "2022-06-10T16:24:33.271Z"
   },
   {
    "duration": 24,
    "start_time": "2022-06-10T16:25:00.785Z"
   },
   {
    "duration": 36,
    "start_time": "2022-06-10T16:34:53.032Z"
   },
   {
    "duration": 4,
    "start_time": "2022-06-10T16:35:23.506Z"
   },
   {
    "duration": 4,
    "start_time": "2022-06-10T16:35:32.340Z"
   },
   {
    "duration": 91,
    "start_time": "2022-06-10T16:35:35.079Z"
   },
   {
    "duration": 11,
    "start_time": "2022-06-10T16:37:38.387Z"
   },
   {
    "duration": 4434,
    "start_time": "2022-06-10T16:38:02.250Z"
   },
   {
    "duration": 9,
    "start_time": "2022-06-10T16:42:09.407Z"
   },
   {
    "duration": 335,
    "start_time": "2022-06-10T17:50:42.602Z"
   },
   {
    "duration": 4,
    "start_time": "2022-06-10T17:51:51.926Z"
   },
   {
    "duration": 3,
    "start_time": "2022-06-10T17:52:23.090Z"
   },
   {
    "duration": 1346,
    "start_time": "2022-06-10T17:52:49.958Z"
   },
   {
    "duration": 859,
    "start_time": "2022-06-10T17:52:51.306Z"
   },
   {
    "duration": 13,
    "start_time": "2022-06-10T17:52:52.167Z"
   },
   {
    "duration": 8,
    "start_time": "2022-06-10T17:52:52.182Z"
   },
   {
    "duration": 1898,
    "start_time": "2022-06-10T17:52:52.191Z"
   },
   {
    "duration": 9525,
    "start_time": "2022-06-10T17:52:54.090Z"
   },
   {
    "duration": 198,
    "start_time": "2022-06-10T17:53:03.617Z"
   },
   {
    "duration": 12,
    "start_time": "2022-06-10T17:53:03.816Z"
   },
   {
    "duration": 4499,
    "start_time": "2022-06-10T17:53:03.830Z"
   },
   {
    "duration": 9,
    "start_time": "2022-06-10T17:53:08.331Z"
   },
   {
    "duration": 12,
    "start_time": "2022-06-10T17:53:08.342Z"
   },
   {
    "duration": 122,
    "start_time": "2022-06-10T17:53:08.356Z"
   },
   {
    "duration": 0,
    "start_time": "2022-06-10T17:53:08.480Z"
   },
   {
    "duration": 0,
    "start_time": "2022-06-10T17:53:08.480Z"
   },
   {
    "duration": 5,
    "start_time": "2022-06-10T17:54:00.238Z"
   },
   {
    "duration": 1348,
    "start_time": "2022-06-10T17:54:25.178Z"
   },
   {
    "duration": 870,
    "start_time": "2022-06-10T17:54:26.527Z"
   },
   {
    "duration": 12,
    "start_time": "2022-06-10T17:54:27.400Z"
   },
   {
    "duration": 6,
    "start_time": "2022-06-10T17:54:27.427Z"
   },
   {
    "duration": 1928,
    "start_time": "2022-06-10T17:54:27.435Z"
   },
   {
    "duration": 9986,
    "start_time": "2022-06-10T17:54:29.365Z"
   },
   {
    "duration": 200,
    "start_time": "2022-06-10T17:54:39.353Z"
   },
   {
    "duration": 4,
    "start_time": "2022-06-10T17:54:39.554Z"
   },
   {
    "duration": 4365,
    "start_time": "2022-06-10T17:54:39.559Z"
   },
   {
    "duration": 10,
    "start_time": "2022-06-10T17:54:43.926Z"
   },
   {
    "duration": 10,
    "start_time": "2022-06-10T17:54:43.937Z"
   },
   {
    "duration": 122,
    "start_time": "2022-06-10T17:54:43.948Z"
   },
   {
    "duration": 0,
    "start_time": "2022-06-10T17:54:44.072Z"
   },
   {
    "duration": 0,
    "start_time": "2022-06-10T17:54:44.073Z"
   },
   {
    "duration": 5,
    "start_time": "2022-06-10T17:56:04.599Z"
   },
   {
    "duration": 4,
    "start_time": "2022-06-10T17:56:25.001Z"
   },
   {
    "duration": 1322,
    "start_time": "2022-06-10T17:59:36.396Z"
   },
   {
    "duration": 839,
    "start_time": "2022-06-10T17:59:37.720Z"
   },
   {
    "duration": 11,
    "start_time": "2022-06-10T17:59:38.560Z"
   },
   {
    "duration": 5,
    "start_time": "2022-06-10T17:59:38.573Z"
   },
   {
    "duration": 1896,
    "start_time": "2022-06-10T17:59:38.581Z"
   },
   {
    "duration": 9316,
    "start_time": "2022-06-10T17:59:40.479Z"
   },
   {
    "duration": 261,
    "start_time": "2022-06-10T17:59:49.796Z"
   },
   {
    "duration": 0,
    "start_time": "2022-06-10T17:59:50.059Z"
   },
   {
    "duration": 0,
    "start_time": "2022-06-10T17:59:50.060Z"
   },
   {
    "duration": 1,
    "start_time": "2022-06-10T17:59:50.061Z"
   },
   {
    "duration": 0,
    "start_time": "2022-06-10T17:59:50.063Z"
   },
   {
    "duration": 0,
    "start_time": "2022-06-10T17:59:50.064Z"
   },
   {
    "duration": 0,
    "start_time": "2022-06-10T17:59:50.065Z"
   },
   {
    "duration": 0,
    "start_time": "2022-06-10T17:59:50.066Z"
   },
   {
    "duration": 195,
    "start_time": "2022-06-10T17:59:59.667Z"
   },
   {
    "duration": 4,
    "start_time": "2022-06-10T18:00:54.419Z"
   },
   {
    "duration": 3,
    "start_time": "2022-06-10T18:01:09.799Z"
   },
   {
    "duration": 4,
    "start_time": "2022-06-10T18:01:19.904Z"
   },
   {
    "duration": 5,
    "start_time": "2022-06-10T18:01:26.252Z"
   },
   {
    "duration": 4,
    "start_time": "2022-06-10T18:01:35.262Z"
   },
   {
    "duration": 4,
    "start_time": "2022-06-10T18:01:47.523Z"
   },
   {
    "duration": 4,
    "start_time": "2022-06-10T18:02:40.753Z"
   },
   {
    "duration": 3,
    "start_time": "2022-06-10T18:09:57.781Z"
   },
   {
    "duration": 2492,
    "start_time": "2022-06-10T18:10:16.086Z"
   },
   {
    "duration": 915,
    "start_time": "2022-06-10T18:10:18.580Z"
   },
   {
    "duration": 14,
    "start_time": "2022-06-10T18:10:19.500Z"
   },
   {
    "duration": 4,
    "start_time": "2022-06-10T18:10:19.530Z"
   },
   {
    "duration": 2065,
    "start_time": "2022-06-10T18:10:19.539Z"
   },
   {
    "duration": 10851,
    "start_time": "2022-06-10T18:10:21.606Z"
   },
   {
    "duration": 225,
    "start_time": "2022-06-10T18:10:32.459Z"
   },
   {
    "duration": 4,
    "start_time": "2022-06-10T18:10:32.685Z"
   },
   {
    "duration": 5279,
    "start_time": "2022-06-10T18:10:32.690Z"
   },
   {
    "duration": 4,
    "start_time": "2022-06-10T18:10:37.970Z"
   },
   {
    "duration": 7,
    "start_time": "2022-06-10T18:10:37.975Z"
   },
   {
    "duration": 126,
    "start_time": "2022-06-10T18:10:37.984Z"
   },
   {
    "duration": 0,
    "start_time": "2022-06-10T18:10:38.112Z"
   },
   {
    "duration": 0,
    "start_time": "2022-06-10T18:10:38.113Z"
   },
   {
    "duration": 4,
    "start_time": "2022-06-10T18:17:00.316Z"
   },
   {
    "duration": 4,
    "start_time": "2022-06-10T18:17:16.716Z"
   },
   {
    "duration": 5365,
    "start_time": "2022-06-10T18:17:18.855Z"
   },
   {
    "duration": 6,
    "start_time": "2022-06-10T18:17:24.222Z"
   },
   {
    "duration": 1473,
    "start_time": "2022-06-10T18:17:43.798Z"
   },
   {
    "duration": 983,
    "start_time": "2022-06-10T18:17:45.273Z"
   },
   {
    "duration": 14,
    "start_time": "2022-06-10T18:17:46.258Z"
   },
   {
    "duration": 15,
    "start_time": "2022-06-10T18:17:46.275Z"
   },
   {
    "duration": 2181,
    "start_time": "2022-06-10T18:17:46.293Z"
   },
   {
    "duration": 10569,
    "start_time": "2022-06-10T18:17:48.475Z"
   },
   {
    "duration": 256,
    "start_time": "2022-06-10T18:17:59.047Z"
   },
   {
    "duration": 5,
    "start_time": "2022-06-10T18:17:59.306Z"
   },
   {
    "duration": 6005,
    "start_time": "2022-06-10T18:17:59.313Z"
   },
   {
    "duration": 4,
    "start_time": "2022-06-10T18:18:05.320Z"
   },
   {
    "duration": 22,
    "start_time": "2022-06-10T18:18:05.328Z"
   },
   {
    "duration": 122,
    "start_time": "2022-06-10T18:18:05.353Z"
   },
   {
    "duration": 0,
    "start_time": "2022-06-10T18:18:05.477Z"
   },
   {
    "duration": 0,
    "start_time": "2022-06-10T18:18:05.479Z"
   },
   {
    "duration": 4,
    "start_time": "2022-06-10T18:25:31.564Z"
   },
   {
    "duration": 4963,
    "start_time": "2022-06-10T18:26:15.116Z"
   },
   {
    "duration": 3,
    "start_time": "2022-06-10T18:26:20.081Z"
   },
   {
    "duration": 1512,
    "start_time": "2022-06-10T18:26:35.229Z"
   },
   {
    "duration": 954,
    "start_time": "2022-06-10T18:26:36.743Z"
   },
   {
    "duration": 11,
    "start_time": "2022-06-10T18:26:37.699Z"
   },
   {
    "duration": 25,
    "start_time": "2022-06-10T18:26:37.711Z"
   },
   {
    "duration": 2110,
    "start_time": "2022-06-10T18:26:37.738Z"
   },
   {
    "duration": 10301,
    "start_time": "2022-06-10T18:26:39.853Z"
   },
   {
    "duration": 200,
    "start_time": "2022-06-10T18:26:50.156Z"
   },
   {
    "duration": 4,
    "start_time": "2022-06-10T18:26:50.358Z"
   },
   {
    "duration": 4881,
    "start_time": "2022-06-10T18:26:50.363Z"
   },
   {
    "duration": 7,
    "start_time": "2022-06-10T18:26:55.248Z"
   },
   {
    "duration": 10,
    "start_time": "2022-06-10T18:26:55.257Z"
   },
   {
    "duration": 140,
    "start_time": "2022-06-10T18:26:55.269Z"
   },
   {
    "duration": 0,
    "start_time": "2022-06-10T18:26:55.411Z"
   },
   {
    "duration": 0,
    "start_time": "2022-06-10T18:26:55.412Z"
   },
   {
    "duration": 11,
    "start_time": "2022-06-10T19:03:26.171Z"
   },
   {
    "duration": 9,
    "start_time": "2022-06-10T19:04:00.815Z"
   },
   {
    "duration": 5,
    "start_time": "2022-06-10T19:07:02.430Z"
   },
   {
    "duration": 25,
    "start_time": "2022-06-10T19:07:09.663Z"
   },
   {
    "duration": 32,
    "start_time": "2022-06-10T19:16:24.034Z"
   },
   {
    "duration": 42,
    "start_time": "2022-06-10T19:16:47.360Z"
   },
   {
    "duration": 1866,
    "start_time": "2022-06-10T19:17:12.704Z"
   },
   {
    "duration": 68,
    "start_time": "2022-06-10T19:17:24.355Z"
   },
   {
    "duration": 8,
    "start_time": "2022-06-10T19:17:34.621Z"
   },
   {
    "duration": 1201,
    "start_time": "2022-06-10T19:17:52.382Z"
   },
   {
    "duration": 2316,
    "start_time": "2022-06-10T19:17:53.585Z"
   },
   {
    "duration": 13,
    "start_time": "2022-06-10T19:17:55.903Z"
   },
   {
    "duration": 9,
    "start_time": "2022-06-10T19:17:55.918Z"
   },
   {
    "duration": 1757,
    "start_time": "2022-06-10T19:18:33.256Z"
   },
   {
    "duration": 2296,
    "start_time": "2022-06-10T19:18:35.015Z"
   },
   {
    "duration": 10,
    "start_time": "2022-06-10T19:18:37.312Z"
   },
   {
    "duration": 18,
    "start_time": "2022-06-10T19:18:37.324Z"
   },
   {
    "duration": 2100,
    "start_time": "2022-06-10T19:28:58.940Z"
   },
   {
    "duration": 2420,
    "start_time": "2022-06-10T19:29:01.042Z"
   },
   {
    "duration": 13,
    "start_time": "2022-06-10T19:29:03.463Z"
   },
   {
    "duration": 4,
    "start_time": "2022-06-10T19:29:03.478Z"
   },
   {
    "duration": 1658,
    "start_time": "2022-06-10T19:39:41.143Z"
   },
   {
    "duration": 2333,
    "start_time": "2022-06-10T19:39:42.802Z"
   },
   {
    "duration": 11,
    "start_time": "2022-06-10T19:39:45.136Z"
   },
   {
    "duration": 6,
    "start_time": "2022-06-10T19:39:45.149Z"
   },
   {
    "duration": 42,
    "start_time": "2022-06-10T19:46:24.588Z"
   },
   {
    "duration": 1837,
    "start_time": "2022-06-10T19:46:49.799Z"
   },
   {
    "duration": 2625,
    "start_time": "2022-06-10T19:47:00.151Z"
   },
   {
    "duration": 25,
    "start_time": "2022-06-10T19:49:58.227Z"
   },
   {
    "duration": 32,
    "start_time": "2022-06-10T19:50:30.030Z"
   },
   {
    "duration": 1034,
    "start_time": "2022-06-10T19:50:53.174Z"
   },
   {
    "duration": 965,
    "start_time": "2022-06-10T19:51:28.550Z"
   },
   {
    "duration": 931,
    "start_time": "2022-06-10T19:51:51.159Z"
   },
   {
    "duration": 1022,
    "start_time": "2022-06-10T19:52:11.198Z"
   },
   {
    "duration": 46,
    "start_time": "2022-06-10T19:52:32.391Z"
   },
   {
    "duration": 7,
    "start_time": "2022-06-10T19:52:51.733Z"
   },
   {
    "duration": 1675,
    "start_time": "2022-06-10T19:53:09.745Z"
   },
   {
    "duration": 2525,
    "start_time": "2022-06-10T19:53:11.423Z"
   },
   {
    "duration": 51,
    "start_time": "2022-06-10T19:53:49.395Z"
   },
   {
    "duration": 1891,
    "start_time": "2022-06-10T19:58:25.550Z"
   },
   {
    "duration": 2457,
    "start_time": "2022-06-10T19:58:31.199Z"
   },
   {
    "duration": 7,
    "start_time": "2022-06-10T19:58:38.551Z"
   },
   {
    "duration": 70,
    "start_time": "2022-06-10T20:04:35.151Z"
   },
   {
    "duration": 11,
    "start_time": "2022-06-10T20:04:58.385Z"
   },
   {
    "duration": 7,
    "start_time": "2022-06-10T20:05:05.274Z"
   },
   {
    "duration": 8,
    "start_time": "2022-06-10T20:18:26.666Z"
   },
   {
    "duration": 971,
    "start_time": "2022-06-10T20:18:38.721Z"
   },
   {
    "duration": 43,
    "start_time": "2022-06-10T20:19:03.885Z"
   },
   {
    "duration": 6,
    "start_time": "2022-06-10T20:19:10.548Z"
   },
   {
    "duration": 1812,
    "start_time": "2022-06-10T20:19:18.295Z"
   },
   {
    "duration": 2464,
    "start_time": "2022-06-10T20:19:20.109Z"
   },
   {
    "duration": 6,
    "start_time": "2022-06-10T20:19:22.574Z"
   },
   {
    "duration": 1923,
    "start_time": "2022-06-10T20:25:50.220Z"
   },
   {
    "duration": 5,
    "start_time": "2022-06-10T20:30:06.935Z"
   },
   {
    "duration": 1336,
    "start_time": "2022-06-10T20:31:21.606Z"
   },
   {
    "duration": 2524,
    "start_time": "2022-06-10T20:31:22.944Z"
   },
   {
    "duration": 6,
    "start_time": "2022-06-10T20:31:25.469Z"
   },
   {
    "duration": 44,
    "start_time": "2022-06-10T20:34:26.545Z"
   },
   {
    "duration": 1948,
    "start_time": "2022-06-10T20:34:31.681Z"
   },
   {
    "duration": 2585,
    "start_time": "2022-06-10T20:34:36.858Z"
   },
   {
    "duration": 11722,
    "start_time": "2022-06-10T20:41:06.406Z"
   },
   {
    "duration": 11665,
    "start_time": "2022-06-10T20:43:10.500Z"
   },
   {
    "duration": 352,
    "start_time": "2022-06-10T20:44:30.798Z"
   },
   {
    "duration": 13370,
    "start_time": "2022-06-11T05:23:51.146Z"
   },
   {
    "duration": 2562,
    "start_time": "2022-06-11T05:24:04.518Z"
   },
   {
    "duration": 6,
    "start_time": "2022-06-11T05:24:07.081Z"
   },
   {
    "duration": 45,
    "start_time": "2022-06-11T05:24:34.118Z"
   },
   {
    "duration": 13011,
    "start_time": "2022-06-11T05:24:40.267Z"
   },
   {
    "duration": 2542,
    "start_time": "2022-06-11T05:24:54.640Z"
   },
   {
    "duration": 6,
    "start_time": "2022-06-11T05:25:43.442Z"
   },
   {
    "duration": 12951,
    "start_time": "2022-06-11T05:26:20.540Z"
   },
   {
    "duration": 2511,
    "start_time": "2022-06-11T05:26:33.493Z"
   },
   {
    "duration": 6,
    "start_time": "2022-06-11T05:26:36.006Z"
   },
   {
    "duration": 1466,
    "start_time": "2022-06-11T05:27:02.562Z"
   },
   {
    "duration": 1395,
    "start_time": "2022-06-11T05:27:30.019Z"
   },
   {
    "duration": 2628,
    "start_time": "2022-06-11T05:27:31.416Z"
   },
   {
    "duration": 5,
    "start_time": "2022-06-11T05:27:34.046Z"
   },
   {
    "duration": 1479,
    "start_time": "2022-06-11T05:36:58.036Z"
   },
   {
    "duration": 119,
    "start_time": "2022-06-11T05:37:08.491Z"
   },
   {
    "duration": 2655,
    "start_time": "2022-06-11T05:37:14.143Z"
   },
   {
    "duration": 6,
    "start_time": "2022-06-11T05:37:24.322Z"
   },
   {
    "duration": 52,
    "start_time": "2022-06-11T05:37:41.365Z"
   },
   {
    "duration": 8,
    "start_time": "2022-06-11T05:37:44.698Z"
   },
   {
    "duration": 6,
    "start_time": "2022-06-11T05:37:54.714Z"
   },
   {
    "duration": 6,
    "start_time": "2022-06-11T05:38:05.579Z"
   },
   {
    "duration": 1441,
    "start_time": "2022-06-11T05:38:08.675Z"
   },
   {
    "duration": 4,
    "start_time": "2022-06-11T05:39:06.955Z"
   },
   {
    "duration": 1009,
    "start_time": "2022-06-11T05:39:16.616Z"
   },
   {
    "duration": 2709,
    "start_time": "2022-06-11T05:39:17.627Z"
   },
   {
    "duration": 6,
    "start_time": "2022-06-11T05:39:20.340Z"
   },
   {
    "duration": 51,
    "start_time": "2022-06-11T05:41:29.082Z"
   },
   {
    "duration": 1024,
    "start_time": "2022-06-11T05:41:33.315Z"
   },
   {
    "duration": 971,
    "start_time": "2022-06-11T05:41:42.599Z"
   },
   {
    "duration": 2679,
    "start_time": "2022-06-11T05:41:43.572Z"
   },
   {
    "duration": 12,
    "start_time": "2022-06-11T05:41:46.253Z"
   },
   {
    "duration": 14494,
    "start_time": "2022-06-11T06:10:14.251Z"
   },
   {
    "duration": 13927,
    "start_time": "2022-06-11T06:30:30.244Z"
   },
   {
    "duration": 2606,
    "start_time": "2022-06-11T06:30:44.174Z"
   },
   {
    "duration": 15099,
    "start_time": "2022-06-11T10:19:14.806Z"
   },
   {
    "duration": 2924,
    "start_time": "2022-06-11T10:19:29.907Z"
   },
   {
    "duration": 14936,
    "start_time": "2022-06-13T16:55:50.748Z"
   },
   {
    "duration": 2774,
    "start_time": "2022-06-13T16:56:05.686Z"
   },
   {
    "duration": 46,
    "start_time": "2022-06-13T16:56:43.645Z"
   },
   {
    "duration": 7,
    "start_time": "2022-06-13T16:56:48.179Z"
   },
   {
    "duration": 7,
    "start_time": "2022-06-13T16:57:09.660Z"
   },
   {
    "duration": 14360,
    "start_time": "2022-06-13T16:57:12.633Z"
   },
   {
    "duration": 1058,
    "start_time": "2022-06-13T16:57:29.578Z"
   },
   {
    "duration": 47,
    "start_time": "2022-06-13T16:57:38.653Z"
   },
   {
    "duration": 7,
    "start_time": "2022-06-13T16:58:16.769Z"
   },
   {
    "duration": 7,
    "start_time": "2022-06-13T16:58:19.090Z"
   },
   {
    "duration": 395,
    "start_time": "2022-06-14T14:44:37.684Z"
   },
   {
    "duration": 59,
    "start_time": "2022-06-14T18:54:33.154Z"
   },
   {
    "duration": 12823,
    "start_time": "2022-06-14T18:54:38.739Z"
   },
   {
    "duration": 3415,
    "start_time": "2022-06-14T18:54:51.564Z"
   },
   {
    "duration": 23,
    "start_time": "2022-06-14T18:54:54.980Z"
   },
   {
    "duration": 6,
    "start_time": "2022-06-14T18:54:55.006Z"
   },
   {
    "duration": 6,
    "start_time": "2022-06-14T18:54:55.014Z"
   },
   {
    "duration": 304,
    "start_time": "2022-06-14T18:54:55.022Z"
   },
   {
    "duration": 0,
    "start_time": "2022-06-14T18:54:55.327Z"
   },
   {
    "duration": 0,
    "start_time": "2022-06-14T18:54:55.328Z"
   },
   {
    "duration": 0,
    "start_time": "2022-06-14T18:54:55.329Z"
   },
   {
    "duration": 0,
    "start_time": "2022-06-14T18:54:55.331Z"
   },
   {
    "duration": 0,
    "start_time": "2022-06-14T18:54:55.332Z"
   },
   {
    "duration": 0,
    "start_time": "2022-06-14T18:54:55.333Z"
   },
   {
    "duration": 0,
    "start_time": "2022-06-14T18:54:55.334Z"
   },
   {
    "duration": 0,
    "start_time": "2022-06-14T18:54:55.335Z"
   },
   {
    "duration": 0,
    "start_time": "2022-06-14T18:54:55.336Z"
   },
   {
    "duration": 0,
    "start_time": "2022-06-14T18:54:55.337Z"
   },
   {
    "duration": 21,
    "start_time": "2022-06-14T19:02:48.937Z"
   },
   {
    "duration": 8851,
    "start_time": "2022-06-14T19:03:13.017Z"
   },
   {
    "duration": 940,
    "start_time": "2022-06-14T19:03:21.871Z"
   },
   {
    "duration": 26,
    "start_time": "2022-06-14T19:03:29.145Z"
   },
   {
    "duration": 6,
    "start_time": "2022-06-14T19:03:31.935Z"
   },
   {
    "duration": 4,
    "start_time": "2022-06-14T19:03:38.185Z"
   },
   {
    "duration": 3,
    "start_time": "2022-06-14T19:07:17.470Z"
   },
   {
    "duration": 4,
    "start_time": "2022-06-14T19:07:20.929Z"
   },
   {
    "duration": 3,
    "start_time": "2022-06-14T19:07:47.173Z"
   },
   {
    "duration": 4375,
    "start_time": "2022-06-14T19:07:49.977Z"
   },
   {
    "duration": 3,
    "start_time": "2022-06-14T19:07:54.354Z"
   },
   {
    "duration": 72598,
    "start_time": "2022-06-14T19:10:34.705Z"
   },
   {
    "duration": 0,
    "start_time": "2022-06-14T19:11:47.307Z"
   },
   {
    "duration": 12718,
    "start_time": "2022-06-14T19:12:03.951Z"
   },
   {
    "duration": 984,
    "start_time": "2022-06-14T19:12:16.670Z"
   },
   {
    "duration": 22,
    "start_time": "2022-06-14T19:12:17.656Z"
   },
   {
    "duration": 9,
    "start_time": "2022-06-14T19:12:17.679Z"
   },
   {
    "duration": 24,
    "start_time": "2022-06-14T19:12:17.689Z"
   },
   {
    "duration": 12,
    "start_time": "2022-06-14T19:12:17.714Z"
   },
   {
    "duration": 4686,
    "start_time": "2022-06-14T19:12:17.728Z"
   },
   {
    "duration": 3,
    "start_time": "2022-06-14T19:12:22.417Z"
   },
   {
    "duration": 1965179,
    "start_time": "2022-06-14T19:12:22.422Z"
   },
   {
    "duration": 32,
    "start_time": "2022-06-14T19:45:07.603Z"
   },
   {
    "duration": 32,
    "start_time": "2022-06-14T19:45:07.636Z"
   },
   {
    "duration": 321,
    "start_time": "2022-06-14T19:45:07.670Z"
   },
   {
    "duration": 0,
    "start_time": "2022-06-14T19:45:07.993Z"
   },
   {
    "duration": 0,
    "start_time": "2022-06-14T19:45:07.996Z"
   },
   {
    "duration": 0,
    "start_time": "2022-06-14T19:45:07.997Z"
   },
   {
    "duration": 0,
    "start_time": "2022-06-14T19:45:07.999Z"
   },
   {
    "duration": 0,
    "start_time": "2022-06-14T19:45:08.001Z"
   },
   {
    "duration": 47,
    "start_time": "2022-06-14T19:45:56.687Z"
   },
   {
    "duration": 13,
    "start_time": "2022-06-14T19:45:59.513Z"
   },
   {
    "duration": 49,
    "start_time": "2022-06-14T19:46:01.779Z"
   },
   {
    "duration": 3,
    "start_time": "2022-06-14T19:49:23.551Z"
   },
   {
    "duration": 31,
    "start_time": "2022-06-14T19:53:45.135Z"
   },
   {
    "duration": 26,
    "start_time": "2022-06-14T19:54:11.922Z"
   },
   {
    "duration": 25,
    "start_time": "2022-06-14T19:54:32.313Z"
   },
   {
    "duration": 47,
    "start_time": "2022-06-14T19:54:57.291Z"
   },
   {
    "duration": 22,
    "start_time": "2022-06-14T20:08:03.350Z"
   },
   {
    "duration": 4202,
    "start_time": "2022-06-14T20:10:44.074Z"
   },
   {
    "duration": 43,
    "start_time": "2022-06-14T20:12:53.481Z"
   },
   {
    "duration": 18,
    "start_time": "2022-06-14T20:12:55.801Z"
   },
   {
    "duration": 20,
    "start_time": "2022-06-14T20:13:29.803Z"
   },
   {
    "duration": 3,
    "start_time": "2022-06-14T20:14:25.825Z"
   },
   {
    "duration": 37,
    "start_time": "2022-06-14T20:14:29.857Z"
   },
   {
    "duration": 4239,
    "start_time": "2022-06-14T20:14:33.360Z"
   },
   {
    "duration": 15,
    "start_time": "2022-06-14T20:16:59.402Z"
   },
   {
    "duration": 5511,
    "start_time": "2022-06-14T20:17:23.715Z"
   },
   {
    "duration": 4,
    "start_time": "2022-06-14T20:18:13.832Z"
   },
   {
    "duration": 4082,
    "start_time": "2022-06-14T20:18:35.962Z"
   },
   {
    "duration": 5459,
    "start_time": "2022-06-14T20:18:45.469Z"
   },
   {
    "duration": 4,
    "start_time": "2022-06-14T20:18:50.930Z"
   },
   {
    "duration": 2,
    "start_time": "2022-06-14T20:23:39.263Z"
   },
   {
    "duration": 839982,
    "start_time": "2022-06-14T20:29:22.416Z"
   },
   {
    "duration": 20,
    "start_time": "2022-06-14T20:58:25.199Z"
   },
   {
    "duration": 14,
    "start_time": "2022-06-14T21:00:26.908Z"
   },
   {
    "duration": 43,
    "start_time": "2022-06-14T21:00:44.416Z"
   },
   {
    "duration": 14,
    "start_time": "2022-06-14T21:01:22.246Z"
   },
   {
    "duration": 42,
    "start_time": "2022-06-14T21:06:09.410Z"
   },
   {
    "duration": 16,
    "start_time": "2022-06-14T21:06:45.977Z"
   },
   {
    "duration": 36,
    "start_time": "2022-06-14T21:07:18.294Z"
   },
   {
    "duration": 47,
    "start_time": "2022-06-14T21:08:18.878Z"
   },
   {
    "duration": 44,
    "start_time": "2022-06-14T21:08:24.305Z"
   },
   {
    "duration": 65,
    "start_time": "2022-06-14T21:11:32.246Z"
   },
   {
    "duration": 43,
    "start_time": "2022-06-14T21:11:40.612Z"
   },
   {
    "duration": 44,
    "start_time": "2022-06-14T21:11:44.661Z"
   },
   {
    "duration": 50,
    "start_time": "2022-06-14T21:21:53.206Z"
   },
   {
    "duration": 68,
    "start_time": "2022-06-14T21:22:52.262Z"
   },
   {
    "duration": 5395,
    "start_time": "2022-06-14T21:23:55.063Z"
   },
   {
    "duration": 4,
    "start_time": "2022-06-14T21:24:00.460Z"
   },
   {
    "duration": 12322,
    "start_time": "2022-06-14T21:25:16.973Z"
   },
   {
    "duration": 23747,
    "start_time": "2022-06-14T21:30:12.653Z"
   },
   {
    "duration": 281,
    "start_time": "2022-06-14T21:31:20.517Z"
   },
   {
    "duration": 46,
    "start_time": "2022-06-14T21:31:57.670Z"
   },
   {
    "duration": 41,
    "start_time": "2022-06-14T21:33:14.401Z"
   },
   {
    "duration": 270,
    "start_time": "2022-06-14T21:33:26.710Z"
   },
   {
    "duration": 3,
    "start_time": "2022-06-14T21:34:53.221Z"
   },
   {
    "duration": 267,
    "start_time": "2022-06-14T21:34:59.517Z"
   },
   {
    "duration": 5545,
    "start_time": "2022-06-14T21:35:15.621Z"
   },
   {
    "duration": 3956,
    "start_time": "2022-06-14T21:35:26.222Z"
   },
   {
    "duration": 5495,
    "start_time": "2022-06-14T21:35:35.861Z"
   },
   {
    "duration": 4,
    "start_time": "2022-06-14T21:35:44.813Z"
   },
   {
    "duration": 290,
    "start_time": "2022-06-14T21:35:55.726Z"
   },
   {
    "duration": 19,
    "start_time": "2022-06-14T21:38:17.166Z"
   },
   {
    "duration": 311,
    "start_time": "2022-06-14T21:38:26.157Z"
   },
   {
    "duration": 46,
    "start_time": "2022-06-14T21:43:55.118Z"
   },
   {
    "duration": 9353,
    "start_time": "2022-06-14T21:44:17.166Z"
   },
   {
    "duration": 902,
    "start_time": "2022-06-14T21:44:45.827Z"
   },
   {
    "duration": 25,
    "start_time": "2022-06-14T21:44:50.375Z"
   },
   {
    "duration": 7,
    "start_time": "2022-06-14T21:44:55.669Z"
   },
   {
    "duration": 5615,
    "start_time": "2022-06-14T21:45:04.918Z"
   },
   {
    "duration": 82,
    "start_time": "2022-06-14T21:45:10.535Z"
   },
   {
    "duration": 6,
    "start_time": "2022-06-14T21:46:00.510Z"
   },
   {
    "duration": 4,
    "start_time": "2022-06-14T21:46:04.013Z"
   },
   {
    "duration": 5,
    "start_time": "2022-06-14T21:46:07.497Z"
   },
   {
    "duration": 4290,
    "start_time": "2022-06-14T21:46:11.134Z"
   },
   {
    "duration": 3,
    "start_time": "2022-06-14T21:46:15.426Z"
   },
   {
    "duration": 1958124,
    "start_time": "2022-06-14T21:46:21.231Z"
   },
   {
    "duration": 39,
    "start_time": "2022-06-14T22:18:59.357Z"
   },
   {
    "duration": 18,
    "start_time": "2022-06-14T22:18:59.397Z"
   },
   {
    "duration": 5563,
    "start_time": "2022-06-14T22:19:07.367Z"
   },
   {
    "duration": 4,
    "start_time": "2022-06-14T22:19:12.932Z"
   },
   {
    "duration": 4002,
    "start_time": "2022-06-14T22:19:12.938Z"
   },
   {
    "duration": 3,
    "start_time": "2022-06-14T22:19:16.942Z"
   },
   {
    "duration": 39,
    "start_time": "2022-06-14T22:19:16.946Z"
   },
   {
    "duration": 4167,
    "start_time": "2022-06-14T22:19:22.387Z"
   },
   {
    "duration": 5785,
    "start_time": "2022-06-14T22:19:32.212Z"
   },
   {
    "duration": 4,
    "start_time": "2022-06-14T22:19:37.998Z"
   },
   {
    "duration": 39,
    "start_time": "2022-06-14T22:19:42.468Z"
   },
   {
    "duration": 5979,
    "start_time": "2022-06-14T22:21:21.611Z"
   },
   {
    "duration": 4,
    "start_time": "2022-06-14T22:21:31.180Z"
   },
   {
    "duration": 39,
    "start_time": "2022-06-14T22:21:49.964Z"
   },
   {
    "duration": 3,
    "start_time": "2022-06-14T22:21:54.475Z"
   },
   {
    "duration": 42,
    "start_time": "2022-06-14T22:22:22.915Z"
   },
   {
    "duration": 355018,
    "start_time": "2022-06-14T22:23:13.378Z"
   },
   {
    "duration": 43,
    "start_time": "2022-06-14T22:29:32.611Z"
   },
   {
    "duration": 3276,
    "start_time": "2022-06-14T22:29:44.106Z"
   },
   {
    "duration": 12494,
    "start_time": "2022-06-15T06:38:06.295Z"
   },
   {
    "duration": 890,
    "start_time": "2022-06-15T06:38:18.790Z"
   },
   {
    "duration": 26,
    "start_time": "2022-06-15T06:38:19.682Z"
   },
   {
    "duration": 6,
    "start_time": "2022-06-15T06:38:19.710Z"
   },
   {
    "duration": 5,
    "start_time": "2022-06-15T06:38:19.717Z"
   },
   {
    "duration": 5,
    "start_time": "2022-06-15T06:38:19.723Z"
   },
   {
    "duration": 4436,
    "start_time": "2022-06-15T06:38:19.729Z"
   },
   {
    "duration": 4,
    "start_time": "2022-06-15T06:38:24.166Z"
   },
   {
    "duration": 1853403,
    "start_time": "2022-06-15T06:38:24.172Z"
   },
   {
    "duration": 31,
    "start_time": "2022-06-15T07:09:17.577Z"
   },
   {
    "duration": 3,
    "start_time": "2022-06-15T07:09:17.609Z"
   },
   {
    "duration": 30,
    "start_time": "2022-06-15T07:09:17.613Z"
   },
   {
    "duration": 3853,
    "start_time": "2022-06-15T07:09:17.644Z"
   },
   {
    "duration": 5569,
    "start_time": "2022-06-15T07:09:21.499Z"
   },
   {
    "duration": 3,
    "start_time": "2022-06-15T07:09:27.070Z"
   },
   {
    "duration": 4,
    "start_time": "2022-06-15T07:09:27.075Z"
   },
   {
    "duration": 14,
    "start_time": "2022-06-15T07:09:27.081Z"
   },
   {
    "duration": 6,
    "start_time": "2022-06-15T07:09:27.096Z"
   },
   {
    "duration": 6,
    "start_time": "2022-06-15T07:09:27.103Z"
   },
   {
    "duration": 2,
    "start_time": "2022-06-15T07:09:27.556Z"
   },
   {
    "duration": 15,
    "start_time": "2022-06-15T07:09:27.559Z"
   },
   {
    "duration": 26326,
    "start_time": "2022-06-15T07:09:27.575Z"
   },
   {
    "duration": 622,
    "start_time": "2022-06-15T07:09:53.902Z"
   },
   {
    "duration": 14080317,
    "start_time": "2022-06-15T07:09:54.526Z"
   },
   {
    "duration": 9,
    "start_time": "2022-06-15T11:04:34.844Z"
   },
   {
    "duration": 3,
    "start_time": "2022-06-15T11:04:35.009Z"
   },
   {
    "duration": 53899,
    "start_time": "2022-06-15T11:04:35.014Z"
   },
   {
    "duration": 0,
    "start_time": "2022-06-15T11:05:30.263Z"
   },
   {
    "duration": 0,
    "start_time": "2022-06-15T11:05:30.265Z"
   },
   {
    "duration": 0,
    "start_time": "2022-06-15T11:05:30.266Z"
   },
   {
    "duration": 0,
    "start_time": "2022-06-15T11:05:30.266Z"
   },
   {
    "duration": 44,
    "start_time": "2022-06-15T11:05:38.247Z"
   },
   {
    "duration": 9234,
    "start_time": "2022-06-15T11:05:47.343Z"
   },
   {
    "duration": 31,
    "start_time": "2022-06-15T11:06:11.086Z"
   },
   {
    "duration": 14787,
    "start_time": "2022-06-15T11:06:21.610Z"
   },
   {
    "duration": 24591,
    "start_time": "2022-06-15T11:08:59.090Z"
   },
   {
    "duration": 52,
    "start_time": "2022-06-15T11:12:42.620Z"
   },
   {
    "duration": 626,
    "start_time": "2022-06-15T11:12:55.846Z"
   },
   {
    "duration": 10,
    "start_time": "2022-06-15T11:14:01.436Z"
   },
   {
    "duration": 52,
    "start_time": "2022-06-15T11:14:18.940Z"
   },
   {
    "duration": 3590,
    "start_time": "2022-06-15T11:14:36.343Z"
   },
   {
    "duration": 34504,
    "start_time": "2022-06-15T11:15:03.717Z"
   },
   {
    "duration": 316898,
    "start_time": "2022-06-15T11:16:47.101Z"
   },
   {
    "duration": 5901,
    "start_time": "2022-06-15T11:22:04.001Z"
   },
   {
    "duration": 252836,
    "start_time": "2022-06-15T11:22:54.562Z"
   },
   {
    "duration": 36602,
    "start_time": "2022-06-15T11:27:49.314Z"
   },
   {
    "duration": 140614,
    "start_time": "2022-06-15T11:29:00.084Z"
   },
   {
    "duration": 315242,
    "start_time": "2022-06-15T11:31:46.156Z"
   },
   {
    "duration": 4,
    "start_time": "2022-06-15T11:37:14.483Z"
   },
   {
    "duration": 27663,
    "start_time": "2022-06-15T11:37:24.051Z"
   },
   {
    "duration": 8,
    "start_time": "2022-06-15T11:38:45.214Z"
   },
   {
    "duration": 468,
    "start_time": "2022-06-15T11:39:06.986Z"
   },
   {
    "duration": 199,
    "start_time": "2022-06-15T11:39:51.115Z"
   },
   {
    "duration": 196,
    "start_time": "2022-06-15T11:39:58.005Z"
   },
   {
    "duration": 165,
    "start_time": "2022-06-15T11:40:59.642Z"
   },
   {
    "duration": 188,
    "start_time": "2022-06-15T11:41:37.919Z"
   },
   {
    "duration": 5871,
    "start_time": "2022-06-15T11:48:01.679Z"
   },
   {
    "duration": 3,
    "start_time": "2022-06-15T11:48:07.552Z"
   },
   {
    "duration": 76,
    "start_time": "2022-06-15T11:48:09.841Z"
   },
   {
    "duration": 80,
    "start_time": "2022-06-15T11:48:43.201Z"
   },
   {
    "duration": 31,
    "start_time": "2022-06-15T12:00:16.160Z"
   },
   {
    "duration": 48,
    "start_time": "2022-06-15T12:00:33.111Z"
   },
   {
    "duration": 5,
    "start_time": "2022-06-15T12:00:47.816Z"
   },
   {
    "duration": 7,
    "start_time": "2022-06-15T12:02:31.455Z"
   },
   {
    "duration": 148,
    "start_time": "2022-06-15T12:06:30.773Z"
   },
   {
    "duration": 183,
    "start_time": "2022-06-15T12:06:34.113Z"
   },
   {
    "duration": 3,
    "start_time": "2022-06-15T12:06:46.527Z"
   },
   {
    "duration": 269,
    "start_time": "2022-06-15T12:06:49.174Z"
   },
   {
    "duration": 302,
    "start_time": "2022-06-15T12:06:57.735Z"
   },
   {
    "duration": 4,
    "start_time": "2022-06-15T12:07:17.346Z"
   },
   {
    "duration": 282,
    "start_time": "2022-06-15T12:07:21.160Z"
   },
   {
    "duration": 311,
    "start_time": "2022-06-15T12:07:24.833Z"
   },
   {
    "duration": 4,
    "start_time": "2022-06-15T12:08:07.137Z"
   },
   {
    "duration": 290,
    "start_time": "2022-06-15T12:08:09.539Z"
   },
   {
    "duration": 5,
    "start_time": "2022-06-15T12:08:32.783Z"
   },
   {
    "duration": 75,
    "start_time": "2022-06-15T12:08:35.687Z"
   },
   {
    "duration": 4,
    "start_time": "2022-06-15T12:09:01.104Z"
   },
   {
    "duration": 4,
    "start_time": "2022-06-15T12:09:04.118Z"
   },
   {
    "duration": 4,
    "start_time": "2022-06-15T12:09:21.808Z"
   },
   {
    "duration": 291,
    "start_time": "2022-06-15T12:09:26.335Z"
   },
   {
    "duration": 3,
    "start_time": "2022-06-15T12:09:33.655Z"
   },
   {
    "duration": 274,
    "start_time": "2022-06-15T12:09:35.875Z"
   },
   {
    "duration": 238,
    "start_time": "2022-06-15T12:09:41.414Z"
   },
   {
    "duration": 3,
    "start_time": "2022-06-15T12:13:05.811Z"
   },
   {
    "duration": 236,
    "start_time": "2022-06-15T12:13:07.958Z"
   },
   {
    "duration": 166,
    "start_time": "2022-06-15T12:13:10.454Z"
   },
   {
    "duration": 47,
    "start_time": "2022-06-15T22:20:59.624Z"
   },
   {
    "duration": 13329,
    "start_time": "2022-06-15T22:32:41.346Z"
   },
   {
    "duration": 963,
    "start_time": "2022-06-15T22:32:57.014Z"
   },
   {
    "duration": 6,
    "start_time": "2022-06-15T22:33:02.310Z"
   },
   {
    "duration": 3,
    "start_time": "2022-06-15T22:33:05.422Z"
   },
   {
    "duration": 3,
    "start_time": "2022-06-15T22:33:11.639Z"
   },
   {
    "duration": 4473,
    "start_time": "2022-06-15T22:33:15.910Z"
   },
   {
    "duration": 3,
    "start_time": "2022-06-15T22:33:24.975Z"
   },
   {
    "duration": 1127387,
    "start_time": "2022-06-15T22:33:29.063Z"
   },
   {
    "duration": 0,
    "start_time": "2022-06-15T22:52:16.452Z"
   },
   {
    "duration": 0,
    "start_time": "2022-06-15T22:52:16.453Z"
   },
   {
    "duration": 0,
    "start_time": "2022-06-15T22:52:16.455Z"
   },
   {
    "duration": 0,
    "start_time": "2022-06-15T22:52:16.455Z"
   },
   {
    "duration": 15841,
    "start_time": "2022-06-16T05:33:24.038Z"
   },
   {
    "duration": 3107,
    "start_time": "2022-06-16T05:33:39.881Z"
   },
   {
    "duration": 2,
    "start_time": "2022-06-16T05:33:42.990Z"
   },
   {
    "duration": 9,
    "start_time": "2022-06-16T05:33:42.993Z"
   },
   {
    "duration": 3,
    "start_time": "2022-06-16T05:33:43.003Z"
   },
   {
    "duration": 17,
    "start_time": "2022-06-16T05:33:43.007Z"
   },
   {
    "duration": 4238,
    "start_time": "2022-06-16T05:33:43.025Z"
   },
   {
    "duration": 3,
    "start_time": "2022-06-16T05:33:47.265Z"
   },
   {
    "duration": 1878774,
    "start_time": "2022-06-16T05:33:47.270Z"
   },
   {
    "duration": 51,
    "start_time": "2022-06-16T06:05:06.048Z"
   },
   {
    "duration": 2,
    "start_time": "2022-06-16T06:05:06.101Z"
   },
   {
    "duration": 33,
    "start_time": "2022-06-16T06:05:06.105Z"
   },
   {
    "duration": 4188,
    "start_time": "2022-06-16T06:05:06.140Z"
   },
   {
    "duration": 5641,
    "start_time": "2022-06-16T06:05:10.330Z"
   },
   {
    "duration": 7,
    "start_time": "2022-06-16T06:05:15.972Z"
   },
   {
    "duration": 100,
    "start_time": "2022-06-16T06:05:15.980Z"
   },
   {
    "duration": 6,
    "start_time": "2022-06-16T06:05:16.081Z"
   },
   {
    "duration": 364295,
    "start_time": "2022-06-16T06:05:16.088Z"
   },
   {
    "duration": 24495,
    "start_time": "2022-06-16T06:11:20.385Z"
   },
   {
    "duration": 28810,
    "start_time": "2022-06-16T06:11:44.882Z"
   },
   {
    "duration": 740,
    "start_time": "2022-06-16T06:12:13.693Z"
   },
   {
    "duration": 4,
    "start_time": "2022-06-16T06:12:14.434Z"
   },
   {
    "duration": 166,
    "start_time": "2022-06-16T06:12:14.439Z"
   },
   {
    "duration": 273,
    "start_time": "2022-06-16T06:12:14.607Z"
   },
   {
    "duration": 9,
    "start_time": "2022-06-16T06:12:14.881Z"
   },
   {
    "duration": 26215,
    "start_time": "2022-06-16T06:17:50.964Z"
   },
   {
    "duration": 16748,
    "start_time": "2023-01-10T10:54:54.193Z"
   }
  ],
  "kernelspec": {
   "display_name": "Python 3 (ipykernel)",
   "language": "python",
   "name": "python3"
  },
  "language_info": {
   "codemirror_mode": {
    "name": "ipython",
    "version": 3
   },
   "file_extension": ".py",
   "mimetype": "text/x-python",
   "name": "python",
   "nbconvert_exporter": "python",
   "pygments_lexer": "ipython3",
   "version": "3.9.5"
  },
  "toc": {
   "base_numbering": 1,
   "nav_menu": {},
   "number_sections": true,
   "sideBar": true,
   "skip_h1_title": true,
   "title_cell": "Содержание",
   "title_sidebar": "Contents",
   "toc_cell": true,
   "toc_position": {
    "height": "calc(100% - 180px)",
    "left": "10px",
    "top": "150px",
    "width": "165px"
   },
   "toc_section_display": true,
   "toc_window_display": true
  }
 },
 "nbformat": 4,
 "nbformat_minor": 2
}
