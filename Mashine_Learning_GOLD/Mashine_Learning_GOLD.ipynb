{
 "cells": [
  {
   "cell_type": "markdown",
   "metadata": {},
   "source": [
    "<a id='startpage'></a>"
   ]
  },
  {
   "cell_type": "markdown",
   "metadata": {},
   "source": [
    "# Исследование технологического процесса очистки золота"
   ]
  },
  {
   "cell_type": "markdown",
   "metadata": {},
   "source": [
    "Подготовьте прототип модели машинного обучения для «Цифры». Компания разрабатывает решения для эффективной работы промышленных предприятий.\n",
    "\n",
    "Модель должна предсказать коэффициент восстановления золота из золотосодержащей руды. Используйте данные с параметрами добычи и очистки. \n",
    "\n",
    "Модель поможет оптимизировать производство, чтобы не запускать предприятие с убыточными характеристиками.\n",
    "\n",
    "Вам нужно:\n",
    "\n",
    "1. Подготовить данные;\n",
    "2. Провести исследовательский анализ данных;\n",
    "3. Построить и обучить модель.\n",
    "\n",
    "Чтобы выполнить проект, обращайтесь к библиотекам *pandas*, *matplotlib* и *sklearn.* Вам поможет их документация."
   ]
  },
  {
   "cell_type": "markdown",
   "metadata": {},
   "source": [
    "## Подготовка данных"
   ]
  },
  {
   "cell_type": "code",
   "execution_count": 26,
   "metadata": {
    "scrolled": true
   },
   "outputs": [],
   "source": [
    "import pandas as pd\n",
    "import numpy as np\n",
    "\n",
    "from sklearn.metrics import mean_absolute_error, make_scorer\n",
    "from sklearn.ensemble import RandomForestRegressor\n",
    "from sklearn.model_selection import GridSearchCV\n",
    "\n",
    "from sklearn.linear_model import LinearRegression\n",
    "from sklearn.tree import DecisionTreeRegressor\n",
    "\n",
    "import matplotlib.pyplot as plt\n",
    "import seaborn as sns\n",
    "\n",
    "from IPython.display import display, HTML, Image\n",
    "\n",
    "import warnings\n",
    "warnings.filterwarnings(\"ignore\")"
   ]
  },
  {
   "cell_type": "code",
   "execution_count": 27,
   "metadata": {},
   "outputs": [
    {
     "data": {
      "text/html": [
       "<div>\n",
       "<style scoped>\n",
       "    .dataframe tbody tr th:only-of-type {\n",
       "        vertical-align: middle;\n",
       "    }\n",
       "\n",
       "    .dataframe tbody tr th {\n",
       "        vertical-align: top;\n",
       "    }\n",
       "\n",
       "    .dataframe thead th {\n",
       "        text-align: right;\n",
       "    }\n",
       "</style>\n",
       "<table border=\"1\" class=\"dataframe\">\n",
       "  <thead>\n",
       "    <tr style=\"text-align: right;\">\n",
       "      <th></th>\n",
       "      <th>count</th>\n",
       "      <th>mean</th>\n",
       "      <th>std</th>\n",
       "      <th>min</th>\n",
       "      <th>25%</th>\n",
       "      <th>50%</th>\n",
       "      <th>75%</th>\n",
       "      <th>max</th>\n",
       "    </tr>\n",
       "  </thead>\n",
       "  <tbody>\n",
       "    <tr>\n",
       "      <th>final.output.concentrate_ag</th>\n",
       "      <td>19438.0</td>\n",
       "      <td>5.168470</td>\n",
       "      <td>1.372348</td>\n",
       "      <td>0.000000</td>\n",
       "      <td>4.251240</td>\n",
       "      <td>5.066094</td>\n",
       "      <td>5.895527</td>\n",
       "      <td>16.001945</td>\n",
       "    </tr>\n",
       "    <tr>\n",
       "      <th>final.output.concentrate_pb</th>\n",
       "      <td>19438.0</td>\n",
       "      <td>9.978895</td>\n",
       "      <td>1.669240</td>\n",
       "      <td>0.000000</td>\n",
       "      <td>9.137262</td>\n",
       "      <td>10.102433</td>\n",
       "      <td>11.035769</td>\n",
       "      <td>17.031899</td>\n",
       "    </tr>\n",
       "    <tr>\n",
       "      <th>final.output.concentrate_sol</th>\n",
       "      <td>19228.0</td>\n",
       "      <td>9.501224</td>\n",
       "      <td>2.787537</td>\n",
       "      <td>0.000000</td>\n",
       "      <td>7.722820</td>\n",
       "      <td>9.218961</td>\n",
       "      <td>10.947813</td>\n",
       "      <td>19.615720</td>\n",
       "    </tr>\n",
       "    <tr>\n",
       "      <th>final.output.concentrate_au</th>\n",
       "      <td>19439.0</td>\n",
       "      <td>44.076513</td>\n",
       "      <td>5.129784</td>\n",
       "      <td>0.000000</td>\n",
       "      <td>43.402215</td>\n",
       "      <td>45.011244</td>\n",
       "      <td>46.275313</td>\n",
       "      <td>52.756638</td>\n",
       "    </tr>\n",
       "    <tr>\n",
       "      <th>final.output.recovery</th>\n",
       "      <td>19439.0</td>\n",
       "      <td>67.050208</td>\n",
       "      <td>10.125840</td>\n",
       "      <td>0.000000</td>\n",
       "      <td>63.299712</td>\n",
       "      <td>68.172738</td>\n",
       "      <td>72.686642</td>\n",
       "      <td>100.000000</td>\n",
       "    </tr>\n",
       "    <tr>\n",
       "      <th>...</th>\n",
       "      <td>...</td>\n",
       "      <td>...</td>\n",
       "      <td>...</td>\n",
       "      <td>...</td>\n",
       "      <td>...</td>\n",
       "      <td>...</td>\n",
       "      <td>...</td>\n",
       "      <td>...</td>\n",
       "    </tr>\n",
       "    <tr>\n",
       "      <th>secondary_cleaner.state.floatbank5_a_level</th>\n",
       "      <td>19438.0</td>\n",
       "      <td>-488.684065</td>\n",
       "      <td>34.533396</td>\n",
       "      <td>-797.323986</td>\n",
       "      <td>-500.458467</td>\n",
       "      <td>-499.802605</td>\n",
       "      <td>-498.384187</td>\n",
       "      <td>-244.483566</td>\n",
       "    </tr>\n",
       "    <tr>\n",
       "      <th>secondary_cleaner.state.floatbank5_b_air</th>\n",
       "      <td>19438.0</td>\n",
       "      <td>12.198224</td>\n",
       "      <td>5.333024</td>\n",
       "      <td>0.528083</td>\n",
       "      <td>8.971105</td>\n",
       "      <td>11.019433</td>\n",
       "      <td>14.019088</td>\n",
       "      <td>27.926001</td>\n",
       "    </tr>\n",
       "    <tr>\n",
       "      <th>secondary_cleaner.state.floatbank5_b_level</th>\n",
       "      <td>19438.0</td>\n",
       "      <td>-487.149827</td>\n",
       "      <td>38.347312</td>\n",
       "      <td>-800.220337</td>\n",
       "      <td>-500.129462</td>\n",
       "      <td>-499.935317</td>\n",
       "      <td>-499.436708</td>\n",
       "      <td>-137.740004</td>\n",
       "    </tr>\n",
       "    <tr>\n",
       "      <th>secondary_cleaner.state.floatbank6_a_air</th>\n",
       "      <td>19437.0</td>\n",
       "      <td>18.959024</td>\n",
       "      <td>5.550498</td>\n",
       "      <td>-0.079426</td>\n",
       "      <td>14.983037</td>\n",
       "      <td>19.960541</td>\n",
       "      <td>24.003170</td>\n",
       "      <td>32.188906</td>\n",
       "    </tr>\n",
       "    <tr>\n",
       "      <th>secondary_cleaner.state.floatbank6_a_level</th>\n",
       "      <td>19438.0</td>\n",
       "      <td>-505.436305</td>\n",
       "      <td>37.689057</td>\n",
       "      <td>-809.741464</td>\n",
       "      <td>-500.728067</td>\n",
       "      <td>-500.048400</td>\n",
       "      <td>-499.495378</td>\n",
       "      <td>-104.427459</td>\n",
       "    </tr>\n",
       "  </tbody>\n",
       "</table>\n",
       "<p>86 rows × 8 columns</p>\n",
       "</div>"
      ],
      "text/plain": [
       "                                              count        mean        std  \\\n",
       "final.output.concentrate_ag                 19438.0    5.168470   1.372348   \n",
       "final.output.concentrate_pb                 19438.0    9.978895   1.669240   \n",
       "final.output.concentrate_sol                19228.0    9.501224   2.787537   \n",
       "final.output.concentrate_au                 19439.0   44.076513   5.129784   \n",
       "final.output.recovery                       19439.0   67.050208  10.125840   \n",
       "...                                             ...         ...        ...   \n",
       "secondary_cleaner.state.floatbank5_a_level  19438.0 -488.684065  34.533396   \n",
       "secondary_cleaner.state.floatbank5_b_air    19438.0   12.198224   5.333024   \n",
       "secondary_cleaner.state.floatbank5_b_level  19438.0 -487.149827  38.347312   \n",
       "secondary_cleaner.state.floatbank6_a_air    19437.0   18.959024   5.550498   \n",
       "secondary_cleaner.state.floatbank6_a_level  19438.0 -505.436305  37.689057   \n",
       "\n",
       "                                                   min         25%  \\\n",
       "final.output.concentrate_ag                   0.000000    4.251240   \n",
       "final.output.concentrate_pb                   0.000000    9.137262   \n",
       "final.output.concentrate_sol                  0.000000    7.722820   \n",
       "final.output.concentrate_au                   0.000000   43.402215   \n",
       "final.output.recovery                         0.000000   63.299712   \n",
       "...                                                ...         ...   \n",
       "secondary_cleaner.state.floatbank5_a_level -797.323986 -500.458467   \n",
       "secondary_cleaner.state.floatbank5_b_air      0.528083    8.971105   \n",
       "secondary_cleaner.state.floatbank5_b_level -800.220337 -500.129462   \n",
       "secondary_cleaner.state.floatbank6_a_air     -0.079426   14.983037   \n",
       "secondary_cleaner.state.floatbank6_a_level -809.741464 -500.728067   \n",
       "\n",
       "                                                   50%         75%         max  \n",
       "final.output.concentrate_ag                   5.066094    5.895527   16.001945  \n",
       "final.output.concentrate_pb                  10.102433   11.035769   17.031899  \n",
       "final.output.concentrate_sol                  9.218961   10.947813   19.615720  \n",
       "final.output.concentrate_au                  45.011244   46.275313   52.756638  \n",
       "final.output.recovery                        68.172738   72.686642  100.000000  \n",
       "...                                                ...         ...         ...  \n",
       "secondary_cleaner.state.floatbank5_a_level -499.802605 -498.384187 -244.483566  \n",
       "secondary_cleaner.state.floatbank5_b_air     11.019433   14.019088   27.926001  \n",
       "secondary_cleaner.state.floatbank5_b_level -499.935317 -499.436708 -137.740004  \n",
       "secondary_cleaner.state.floatbank6_a_air     19.960541   24.003170   32.188906  \n",
       "secondary_cleaner.state.floatbank6_a_level -500.048400 -499.495378 -104.427459  \n",
       "\n",
       "[86 rows x 8 columns]"
      ]
     },
     "execution_count": 27,
     "metadata": {},
     "output_type": "execute_result"
    }
   ],
   "source": [
    "full_df = pd.read_csv('/datasets/gold_recovery_full_new.csv', index_col='date',parse_dates=True) # проиндексируем столбец 'date'\n",
    "full_df.describe().T"
   ]
  },
  {
   "cell_type": "code",
   "execution_count": 3,
   "metadata": {
    "scrolled": true
   },
   "outputs": [],
   "source": [
    "train_df = pd.read_csv('/datasets/gold_recovery_train_new.csv', index_col='date',parse_dates=True)\n",
    "test_df = pd.read_csv('/datasets/gold_recovery_test_new.csv', index_col='date',parse_dates=True)"
   ]
  },
  {
   "cell_type": "code",
   "execution_count": 4,
   "metadata": {},
   "outputs": [
    {
     "name": "stdout",
     "output_type": "stream",
     "text": [
      "Shape: (14149, 86)\n",
      "Сумма пропусков: 4100\n",
      "Дубликаты: 0\n",
      "\n",
      "\n",
      "Shape: (5290, 52)\n",
      "Сумма пропусков: 90\n",
      "Дубликаты: 0\n",
      "\n",
      "\n",
      "Shape: (19439, 86)\n",
      "Сумма пропусков: 4481\n",
      "Дубликаты: 0\n",
      "\n",
      "\n"
     ]
    }
   ],
   "source": [
    "datasets = [train_df, test_df, full_df]\n",
    "\n",
    "for dataset in datasets:\n",
    "    print('Shape:', dataset.shape)\n",
    "    print('Сумма пропусков:', dataset.isna().sum().sum())\n",
    "    print('Дубликаты:', dataset.duplicated().sum())\n",
    "    print('\\n')"
   ]
  },
  {
   "cell_type": "code",
   "execution_count": 5,
   "metadata": {},
   "outputs": [
    {
     "data": {
      "text/html": [
       "<div>\n",
       "<style scoped>\n",
       "    .dataframe tbody tr th:only-of-type {\n",
       "        vertical-align: middle;\n",
       "    }\n",
       "\n",
       "    .dataframe tbody tr th {\n",
       "        vertical-align: top;\n",
       "    }\n",
       "\n",
       "    .dataframe thead th {\n",
       "        text-align: right;\n",
       "    }\n",
       "</style>\n",
       "<table border=\"1\" class=\"dataframe\">\n",
       "  <thead>\n",
       "    <tr style=\"text-align: right;\">\n",
       "      <th></th>\n",
       "      <th>primary_cleaner.input.sulfate</th>\n",
       "      <th>primary_cleaner.input.depressant</th>\n",
       "      <th>primary_cleaner.input.feed_size</th>\n",
       "      <th>primary_cleaner.input.xanthate</th>\n",
       "      <th>primary_cleaner.state.floatbank8_a_air</th>\n",
       "      <th>primary_cleaner.state.floatbank8_a_level</th>\n",
       "      <th>primary_cleaner.state.floatbank8_b_air</th>\n",
       "      <th>primary_cleaner.state.floatbank8_b_level</th>\n",
       "      <th>primary_cleaner.state.floatbank8_c_air</th>\n",
       "      <th>primary_cleaner.state.floatbank8_c_level</th>\n",
       "      <th>...</th>\n",
       "      <th>secondary_cleaner.state.floatbank4_a_air</th>\n",
       "      <th>secondary_cleaner.state.floatbank4_a_level</th>\n",
       "      <th>secondary_cleaner.state.floatbank4_b_air</th>\n",
       "      <th>secondary_cleaner.state.floatbank4_b_level</th>\n",
       "      <th>secondary_cleaner.state.floatbank5_a_air</th>\n",
       "      <th>secondary_cleaner.state.floatbank5_a_level</th>\n",
       "      <th>secondary_cleaner.state.floatbank5_b_air</th>\n",
       "      <th>secondary_cleaner.state.floatbank5_b_level</th>\n",
       "      <th>secondary_cleaner.state.floatbank6_a_air</th>\n",
       "      <th>secondary_cleaner.state.floatbank6_a_level</th>\n",
       "    </tr>\n",
       "    <tr>\n",
       "      <th>date</th>\n",
       "      <th></th>\n",
       "      <th></th>\n",
       "      <th></th>\n",
       "      <th></th>\n",
       "      <th></th>\n",
       "      <th></th>\n",
       "      <th></th>\n",
       "      <th></th>\n",
       "      <th></th>\n",
       "      <th></th>\n",
       "      <th></th>\n",
       "      <th></th>\n",
       "      <th></th>\n",
       "      <th></th>\n",
       "      <th></th>\n",
       "      <th></th>\n",
       "      <th></th>\n",
       "      <th></th>\n",
       "      <th></th>\n",
       "      <th></th>\n",
       "      <th></th>\n",
       "    </tr>\n",
       "  </thead>\n",
       "  <tbody>\n",
       "    <tr>\n",
       "      <th>2016-09-01 00:59:59</th>\n",
       "      <td>210.800909</td>\n",
       "      <td>14.993118</td>\n",
       "      <td>8.08</td>\n",
       "      <td>1.005021</td>\n",
       "      <td>1398.981301</td>\n",
       "      <td>-500.225577</td>\n",
       "      <td>1399.144926</td>\n",
       "      <td>-499.919735</td>\n",
       "      <td>1400.102998</td>\n",
       "      <td>-500.704369</td>\n",
       "      <td>...</td>\n",
       "      <td>12.023554</td>\n",
       "      <td>-497.795834</td>\n",
       "      <td>8.016656</td>\n",
       "      <td>-501.289139</td>\n",
       "      <td>7.946562</td>\n",
       "      <td>-432.31785</td>\n",
       "      <td>4.872511</td>\n",
       "      <td>-500.037437</td>\n",
       "      <td>26.705889</td>\n",
       "      <td>-499.709414</td>\n",
       "    </tr>\n",
       "  </tbody>\n",
       "</table>\n",
       "<p>1 rows × 52 columns</p>\n",
       "</div>"
      ],
      "text/plain": [
       "                     primary_cleaner.input.sulfate  \\\n",
       "date                                                 \n",
       "2016-09-01 00:59:59                     210.800909   \n",
       "\n",
       "                     primary_cleaner.input.depressant  \\\n",
       "date                                                    \n",
       "2016-09-01 00:59:59                         14.993118   \n",
       "\n",
       "                     primary_cleaner.input.feed_size  \\\n",
       "date                                                   \n",
       "2016-09-01 00:59:59                             8.08   \n",
       "\n",
       "                     primary_cleaner.input.xanthate  \\\n",
       "date                                                  \n",
       "2016-09-01 00:59:59                        1.005021   \n",
       "\n",
       "                     primary_cleaner.state.floatbank8_a_air  \\\n",
       "date                                                          \n",
       "2016-09-01 00:59:59                             1398.981301   \n",
       "\n",
       "                     primary_cleaner.state.floatbank8_a_level  \\\n",
       "date                                                            \n",
       "2016-09-01 00:59:59                               -500.225577   \n",
       "\n",
       "                     primary_cleaner.state.floatbank8_b_air  \\\n",
       "date                                                          \n",
       "2016-09-01 00:59:59                             1399.144926   \n",
       "\n",
       "                     primary_cleaner.state.floatbank8_b_level  \\\n",
       "date                                                            \n",
       "2016-09-01 00:59:59                               -499.919735   \n",
       "\n",
       "                     primary_cleaner.state.floatbank8_c_air  \\\n",
       "date                                                          \n",
       "2016-09-01 00:59:59                             1400.102998   \n",
       "\n",
       "                     primary_cleaner.state.floatbank8_c_level  ...  \\\n",
       "date                                                           ...   \n",
       "2016-09-01 00:59:59                               -500.704369  ...   \n",
       "\n",
       "                     secondary_cleaner.state.floatbank4_a_air  \\\n",
       "date                                                            \n",
       "2016-09-01 00:59:59                                 12.023554   \n",
       "\n",
       "                     secondary_cleaner.state.floatbank4_a_level  \\\n",
       "date                                                              \n",
       "2016-09-01 00:59:59                                 -497.795834   \n",
       "\n",
       "                     secondary_cleaner.state.floatbank4_b_air  \\\n",
       "date                                                            \n",
       "2016-09-01 00:59:59                                  8.016656   \n",
       "\n",
       "                     secondary_cleaner.state.floatbank4_b_level  \\\n",
       "date                                                              \n",
       "2016-09-01 00:59:59                                 -501.289139   \n",
       "\n",
       "                     secondary_cleaner.state.floatbank5_a_air  \\\n",
       "date                                                            \n",
       "2016-09-01 00:59:59                                  7.946562   \n",
       "\n",
       "                     secondary_cleaner.state.floatbank5_a_level  \\\n",
       "date                                                              \n",
       "2016-09-01 00:59:59                                  -432.31785   \n",
       "\n",
       "                     secondary_cleaner.state.floatbank5_b_air  \\\n",
       "date                                                            \n",
       "2016-09-01 00:59:59                                  4.872511   \n",
       "\n",
       "                     secondary_cleaner.state.floatbank5_b_level  \\\n",
       "date                                                              \n",
       "2016-09-01 00:59:59                                 -500.037437   \n",
       "\n",
       "                     secondary_cleaner.state.floatbank6_a_air  \\\n",
       "date                                                            \n",
       "2016-09-01 00:59:59                                 26.705889   \n",
       "\n",
       "                     secondary_cleaner.state.floatbank6_a_level  \n",
       "date                                                             \n",
       "2016-09-01 00:59:59                                 -499.709414  \n",
       "\n",
       "[1 rows x 52 columns]"
      ]
     },
     "execution_count": 5,
     "metadata": {},
     "output_type": "execute_result"
    }
   ],
   "source": [
    "test_df.head(1)"
   ]
  },
  {
   "cell_type": "markdown",
   "metadata": {},
   "source": [
    "Заполним пропуски методом `ffill`. "
   ]
  },
  {
   "cell_type": "code",
   "execution_count": 6,
   "metadata": {},
   "outputs": [],
   "source": [
    "train_df = train_df.fillna(method='ffill')\n",
    "test_df = test_df.fillna(method='ffill')\n",
    "full_df = full_df.fillna(method='ffill')"
   ]
  },
  {
   "cell_type": "code",
   "execution_count": 7,
   "metadata": {},
   "outputs": [
    {
     "name": "stdout",
     "output_type": "stream",
     "text": [
      "Сумма пропусков train_df: 0\n",
      "Сумма пропусков test_df: 0\n",
      "Сумма пропусков full_df: 0\n"
     ]
    }
   ],
   "source": [
    "print(\"Сумма пропусков train_df:\", train_df.isna().sum().sum())\n",
    "print(\"Сумма пропусков test_df:\", test_df.isna().sum().sum())\n",
    "print(\"Сумма пропусков full_df:\", full_df.isna().sum().sum())"
   ]
  },
  {
   "cell_type": "raw",
   "metadata": {},
   "source": [
    "Проверим, какие столбцы отсутствуют в тестовой выборке."
   ]
  },
  {
   "cell_type": "code",
   "execution_count": 8,
   "metadata": {
    "scrolled": false
   },
   "outputs": [
    {
     "data": {
      "text/plain": [
       "['primary_cleaner.output.tail_ag',\n",
       " 'final.output.tail_ag',\n",
       " 'rougher.output.tail_pb',\n",
       " 'rougher.calculation.au_pb_ratio',\n",
       " 'final.output.tail_au',\n",
       " 'final.output.concentrate_au',\n",
       " 'final.output.recovery',\n",
       " 'rougher.calculation.floatbank11_sulfate_to_au_feed',\n",
       " 'rougher.calculation.sulfate_to_au_concentrate',\n",
       " 'rougher.output.tail_ag',\n",
       " 'final.output.concentrate_sol',\n",
       " 'primary_cleaner.output.tail_sol',\n",
       " 'rougher.calculation.floatbank10_sulfate_to_au_feed',\n",
       " 'final.output.concentrate_ag',\n",
       " 'primary_cleaner.output.tail_pb',\n",
       " 'primary_cleaner.output.concentrate_sol',\n",
       " 'rougher.output.concentrate_ag',\n",
       " 'secondary_cleaner.output.tail_au',\n",
       " 'rougher.output.tail_sol',\n",
       " 'primary_cleaner.output.concentrate_pb',\n",
       " 'rougher.output.recovery',\n",
       " 'primary_cleaner.output.concentrate_ag',\n",
       " 'secondary_cleaner.output.tail_sol',\n",
       " 'final.output.concentrate_pb',\n",
       " 'primary_cleaner.output.concentrate_au',\n",
       " 'final.output.tail_pb',\n",
       " 'rougher.output.concentrate_pb',\n",
       " 'primary_cleaner.output.tail_au',\n",
       " 'rougher.output.tail_au',\n",
       " 'secondary_cleaner.output.tail_pb',\n",
       " 'secondary_cleaner.output.tail_ag',\n",
       " 'rougher.output.concentrate_sol',\n",
       " 'rougher.output.concentrate_au',\n",
       " 'final.output.tail_sol']"
      ]
     },
     "execution_count": 8,
     "metadata": {},
     "output_type": "execute_result"
    }
   ],
   "source": [
    "missing_columns = list(set(train_df.columns) - set(test_df.columns))\n",
    "missing_columns"
   ]
  },
  {
   "cell_type": "markdown",
   "metadata": {},
   "source": [
    "Мы видим, что в тесте отсутствует часть столбцов, которые характеризуют этапы последующей обработки.\n",
    "Очевидно, что в тестовой выборке (до начала процесса обработки) их просто не могло быть."
   ]
  },
  {
   "cell_type": "markdown",
   "metadata": {},
   "source": [
    "Удалим из обучающей выборки колонки, которых нет в тестовой выборке, кроме целевых признаков. А в текстовую выборку добавим целевые признаки."
   ]
  },
  {
   "cell_type": "code",
   "execution_count": 25,
   "metadata": {},
   "outputs": [],
   "source": [
    "full_df_merged = full_df[['rougher.output.recovery', 'final.output.recovery']]\n",
    "test_df = test_df.merge(full_df_merged, on='date', how='left')"
   ]
  },
  {
   "cell_type": "markdown",
   "metadata": {},
   "source": [
    "### Проверка корректности расчета параметра `recovery`"
   ]
  },
  {
   "cell_type": "code",
   "execution_count": 11,
   "metadata": {},
   "outputs": [
    {
     "name": "stdout",
     "output_type": "stream",
     "text": [
      "Среднее: 83.3285873508393\n",
      "MAE: 9.874045668302637e-15\n"
     ]
    }
   ],
   "source": [
    "def recovery(T, F, C):\n",
    "    rec = (C*(F-T)) / (F*(C-T)) * 100\n",
    "    return rec\n",
    "\n",
    "t,f,c = full_df['rougher.output.tail_au'], full_df['rougher.input.feed_au'], full_df['rougher.output.concentrate_au']\n",
    "rec = recovery(t, f, c)\n",
    "\n",
    "print(\"Среднее:\", rec.mean())\n",
    "print(\"MAE:\", mean_absolute_error(full_df['rougher.output.recovery'].dropna(), rec.dropna()))"
   ]
  },
  {
   "cell_type": "markdown",
   "metadata": {},
   "source": [
    "Параметр `recovery` в train рассчитан корректно."
   ]
  },
  {
   "cell_type": "markdown",
   "metadata": {},
   "source": [
    "## Анализ данных"
   ]
  },
  {
   "cell_type": "markdown",
   "metadata": {},
   "source": [
    "### Изменение концентрации металлов (Au, Ag, Pb) на различных этапах очистки"
   ]
  },
  {
   "cell_type": "code",
   "execution_count": 12,
   "metadata": {
    "scrolled": false
   },
   "outputs": [
    {
     "data": {
      "image/png": "[encoded data removed]",
      "text/plain": [
       "<Figure size 720x432 with 1 Axes>"
      ]
     },
     "metadata": {
      "needs_background": "light"
     },
     "output_type": "display_data"
    },
    {
     "data": {
      "image/png": "[encoded data removed]",
      "text/plain": [
       "<Figure size 720x432 with 1 Axes>"
      ]
     },
     "metadata": {
      "needs_background": "light"
     },
     "output_type": "display_data"
    },
    {
     "data": {
      "image/png": "[encoded data removed]",
      "text/plain": [
       "<Figure size 720x432 with 1 Axes>"
      ]
     },
     "metadata": {
      "needs_background": "light"
     },
     "output_type": "display_data"
    }
   ],
   "source": [
    "RAW = 'rougher.input.feed_'\n",
    "ROUGHER = 'rougher.output.concentrate_'\n",
    "PRIMARI = 'primary_cleaner.output.concentrate_'\n",
    "FINAL = 'final.output.concentrate_'\n",
    "\n",
    "def hist_metal(raw, rougher, primary, final, metal):\n",
    "    '''\n",
    "    Функция для построения гистограмм концентраций\n",
    "    металлов на различных этапах очистки.\n",
    "    Принимает на вход концентрации на разных этапах:\n",
    "    исходном сырье, после флотации, после первичной очистки, в финальном концентрате \n",
    "    и название металла.    \n",
    "    '''\n",
    "\n",
    "    plt.figure(figsize=(10, 6))\n",
    "    plt.hist(raw, bins=100, alpha=0.5, label='Исходное сырьe')\n",
    "    plt.hist(rougher, bins=100, alpha=0.5, label='После флотации')\n",
    "    plt.hist(primary, bins=100, alpha=0.5, label='После первичной очистки')\n",
    "    plt.hist(final, bins=100, alpha=0.5, label='Финальный концентрат')\n",
    "    plt.title(metal)\n",
    "    plt.xlabel('концентрация')\n",
    "    plt.ylabel('количество наблюдений')\n",
    "    plt.legend()\n",
    "    plt.show()\n",
    "\n",
    "hist_metal(full_df[RAW+'au'], \n",
    "           full_df[ROUGHER+'au'], \n",
    "           full_df[PRIMARI+'au'], \n",
    "           full_df[FINAL+'au'], \n",
    "           'Au')\n",
    "  \n",
    "hist_metal(full_df[RAW+'ag'], \n",
    "           full_df[ROUGHER+'ag'], \n",
    "           full_df[PRIMARI+'ag'], \n",
    "           full_df[FINAL+'ag'], \n",
    "           'Ag')\n",
    "  \n",
    "hist_metal(full_df[RAW+'pb'], \n",
    "           full_df[ROUGHER+'pb'], \n",
    "           full_df[PRIMARI+'pb'], \n",
    "           full_df[FINAL+'pb'], \n",
    "           'Pb')"
   ]
  },
  {
   "cell_type": "markdown",
   "metadata": {},
   "source": [
    "**Вывод:**\n",
    "\n",
    "Как мы видим, изменение концентрации металлов (Au, Ag, Pb) на различных этапах очистки происходит по-разному. \n",
    "\n",
    "Процесс очистки `Au` от примесей происходит постепенно и ровно, увеличиваясь на последовательных стадиях: концентрации плавно и последовательно с равными скачками (10-12 уд.ед.) растут с каждой стадией. Финальный концентрат достигает значения концентрации около 45 уд.ед.\n",
    "\n",
    "Для `Ag`: концентрация максимальна после флотации, а далее на процессах первичной очистки и финального концентрата мы наблюдаем, что выделить серебро становится сложнее, поэтому гистограммы этих процессов отображаются левее.\n",
    "\n",
    "`Pb` на этапе флотации отделяется хорошо (около 5 уд.ед.), но с меньшим диапазоном, чем у золота, а далее на процессе первичной очистки и финального концентрата концентрация становится одинаковой."
   ]
  },
  {
   "cell_type": "markdown",
   "metadata": {},
   "source": [
    "### Распределение размеров гранул сырья на обучающей и тестовой выборках\n",
    "\n",
    "Оценим распределения через построение гистограмм, с использованием параметра density=True, который нормирует данные."
   ]
  },
  {
   "cell_type": "code",
   "execution_count": 13,
   "metadata": {},
   "outputs": [
    {
     "data": {
      "image/png": "[encoded data removed]",
      "text/plain": [
       "<Figure size 432x288 with 1 Axes>"
      ]
     },
     "metadata": {
      "needs_background": "light"
     },
     "output_type": "display_data"
    }
   ],
   "source": [
    "test_df['rougher.input.feed_size'].plot(bins=100, kind='hist', label='test', density=True)\n",
    "train_df['rougher.input.feed_size'].plot(bins=100, kind='hist', alpha=0.5, label='train', density=True)\n",
    "\n",
    "plt.legend(title='Frame')\n",
    "plt.title('Распределение размеров гранул сырья в выборках')\n",
    "plt.xlabel('размер гранул')\n",
    "plt.ylabel('количество')\n",
    "plt.show();"
   ]
  },
  {
   "cell_type": "markdown",
   "metadata": {},
   "source": [
    "**Вывод:**\n",
    "\n",
    "Визуально распределения близки, следовательно, формирование тестовой и тренировочной выборки сделано корректно."
   ]
  },
  {
   "cell_type": "markdown",
   "metadata": {},
   "source": [
    "### Исследование суммарной концентрации всех веществ на разных стадиях: в сырье, в черновом и финальном концентратах"
   ]
  },
  {
   "cell_type": "code",
   "execution_count": 14,
   "metadata": {
    "scrolled": false
   },
   "outputs": [
    {
     "data": {
      "text/html": [
       "<div>\n",
       "<style scoped>\n",
       "    .dataframe tbody tr th:only-of-type {\n",
       "        vertical-align: middle;\n",
       "    }\n",
       "\n",
       "    .dataframe tbody tr th {\n",
       "        vertical-align: top;\n",
       "    }\n",
       "\n",
       "    .dataframe thead th {\n",
       "        text-align: right;\n",
       "    }\n",
       "</style>\n",
       "<table border=\"1\" class=\"dataframe\">\n",
       "  <thead>\n",
       "    <tr style=\"text-align: right;\">\n",
       "      <th></th>\n",
       "      <th>Исходное сырьe</th>\n",
       "      <th>После флотации</th>\n",
       "      <th>Финальный концентрат</th>\n",
       "    </tr>\n",
       "    <tr>\n",
       "      <th>date</th>\n",
       "      <th></th>\n",
       "      <th></th>\n",
       "      <th></th>\n",
       "    </tr>\n",
       "  </thead>\n",
       "  <tbody>\n",
       "    <tr>\n",
       "      <th>2016-01-15 00:00:00</th>\n",
       "      <td>51.680034</td>\n",
       "      <td>66.424950</td>\n",
       "      <td>63.644396</td>\n",
       "    </tr>\n",
       "    <tr>\n",
       "      <th>2016-01-15 01:00:00</th>\n",
       "      <td>50.659114</td>\n",
       "      <td>67.012710</td>\n",
       "      <td>63.957723</td>\n",
       "    </tr>\n",
       "    <tr>\n",
       "      <th>2016-01-15 02:00:00</th>\n",
       "      <td>50.609929</td>\n",
       "      <td>66.103793</td>\n",
       "      <td>64.311180</td>\n",
       "    </tr>\n",
       "  </tbody>\n",
       "</table>\n",
       "</div>"
      ],
      "text/plain": [
       "                     Исходное сырьe  После флотации  Финальный концентрат\n",
       "date                                                                     \n",
       "2016-01-15 00:00:00       51.680034       66.424950             63.644396\n",
       "2016-01-15 01:00:00       50.659114       67.012710             63.957723\n",
       "2016-01-15 02:00:00       50.609929       66.103793             64.311180"
      ]
     },
     "metadata": {},
     "output_type": "display_data"
    },
    {
     "data": {
      "image/png": "[encoded data removed]",
      "text/plain": [
       "<Figure size 1008x576 with 1 Axes>"
      ]
     },
     "metadata": {
      "needs_background": "light"
     },
     "output_type": "display_data"
    }
   ],
   "source": [
    "summ_conc = pd.DataFrame()\n",
    "\n",
    "summ_conc['Исходное сырьe'] = full_df[[RAW+'au', RAW+'ag', RAW+'pb', RAW+'sol']].sum(axis=1)\n",
    "summ_conc['После флотации'] = full_df[[ROUGHER+'au', ROUGHER+'ag', ROUGHER+'pb', ROUGHER+'sol']].sum(axis=1)\n",
    "# summ_conc['После первичной очистки'] = full_df[[PRIMARI+'au', PRIMARI+'ag', PRIMARI+'pb', PRIMARI+'sol']].sum(axis=1)\n",
    "summ_conc['Финальный концентрат'] = full_df[[FINAL+'au', FINAL+'ag', FINAL+'pb', FINAL+'sol']].sum(axis=1)\n",
    "\n",
    "display(summ_conc.head(3))\n",
    "\n",
    "plt.figure(figsize=(14, 8))\n",
    "plt.hist(summ_conc['Исходное сырьe'], bins=100, alpha=0.5, label='Исходное сырьe')\n",
    "plt.hist(summ_conc['После флотации'], bins=100, alpha=0.5, label='После флотации')\n",
    "# plt.hist(summ_conc['После первичной очистки'], bins=100, alpha=0.5, label='После первичной очистки')\n",
    "plt.hist(summ_conc['Финальный концентрат'], bins=100, alpha=0.5, label='Финальный концентрат')\n",
    "plt.title('Cуммарные концентрации металлов на разных стадиях производства')\n",
    "plt.xlabel('концентрация')\n",
    "plt.ylabel('количество')\n",
    "plt.legend()\n",
    "plt.show();"
   ]
  },
  {
   "cell_type": "markdown",
   "metadata": {},
   "source": [
    "**Вывод:**\n",
    "\n",
    "* Распределения с длинными хвостами слева - выбросами.\n",
    "\n",
    "* Также много позиций, в которых суммарная концентрация всех металлов равна нулю. Разумно удалить эти позиции, так как в рамках техпроцесса они бессмыслены, нулевые же концентрации отдельного металла необходимо оставить, чтоб модель могла реагировать на такие значения."
   ]
  },
  {
   "cell_type": "markdown",
   "metadata": {},
   "source": [
    "Для того, чтобы определить пороговые значения выбросов, построим boxplot."
   ]
  },
  {
   "cell_type": "code",
   "execution_count": 15,
   "metadata": {
    "scrolled": true
   },
   "outputs": [
    {
     "data": {
      "image/png": "[encoded data removed]",
      "text/plain": [
       "<Figure size 720x360 with 1 Axes>"
      ]
     },
     "metadata": {
      "needs_background": "light"
     },
     "output_type": "display_data"
    }
   ],
   "source": [
    "summ_conc.boxplot(figsize=(10,5))\n",
    "plt.title('Суммарная концентрация металлов на разных стадиях производства', fontsize=14)\n",
    "plt.show();"
   ]
  },
  {
   "cell_type": "markdown",
   "metadata": {},
   "source": [
    "На распределениях концентраций металлов на разных этапах наблюдаем тяжелые хвосты. Но такие хвосты могут быть особенностью технологического процесса, поэтому удалим только суммарные нулевые позиции."
   ]
  },
  {
   "cell_type": "code",
   "execution_count": 16,
   "metadata": {},
   "outputs": [],
   "source": [
    "train_df = train_df[train_df[[RAW+'au', RAW+'ag', RAW+'pb', RAW+'sol']].sum(1) > 0]\n",
    "train_df = train_df[train_df[[ROUGHER+'au', ROUGHER+'ag', ROUGHER+'pb', ROUGHER+'sol']].sum(1) > 0]\n",
    "train_df = train_df[train_df[[FINAL+'au', FINAL+'ag', FINAL+'pb', FINAL+'sol']].sum(1) > 0]\n",
    "\n",
    "full_df = full_df.loc[test_df.index]\n",
    "test_df = test_df[full_df[[RAW+'au', RAW+'ag', RAW+'pb', RAW+'sol']].sum(1) > 0]\n",
    "test_df = test_df[full_df[[ROUGHER+'au', ROUGHER+'ag', ROUGHER+'pb', ROUGHER+'sol']].sum(1) > 0]\n",
    "test_df = test_df[full_df[[FINAL+'au', FINAL+'ag', FINAL+'pb', FINAL+'sol']].sum(1) > 0]"
   ]
  },
  {
   "cell_type": "markdown",
   "metadata": {},
   "source": [
    "## Модель"
   ]
  },
  {
   "cell_type": "markdown",
   "metadata": {},
   "source": [
    "Разобьем выборки на features_ и target_ :"
   ]
  },
  {
   "cell_type": "code",
   "execution_count": 17,
   "metadata": {
    "scrolled": true
   },
   "outputs": [
    {
     "data": {
      "text/plain": [
       "(13795, 84)"
      ]
     },
     "metadata": {},
     "output_type": "display_data"
    },
    {
     "data": {
      "text/plain": [
       "(13795, 2)"
      ]
     },
     "metadata": {},
     "output_type": "display_data"
    },
    {
     "data": {
      "text/plain": [
       "(5154, 52)"
      ]
     },
     "metadata": {},
     "output_type": "display_data"
    },
    {
     "data": {
      "text/plain": [
       "(5154, 2)"
      ]
     },
     "metadata": {},
     "output_type": "display_data"
    }
   ],
   "source": [
    "features_train = train_df.drop(columns=['rougher.output.recovery', 'final.output.recovery'], axis=1)\n",
    "target_train = train_df[['rougher.output.recovery', 'final.output.recovery']]\n",
    "\n",
    "features_test = test_df.drop(columns=['rougher.output.recovery', 'final.output.recovery'], axis=1)\n",
    "target_test = test_df[['rougher.output.recovery', 'final.output.recovery']]\n",
    "\n",
    "display(features_train.shape)\n",
    "display(target_train.shape)\n",
    "display(features_test.shape)\n",
    "display(target_test.shape)"
   ]
  },
  {
   "cell_type": "markdown",
   "metadata": {},
   "source": [
    "Удалим столбцы, характеризующие этапы последующей обработки, из `train_df`, которые обнаружили ранее."
   ]
  },
  {
   "cell_type": "code",
   "execution_count": 18,
   "metadata": {
    "scrolled": true
   },
   "outputs": [],
   "source": [
    "features_train = features_train.drop(columns=['final.output.tail_au',\n",
    "                                              'rougher.output.tail_ag',\n",
    "                                              'primary_cleaner.output.concentrate_ag',\n",
    "                                              'rougher.output.tail_au',\n",
    "                                              'primary_cleaner.output.tail_sol',\n",
    "                                              'primary_cleaner.output.tail_au',\n",
    "                                              'primary_cleaner.output.concentrate_pb',\n",
    "                                              'primary_cleaner.output.tail_ag',\n",
    "                                              'rougher.calculation.floatbank10_sulfate_to_au_feed',\n",
    "                                              'secondary_cleaner.output.tail_ag',\n",
    "                                              'secondary_cleaner.output.tail_pb',\n",
    "                                              'primary_cleaner.output.concentrate_au',\n",
    "                                              'final.output.tail_pb',\n",
    "                                              'final.output.tail_sol',\n",
    "                                              'rougher.output.tail_pb',\n",
    "                                              'rougher.calculation.floatbank11_sulfate_to_au_feed',\n",
    "                                              'rougher.calculation.au_pb_ratio',\n",
    "                                              'final.output.tail_ag',\n",
    "                                              'secondary_cleaner.output.tail_au',\n",
    "                                              'secondary_cleaner.output.tail_sol',\n",
    "                                              'primary_cleaner.output.tail_pb',\n",
    "                                              'rougher.calculation.sulfate_to_au_concentrate',\n",
    "                                              'primary_cleaner.output.concentrate_sol',                           \n",
    "                                              'rougher.output.tail_sol',\n",
    "                                              'rougher.output.concentrate_au', \n",
    "                                              'rougher.output.concentrate_ag', \n",
    "                                              'rougher.output.concentrate_pb', \n",
    "                                              'rougher.output.concentrate_sol', \n",
    "                                              'final.output.concentrate_au', \n",
    "                                              'final.output.concentrate_ag',\n",
    "                                              'final.output.concentrate_pb', \n",
    "                                              'final.output.concentrate_sol'], axis=1)"
   ]
  },
  {
   "cell_type": "code",
   "execution_count": 19,
   "metadata": {},
   "outputs": [
    {
     "data": {
      "text/plain": [
       "(13795, 52)"
      ]
     },
     "metadata": {},
     "output_type": "display_data"
    },
    {
     "data": {
      "text/plain": [
       "(13795, 2)"
      ]
     },
     "metadata": {},
     "output_type": "display_data"
    },
    {
     "data": {
      "text/plain": [
       "(5154, 52)"
      ]
     },
     "metadata": {},
     "output_type": "display_data"
    },
    {
     "data": {
      "text/plain": [
       "(5154, 2)"
      ]
     },
     "metadata": {},
     "output_type": "display_data"
    }
   ],
   "source": [
    "display(features_train.shape)\n",
    "display(target_train.shape)\n",
    "display(features_test.shape)\n",
    "display(target_test.shape)"
   ]
  },
  {
   "cell_type": "markdown",
   "metadata": {},
   "source": [
    "### Функция для вычисления итоговой sMAPE"
   ]
  },
  {
   "attachments": {
    "smape_1576238825.jpg": {
     "image/jpeg": "[encoded data removed]"
    }
   },
   "cell_type": "markdown",
   "metadata": {},
   "source": [
    "![smape_1576238825.jpg](attachment:smape_1576238825.jpg)\n"
   ]
  },
  {
   "attachments": {
    "_smape_1576238814.jpg": {
     "image/jpeg": "[encoded data removed]"
    }
   },
   "cell_type": "markdown",
   "metadata": {},
   "source": [
    "![_smape_1576238814.jpg](attachment:_smape_1576238814.jpg)"
   ]
  },
  {
   "cell_type": "code",
   "execution_count": 20,
   "metadata": {},
   "outputs": [],
   "source": [
    "def smape(target, predictions):\n",
    "    numerator = np.abs(target - predictions)\n",
    "    denominator = (np.abs(target) + np.abs(predictions)) / 2 \n",
    "    return 1 / len(target) * np.sum(numerator / denominator) * 100 \n",
    "  \n",
    "def final_smape(target, predictions):\n",
    "    target_rougher = target['rougher.output.recovery']\n",
    "    target_final = target['final.output.recovery']\n",
    "    predictions_rougher = predictions[:, 0]\n",
    "    predictions_final = predictions[:, 1]\n",
    "    return 0.25 * smape(target_rougher, predictions_rougher) + 0.75 * smape(target_rougher, predictions_rougher)\n",
    "\n",
    "smape_scorer = make_scorer(final_smape, greater_is_better=False)"
   ]
  },
  {
   "cell_type": "markdown",
   "metadata": {},
   "source": [
    "### Построение модели"
   ]
  },
  {
   "cell_type": "markdown",
   "metadata": {},
   "source": [
    "Возьмем следующие модели для нашего исследования:\n",
    "* \"Дерево решений\"\n",
    "* \"Случайный лес\"\n",
    "* \"Линейная регрессия\"\n",
    "\n",
    "Для подбора оптимальных параметров наших моделей используем функцию `Gridsearchcv`."
   ]
  },
  {
   "cell_type": "markdown",
   "metadata": {},
   "source": [
    "#### Модель \"Дерево решений\""
   ]
  },
  {
   "cell_type": "code",
   "execution_count": 21,
   "metadata": {},
   "outputs": [
    {
     "name": "stdout",
     "output_type": "stream",
     "text": [
      "Лучшее значение smape для DecisionTreeRegressor: 7.2428 \n",
      "Лучшая модель: {'max_depth': 2}\n"
     ]
    }
   ],
   "source": [
    "# Создадим параметры grid для модели DecisionTreeRegressor\n",
    "param_grid_dt = {'max_depth': range(2, 8)}\n",
    "# Создадим модель\n",
    "dt = DecisionTreeRegressor(random_state=12345)\n",
    "# Instantiate the grid search model\n",
    "grid_search_dt = GridSearchCV(estimator=dt, param_grid=param_grid_dt, scoring=smape_scorer, cv=5, n_jobs=-1)\n",
    "\n",
    "grid_search_dt.fit(features_train, target_train)\n",
    "\n",
    "print(\"Лучшее значение smape для DecisionTreeRegressor:\", -grid_search_dt.best_score_.round(4),\n",
    "      \"\\nЛучшая модель:\", grid_search_dt.best_params_)\n",
    "\n",
    "# # Лучшее значение smape для DecisionTreeRegressor: 7.1871 \n",
    "# # Лучшая модель: {'max_depth': 4}"
   ]
  },
  {
   "cell_type": "markdown",
   "metadata": {},
   "source": [
    "#### Модель \"Случайный лес\""
   ]
  },
  {
   "cell_type": "code",
   "execution_count": 22,
   "metadata": {
    "scrolled": true
   },
   "outputs": [
    {
     "name": "stdout",
     "output_type": "stream",
     "text": [
      "Fitting 5 folds for each of 3 candidates, totalling 15 fits\n",
      "[CV] END .....................max_depth=16, n_estimators=100; total time=  40.4s\n",
      "[CV] END .....................max_depth=16, n_estimators=100; total time=  40.6s\n",
      "[CV] END .....................max_depth=16, n_estimators=100; total time=  40.2s\n",
      "[CV] END .....................max_depth=16, n_estimators=100; total time=  40.6s\n",
      "[CV] END .....................max_depth=16, n_estimators=100; total time=  41.0s\n",
      "[CV] END .....................max_depth=16, n_estimators=110; total time=  45.4s\n",
      "[CV] END .....................max_depth=16, n_estimators=110; total time=  45.9s\n",
      "[CV] END .....................max_depth=16, n_estimators=110; total time=  44.4s\n",
      "[CV] END .....................max_depth=16, n_estimators=110; total time=  44.5s\n",
      "[CV] END .....................max_depth=16, n_estimators=110; total time=  45.7s\n",
      "[CV] END .....................max_depth=16, n_estimators=120; total time=  50.0s\n",
      "[CV] END .....................max_depth=16, n_estimators=120; total time=  52.0s\n",
      "[CV] END .....................max_depth=16, n_estimators=120; total time=  47.1s\n",
      "[CV] END .....................max_depth=16, n_estimators=120; total time=  46.7s\n",
      "[CV] END .....................max_depth=16, n_estimators=120; total time=  47.7s\n",
      "Лучшее значение smape для RandomForestRegressor: 6.8934 \n",
      "Лучшая модель: {'max_depth': 16, 'n_estimators': 110}\n",
      "CPU times: user 11min 59s, sys: 335 ms, total: 11min 59s\n",
      "Wall time: 12min 8s\n"
     ]
    }
   ],
   "source": [
    "%%time\n",
    "# Создадим параметры для модели RandomForestRegressor\n",
    "param_grid_rf = {\n",
    "    'max_depth': [16],\n",
    "    'n_estimators': range(100, 121, 10)\n",
    "}\n",
    "\n",
    "rf = RandomForestRegressor(random_state=12345)\n",
    "\n",
    "grid_search_rf = GridSearchCV(estimator=rf, param_grid=param_grid_rf, \n",
    "                              scoring=smape_scorer, cv=5, n_jobs=-1, verbose=2)\n",
    "\n",
    "grid_search_rf.fit(features_train, target_train)\n",
    "\n",
    "print(\"Лучшее значение smape для RandomForestRegressor:\", -grid_search_rf.best_score_.round(4),\n",
    "      \"\\nЛучшая модель:\", grid_search_rf.best_params_)\n",
    "\n",
    "# Лучшее значение smape для RandomForestRegressor: 6.7267 \n",
    "# Лучшая модель: {'max_depth': 16, 'n_estimators': 110}\n",
    "# CPU times: user 23min 50s, sys: 983 ms, total: 23min 51s\n",
    "# Wall time: 24min 24s"
   ]
  },
  {
   "cell_type": "markdown",
   "metadata": {},
   "source": [
    "#### Модель \"Линейная регрессия\""
   ]
  },
  {
   "cell_type": "code",
   "execution_count": 23,
   "metadata": {},
   "outputs": [
    {
     "name": "stdout",
     "output_type": "stream",
     "text": [
      "Лучшее значение smape для LinearRegression: 7.2678 \n",
      "Параметры модели: {'normalize': False}\n"
     ]
    }
   ],
   "source": [
    "param_grid_lg = {'normalize': [False, True]}\n",
    "lg = LinearRegression()\n",
    "grid_search_lg = GridSearchCV(estimator=lg, param_grid=param_grid_lg, \n",
    "                              scoring=smape_scorer, cv=5, n_jobs=-1)\n",
    "grid_search_lg.fit(features_train, target_train)\n",
    "\n",
    "print(\"Лучшее значение smape для LinearRegression:\", -grid_search_lg.best_score_.round(4),\n",
    "      \"\\nПараметры модели:\", grid_search_lg.best_params_)\n",
    "\n",
    "# Лучшее значение smape для LinearRegression: 6.4673 \n",
    "# Параметры модели: {'normalize': False}"
   ]
  },
  {
   "cell_type": "markdown",
   "metadata": {},
   "source": [
    "Лучше всего показала себя модель Линейной регрессии, у которой минимальный параметр sMape."
   ]
  },
  {
   "cell_type": "markdown",
   "metadata": {},
   "source": [
    "### Тестирование модели"
   ]
  },
  {
   "cell_type": "code",
   "execution_count": 24,
   "metadata": {},
   "outputs": [
    {
     "name": "stdout",
     "output_type": "stream",
     "text": [
      "sMape LinearRegression на тестовой выборке: 4.8529687249876785\n",
      "sMape DecisionTreeRegressor на тестовой выборке: 4.984045013067126\n",
      "sMape RandomForestRegressor на тестовой выборке: 4.668636802937405\n"
     ]
    }
   ],
   "source": [
    "model_lg_best = LinearRegression()\n",
    "model_lg_best.fit(features_train, target_train)\n",
    "predicted_test = model_lg_best.predict(features_test)\n",
    "print('sMape LinearRegression на тестовой выборке:', final_smape(target_test, predicted_test))\n",
    "\n",
    "model_dt_best = DecisionTreeRegressor(random_state=12345, max_depth=4)\n",
    "model_dt_best.fit(features_train, target_train)\n",
    "predicted_test = model_dt_best.predict(features_test)\n",
    "print('sMape DecisionTreeRegressor на тестовой выборке:', final_smape(target_test, predicted_test))\n",
    "\n",
    "model_rf_best = RandomForestRegressor(random_state=12345, max_depth=16, n_estimators=110)\n",
    "model_rf_best.fit(features_train, target_train)\n",
    "predicted_test = model_rf_best.predict(features_test)\n",
    "print('sMape RandomForestRegressor на тестовой выборке:', final_smape(target_test, predicted_test))\n",
    "\n",
    "# sMape LinearRegression на тестовой выборке: 180.25066164536463\n",
    "# sMape DecisionTreeRegressor на тестовой выборке: 4.719105300666309\n",
    "# sMape RandomForestRegressor на тестовой выборке: 5.286425084764315"
   ]
  },
  {
   "cell_type": "markdown",
   "metadata": {},
   "source": [
    "Лучше всего на тестовой выборке показала себя модель DecisionTreeRegressor, с sMape=4.7, хотя на обучающей выборке наблюдался худший результат из исследуемых нами моделей."
   ]
  },
  {
   "cell_type": "markdown",
   "metadata": {},
   "source": [
    "**Вывод:**\n",
    "Итоговая модель - RandomForestRegressor {'max_depth': 16, 'n_estimators': 110} с sMape=5.3. Модель показала средние результаты на обучающей и тестовой выборках среди рассмотренных моделей."
   ]
  },
  {
   "cell_type": "markdown",
   "metadata": {},
   "source": [
    "Вернуться в [начало](#startpage)."
   ]
  }
 ],
 "metadata": {
  "ExecuteTimeLog": [
   {
    "duration": 530,
    "start_time": "2022-04-14T19:57:17.408Z"
   },
   {
    "duration": 1369,
    "start_time": "2022-04-14T19:57:36.519Z"
   },
   {
    "duration": 107,
    "start_time": "2022-04-14T19:58:01.534Z"
   },
   {
    "duration": 45,
    "start_time": "2022-04-14T19:58:26.798Z"
   },
   {
    "duration": 382,
    "start_time": "2022-04-14T19:59:05.055Z"
   },
   {
    "duration": 262,
    "start_time": "2022-04-14T19:59:53.798Z"
   },
   {
    "duration": 420,
    "start_time": "2022-04-14T20:00:19.863Z"
   },
   {
    "duration": 15,
    "start_time": "2022-04-14T20:01:25.773Z"
   },
   {
    "duration": 403,
    "start_time": "2022-04-14T20:01:39.142Z"
   },
   {
    "duration": 314,
    "start_time": "2022-04-14T20:01:44.444Z"
   },
   {
    "duration": 2266,
    "start_time": "2022-04-14T20:04:42.886Z"
   },
   {
    "duration": 2280,
    "start_time": "2022-04-14T20:05:13.670Z"
   },
   {
    "duration": 392,
    "start_time": "2022-04-14T20:05:58.359Z"
   },
   {
    "duration": 14,
    "start_time": "2022-04-14T20:08:36.235Z"
   },
   {
    "duration": 4,
    "start_time": "2022-04-14T20:09:47.789Z"
   },
   {
    "duration": 3,
    "start_time": "2022-04-14T20:11:57.055Z"
   },
   {
    "duration": 5,
    "start_time": "2022-04-14T20:12:31.774Z"
   },
   {
    "duration": 5,
    "start_time": "2022-04-14T20:12:52.037Z"
   },
   {
    "duration": 367,
    "start_time": "2022-04-14T20:15:25.030Z"
   },
   {
    "duration": 61,
    "start_time": "2022-04-14T20:56:57.018Z"
   },
   {
    "duration": 14,
    "start_time": "2022-04-14T20:57:19.402Z"
   },
   {
    "duration": 11,
    "start_time": "2022-04-14T20:57:34.448Z"
   },
   {
    "duration": 11,
    "start_time": "2022-04-14T20:57:37.179Z"
   },
   {
    "duration": 6,
    "start_time": "2022-04-14T20:57:55.155Z"
   },
   {
    "duration": 3,
    "start_time": "2022-04-14T20:57:57.705Z"
   },
   {
    "duration": 1780,
    "start_time": "2022-04-14T21:22:46.126Z"
   },
   {
    "duration": 13,
    "start_time": "2022-04-14T21:25:19.358Z"
   },
   {
    "duration": 52,
    "start_time": "2022-04-15T14:13:46.255Z"
   },
   {
    "duration": 1891,
    "start_time": "2022-04-15T14:13:57.120Z"
   },
   {
    "duration": 2,
    "start_time": "2022-04-15T14:13:59.013Z"
   },
   {
    "duration": 350,
    "start_time": "2022-04-15T14:13:59.017Z"
   },
   {
    "duration": 317,
    "start_time": "2022-04-15T14:13:59.368Z"
   },
   {
    "duration": 255,
    "start_time": "2022-04-15T14:13:59.687Z"
   },
   {
    "duration": 20,
    "start_time": "2022-04-15T14:13:59.944Z"
   },
   {
    "duration": 7,
    "start_time": "2022-04-15T14:13:59.966Z"
   },
   {
    "duration": 353,
    "start_time": "2022-04-15T14:13:59.974Z"
   },
   {
    "duration": 12,
    "start_time": "2022-04-15T14:14:00.329Z"
   },
   {
    "duration": 2261,
    "start_time": "2022-04-15T14:14:00.343Z"
   },
   {
    "duration": 19,
    "start_time": "2022-04-15T14:36:06.374Z"
   },
   {
    "duration": 52,
    "start_time": "2022-04-15T14:36:38.215Z"
   },
   {
    "duration": 6,
    "start_time": "2022-04-15T14:38:12.024Z"
   },
   {
    "duration": 170,
    "start_time": "2022-04-15T14:50:08.632Z"
   },
   {
    "duration": 173,
    "start_time": "2022-04-15T14:50:24.768Z"
   },
   {
    "duration": 163,
    "start_time": "2022-04-15T14:50:51.487Z"
   },
   {
    "duration": 145,
    "start_time": "2022-04-15T14:50:56.656Z"
   },
   {
    "duration": 178,
    "start_time": "2022-04-15T14:54:59.625Z"
   },
   {
    "duration": 329,
    "start_time": "2022-04-15T15:02:11.078Z"
   },
   {
    "duration": 13,
    "start_time": "2022-04-15T15:12:12.115Z"
   },
   {
    "duration": 14,
    "start_time": "2022-04-15T15:31:23.192Z"
   },
   {
    "duration": 7,
    "start_time": "2022-04-15T15:31:50.836Z"
   },
   {
    "duration": 26,
    "start_time": "2022-04-15T15:32:17.939Z"
   },
   {
    "duration": 8,
    "start_time": "2022-04-15T15:33:09.227Z"
   },
   {
    "duration": 2917,
    "start_time": "2022-04-15T15:49:16.203Z"
   },
   {
    "duration": 545,
    "start_time": "2022-04-15T15:49:48.987Z"
   },
   {
    "duration": 344,
    "start_time": "2022-04-15T15:52:46.962Z"
   },
   {
    "duration": 12,
    "start_time": "2022-04-15T15:53:12.122Z"
   },
   {
    "duration": 534,
    "start_time": "2022-04-15T15:56:03.839Z"
   },
   {
    "duration": 466,
    "start_time": "2022-04-15T16:08:13.481Z"
   },
   {
    "duration": 1907,
    "start_time": "2022-04-15T16:14:17.047Z"
   },
   {
    "duration": 148,
    "start_time": "2022-04-15T16:17:12.585Z"
   },
   {
    "duration": 1990,
    "start_time": "2022-04-15T16:17:24.952Z"
   },
   {
    "duration": 1897,
    "start_time": "2022-04-15T16:17:39.089Z"
   },
   {
    "duration": 2159,
    "start_time": "2022-04-15T16:19:50.095Z"
   },
   {
    "duration": 2632,
    "start_time": "2022-04-15T16:20:22.870Z"
   },
   {
    "duration": 2062,
    "start_time": "2022-04-15T16:21:00.376Z"
   },
   {
    "duration": 5,
    "start_time": "2022-04-15T16:21:32.001Z"
   },
   {
    "duration": 1875,
    "start_time": "2022-04-15T16:24:20.702Z"
   },
   {
    "duration": 3379,
    "start_time": "2022-04-15T16:25:05.169Z"
   },
   {
    "duration": 1978,
    "start_time": "2022-04-15T16:25:44.703Z"
   },
   {
    "duration": 2182,
    "start_time": "2022-04-15T16:26:07.609Z"
   },
   {
    "duration": 647,
    "start_time": "2022-04-15T16:39:13.148Z"
   },
   {
    "duration": 579,
    "start_time": "2022-04-15T16:40:38.429Z"
   },
   {
    "duration": 1438,
    "start_time": "2022-04-15T16:42:19.379Z"
   },
   {
    "duration": 607,
    "start_time": "2022-04-15T16:43:36.822Z"
   },
   {
    "duration": 1537,
    "start_time": "2022-04-15T16:44:30.456Z"
   },
   {
    "duration": 726,
    "start_time": "2022-04-15T16:45:17.828Z"
   },
   {
    "duration": 1290,
    "start_time": "2022-04-15T16:48:17.094Z"
   },
   {
    "duration": 792,
    "start_time": "2022-04-15T16:48:46.032Z"
   },
   {
    "duration": 514,
    "start_time": "2022-04-15T16:49:50.589Z"
   },
   {
    "duration": 944,
    "start_time": "2022-04-15T16:50:44.993Z"
   },
   {
    "duration": 749,
    "start_time": "2022-04-15T16:51:11.310Z"
   },
   {
    "duration": 2500,
    "start_time": "2022-04-15T16:51:23.326Z"
   },
   {
    "duration": 2,
    "start_time": "2022-04-15T16:55:22.116Z"
   },
   {
    "duration": 1606,
    "start_time": "2022-04-16T13:23:11.500Z"
   },
   {
    "duration": 2,
    "start_time": "2022-04-16T13:23:13.108Z"
   },
   {
    "duration": 358,
    "start_time": "2022-04-16T13:23:13.111Z"
   },
   {
    "duration": 333,
    "start_time": "2022-04-16T13:23:13.471Z"
   },
   {
    "duration": 255,
    "start_time": "2022-04-16T13:23:13.805Z"
   },
   {
    "duration": 10,
    "start_time": "2022-04-16T13:23:14.062Z"
   },
   {
    "duration": 4,
    "start_time": "2022-04-16T13:23:14.073Z"
   },
   {
    "duration": 133,
    "start_time": "2022-04-16T13:23:14.079Z"
   },
   {
    "duration": 0,
    "start_time": "2022-04-16T13:23:14.214Z"
   },
   {
    "duration": 0,
    "start_time": "2022-04-16T13:23:14.216Z"
   },
   {
    "duration": 0,
    "start_time": "2022-04-16T13:23:14.216Z"
   },
   {
    "duration": 777,
    "start_time": "2022-04-16T13:23:19.370Z"
   },
   {
    "duration": 2548,
    "start_time": "2022-04-16T13:24:30.237Z"
   },
   {
    "duration": 682,
    "start_time": "2022-04-16T13:25:21.285Z"
   },
   {
    "duration": 11,
    "start_time": "2022-04-16T13:48:40.261Z"
   },
   {
    "duration": 402,
    "start_time": "2022-04-16T13:49:14.373Z"
   },
   {
    "duration": 495,
    "start_time": "2022-04-16T13:49:41.271Z"
   },
   {
    "duration": 383,
    "start_time": "2022-04-16T13:50:19.959Z"
   },
   {
    "duration": 373,
    "start_time": "2022-04-16T13:50:25.182Z"
   },
   {
    "duration": 440,
    "start_time": "2022-04-16T13:50:42.903Z"
   },
   {
    "duration": 499,
    "start_time": "2022-04-16T13:50:53.231Z"
   },
   {
    "duration": 406,
    "start_time": "2022-04-16T14:00:42.989Z"
   },
   {
    "duration": 420,
    "start_time": "2022-04-16T14:43:09.004Z"
   },
   {
    "duration": 19,
    "start_time": "2022-04-16T14:57:36.928Z"
   },
   {
    "duration": 473,
    "start_time": "2022-04-16T14:57:54.427Z"
   },
   {
    "duration": 165,
    "start_time": "2022-04-16T15:05:07.315Z"
   },
   {
    "duration": 158,
    "start_time": "2022-04-16T15:05:45.616Z"
   },
   {
    "duration": 110,
    "start_time": "2022-04-16T15:06:16.593Z"
   },
   {
    "duration": 165,
    "start_time": "2022-04-16T15:06:22.089Z"
   },
   {
    "duration": 112,
    "start_time": "2022-04-16T15:06:45.035Z"
   },
   {
    "duration": 164,
    "start_time": "2022-04-16T15:06:55.162Z"
   },
   {
    "duration": 1527,
    "start_time": "2022-04-16T16:17:37.336Z"
   },
   {
    "duration": 2,
    "start_time": "2022-04-16T16:17:38.865Z"
   },
   {
    "duration": 359,
    "start_time": "2022-04-16T16:17:38.869Z"
   },
   {
    "duration": 340,
    "start_time": "2022-04-16T16:17:39.231Z"
   },
   {
    "duration": 260,
    "start_time": "2022-04-16T16:17:39.572Z"
   },
   {
    "duration": 19,
    "start_time": "2022-04-16T16:17:39.834Z"
   },
   {
    "duration": 4,
    "start_time": "2022-04-16T16:17:39.855Z"
   },
   {
    "duration": 2126,
    "start_time": "2022-04-16T16:17:39.861Z"
   },
   {
    "duration": 392,
    "start_time": "2022-04-16T16:17:41.989Z"
   },
   {
    "duration": 3,
    "start_time": "2022-04-16T16:17:42.383Z"
   },
   {
    "duration": 804,
    "start_time": "2022-04-16T16:17:42.387Z"
   },
   {
    "duration": 181,
    "start_time": "2022-04-16T16:17:43.193Z"
   },
   {
    "duration": 179,
    "start_time": "2022-04-16T16:20:06.982Z"
   },
   {
    "duration": 185,
    "start_time": "2022-04-16T16:20:14.969Z"
   },
   {
    "duration": 176,
    "start_time": "2022-04-16T16:21:03.418Z"
   },
   {
    "duration": 1071,
    "start_time": "2022-04-16T16:44:51.348Z"
   },
   {
    "duration": 664,
    "start_time": "2022-04-16T16:48:04.368Z"
   },
   {
    "duration": 171,
    "start_time": "2022-04-16T16:48:13.934Z"
   },
   {
    "duration": 645,
    "start_time": "2022-04-16T16:51:23.671Z"
   },
   {
    "duration": 527,
    "start_time": "2022-04-16T16:51:57.975Z"
   },
   {
    "duration": 143,
    "start_time": "2022-04-16T16:52:48.574Z"
   },
   {
    "duration": 633,
    "start_time": "2022-04-16T16:56:49.958Z"
   },
   {
    "duration": 23,
    "start_time": "2022-04-16T18:22:13.827Z"
   },
   {
    "duration": 8,
    "start_time": "2022-04-16T18:23:22.187Z"
   },
   {
    "duration": 12,
    "start_time": "2022-04-16T18:23:46.741Z"
   },
   {
    "duration": 22,
    "start_time": "2022-04-16T18:23:52.903Z"
   },
   {
    "duration": 13,
    "start_time": "2022-04-16T18:23:58.155Z"
   },
   {
    "duration": 1430,
    "start_time": "2022-04-16T18:24:27.730Z"
   },
   {
    "duration": 351,
    "start_time": "2022-04-16T18:24:29.162Z"
   },
   {
    "duration": 327,
    "start_time": "2022-04-16T18:24:29.514Z"
   },
   {
    "duration": 251,
    "start_time": "2022-04-16T18:24:29.842Z"
   },
   {
    "duration": 21,
    "start_time": "2022-04-16T18:24:30.096Z"
   },
   {
    "duration": 30,
    "start_time": "2022-04-16T18:24:30.118Z"
   },
   {
    "duration": 11,
    "start_time": "2022-04-16T18:24:30.149Z"
   },
   {
    "duration": 9,
    "start_time": "2022-04-16T18:24:30.161Z"
   },
   {
    "duration": 2115,
    "start_time": "2022-04-16T18:24:30.171Z"
   },
   {
    "duration": 383,
    "start_time": "2022-04-16T18:24:32.287Z"
   },
   {
    "duration": 3,
    "start_time": "2022-04-16T18:24:32.672Z"
   },
   {
    "duration": 650,
    "start_time": "2022-04-16T18:24:32.676Z"
   },
   {
    "duration": 158,
    "start_time": "2022-04-16T18:24:33.327Z"
   },
   {
    "duration": 21,
    "start_time": "2022-04-16T18:24:40.163Z"
   },
   {
    "duration": 7,
    "start_time": "2022-04-16T18:25:25.355Z"
   },
   {
    "duration": 13,
    "start_time": "2022-04-16T18:26:17.867Z"
   },
   {
    "duration": 5,
    "start_time": "2022-04-16T18:34:57.961Z"
   },
   {
    "duration": 5,
    "start_time": "2022-04-16T18:35:01.186Z"
   },
   {
    "duration": 1428,
    "start_time": "2022-04-16T18:35:06.553Z"
   },
   {
    "duration": 353,
    "start_time": "2022-04-16T18:35:07.984Z"
   },
   {
    "duration": 336,
    "start_time": "2022-04-16T18:35:08.339Z"
   },
   {
    "duration": 259,
    "start_time": "2022-04-16T18:35:08.678Z"
   },
   {
    "duration": 25,
    "start_time": "2022-04-16T18:35:08.939Z"
   },
   {
    "duration": 13,
    "start_time": "2022-04-16T18:35:08.966Z"
   },
   {
    "duration": 11,
    "start_time": "2022-04-16T18:35:08.981Z"
   },
   {
    "duration": 5,
    "start_time": "2022-04-16T18:35:08.994Z"
   },
   {
    "duration": 2175,
    "start_time": "2022-04-16T18:35:09.001Z"
   },
   {
    "duration": 389,
    "start_time": "2022-04-16T18:35:11.179Z"
   },
   {
    "duration": 4,
    "start_time": "2022-04-16T18:35:11.570Z"
   },
   {
    "duration": 660,
    "start_time": "2022-04-16T18:35:11.575Z"
   },
   {
    "duration": 164,
    "start_time": "2022-04-16T18:35:12.237Z"
   },
   {
    "duration": 108,
    "start_time": "2022-04-16T18:35:40.749Z"
   },
   {
    "duration": 4,
    "start_time": "2022-04-16T18:35:47.893Z"
   },
   {
    "duration": 120,
    "start_time": "2022-04-16T18:35:58.190Z"
   },
   {
    "duration": 10,
    "start_time": "2022-04-16T18:36:05.208Z"
   },
   {
    "duration": 5,
    "start_time": "2022-04-16T18:36:09.173Z"
   },
   {
    "duration": 17,
    "start_time": "2022-04-16T18:57:34.099Z"
   },
   {
    "duration": 7,
    "start_time": "2022-04-16T18:59:17.387Z"
   },
   {
    "duration": 13,
    "start_time": "2022-04-16T18:59:29.638Z"
   },
   {
    "duration": 13,
    "start_time": "2022-04-16T19:00:32.828Z"
   },
   {
    "duration": 14,
    "start_time": "2022-04-16T19:01:22.052Z"
   },
   {
    "duration": 15,
    "start_time": "2022-04-16T19:04:36.427Z"
   },
   {
    "duration": 16,
    "start_time": "2022-04-16T19:05:09.946Z"
   },
   {
    "duration": 13,
    "start_time": "2022-04-16T19:07:06.722Z"
   },
   {
    "duration": 10,
    "start_time": "2022-04-16T19:13:49.216Z"
   },
   {
    "duration": 103,
    "start_time": "2022-04-16T19:14:28.231Z"
   },
   {
    "duration": 4,
    "start_time": "2022-04-16T19:14:32.832Z"
   },
   {
    "duration": 5,
    "start_time": "2022-04-16T19:14:45.160Z"
   },
   {
    "duration": 4,
    "start_time": "2022-04-16T19:15:08.200Z"
   },
   {
    "duration": 4,
    "start_time": "2022-04-16T19:20:32.029Z"
   },
   {
    "duration": 8,
    "start_time": "2022-04-16T19:21:04.288Z"
   },
   {
    "duration": 14,
    "start_time": "2022-04-16T19:21:19.456Z"
   },
   {
    "duration": 1491,
    "start_time": "2022-04-16T19:21:47.395Z"
   },
   {
    "duration": 348,
    "start_time": "2022-04-16T19:21:48.888Z"
   },
   {
    "duration": 329,
    "start_time": "2022-04-16T19:21:49.238Z"
   },
   {
    "duration": 256,
    "start_time": "2022-04-16T19:21:49.569Z"
   },
   {
    "duration": 33,
    "start_time": "2022-04-16T19:21:49.827Z"
   },
   {
    "duration": 12,
    "start_time": "2022-04-16T19:21:49.862Z"
   },
   {
    "duration": 10,
    "start_time": "2022-04-16T19:21:49.875Z"
   },
   {
    "duration": 5,
    "start_time": "2022-04-16T19:21:49.887Z"
   },
   {
    "duration": 4,
    "start_time": "2022-04-16T19:21:49.893Z"
   },
   {
    "duration": 2183,
    "start_time": "2022-04-16T19:21:49.899Z"
   },
   {
    "duration": 395,
    "start_time": "2022-04-16T19:21:52.084Z"
   },
   {
    "duration": 3,
    "start_time": "2022-04-16T19:21:52.480Z"
   },
   {
    "duration": 665,
    "start_time": "2022-04-16T19:21:52.485Z"
   },
   {
    "duration": 160,
    "start_time": "2022-04-16T19:21:53.152Z"
   },
   {
    "duration": 11,
    "start_time": "2022-04-16T19:24:42.784Z"
   },
   {
    "duration": 4,
    "start_time": "2022-04-16T19:24:53.128Z"
   },
   {
    "duration": 3,
    "start_time": "2022-04-16T19:27:07.127Z"
   },
   {
    "duration": 4,
    "start_time": "2022-04-16T19:27:18.015Z"
   },
   {
    "duration": 3,
    "start_time": "2022-04-16T19:27:35.967Z"
   },
   {
    "duration": 139,
    "start_time": "2022-04-16T19:29:28.974Z"
   },
   {
    "duration": 19,
    "start_time": "2022-04-16T19:29:35.759Z"
   },
   {
    "duration": 13,
    "start_time": "2022-04-16T19:30:28.415Z"
   },
   {
    "duration": 15,
    "start_time": "2022-04-16T19:30:42.687Z"
   },
   {
    "duration": 18,
    "start_time": "2022-04-16T19:32:00.335Z"
   },
   {
    "duration": 4,
    "start_time": "2022-04-16T19:32:06.007Z"
   },
   {
    "duration": 17,
    "start_time": "2022-04-16T19:32:40.519Z"
   },
   {
    "duration": 18,
    "start_time": "2022-04-16T19:32:55.390Z"
   },
   {
    "duration": 4,
    "start_time": "2022-04-16T19:33:04.806Z"
   },
   {
    "duration": 30,
    "start_time": "2022-04-16T19:33:28.959Z"
   },
   {
    "duration": 557,
    "start_time": "2022-04-16T19:33:42.311Z"
   },
   {
    "duration": 5,
    "start_time": "2022-04-16T19:34:20.398Z"
   },
   {
    "duration": 442,
    "start_time": "2022-04-16T19:34:23.455Z"
   },
   {
    "duration": 15,
    "start_time": "2022-04-16T19:34:45.103Z"
   },
   {
    "duration": 1463,
    "start_time": "2022-04-16T19:35:06.501Z"
   },
   {
    "duration": 362,
    "start_time": "2022-04-16T19:35:07.966Z"
   },
   {
    "duration": 346,
    "start_time": "2022-04-16T19:35:08.330Z"
   },
   {
    "duration": 261,
    "start_time": "2022-04-16T19:35:08.678Z"
   },
   {
    "duration": 25,
    "start_time": "2022-04-16T19:35:08.941Z"
   },
   {
    "duration": 12,
    "start_time": "2022-04-16T19:35:08.968Z"
   },
   {
    "duration": 5,
    "start_time": "2022-04-16T19:35:08.981Z"
   },
   {
    "duration": 22,
    "start_time": "2022-04-16T19:35:08.987Z"
   },
   {
    "duration": 41,
    "start_time": "2022-04-16T19:35:09.010Z"
   },
   {
    "duration": 2230,
    "start_time": "2022-04-16T19:35:09.053Z"
   },
   {
    "duration": 417,
    "start_time": "2022-04-16T19:35:11.284Z"
   },
   {
    "duration": 3,
    "start_time": "2022-04-16T19:35:11.703Z"
   },
   {
    "duration": 907,
    "start_time": "2022-04-16T19:35:11.707Z"
   },
   {
    "duration": 234,
    "start_time": "2022-04-16T19:35:12.616Z"
   },
   {
    "duration": 154,
    "start_time": "2022-04-16T19:50:30.847Z"
   },
   {
    "duration": 18,
    "start_time": "2022-04-16T19:50:37.352Z"
   },
   {
    "duration": 1706,
    "start_time": "2022-04-16T19:54:04.391Z"
   },
   {
    "duration": 1833,
    "start_time": "2022-04-16T19:54:11.879Z"
   },
   {
    "duration": 1627,
    "start_time": "2022-04-16T19:54:55.414Z"
   },
   {
    "duration": 12,
    "start_time": "2022-04-16T19:55:58.334Z"
   },
   {
    "duration": 2378,
    "start_time": "2022-04-17T04:57:00.316Z"
   },
   {
    "duration": 474,
    "start_time": "2022-04-17T04:57:02.697Z"
   },
   {
    "duration": 452,
    "start_time": "2022-04-17T04:57:03.174Z"
   },
   {
    "duration": 468,
    "start_time": "2022-04-17T04:57:03.628Z"
   },
   {
    "duration": 27,
    "start_time": "2022-04-17T04:57:04.100Z"
   },
   {
    "duration": 19,
    "start_time": "2022-04-17T04:57:04.130Z"
   },
   {
    "duration": 32,
    "start_time": "2022-04-17T04:57:04.152Z"
   },
   {
    "duration": 29,
    "start_time": "2022-04-17T04:57:04.187Z"
   },
   {
    "duration": 20,
    "start_time": "2022-04-17T04:57:04.218Z"
   },
   {
    "duration": 4036,
    "start_time": "2022-04-17T04:57:04.241Z"
   },
   {
    "duration": 735,
    "start_time": "2022-04-17T04:57:08.281Z"
   },
   {
    "duration": 4,
    "start_time": "2022-04-17T04:57:09.018Z"
   },
   {
    "duration": 1173,
    "start_time": "2022-04-17T04:57:09.025Z"
   },
   {
    "duration": 294,
    "start_time": "2022-04-17T04:57:10.202Z"
   },
   {
    "duration": 15,
    "start_time": "2022-04-17T04:57:10.499Z"
   },
   {
    "duration": 212,
    "start_time": "2022-04-17T05:08:18.040Z"
   },
   {
    "duration": 54,
    "start_time": "2022-04-17T05:08:54.907Z"
   },
   {
    "duration": 32,
    "start_time": "2022-04-17T05:21:19.118Z"
   },
   {
    "duration": 55,
    "start_time": "2022-04-17T05:26:44.743Z"
   },
   {
    "duration": 14,
    "start_time": "2022-04-17T05:27:23.224Z"
   },
   {
    "duration": 19,
    "start_time": "2022-04-17T05:30:33.605Z"
   },
   {
    "duration": 28,
    "start_time": "2022-04-17T05:31:04.377Z"
   },
   {
    "duration": 19,
    "start_time": "2022-04-17T05:31:19.135Z"
   },
   {
    "duration": 19,
    "start_time": "2022-04-17T05:31:42.721Z"
   },
   {
    "duration": 19,
    "start_time": "2022-04-17T05:31:51.727Z"
   },
   {
    "duration": 20,
    "start_time": "2022-04-17T05:32:03.568Z"
   },
   {
    "duration": 2168,
    "start_time": "2022-04-17T05:32:44.931Z"
   },
   {
    "duration": 469,
    "start_time": "2022-04-17T05:32:47.103Z"
   },
   {
    "duration": 447,
    "start_time": "2022-04-17T05:32:47.587Z"
   },
   {
    "duration": 459,
    "start_time": "2022-04-17T05:32:48.037Z"
   },
   {
    "duration": 26,
    "start_time": "2022-04-17T05:32:48.499Z"
   },
   {
    "duration": 19,
    "start_time": "2022-04-17T05:32:48.528Z"
   },
   {
    "duration": 36,
    "start_time": "2022-04-17T05:32:48.550Z"
   },
   {
    "duration": 35,
    "start_time": "2022-04-17T05:32:48.589Z"
   },
   {
    "duration": 18,
    "start_time": "2022-04-17T05:32:48.630Z"
   },
   {
    "duration": 4215,
    "start_time": "2022-04-17T05:32:48.650Z"
   },
   {
    "duration": 874,
    "start_time": "2022-04-17T05:32:52.868Z"
   },
   {
    "duration": 4,
    "start_time": "2022-04-17T05:32:53.745Z"
   },
   {
    "duration": 1233,
    "start_time": "2022-04-17T05:32:53.752Z"
   },
   {
    "duration": 297,
    "start_time": "2022-04-17T05:32:54.988Z"
   },
   {
    "duration": 62,
    "start_time": "2022-04-17T05:32:55.287Z"
   },
   {
    "duration": 225,
    "start_time": "2022-04-17T05:32:55.352Z"
   },
   {
    "duration": 0,
    "start_time": "2022-04-17T05:32:55.580Z"
   },
   {
    "duration": 20,
    "start_time": "2022-04-17T05:33:48.153Z"
   },
   {
    "duration": 19,
    "start_time": "2022-04-17T05:33:53.985Z"
   },
   {
    "duration": 2123,
    "start_time": "2022-04-17T05:34:08.209Z"
   },
   {
    "duration": 469,
    "start_time": "2022-04-17T05:34:10.335Z"
   },
   {
    "duration": 449,
    "start_time": "2022-04-17T05:34:10.809Z"
   },
   {
    "duration": 463,
    "start_time": "2022-04-17T05:34:11.261Z"
   },
   {
    "duration": 28,
    "start_time": "2022-04-17T05:34:11.726Z"
   },
   {
    "duration": 39,
    "start_time": "2022-04-17T05:34:11.757Z"
   },
   {
    "duration": 8,
    "start_time": "2022-04-17T05:34:11.799Z"
   },
   {
    "duration": 42,
    "start_time": "2022-04-17T05:34:11.810Z"
   },
   {
    "duration": 20,
    "start_time": "2022-04-17T05:34:11.881Z"
   },
   {
    "duration": 4321,
    "start_time": "2022-04-17T05:34:11.904Z"
   },
   {
    "duration": 739,
    "start_time": "2022-04-17T05:34:16.227Z"
   },
   {
    "duration": 12,
    "start_time": "2022-04-17T05:34:16.969Z"
   },
   {
    "duration": 1178,
    "start_time": "2022-04-17T05:34:16.985Z"
   },
   {
    "duration": 292,
    "start_time": "2022-04-17T05:34:18.165Z"
   },
   {
    "duration": 67,
    "start_time": "2022-04-17T05:34:18.460Z"
   },
   {
    "duration": 21,
    "start_time": "2022-04-17T05:34:18.529Z"
   },
   {
    "duration": 15,
    "start_time": "2022-04-17T05:34:18.582Z"
   },
   {
    "duration": 188,
    "start_time": "2022-04-17T05:40:15.845Z"
   },
   {
    "duration": 2319,
    "start_time": "2022-04-17T05:40:41.348Z"
   },
   {
    "duration": 464,
    "start_time": "2022-04-17T05:40:43.669Z"
   },
   {
    "duration": 448,
    "start_time": "2022-04-17T05:40:44.135Z"
   },
   {
    "duration": 463,
    "start_time": "2022-04-17T05:40:44.585Z"
   },
   {
    "duration": 38,
    "start_time": "2022-04-17T05:40:45.052Z"
   },
   {
    "duration": 18,
    "start_time": "2022-04-17T05:40:45.092Z"
   },
   {
    "duration": 6,
    "start_time": "2022-04-17T05:40:45.112Z"
   },
   {
    "duration": 62,
    "start_time": "2022-04-17T05:40:45.120Z"
   },
   {
    "duration": 19,
    "start_time": "2022-04-17T05:40:45.184Z"
   },
   {
    "duration": 4131,
    "start_time": "2022-04-17T05:40:45.205Z"
   },
   {
    "duration": 746,
    "start_time": "2022-04-17T05:40:49.339Z"
   },
   {
    "duration": 4,
    "start_time": "2022-04-17T05:40:50.087Z"
   },
   {
    "duration": 1282,
    "start_time": "2022-04-17T05:40:50.093Z"
   },
   {
    "duration": 287,
    "start_time": "2022-04-17T05:40:51.381Z"
   },
   {
    "duration": 211,
    "start_time": "2022-04-17T05:40:51.670Z"
   },
   {
    "duration": 0,
    "start_time": "2022-04-17T05:40:51.884Z"
   },
   {
    "duration": 0,
    "start_time": "2022-04-17T05:40:51.885Z"
   },
   {
    "duration": 2197,
    "start_time": "2022-04-17T05:44:45.429Z"
   },
   {
    "duration": 477,
    "start_time": "2022-04-17T05:44:47.630Z"
   },
   {
    "duration": 439,
    "start_time": "2022-04-17T05:44:48.109Z"
   },
   {
    "duration": 461,
    "start_time": "2022-04-17T05:44:48.551Z"
   },
   {
    "duration": 26,
    "start_time": "2022-04-17T05:44:49.016Z"
   },
   {
    "duration": 38,
    "start_time": "2022-04-17T05:44:49.044Z"
   },
   {
    "duration": 6,
    "start_time": "2022-04-17T05:44:49.085Z"
   },
   {
    "duration": 4,
    "start_time": "2022-04-17T05:44:49.094Z"
   },
   {
    "duration": 21,
    "start_time": "2022-04-17T05:44:49.101Z"
   },
   {
    "duration": 4031,
    "start_time": "2022-04-17T05:44:49.125Z"
   },
   {
    "duration": 748,
    "start_time": "2022-04-17T05:44:53.159Z"
   },
   {
    "duration": 4,
    "start_time": "2022-04-17T05:44:53.909Z"
   },
   {
    "duration": 1194,
    "start_time": "2022-04-17T05:44:53.916Z"
   },
   {
    "duration": 287,
    "start_time": "2022-04-17T05:44:55.113Z"
   },
   {
    "duration": 84,
    "start_time": "2022-04-17T05:44:55.402Z"
   },
   {
    "duration": 20,
    "start_time": "2022-04-17T05:44:55.489Z"
   },
   {
    "duration": 15,
    "start_time": "2022-04-17T05:44:55.511Z"
   },
   {
    "duration": 28,
    "start_time": "2022-04-17T05:45:21.145Z"
   },
   {
    "duration": 12,
    "start_time": "2022-04-17T05:46:10.771Z"
   },
   {
    "duration": 2164,
    "start_time": "2022-04-17T05:46:19.243Z"
   },
   {
    "duration": 460,
    "start_time": "2022-04-17T05:46:21.410Z"
   },
   {
    "duration": 438,
    "start_time": "2022-04-17T05:46:21.872Z"
   },
   {
    "duration": 451,
    "start_time": "2022-04-17T05:46:22.312Z"
   },
   {
    "duration": 28,
    "start_time": "2022-04-17T05:46:22.766Z"
   },
   {
    "duration": 17,
    "start_time": "2022-04-17T05:46:22.797Z"
   },
   {
    "duration": 6,
    "start_time": "2022-04-17T05:46:22.817Z"
   },
   {
    "duration": 8,
    "start_time": "2022-04-17T05:46:22.825Z"
   },
   {
    "duration": 52,
    "start_time": "2022-04-17T05:46:22.835Z"
   },
   {
    "duration": 4113,
    "start_time": "2022-04-17T05:46:22.889Z"
   },
   {
    "duration": 774,
    "start_time": "2022-04-17T05:46:27.005Z"
   },
   {
    "duration": 4,
    "start_time": "2022-04-17T05:46:27.782Z"
   },
   {
    "duration": 1207,
    "start_time": "2022-04-17T05:46:27.789Z"
   },
   {
    "duration": 287,
    "start_time": "2022-04-17T05:46:29.000Z"
   },
   {
    "duration": 66,
    "start_time": "2022-04-17T05:46:29.289Z"
   },
   {
    "duration": 42,
    "start_time": "2022-04-17T05:46:29.357Z"
   },
   {
    "duration": 30,
    "start_time": "2022-04-17T05:46:29.401Z"
   },
   {
    "duration": 50,
    "start_time": "2022-04-17T05:46:29.433Z"
   },
   {
    "duration": 24,
    "start_time": "2022-04-17T05:50:42.949Z"
   },
   {
    "duration": 11,
    "start_time": "2022-04-17T05:50:49.307Z"
   },
   {
    "duration": 191,
    "start_time": "2022-04-17T06:01:16.305Z"
   },
   {
    "duration": 18,
    "start_time": "2022-04-17T06:03:21.731Z"
   },
   {
    "duration": 21,
    "start_time": "2022-04-17T06:03:58.514Z"
   },
   {
    "duration": 22,
    "start_time": "2022-04-17T06:06:38.346Z"
   },
   {
    "duration": 22,
    "start_time": "2022-04-17T06:07:56.131Z"
   },
   {
    "duration": 25,
    "start_time": "2022-04-17T06:08:12.370Z"
   },
   {
    "duration": 246,
    "start_time": "2022-04-17T06:09:01.010Z"
   },
   {
    "duration": 2174,
    "start_time": "2022-04-17T06:09:09.242Z"
   },
   {
    "duration": 458,
    "start_time": "2022-04-17T06:09:11.419Z"
   },
   {
    "duration": 446,
    "start_time": "2022-04-17T06:09:11.882Z"
   },
   {
    "duration": 457,
    "start_time": "2022-04-17T06:09:12.331Z"
   },
   {
    "duration": 24,
    "start_time": "2022-04-17T06:09:12.792Z"
   },
   {
    "duration": 19,
    "start_time": "2022-04-17T06:09:12.818Z"
   },
   {
    "duration": 7,
    "start_time": "2022-04-17T06:09:12.840Z"
   },
   {
    "duration": 21,
    "start_time": "2022-04-17T06:09:12.881Z"
   },
   {
    "duration": 4148,
    "start_time": "2022-04-17T06:09:12.905Z"
   },
   {
    "duration": 764,
    "start_time": "2022-04-17T06:09:17.056Z"
   },
   {
    "duration": 6,
    "start_time": "2022-04-17T06:09:17.823Z"
   },
   {
    "duration": 1212,
    "start_time": "2022-04-17T06:09:17.831Z"
   },
   {
    "duration": 296,
    "start_time": "2022-04-17T06:09:19.046Z"
   },
   {
    "duration": 209,
    "start_time": "2022-04-17T06:09:19.347Z"
   },
   {
    "duration": 0,
    "start_time": "2022-04-17T06:09:19.559Z"
   },
   {
    "duration": 0,
    "start_time": "2022-04-17T06:09:19.562Z"
   },
   {
    "duration": 0,
    "start_time": "2022-04-17T06:09:19.564Z"
   },
   {
    "duration": 0,
    "start_time": "2022-04-17T06:09:19.583Z"
   },
   {
    "duration": 0,
    "start_time": "2022-04-17T06:09:19.584Z"
   },
   {
    "duration": 24,
    "start_time": "2022-04-17T06:09:32.009Z"
   },
   {
    "duration": 411,
    "start_time": "2022-04-17T06:10:43.736Z"
   },
   {
    "duration": 23,
    "start_time": "2022-04-17T06:10:48.447Z"
   },
   {
    "duration": 19,
    "start_time": "2022-04-17T06:10:50.551Z"
   },
   {
    "duration": 7,
    "start_time": "2022-04-17T06:10:53.864Z"
   },
   {
    "duration": 2166,
    "start_time": "2022-04-17T06:11:09.140Z"
   },
   {
    "duration": 468,
    "start_time": "2022-04-17T06:11:11.309Z"
   },
   {
    "duration": 437,
    "start_time": "2022-04-17T06:11:11.779Z"
   },
   {
    "duration": 444,
    "start_time": "2022-04-17T06:11:12.219Z"
   },
   {
    "duration": 41,
    "start_time": "2022-04-17T06:11:12.665Z"
   },
   {
    "duration": 21,
    "start_time": "2022-04-17T06:11:12.709Z"
   },
   {
    "duration": 6,
    "start_time": "2022-04-17T06:11:12.732Z"
   },
   {
    "duration": 44,
    "start_time": "2022-04-17T06:11:12.741Z"
   },
   {
    "duration": 4034,
    "start_time": "2022-04-17T06:11:12.788Z"
   },
   {
    "duration": 743,
    "start_time": "2022-04-17T06:11:16.826Z"
   },
   {
    "duration": 13,
    "start_time": "2022-04-17T06:11:17.571Z"
   },
   {
    "duration": 1178,
    "start_time": "2022-04-17T06:11:17.586Z"
   },
   {
    "duration": 291,
    "start_time": "2022-04-17T06:11:18.767Z"
   },
   {
    "duration": 202,
    "start_time": "2022-04-17T06:11:19.060Z"
   },
   {
    "duration": 0,
    "start_time": "2022-04-17T06:11:19.264Z"
   },
   {
    "duration": 0,
    "start_time": "2022-04-17T06:11:19.266Z"
   },
   {
    "duration": 0,
    "start_time": "2022-04-17T06:11:19.268Z"
   },
   {
    "duration": 0,
    "start_time": "2022-04-17T06:11:19.281Z"
   },
   {
    "duration": 0,
    "start_time": "2022-04-17T06:11:19.282Z"
   },
   {
    "duration": 17,
    "start_time": "2022-04-17T06:12:33.060Z"
   },
   {
    "duration": 24,
    "start_time": "2022-04-17T06:12:39.046Z"
   },
   {
    "duration": 66,
    "start_time": "2022-04-17T06:14:47.254Z"
   },
   {
    "duration": 313,
    "start_time": "2022-04-17T06:16:22.734Z"
   },
   {
    "duration": 15,
    "start_time": "2022-04-17T06:16:34.661Z"
   },
   {
    "duration": 21,
    "start_time": "2022-04-17T06:21:36.573Z"
   },
   {
    "duration": 2157,
    "start_time": "2022-04-17T06:21:54.746Z"
   },
   {
    "duration": 476,
    "start_time": "2022-04-17T06:21:56.906Z"
   },
   {
    "duration": 449,
    "start_time": "2022-04-17T06:21:57.384Z"
   },
   {
    "duration": 467,
    "start_time": "2022-04-17T06:21:57.836Z"
   },
   {
    "duration": 25,
    "start_time": "2022-04-17T06:21:58.306Z"
   },
   {
    "duration": 19,
    "start_time": "2022-04-17T06:21:58.334Z"
   },
   {
    "duration": 31,
    "start_time": "2022-04-17T06:21:58.355Z"
   },
   {
    "duration": 200,
    "start_time": "2022-04-17T06:21:58.388Z"
   },
   {
    "duration": 0,
    "start_time": "2022-04-17T06:21:58.590Z"
   },
   {
    "duration": 0,
    "start_time": "2022-04-17T06:21:58.592Z"
   },
   {
    "duration": 0,
    "start_time": "2022-04-17T06:21:58.594Z"
   },
   {
    "duration": 0,
    "start_time": "2022-04-17T06:21:58.596Z"
   },
   {
    "duration": 0,
    "start_time": "2022-04-17T06:21:58.597Z"
   },
   {
    "duration": 0,
    "start_time": "2022-04-17T06:21:58.599Z"
   },
   {
    "duration": 0,
    "start_time": "2022-04-17T06:21:58.600Z"
   },
   {
    "duration": 0,
    "start_time": "2022-04-17T06:21:58.602Z"
   },
   {
    "duration": 0,
    "start_time": "2022-04-17T06:21:58.604Z"
   },
   {
    "duration": 0,
    "start_time": "2022-04-17T06:21:58.605Z"
   },
   {
    "duration": 0,
    "start_time": "2022-04-17T06:21:58.607Z"
   },
   {
    "duration": 39,
    "start_time": "2022-04-17T06:22:47.320Z"
   },
   {
    "duration": 27,
    "start_time": "2022-04-17T06:23:11.232Z"
   },
   {
    "duration": 23,
    "start_time": "2022-04-17T06:23:20.434Z"
   },
   {
    "duration": 424,
    "start_time": "2022-04-17T06:23:42.584Z"
   },
   {
    "duration": 28,
    "start_time": "2022-04-17T06:23:45.952Z"
   },
   {
    "duration": 23,
    "start_time": "2022-04-17T06:23:52.720Z"
   },
   {
    "duration": 18,
    "start_time": "2022-04-17T06:23:55.528Z"
   },
   {
    "duration": 6,
    "start_time": "2022-04-17T06:23:57.968Z"
   },
   {
    "duration": 22,
    "start_time": "2022-04-17T06:24:04.039Z"
   },
   {
    "duration": 2116,
    "start_time": "2022-04-17T06:24:13.808Z"
   },
   {
    "duration": 477,
    "start_time": "2022-04-17T06:24:15.927Z"
   },
   {
    "duration": 444,
    "start_time": "2022-04-17T06:24:16.406Z"
   },
   {
    "duration": 443,
    "start_time": "2022-04-17T06:24:16.852Z"
   },
   {
    "duration": 26,
    "start_time": "2022-04-17T06:24:17.298Z"
   },
   {
    "duration": 56,
    "start_time": "2022-04-17T06:24:17.326Z"
   },
   {
    "duration": 19,
    "start_time": "2022-04-17T06:24:17.384Z"
   },
   {
    "duration": 6,
    "start_time": "2022-04-17T06:24:17.405Z"
   },
   {
    "duration": 203,
    "start_time": "2022-04-17T06:24:17.413Z"
   },
   {
    "duration": 0,
    "start_time": "2022-04-17T06:24:17.619Z"
   },
   {
    "duration": 0,
    "start_time": "2022-04-17T06:24:17.620Z"
   },
   {
    "duration": 0,
    "start_time": "2022-04-17T06:24:17.621Z"
   },
   {
    "duration": 0,
    "start_time": "2022-04-17T06:24:17.623Z"
   },
   {
    "duration": 0,
    "start_time": "2022-04-17T06:24:17.624Z"
   },
   {
    "duration": 0,
    "start_time": "2022-04-17T06:24:17.625Z"
   },
   {
    "duration": 0,
    "start_time": "2022-04-17T06:24:17.627Z"
   },
   {
    "duration": 0,
    "start_time": "2022-04-17T06:24:17.628Z"
   },
   {
    "duration": 0,
    "start_time": "2022-04-17T06:24:17.629Z"
   },
   {
    "duration": 0,
    "start_time": "2022-04-17T06:24:17.630Z"
   },
   {
    "duration": 0,
    "start_time": "2022-04-17T06:24:17.632Z"
   },
   {
    "duration": 21,
    "start_time": "2022-04-17T06:32:20.743Z"
   },
   {
    "duration": 33,
    "start_time": "2022-04-17T06:34:44.775Z"
   },
   {
    "duration": 31,
    "start_time": "2022-04-17T06:36:33.612Z"
   },
   {
    "duration": 13,
    "start_time": "2022-04-17T06:37:44.088Z"
   },
   {
    "duration": 19,
    "start_time": "2022-04-17T06:38:37.735Z"
   },
   {
    "duration": 2145,
    "start_time": "2022-04-17T06:39:18.657Z"
   },
   {
    "duration": 472,
    "start_time": "2022-04-17T06:39:20.805Z"
   },
   {
    "duration": 440,
    "start_time": "2022-04-17T06:39:21.282Z"
   },
   {
    "duration": 442,
    "start_time": "2022-04-17T06:39:21.724Z"
   },
   {
    "duration": 39,
    "start_time": "2022-04-17T06:39:22.169Z"
   },
   {
    "duration": 24,
    "start_time": "2022-04-17T06:39:22.211Z"
   },
   {
    "duration": 48,
    "start_time": "2022-04-17T06:39:22.237Z"
   },
   {
    "duration": 6,
    "start_time": "2022-04-17T06:39:22.287Z"
   },
   {
    "duration": 7,
    "start_time": "2022-04-17T06:39:22.296Z"
   },
   {
    "duration": 20,
    "start_time": "2022-04-17T06:39:22.305Z"
   },
   {
    "duration": 4010,
    "start_time": "2022-04-17T06:39:22.327Z"
   },
   {
    "duration": 735,
    "start_time": "2022-04-17T06:39:26.339Z"
   },
   {
    "duration": 6,
    "start_time": "2022-04-17T06:39:27.076Z"
   },
   {
    "duration": 1163,
    "start_time": "2022-04-17T06:39:27.086Z"
   },
   {
    "duration": 285,
    "start_time": "2022-04-17T06:39:28.251Z"
   },
   {
    "duration": 78,
    "start_time": "2022-04-17T06:39:28.538Z"
   },
   {
    "duration": 22,
    "start_time": "2022-04-17T06:39:28.618Z"
   },
   {
    "duration": 223,
    "start_time": "2022-04-17T06:39:28.642Z"
   },
   {
    "duration": 0,
    "start_time": "2022-04-17T06:39:28.868Z"
   },
   {
    "duration": 0,
    "start_time": "2022-04-17T06:39:28.870Z"
   },
   {
    "duration": 30,
    "start_time": "2022-04-17T06:40:23.289Z"
   },
   {
    "duration": 29,
    "start_time": "2022-04-17T06:41:05.250Z"
   },
   {
    "duration": 46,
    "start_time": "2022-04-17T06:41:45.706Z"
   },
   {
    "duration": 46,
    "start_time": "2022-04-17T06:47:40.961Z"
   },
   {
    "duration": 35,
    "start_time": "2022-04-17T06:50:35.930Z"
   },
   {
    "duration": 15,
    "start_time": "2022-04-17T06:56:21.849Z"
   },
   {
    "duration": 2147,
    "start_time": "2022-04-17T06:57:07.827Z"
   },
   {
    "duration": 465,
    "start_time": "2022-04-17T06:57:09.977Z"
   },
   {
    "duration": 447,
    "start_time": "2022-04-17T06:57:10.444Z"
   },
   {
    "duration": 455,
    "start_time": "2022-04-17T06:57:10.893Z"
   },
   {
    "duration": 36,
    "start_time": "2022-04-17T06:57:11.351Z"
   },
   {
    "duration": 26,
    "start_time": "2022-04-17T06:57:11.389Z"
   },
   {
    "duration": 18,
    "start_time": "2022-04-17T06:57:11.417Z"
   },
   {
    "duration": 6,
    "start_time": "2022-04-17T06:57:11.437Z"
   },
   {
    "duration": 217,
    "start_time": "2022-04-17T06:57:11.445Z"
   },
   {
    "duration": 0,
    "start_time": "2022-04-17T06:57:11.665Z"
   },
   {
    "duration": 0,
    "start_time": "2022-04-17T06:57:11.667Z"
   },
   {
    "duration": 0,
    "start_time": "2022-04-17T06:57:11.668Z"
   },
   {
    "duration": 0,
    "start_time": "2022-04-17T06:57:11.681Z"
   },
   {
    "duration": 0,
    "start_time": "2022-04-17T06:57:11.683Z"
   },
   {
    "duration": 0,
    "start_time": "2022-04-17T06:57:11.684Z"
   },
   {
    "duration": 0,
    "start_time": "2022-04-17T06:57:11.685Z"
   },
   {
    "duration": 0,
    "start_time": "2022-04-17T06:57:11.687Z"
   },
   {
    "duration": 0,
    "start_time": "2022-04-17T06:57:11.688Z"
   },
   {
    "duration": 0,
    "start_time": "2022-04-17T06:57:11.689Z"
   },
   {
    "duration": 0,
    "start_time": "2022-04-17T06:57:11.691Z"
   },
   {
    "duration": 4,
    "start_time": "2022-04-17T07:01:30.169Z"
   },
   {
    "duration": 2178,
    "start_time": "2022-04-17T07:01:36.336Z"
   },
   {
    "duration": 471,
    "start_time": "2022-04-17T07:01:38.516Z"
   },
   {
    "duration": 453,
    "start_time": "2022-04-17T07:01:38.990Z"
   },
   {
    "duration": 452,
    "start_time": "2022-04-17T07:01:39.446Z"
   },
   {
    "duration": 29,
    "start_time": "2022-04-17T07:01:39.900Z"
   },
   {
    "duration": 27,
    "start_time": "2022-04-17T07:01:39.931Z"
   },
   {
    "duration": 18,
    "start_time": "2022-04-17T07:01:39.982Z"
   },
   {
    "duration": 7,
    "start_time": "2022-04-17T07:01:40.002Z"
   },
   {
    "duration": 5,
    "start_time": "2022-04-17T07:01:40.011Z"
   },
   {
    "duration": 18,
    "start_time": "2022-04-17T07:01:40.020Z"
   },
   {
    "duration": 3998,
    "start_time": "2022-04-17T07:01:40.039Z"
   },
   {
    "duration": 737,
    "start_time": "2022-04-17T07:01:44.039Z"
   },
   {
    "duration": 5,
    "start_time": "2022-04-17T07:01:44.778Z"
   },
   {
    "duration": 1155,
    "start_time": "2022-04-17T07:01:44.785Z"
   },
   {
    "duration": 286,
    "start_time": "2022-04-17T07:01:45.942Z"
   },
   {
    "duration": 83,
    "start_time": "2022-04-17T07:01:46.231Z"
   },
   {
    "duration": 24,
    "start_time": "2022-04-17T07:01:46.316Z"
   },
   {
    "duration": 4,
    "start_time": "2022-04-17T07:01:46.343Z"
   },
   {
    "duration": 68,
    "start_time": "2022-04-17T07:01:46.350Z"
   },
   {
    "duration": 10,
    "start_time": "2022-04-17T07:01:46.420Z"
   },
   {
    "duration": 12,
    "start_time": "2022-04-17T07:01:57.072Z"
   },
   {
    "duration": 490,
    "start_time": "2022-04-17T07:06:40.975Z"
   },
   {
    "duration": 499,
    "start_time": "2022-04-17T07:06:57.440Z"
   },
   {
    "duration": 380,
    "start_time": "2022-04-17T07:07:07.816Z"
   },
   {
    "duration": 29,
    "start_time": "2022-04-17T07:07:11.015Z"
   },
   {
    "duration": 7,
    "start_time": "2022-04-17T07:07:20.231Z"
   },
   {
    "duration": 2112,
    "start_time": "2022-04-17T07:11:38.689Z"
   },
   {
    "duration": 463,
    "start_time": "2022-04-17T07:11:40.804Z"
   },
   {
    "duration": 448,
    "start_time": "2022-04-17T07:11:41.269Z"
   },
   {
    "duration": 424,
    "start_time": "2022-04-17T07:11:41.721Z"
   },
   {
    "duration": 40,
    "start_time": "2022-04-17T07:11:42.147Z"
   },
   {
    "duration": 24,
    "start_time": "2022-04-17T07:11:42.189Z"
   },
   {
    "duration": 17,
    "start_time": "2022-04-17T07:11:42.215Z"
   },
   {
    "duration": 7,
    "start_time": "2022-04-17T07:11:42.234Z"
   },
   {
    "duration": 40,
    "start_time": "2022-04-17T07:11:42.243Z"
   },
   {
    "duration": 18,
    "start_time": "2022-04-17T07:11:42.287Z"
   },
   {
    "duration": 3908,
    "start_time": "2022-04-17T07:11:42.308Z"
   },
   {
    "duration": 737,
    "start_time": "2022-04-17T07:11:46.218Z"
   },
   {
    "duration": 4,
    "start_time": "2022-04-17T07:11:46.957Z"
   },
   {
    "duration": 1235,
    "start_time": "2022-04-17T07:11:46.964Z"
   },
   {
    "duration": 290,
    "start_time": "2022-04-17T07:11:48.201Z"
   },
   {
    "duration": 67,
    "start_time": "2022-04-17T07:11:48.493Z"
   },
   {
    "duration": 21,
    "start_time": "2022-04-17T07:11:48.582Z"
   },
   {
    "duration": 3,
    "start_time": "2022-04-17T07:11:48.605Z"
   },
   {
    "duration": 37,
    "start_time": "2022-04-17T07:11:48.610Z"
   },
   {
    "duration": 40,
    "start_time": "2022-04-17T07:11:48.649Z"
   },
   {
    "duration": 14,
    "start_time": "2022-04-17T07:13:32.092Z"
   },
   {
    "duration": 33,
    "start_time": "2022-04-17T07:13:44.797Z"
   },
   {
    "duration": 2346,
    "start_time": "2022-04-17T07:15:14.254Z"
   },
   {
    "duration": 472,
    "start_time": "2022-04-17T07:15:16.603Z"
   },
   {
    "duration": 453,
    "start_time": "2022-04-17T07:15:17.077Z"
   },
   {
    "duration": 411,
    "start_time": "2022-04-17T07:15:17.532Z"
   },
   {
    "duration": 36,
    "start_time": "2022-04-17T07:15:17.947Z"
   },
   {
    "duration": 28,
    "start_time": "2022-04-17T07:15:17.985Z"
   },
   {
    "duration": 17,
    "start_time": "2022-04-17T07:15:18.015Z"
   },
   {
    "duration": 6,
    "start_time": "2022-04-17T07:15:18.034Z"
   },
   {
    "duration": 65,
    "start_time": "2022-04-17T07:15:18.042Z"
   },
   {
    "duration": 3,
    "start_time": "2022-04-17T07:15:18.109Z"
   },
   {
    "duration": 19,
    "start_time": "2022-04-17T07:15:18.114Z"
   },
   {
    "duration": 3956,
    "start_time": "2022-04-17T07:15:18.135Z"
   },
   {
    "duration": 740,
    "start_time": "2022-04-17T07:15:22.093Z"
   },
   {
    "duration": 4,
    "start_time": "2022-04-17T07:15:22.837Z"
   },
   {
    "duration": 1348,
    "start_time": "2022-04-17T07:15:22.843Z"
   },
   {
    "duration": 281,
    "start_time": "2022-04-17T07:15:24.193Z"
   },
   {
    "duration": 73,
    "start_time": "2022-04-17T07:15:24.476Z"
   },
   {
    "duration": 39,
    "start_time": "2022-04-17T07:15:24.551Z"
   },
   {
    "duration": 3,
    "start_time": "2022-04-17T07:15:24.592Z"
   },
   {
    "duration": 32,
    "start_time": "2022-04-17T07:15:24.597Z"
   },
   {
    "duration": 52,
    "start_time": "2022-04-17T07:15:24.631Z"
   },
   {
    "duration": 32,
    "start_time": "2022-04-17T07:20:21.959Z"
   },
   {
    "duration": 33,
    "start_time": "2022-04-17T07:22:25.138Z"
   },
   {
    "duration": 2120,
    "start_time": "2022-04-17T07:22:48.012Z"
   },
   {
    "duration": 472,
    "start_time": "2022-04-17T07:22:50.134Z"
   },
   {
    "duration": 454,
    "start_time": "2022-04-17T07:22:50.608Z"
   },
   {
    "duration": 429,
    "start_time": "2022-04-17T07:22:51.065Z"
   },
   {
    "duration": 31,
    "start_time": "2022-04-17T07:22:51.499Z"
   },
   {
    "duration": 53,
    "start_time": "2022-04-17T07:22:51.533Z"
   },
   {
    "duration": 19,
    "start_time": "2022-04-17T07:22:51.588Z"
   },
   {
    "duration": 8,
    "start_time": "2022-04-17T07:22:51.609Z"
   },
   {
    "duration": 66,
    "start_time": "2022-04-17T07:22:51.619Z"
   },
   {
    "duration": 19,
    "start_time": "2022-04-17T07:22:51.687Z"
   },
   {
    "duration": 7015,
    "start_time": "2022-04-17T07:22:51.708Z"
   },
   {
    "duration": 768,
    "start_time": "2022-04-17T07:22:58.726Z"
   },
   {
    "duration": 4,
    "start_time": "2022-04-17T07:22:59.496Z"
   },
   {
    "duration": 1469,
    "start_time": "2022-04-17T07:22:59.503Z"
   },
   {
    "duration": 288,
    "start_time": "2022-04-17T07:23:00.981Z"
   },
   {
    "duration": 75,
    "start_time": "2022-04-17T07:23:01.271Z"
   },
   {
    "duration": 42,
    "start_time": "2022-04-17T07:23:01.348Z"
   },
   {
    "duration": 12,
    "start_time": "2022-04-17T07:23:01.393Z"
   },
   {
    "duration": 59,
    "start_time": "2022-04-17T07:23:01.407Z"
   },
   {
    "duration": 18,
    "start_time": "2022-04-17T07:23:01.468Z"
   },
   {
    "duration": 18,
    "start_time": "2022-04-17T07:24:11.850Z"
   },
   {
    "duration": 25,
    "start_time": "2022-04-17T07:26:41.130Z"
   },
   {
    "duration": 22,
    "start_time": "2022-04-17T07:27:38.690Z"
   },
   {
    "duration": 26,
    "start_time": "2022-04-17T07:27:45.211Z"
   },
   {
    "duration": 10,
    "start_time": "2022-04-17T07:27:49.378Z"
   },
   {
    "duration": 192,
    "start_time": "2022-04-17T07:28:20.858Z"
   },
   {
    "duration": 23,
    "start_time": "2022-04-17T07:28:46.249Z"
   },
   {
    "duration": 20,
    "start_time": "2022-04-17T07:29:19.449Z"
   },
   {
    "duration": 26,
    "start_time": "2022-04-17T07:29:25.218Z"
   },
   {
    "duration": 21,
    "start_time": "2022-04-17T07:29:51.370Z"
   },
   {
    "duration": 20,
    "start_time": "2022-04-17T07:30:11.723Z"
   },
   {
    "duration": 11,
    "start_time": "2022-04-17T07:30:37.834Z"
   },
   {
    "duration": 2161,
    "start_time": "2022-04-17T07:49:55.446Z"
   },
   {
    "duration": 537,
    "start_time": "2022-04-17T07:49:57.610Z"
   },
   {
    "duration": 487,
    "start_time": "2022-04-17T07:49:58.149Z"
   },
   {
    "duration": 428,
    "start_time": "2022-04-17T07:49:58.638Z"
   },
   {
    "duration": 38,
    "start_time": "2022-04-17T07:49:59.069Z"
   },
   {
    "duration": 25,
    "start_time": "2022-04-17T07:49:59.109Z"
   },
   {
    "duration": 17,
    "start_time": "2022-04-17T07:49:59.137Z"
   },
   {
    "duration": 7,
    "start_time": "2022-04-17T07:49:59.181Z"
   },
   {
    "duration": 38,
    "start_time": "2022-04-17T07:49:59.190Z"
   },
   {
    "duration": 18,
    "start_time": "2022-04-17T07:49:59.230Z"
   },
   {
    "duration": 3955,
    "start_time": "2022-04-17T07:49:59.250Z"
   },
   {
    "duration": 747,
    "start_time": "2022-04-17T07:50:03.207Z"
   },
   {
    "duration": 5,
    "start_time": "2022-04-17T07:50:03.957Z"
   },
   {
    "duration": 1268,
    "start_time": "2022-04-17T07:50:03.967Z"
   },
   {
    "duration": 289,
    "start_time": "2022-04-17T07:50:05.237Z"
   },
   {
    "duration": 89,
    "start_time": "2022-04-17T07:50:05.528Z"
   },
   {
    "duration": 23,
    "start_time": "2022-04-17T07:50:05.619Z"
   },
   {
    "duration": 54,
    "start_time": "2022-04-17T07:50:05.644Z"
   },
   {
    "duration": 11,
    "start_time": "2022-04-17T07:50:05.700Z"
   },
   {
    "duration": 186,
    "start_time": "2022-04-17T07:50:25.023Z"
   },
   {
    "duration": 2107,
    "start_time": "2022-04-17T07:50:44.104Z"
   },
   {
    "duration": 476,
    "start_time": "2022-04-17T07:50:46.214Z"
   },
   {
    "duration": 455,
    "start_time": "2022-04-17T07:50:46.692Z"
   },
   {
    "duration": 435,
    "start_time": "2022-04-17T07:50:47.151Z"
   },
   {
    "duration": 29,
    "start_time": "2022-04-17T07:50:47.590Z"
   },
   {
    "duration": 26,
    "start_time": "2022-04-17T07:50:47.622Z"
   },
   {
    "duration": 18,
    "start_time": "2022-04-17T07:50:47.682Z"
   },
   {
    "duration": 7,
    "start_time": "2022-04-17T07:50:47.702Z"
   },
   {
    "duration": 35,
    "start_time": "2022-04-17T07:50:47.712Z"
   },
   {
    "duration": 20,
    "start_time": "2022-04-17T07:50:47.783Z"
   },
   {
    "duration": 4345,
    "start_time": "2022-04-17T07:50:47.805Z"
   },
   {
    "duration": 772,
    "start_time": "2022-04-17T07:50:52.152Z"
   },
   {
    "duration": 4,
    "start_time": "2022-04-17T07:50:52.926Z"
   },
   {
    "duration": 1394,
    "start_time": "2022-04-17T07:50:52.933Z"
   },
   {
    "duration": 294,
    "start_time": "2022-04-17T07:50:54.330Z"
   },
   {
    "duration": 87,
    "start_time": "2022-04-17T07:50:54.626Z"
   },
   {
    "duration": 23,
    "start_time": "2022-04-17T07:50:54.716Z"
   },
   {
    "duration": 12,
    "start_time": "2022-04-17T07:50:54.741Z"
   },
   {
    "duration": 11,
    "start_time": "2022-04-17T07:50:54.781Z"
   },
   {
    "duration": 20,
    "start_time": "2022-04-17T07:54:05.727Z"
   },
   {
    "duration": 5,
    "start_time": "2022-04-17T08:49:42.842Z"
   },
   {
    "duration": 5,
    "start_time": "2022-04-17T08:52:36.178Z"
   },
   {
    "duration": 4,
    "start_time": "2022-04-17T08:52:38.513Z"
   },
   {
    "duration": 7,
    "start_time": "2022-04-17T09:17:14.414Z"
   },
   {
    "duration": 178093,
    "start_time": "2022-04-17T09:18:19.152Z"
   },
   {
    "duration": 2279,
    "start_time": "2022-04-17T09:29:58.666Z"
   },
   {
    "duration": 466,
    "start_time": "2022-04-17T09:30:00.947Z"
   },
   {
    "duration": 541,
    "start_time": "2022-04-17T09:30:01.416Z"
   },
   {
    "duration": 425,
    "start_time": "2022-04-17T09:30:01.960Z"
   },
   {
    "duration": 27,
    "start_time": "2022-04-17T09:30:02.387Z"
   },
   {
    "duration": 31,
    "start_time": "2022-04-17T09:30:02.416Z"
   },
   {
    "duration": 37,
    "start_time": "2022-04-17T09:30:02.449Z"
   },
   {
    "duration": 6,
    "start_time": "2022-04-17T09:30:02.488Z"
   },
   {
    "duration": 39,
    "start_time": "2022-04-17T09:30:02.496Z"
   },
   {
    "duration": 54,
    "start_time": "2022-04-17T09:30:02.539Z"
   },
   {
    "duration": 4180,
    "start_time": "2022-04-17T09:30:02.595Z"
   },
   {
    "duration": 709,
    "start_time": "2022-04-17T09:30:06.777Z"
   },
   {
    "duration": 4,
    "start_time": "2022-04-17T09:30:07.488Z"
   },
   {
    "duration": 1362,
    "start_time": "2022-04-17T09:30:07.494Z"
   },
   {
    "duration": 384,
    "start_time": "2022-04-17T09:30:08.858Z"
   },
   {
    "duration": 84,
    "start_time": "2022-04-17T09:30:09.244Z"
   },
   {
    "duration": 23,
    "start_time": "2022-04-17T09:30:09.330Z"
   },
   {
    "duration": 31,
    "start_time": "2022-04-17T09:30:09.355Z"
   },
   {
    "duration": 16,
    "start_time": "2022-04-17T09:30:09.389Z"
   },
   {
    "duration": 4,
    "start_time": "2022-04-17T09:30:09.408Z"
   },
   {
    "duration": 6,
    "start_time": "2022-04-17T09:30:09.414Z"
   },
   {
    "duration": 6,
    "start_time": "2022-04-17T09:30:09.422Z"
   },
   {
    "duration": 51,
    "start_time": "2022-04-17T09:30:09.430Z"
   },
   {
    "duration": 7,
    "start_time": "2022-04-17T09:30:09.483Z"
   },
   {
    "duration": 11,
    "start_time": "2022-04-17T09:30:09.491Z"
   },
   {
    "duration": 688778,
    "start_time": "2022-04-17T09:30:09.504Z"
   },
   {
    "duration": 64,
    "start_time": "2022-04-17T09:41:38.287Z"
   },
   {
    "duration": 6,
    "start_time": "2022-04-17T09:42:10.765Z"
   },
   {
    "duration": 18,
    "start_time": "2022-04-17T09:44:35.732Z"
   },
   {
    "duration": 16,
    "start_time": "2022-04-17T09:45:00.444Z"
   },
   {
    "duration": 2580,
    "start_time": "2022-04-17T09:45:16.658Z"
   },
   {
    "duration": 715,
    "start_time": "2022-04-17T09:45:19.242Z"
   },
   {
    "duration": 685,
    "start_time": "2022-04-17T09:45:19.964Z"
   },
   {
    "duration": 569,
    "start_time": "2022-04-17T09:45:20.653Z"
   },
   {
    "duration": 58,
    "start_time": "2022-04-17T09:45:21.225Z"
   },
   {
    "duration": 26,
    "start_time": "2022-04-17T09:45:21.285Z"
   },
   {
    "duration": 19,
    "start_time": "2022-04-17T09:45:21.314Z"
   },
   {
    "duration": 7,
    "start_time": "2022-04-17T09:45:21.335Z"
   },
   {
    "duration": 35,
    "start_time": "2022-04-17T09:45:21.381Z"
   },
   {
    "duration": 21,
    "start_time": "2022-04-17T09:45:21.419Z"
   },
   {
    "duration": 4126,
    "start_time": "2022-04-17T09:45:21.442Z"
   },
   {
    "duration": 832,
    "start_time": "2022-04-17T09:45:25.570Z"
   },
   {
    "duration": 4,
    "start_time": "2022-04-17T09:45:26.406Z"
   },
   {
    "duration": 1244,
    "start_time": "2022-04-17T09:45:26.413Z"
   },
   {
    "duration": 278,
    "start_time": "2022-04-17T09:45:27.660Z"
   },
   {
    "duration": 85,
    "start_time": "2022-04-17T09:45:27.941Z"
   },
   {
    "duration": 24,
    "start_time": "2022-04-17T09:45:28.028Z"
   },
   {
    "duration": 33,
    "start_time": "2022-04-17T09:45:28.055Z"
   },
   {
    "duration": 15,
    "start_time": "2022-04-17T09:45:28.090Z"
   },
   {
    "duration": 3,
    "start_time": "2022-04-17T09:45:28.108Z"
   },
   {
    "duration": 6,
    "start_time": "2022-04-17T09:45:28.113Z"
   },
   {
    "duration": 13,
    "start_time": "2022-04-17T09:45:28.121Z"
   },
   {
    "duration": 334980,
    "start_time": "2022-04-17T09:45:28.136Z"
   },
   {
    "duration": 2093319,
    "start_time": "2022-04-17T09:51:03.119Z"
   },
   {
    "duration": 63,
    "start_time": "2022-04-17T10:25:56.440Z"
   },
   {
    "duration": 19,
    "start_time": "2022-04-17T10:25:56.506Z"
   },
   {
    "duration": 2616,
    "start_time": "2022-04-17T10:26:15.447Z"
   },
   {
    "duration": 521,
    "start_time": "2022-04-17T10:26:18.066Z"
   },
   {
    "duration": 480,
    "start_time": "2022-04-17T10:26:18.594Z"
   },
   {
    "duration": 442,
    "start_time": "2022-04-17T10:26:19.077Z"
   },
   {
    "duration": 66,
    "start_time": "2022-04-17T10:26:19.522Z"
   },
   {
    "duration": 32,
    "start_time": "2022-04-17T10:26:19.591Z"
   },
   {
    "duration": 25,
    "start_time": "2022-04-17T10:26:19.627Z"
   },
   {
    "duration": 33,
    "start_time": "2022-04-17T10:26:19.655Z"
   },
   {
    "duration": 58,
    "start_time": "2022-04-17T10:26:19.694Z"
   },
   {
    "duration": 51,
    "start_time": "2022-04-17T10:26:19.755Z"
   },
   {
    "duration": 4322,
    "start_time": "2022-04-17T10:26:19.808Z"
   },
   {
    "duration": 822,
    "start_time": "2022-04-17T10:26:24.132Z"
   },
   {
    "duration": 4,
    "start_time": "2022-04-17T10:26:24.956Z"
   },
   {
    "duration": 1381,
    "start_time": "2022-04-17T10:26:24.962Z"
   },
   {
    "duration": 311,
    "start_time": "2022-04-17T10:26:26.346Z"
   },
   {
    "duration": 137,
    "start_time": "2022-04-17T10:26:26.661Z"
   },
   {
    "duration": 34,
    "start_time": "2022-04-17T10:26:26.802Z"
   },
   {
    "duration": 48,
    "start_time": "2022-04-17T10:26:26.840Z"
   },
   {
    "duration": 15,
    "start_time": "2022-04-17T10:26:26.892Z"
   },
   {
    "duration": 5,
    "start_time": "2022-04-17T10:26:26.910Z"
   },
   {
    "duration": 8,
    "start_time": "2022-04-17T10:26:26.917Z"
   },
   {
    "duration": 53,
    "start_time": "2022-04-17T10:26:26.928Z"
   },
   {
    "duration": 4,
    "start_time": "2022-04-17T10:26:26.984Z"
   },
   {
    "duration": 12717,
    "start_time": "2022-04-17T10:26:26.990Z"
   },
   {
    "duration": 365,
    "start_time": "2022-04-17T10:26:39.709Z"
   },
   {
    "duration": 31,
    "start_time": "2022-04-17T10:26:40.076Z"
   },
   {
    "duration": 0,
    "start_time": "2022-04-17T10:26:40.110Z"
   },
   {
    "duration": 16,
    "start_time": "2022-04-17T10:27:52.739Z"
   },
   {
    "duration": 1973,
    "start_time": "2022-04-17T10:27:58.733Z"
   },
   {
    "duration": 0,
    "start_time": "2022-04-17T10:28:00.711Z"
   },
   {
    "duration": 0,
    "start_time": "2022-04-17T10:28:00.713Z"
   },
   {
    "duration": 0,
    "start_time": "2022-04-17T10:28:00.715Z"
   },
   {
    "duration": 0,
    "start_time": "2022-04-17T10:28:00.718Z"
   },
   {
    "duration": 0,
    "start_time": "2022-04-17T10:28:00.720Z"
   },
   {
    "duration": 0,
    "start_time": "2022-04-17T10:28:00.723Z"
   },
   {
    "duration": 0,
    "start_time": "2022-04-17T10:28:00.725Z"
   },
   {
    "duration": 0,
    "start_time": "2022-04-17T10:28:00.727Z"
   },
   {
    "duration": 0,
    "start_time": "2022-04-17T10:28:00.729Z"
   },
   {
    "duration": 0,
    "start_time": "2022-04-17T10:28:00.731Z"
   },
   {
    "duration": 0,
    "start_time": "2022-04-17T10:28:00.733Z"
   },
   {
    "duration": 0,
    "start_time": "2022-04-17T10:28:00.734Z"
   },
   {
    "duration": 0,
    "start_time": "2022-04-17T10:28:00.736Z"
   },
   {
    "duration": 0,
    "start_time": "2022-04-17T10:28:00.738Z"
   },
   {
    "duration": 0,
    "start_time": "2022-04-17T10:28:00.740Z"
   },
   {
    "duration": 0,
    "start_time": "2022-04-17T10:28:00.782Z"
   },
   {
    "duration": 0,
    "start_time": "2022-04-17T10:28:00.785Z"
   },
   {
    "duration": 0,
    "start_time": "2022-04-17T10:28:00.787Z"
   },
   {
    "duration": 0,
    "start_time": "2022-04-17T10:28:00.789Z"
   },
   {
    "duration": 0,
    "start_time": "2022-04-17T10:28:00.791Z"
   },
   {
    "duration": 0,
    "start_time": "2022-04-17T10:28:00.793Z"
   },
   {
    "duration": 0,
    "start_time": "2022-04-17T10:28:00.796Z"
   },
   {
    "duration": 0,
    "start_time": "2022-04-17T10:28:00.798Z"
   },
   {
    "duration": 0,
    "start_time": "2022-04-17T10:28:00.800Z"
   },
   {
    "duration": 0,
    "start_time": "2022-04-17T10:28:00.802Z"
   },
   {
    "duration": 0,
    "start_time": "2022-04-17T10:28:00.805Z"
   },
   {
    "duration": 2321,
    "start_time": "2022-04-17T10:32:41.410Z"
   },
   {
    "duration": 0,
    "start_time": "2022-04-17T10:32:43.737Z"
   },
   {
    "duration": 0,
    "start_time": "2022-04-17T10:32:43.741Z"
   },
   {
    "duration": 0,
    "start_time": "2022-04-17T10:32:43.743Z"
   },
   {
    "duration": 0,
    "start_time": "2022-04-17T10:32:43.744Z"
   },
   {
    "duration": 0,
    "start_time": "2022-04-17T10:32:43.746Z"
   },
   {
    "duration": 0,
    "start_time": "2022-04-17T10:32:43.747Z"
   },
   {
    "duration": 0,
    "start_time": "2022-04-17T10:32:43.749Z"
   },
   {
    "duration": 0,
    "start_time": "2022-04-17T10:32:43.750Z"
   },
   {
    "duration": 0,
    "start_time": "2022-04-17T10:32:43.751Z"
   },
   {
    "duration": 0,
    "start_time": "2022-04-17T10:32:43.752Z"
   },
   {
    "duration": 0,
    "start_time": "2022-04-17T10:32:43.754Z"
   },
   {
    "duration": 0,
    "start_time": "2022-04-17T10:32:43.782Z"
   },
   {
    "duration": 0,
    "start_time": "2022-04-17T10:32:43.784Z"
   },
   {
    "duration": 0,
    "start_time": "2022-04-17T10:32:43.785Z"
   },
   {
    "duration": 0,
    "start_time": "2022-04-17T10:32:43.787Z"
   },
   {
    "duration": 0,
    "start_time": "2022-04-17T10:32:43.788Z"
   },
   {
    "duration": 0,
    "start_time": "2022-04-17T10:32:43.790Z"
   },
   {
    "duration": 0,
    "start_time": "2022-04-17T10:32:43.792Z"
   },
   {
    "duration": 0,
    "start_time": "2022-04-17T10:32:43.793Z"
   },
   {
    "duration": 0,
    "start_time": "2022-04-17T10:32:43.795Z"
   },
   {
    "duration": 0,
    "start_time": "2022-04-17T10:32:43.797Z"
   },
   {
    "duration": 0,
    "start_time": "2022-04-17T10:32:43.798Z"
   },
   {
    "duration": 0,
    "start_time": "2022-04-17T10:32:43.800Z"
   },
   {
    "duration": 0,
    "start_time": "2022-04-17T10:32:43.801Z"
   },
   {
    "duration": 0,
    "start_time": "2022-04-17T10:32:43.803Z"
   },
   {
    "duration": 0,
    "start_time": "2022-04-17T10:32:43.805Z"
   },
   {
    "duration": 20,
    "start_time": "2022-04-17T10:32:59.487Z"
   },
   {
    "duration": 2119,
    "start_time": "2022-04-17T10:33:51.277Z"
   },
   {
    "duration": 435,
    "start_time": "2022-04-17T10:33:53.400Z"
   },
   {
    "duration": 418,
    "start_time": "2022-04-17T10:33:53.837Z"
   },
   {
    "duration": 410,
    "start_time": "2022-04-17T10:33:54.257Z"
   },
   {
    "duration": 37,
    "start_time": "2022-04-17T10:33:54.671Z"
   },
   {
    "duration": 24,
    "start_time": "2022-04-17T10:33:54.711Z"
   },
   {
    "duration": 44,
    "start_time": "2022-04-17T10:33:54.738Z"
   },
   {
    "duration": 7,
    "start_time": "2022-04-17T10:33:54.784Z"
   },
   {
    "duration": 34,
    "start_time": "2022-04-17T10:33:54.793Z"
   },
   {
    "duration": 19,
    "start_time": "2022-04-17T10:33:54.829Z"
   },
   {
    "duration": 4072,
    "start_time": "2022-04-17T10:33:54.851Z"
   },
   {
    "duration": 838,
    "start_time": "2022-04-17T10:33:58.926Z"
   },
   {
    "duration": 4,
    "start_time": "2022-04-17T10:33:59.766Z"
   },
   {
    "duration": 1272,
    "start_time": "2022-04-17T10:33:59.784Z"
   },
   {
    "duration": 300,
    "start_time": "2022-04-17T10:34:01.058Z"
   },
   {
    "duration": 79,
    "start_time": "2022-04-17T10:34:01.360Z"
   },
   {
    "duration": 43,
    "start_time": "2022-04-17T10:34:01.442Z"
   },
   {
    "duration": 11,
    "start_time": "2022-04-17T10:34:01.487Z"
   },
   {
    "duration": 23,
    "start_time": "2022-04-17T10:34:01.500Z"
   },
   {
    "duration": 19,
    "start_time": "2022-04-17T10:34:01.525Z"
   },
   {
    "duration": 26,
    "start_time": "2022-04-17T10:34:01.546Z"
   },
   {
    "duration": 13,
    "start_time": "2022-04-17T10:34:01.574Z"
   },
   {
    "duration": 10,
    "start_time": "2022-04-17T10:34:01.589Z"
   },
   {
    "duration": 15581,
    "start_time": "2022-04-17T10:34:01.601Z"
   },
   {
    "duration": 275,
    "start_time": "2022-04-17T10:34:17.184Z"
   },
   {
    "duration": 17,
    "start_time": "2022-04-17T10:34:17.462Z"
   },
   {
    "duration": 0,
    "start_time": "2022-04-17T10:34:17.481Z"
   },
   {
    "duration": 2711,
    "start_time": "2022-04-17T10:58:53.951Z"
   },
   {
    "duration": 431,
    "start_time": "2022-04-17T10:58:56.665Z"
   },
   {
    "duration": 416,
    "start_time": "2022-04-17T10:58:57.098Z"
   },
   {
    "duration": 427,
    "start_time": "2022-04-17T10:58:57.516Z"
   },
   {
    "duration": 42,
    "start_time": "2022-04-17T10:58:57.948Z"
   },
   {
    "duration": 25,
    "start_time": "2022-04-17T10:58:57.993Z"
   },
   {
    "duration": 16,
    "start_time": "2022-04-17T10:58:58.021Z"
   },
   {
    "duration": 7,
    "start_time": "2022-04-17T10:58:58.040Z"
   },
   {
    "duration": 64,
    "start_time": "2022-04-17T10:58:58.049Z"
   },
   {
    "duration": 22,
    "start_time": "2022-04-17T10:58:58.115Z"
   },
   {
    "duration": 6690,
    "start_time": "2022-04-17T10:58:58.139Z"
   },
   {
    "duration": 1261,
    "start_time": "2022-04-17T10:59:04.832Z"
   },
   {
    "duration": 5,
    "start_time": "2022-04-17T10:59:06.095Z"
   },
   {
    "duration": 1238,
    "start_time": "2022-04-17T10:59:06.104Z"
   },
   {
    "duration": 282,
    "start_time": "2022-04-17T10:59:07.345Z"
   },
   {
    "duration": 85,
    "start_time": "2022-04-17T10:59:07.629Z"
   },
   {
    "duration": 25,
    "start_time": "2022-04-17T10:59:07.716Z"
   },
   {
    "duration": 40,
    "start_time": "2022-04-17T10:59:07.744Z"
   },
   {
    "duration": 18,
    "start_time": "2022-04-17T10:59:07.787Z"
   },
   {
    "duration": 3,
    "start_time": "2022-04-17T10:59:07.808Z"
   },
   {
    "duration": 5,
    "start_time": "2022-04-17T10:59:07.814Z"
   },
   {
    "duration": 6,
    "start_time": "2022-04-17T10:59:07.821Z"
   },
   {
    "duration": 5,
    "start_time": "2022-04-17T10:59:07.830Z"
   },
   {
    "duration": 12562,
    "start_time": "2022-04-17T10:59:07.881Z"
   },
   {
    "duration": 22096,
    "start_time": "2022-04-17T10:59:20.446Z"
   },
   {
    "duration": 9,
    "start_time": "2022-04-17T10:59:42.544Z"
   },
   {
    "duration": 24,
    "start_time": "2022-04-17T10:59:42.556Z"
   },
   {
    "duration": 0,
    "start_time": "2022-04-17T10:59:42.583Z"
   },
   {
    "duration": 7,
    "start_time": "2022-04-17T11:07:05.932Z"
   },
   {
    "duration": 2825,
    "start_time": "2022-04-17T11:10:22.205Z"
   },
   {
    "duration": 655,
    "start_time": "2022-04-17T11:10:25.033Z"
   },
   {
    "duration": 422,
    "start_time": "2022-04-17T11:10:25.690Z"
   },
   {
    "duration": 425,
    "start_time": "2022-04-17T11:10:26.115Z"
   },
   {
    "duration": 42,
    "start_time": "2022-04-17T11:10:26.542Z"
   },
   {
    "duration": 30,
    "start_time": "2022-04-17T11:10:26.587Z"
   },
   {
    "duration": 22,
    "start_time": "2022-04-17T11:10:26.620Z"
   },
   {
    "duration": 8,
    "start_time": "2022-04-17T11:10:26.682Z"
   },
   {
    "duration": 36,
    "start_time": "2022-04-17T11:10:26.693Z"
   },
   {
    "duration": 58,
    "start_time": "2022-04-17T11:10:26.733Z"
   },
   {
    "duration": 6945,
    "start_time": "2022-04-17T11:10:26.793Z"
   },
   {
    "duration": 841,
    "start_time": "2022-04-17T11:10:33.742Z"
   },
   {
    "duration": 5,
    "start_time": "2022-04-17T11:10:34.587Z"
   },
   {
    "duration": 1783,
    "start_time": "2022-04-17T11:10:34.594Z"
   },
   {
    "duration": 400,
    "start_time": "2022-04-17T11:10:36.382Z"
   },
   {
    "duration": 116,
    "start_time": "2022-04-17T11:10:36.784Z"
   },
   {
    "duration": 28,
    "start_time": "2022-04-17T11:10:36.903Z"
   },
   {
    "duration": 50,
    "start_time": "2022-04-17T11:10:36.934Z"
   },
   {
    "duration": 18,
    "start_time": "2022-04-17T11:10:36.987Z"
   },
   {
    "duration": 6,
    "start_time": "2022-04-17T11:10:37.008Z"
   },
   {
    "duration": 10,
    "start_time": "2022-04-17T11:10:37.016Z"
   },
   {
    "duration": 10,
    "start_time": "2022-04-17T11:10:37.081Z"
   },
   {
    "duration": 7,
    "start_time": "2022-04-17T11:10:37.094Z"
   },
   {
    "duration": 1464897,
    "start_time": "2022-04-17T11:10:37.104Z"
   },
   {
    "duration": 200,
    "start_time": "2022-04-17T11:35:02.003Z"
   },
   {
    "duration": 0,
    "start_time": "2022-04-17T11:35:02.205Z"
   },
   {
    "duration": 16,
    "start_time": "2022-04-17T11:36:00.208Z"
   },
   {
    "duration": 16,
    "start_time": "2022-04-17T11:37:46.239Z"
   },
   {
    "duration": 15,
    "start_time": "2022-04-17T11:39:18.029Z"
   },
   {
    "duration": 23,
    "start_time": "2022-04-17T11:39:42.682Z"
   },
   {
    "duration": 69,
    "start_time": "2022-04-17T11:40:38.532Z"
   },
   {
    "duration": 15,
    "start_time": "2022-04-17T11:42:21.463Z"
   },
   {
    "duration": 2152,
    "start_time": "2022-04-17T12:11:40.173Z"
   },
   {
    "duration": 457,
    "start_time": "2022-04-17T12:11:42.328Z"
   },
   {
    "duration": 429,
    "start_time": "2022-04-17T12:11:42.787Z"
   },
   {
    "duration": 399,
    "start_time": "2022-04-17T12:11:43.219Z"
   },
   {
    "duration": 27,
    "start_time": "2022-04-17T12:11:43.620Z"
   },
   {
    "duration": 45,
    "start_time": "2022-04-17T12:11:43.649Z"
   },
   {
    "duration": 16,
    "start_time": "2022-04-17T12:11:43.696Z"
   },
   {
    "duration": 6,
    "start_time": "2022-04-17T12:11:43.714Z"
   },
   {
    "duration": 33,
    "start_time": "2022-04-17T12:11:43.722Z"
   },
   {
    "duration": 18,
    "start_time": "2022-04-17T12:11:43.784Z"
   },
   {
    "duration": 4061,
    "start_time": "2022-04-17T12:11:43.804Z"
   },
   {
    "duration": 780,
    "start_time": "2022-04-17T12:11:47.867Z"
   },
   {
    "duration": 4,
    "start_time": "2022-04-17T12:11:48.650Z"
   },
   {
    "duration": 1336,
    "start_time": "2022-04-17T12:11:48.656Z"
   },
   {
    "duration": 283,
    "start_time": "2022-04-17T12:11:49.994Z"
   },
   {
    "duration": 64,
    "start_time": "2022-04-17T12:11:50.282Z"
   },
   {
    "duration": 22,
    "start_time": "2022-04-17T12:11:50.348Z"
   },
   {
    "duration": 10,
    "start_time": "2022-04-17T12:11:50.381Z"
   },
   {
    "duration": 15,
    "start_time": "2022-04-17T12:11:50.394Z"
   },
   {
    "duration": 4,
    "start_time": "2022-04-17T12:11:50.411Z"
   },
   {
    "duration": 5,
    "start_time": "2022-04-17T12:11:50.417Z"
   },
   {
    "duration": 12,
    "start_time": "2022-04-17T12:11:50.424Z"
   },
   {
    "duration": 10,
    "start_time": "2022-04-17T12:11:50.438Z"
   },
   {
    "duration": 9,
    "start_time": "2022-04-17T12:11:50.451Z"
   },
   {
    "duration": 244,
    "start_time": "2022-04-17T12:11:50.462Z"
   },
   {
    "duration": 0,
    "start_time": "2022-04-17T12:11:50.709Z"
   },
   {
    "duration": 16,
    "start_time": "2022-04-17T12:12:21.870Z"
   },
   {
    "duration": 3350,
    "start_time": "2022-04-17T12:12:36.628Z"
   },
   {
    "duration": 481,
    "start_time": "2022-04-17T12:12:39.980Z"
   },
   {
    "duration": 441,
    "start_time": "2022-04-17T12:12:40.464Z"
   },
   {
    "duration": 413,
    "start_time": "2022-04-17T12:12:40.910Z"
   },
   {
    "duration": 28,
    "start_time": "2022-04-17T12:12:41.326Z"
   },
   {
    "duration": 46,
    "start_time": "2022-04-17T12:12:41.356Z"
   },
   {
    "duration": 19,
    "start_time": "2022-04-17T12:12:41.405Z"
   },
   {
    "duration": 6,
    "start_time": "2022-04-17T12:12:41.426Z"
   },
   {
    "duration": 61,
    "start_time": "2022-04-17T12:12:41.435Z"
   },
   {
    "duration": 17,
    "start_time": "2022-04-17T12:12:41.500Z"
   },
   {
    "duration": 4111,
    "start_time": "2022-04-17T12:12:41.519Z"
   },
   {
    "duration": 743,
    "start_time": "2022-04-17T12:12:45.632Z"
   },
   {
    "duration": 4,
    "start_time": "2022-04-17T12:12:46.382Z"
   },
   {
    "duration": 1247,
    "start_time": "2022-04-17T12:12:46.388Z"
   },
   {
    "duration": 286,
    "start_time": "2022-04-17T12:12:47.637Z"
   },
   {
    "duration": 86,
    "start_time": "2022-04-17T12:12:47.925Z"
   },
   {
    "duration": 23,
    "start_time": "2022-04-17T12:12:48.013Z"
   },
   {
    "duration": 11,
    "start_time": "2022-04-17T12:12:48.038Z"
   },
   {
    "duration": 38,
    "start_time": "2022-04-17T12:12:48.051Z"
   },
   {
    "duration": 4,
    "start_time": "2022-04-17T12:12:48.091Z"
   },
   {
    "duration": 5,
    "start_time": "2022-04-17T12:12:48.097Z"
   },
   {
    "duration": 7,
    "start_time": "2022-04-17T12:12:48.104Z"
   },
   {
    "duration": 4,
    "start_time": "2022-04-17T12:12:48.115Z"
   },
   {
    "duration": 8,
    "start_time": "2022-04-17T12:12:48.121Z"
   },
   {
    "duration": 219,
    "start_time": "2022-04-17T12:12:48.131Z"
   },
   {
    "duration": 0,
    "start_time": "2022-04-17T12:12:48.353Z"
   },
   {
    "duration": 3691,
    "start_time": "2022-04-17T12:13:04.491Z"
   },
   {
    "duration": 39,
    "start_time": "2022-04-17T12:14:11.174Z"
   },
   {
    "duration": 34,
    "start_time": "2022-04-17T12:14:37.276Z"
   },
   {
    "duration": 3465,
    "start_time": "2022-04-17T12:14:56.827Z"
   },
   {
    "duration": 3843,
    "start_time": "2022-04-17T12:16:38.949Z"
   },
   {
    "duration": 65,
    "start_time": "2022-04-17T12:23:07.291Z"
   },
   {
    "duration": 470,
    "start_time": "2022-04-17T12:32:21.923Z"
   },
   {
    "duration": 577,
    "start_time": "2022-04-17T12:34:16.005Z"
   },
   {
    "duration": 396,
    "start_time": "2022-04-17T12:34:31.092Z"
   },
   {
    "duration": 509,
    "start_time": "2022-04-17T12:34:50.683Z"
   },
   {
    "duration": 486,
    "start_time": "2022-04-17T12:35:36.418Z"
   },
   {
    "duration": 1008,
    "start_time": "2022-04-17T12:38:44.583Z"
   },
   {
    "duration": 190396,
    "start_time": "2022-04-17T12:42:32.266Z"
   },
   {
    "duration": 662,
    "start_time": "2022-04-17T13:04:19.055Z"
   },
   {
    "duration": 114,
    "start_time": "2022-04-17T13:10:27.127Z"
   },
   {
    "duration": 677,
    "start_time": "2022-04-17T13:10:51.119Z"
   },
   {
    "duration": 640,
    "start_time": "2022-04-17T13:11:45.358Z"
   },
   {
    "duration": 639,
    "start_time": "2022-04-17T13:19:24.246Z"
   },
   {
    "duration": 689,
    "start_time": "2022-04-17T13:19:57.012Z"
   },
   {
    "duration": 205728,
    "start_time": "2022-04-17T13:21:39.141Z"
   },
   {
    "duration": 26217,
    "start_time": "2022-04-17T13:28:00.308Z"
   },
   {
    "duration": 287,
    "start_time": "2022-04-17T13:30:26.325Z"
   },
   {
    "duration": 98237,
    "start_time": "2022-04-17T13:31:34.581Z"
   },
   {
    "duration": 94044,
    "start_time": "2022-04-17T13:36:45.732Z"
   },
   {
    "duration": 81934,
    "start_time": "2022-04-17T13:40:01.020Z"
   },
   {
    "duration": 88633,
    "start_time": "2022-04-17T13:48:35.767Z"
   },
   {
    "duration": 15,
    "start_time": "2022-04-17T13:50:57.309Z"
   },
   {
    "duration": 5,
    "start_time": "2022-04-17T13:51:03.418Z"
   },
   {
    "duration": 68512,
    "start_time": "2022-04-17T13:52:39.006Z"
   },
   {
    "duration": 2092,
    "start_time": "2022-04-17T13:53:53.925Z"
   },
   {
    "duration": 512,
    "start_time": "2022-04-17T13:53:56.020Z"
   },
   {
    "duration": 463,
    "start_time": "2022-04-17T13:53:56.535Z"
   },
   {
    "duration": 424,
    "start_time": "2022-04-17T13:53:57.001Z"
   },
   {
    "duration": 29,
    "start_time": "2022-04-17T13:53:57.428Z"
   },
   {
    "duration": 42,
    "start_time": "2022-04-17T13:53:57.458Z"
   },
   {
    "duration": 17,
    "start_time": "2022-04-17T13:53:57.502Z"
   },
   {
    "duration": 7,
    "start_time": "2022-04-17T13:53:57.521Z"
   },
   {
    "duration": 69,
    "start_time": "2022-04-17T13:53:57.530Z"
   },
   {
    "duration": 18,
    "start_time": "2022-04-17T13:53:57.601Z"
   },
   {
    "duration": 3954,
    "start_time": "2022-04-17T13:53:57.621Z"
   },
   {
    "duration": 746,
    "start_time": "2022-04-17T13:54:01.581Z"
   },
   {
    "duration": 4,
    "start_time": "2022-04-17T13:54:02.330Z"
   },
   {
    "duration": 1269,
    "start_time": "2022-04-17T13:54:02.338Z"
   },
   {
    "duration": 294,
    "start_time": "2022-04-17T13:54:03.610Z"
   },
   {
    "duration": 82,
    "start_time": "2022-04-17T13:54:03.906Z"
   },
   {
    "duration": 28,
    "start_time": "2022-04-17T13:54:03.990Z"
   },
   {
    "duration": 13,
    "start_time": "2022-04-17T13:54:04.021Z"
   },
   {
    "duration": 54,
    "start_time": "2022-04-17T13:54:04.037Z"
   },
   {
    "duration": 17,
    "start_time": "2022-04-17T13:54:04.093Z"
   },
   {
    "duration": 11,
    "start_time": "2022-04-17T13:54:04.112Z"
   },
   {
    "duration": 13,
    "start_time": "2022-04-17T13:54:04.125Z"
   },
   {
    "duration": 7,
    "start_time": "2022-04-17T13:54:04.140Z"
   },
   {
    "duration": 31,
    "start_time": "2022-04-17T13:54:04.150Z"
   },
   {
    "duration": 7,
    "start_time": "2022-04-17T13:54:04.184Z"
   },
   {
    "duration": 10,
    "start_time": "2022-04-17T13:54:04.194Z"
   },
   {
    "duration": 10,
    "start_time": "2022-04-17T13:54:04.206Z"
   },
   {
    "duration": 172917,
    "start_time": "2022-04-17T13:54:04.218Z"
   },
   {
    "duration": 3,
    "start_time": "2022-04-17T13:56:57.137Z"
   },
   {
    "duration": 340,
    "start_time": "2022-04-17T13:56:57.142Z"
   },
   {
    "duration": 248,
    "start_time": "2022-04-17T13:56:57.485Z"
   },
   {
    "duration": 0,
    "start_time": "2022-04-17T13:56:57.735Z"
   },
   {
    "duration": 847,
    "start_time": "2022-04-17T13:57:31.062Z"
   },
   {
    "duration": 872,
    "start_time": "2022-04-17T13:57:55.958Z"
   },
   {
    "duration": 828,
    "start_time": "2022-04-17T14:00:23.629Z"
   },
   {
    "duration": 696,
    "start_time": "2022-04-17T14:01:39.485Z"
   },
   {
    "duration": 714,
    "start_time": "2022-04-17T14:04:05.181Z"
   },
   {
    "duration": 551,
    "start_time": "2022-04-17T14:04:40.032Z"
   },
   {
    "duration": 24,
    "start_time": "2022-04-17T14:20:25.487Z"
   },
   {
    "duration": 13,
    "start_time": "2022-04-17T14:20:57.652Z"
   },
   {
    "duration": 14,
    "start_time": "2022-04-17T14:21:11.300Z"
   },
   {
    "duration": 8,
    "start_time": "2022-04-17T14:21:17.979Z"
   },
   {
    "duration": 15,
    "start_time": "2022-04-17T14:21:20.458Z"
   },
   {
    "duration": 4642,
    "start_time": "2022-04-17T14:23:04.250Z"
   },
   {
    "duration": 23,
    "start_time": "2022-04-17T14:27:21.753Z"
   },
   {
    "duration": 12,
    "start_time": "2022-04-17T14:27:39.082Z"
   },
   {
    "duration": 11,
    "start_time": "2022-04-17T14:27:42.003Z"
   },
   {
    "duration": 10,
    "start_time": "2022-04-17T14:27:44.290Z"
   },
   {
    "duration": 10,
    "start_time": "2022-04-17T14:27:46.822Z"
   },
   {
    "duration": 7,
    "start_time": "2022-04-17T14:28:04.122Z"
   },
   {
    "duration": 243,
    "start_time": "2022-04-17T14:49:56.140Z"
   },
   {
    "duration": 833,
    "start_time": "2022-04-17T14:52:22.119Z"
   },
   {
    "duration": 94515,
    "start_time": "2022-04-17T14:54:04.266Z"
   },
   {
    "duration": 6,
    "start_time": "2022-04-17T15:01:23.845Z"
   },
   {
    "duration": 2075,
    "start_time": "2022-04-17T15:01:30.872Z"
   },
   {
    "duration": 480,
    "start_time": "2022-04-17T15:01:32.950Z"
   },
   {
    "duration": 457,
    "start_time": "2022-04-17T15:01:33.432Z"
   },
   {
    "duration": 521,
    "start_time": "2022-04-17T15:01:33.892Z"
   },
   {
    "duration": 29,
    "start_time": "2022-04-17T15:01:34.415Z"
   },
   {
    "duration": 45,
    "start_time": "2022-04-17T15:01:34.446Z"
   },
   {
    "duration": 17,
    "start_time": "2022-04-17T15:01:34.493Z"
   },
   {
    "duration": 6,
    "start_time": "2022-04-17T15:01:34.512Z"
   },
   {
    "duration": 63,
    "start_time": "2022-04-17T15:01:34.520Z"
   },
   {
    "duration": 19,
    "start_time": "2022-04-17T15:01:34.587Z"
   },
   {
    "duration": 4013,
    "start_time": "2022-04-17T15:01:34.608Z"
   },
   {
    "duration": 755,
    "start_time": "2022-04-17T15:01:38.623Z"
   },
   {
    "duration": 4,
    "start_time": "2022-04-17T15:01:39.381Z"
   },
   {
    "duration": 1280,
    "start_time": "2022-04-17T15:01:39.387Z"
   },
   {
    "duration": 292,
    "start_time": "2022-04-17T15:01:40.669Z"
   },
   {
    "duration": 77,
    "start_time": "2022-04-17T15:01:40.964Z"
   },
   {
    "duration": 45,
    "start_time": "2022-04-17T15:01:41.043Z"
   },
   {
    "duration": 4,
    "start_time": "2022-04-17T15:01:41.090Z"
   },
   {
    "duration": 12,
    "start_time": "2022-04-17T15:01:41.096Z"
   },
   {
    "duration": 16,
    "start_time": "2022-04-17T15:01:41.110Z"
   },
   {
    "duration": 4,
    "start_time": "2022-04-17T15:01:41.128Z"
   },
   {
    "duration": 47,
    "start_time": "2022-04-17T15:01:41.134Z"
   },
   {
    "duration": 172,
    "start_time": "2022-04-17T15:01:41.184Z"
   },
   {
    "duration": 0,
    "start_time": "2022-04-17T15:01:41.359Z"
   },
   {
    "duration": 0,
    "start_time": "2022-04-17T15:01:41.360Z"
   },
   {
    "duration": 0,
    "start_time": "2022-04-17T15:01:41.362Z"
   },
   {
    "duration": 0,
    "start_time": "2022-04-17T15:01:41.363Z"
   },
   {
    "duration": 0,
    "start_time": "2022-04-17T15:01:41.365Z"
   },
   {
    "duration": 0,
    "start_time": "2022-04-17T15:01:41.382Z"
   },
   {
    "duration": 0,
    "start_time": "2022-04-17T15:01:41.384Z"
   },
   {
    "duration": 110,
    "start_time": "2022-04-17T15:03:29.862Z"
   },
   {
    "duration": 111,
    "start_time": "2022-04-17T15:03:40.564Z"
   },
   {
    "duration": 145,
    "start_time": "2022-04-17T15:04:41.126Z"
   },
   {
    "duration": 7,
    "start_time": "2022-04-17T15:05:14.717Z"
   },
   {
    "duration": 549,
    "start_time": "2022-04-17T15:05:17.869Z"
   },
   {
    "duration": 542,
    "start_time": "2022-04-17T15:05:22.722Z"
   },
   {
    "duration": 115,
    "start_time": "2022-04-17T15:05:59.085Z"
   },
   {
    "duration": 400,
    "start_time": "2022-04-17T15:06:06.005Z"
   },
   {
    "duration": 32,
    "start_time": "2022-04-17T15:06:15.357Z"
   },
   {
    "duration": 17,
    "start_time": "2022-04-17T15:06:20.559Z"
   },
   {
    "duration": 18,
    "start_time": "2022-04-17T15:06:22.724Z"
   },
   {
    "duration": 7,
    "start_time": "2022-04-17T15:06:26.909Z"
   },
   {
    "duration": 6,
    "start_time": "2022-04-17T15:06:35.885Z"
   },
   {
    "duration": 18,
    "start_time": "2022-04-17T15:07:13.404Z"
   },
   {
    "duration": 15,
    "start_time": "2022-04-17T15:07:28.621Z"
   },
   {
    "duration": 12,
    "start_time": "2022-04-17T15:08:03.261Z"
   },
   {
    "duration": 4011,
    "start_time": "2022-04-17T15:09:28.183Z"
   },
   {
    "duration": 823,
    "start_time": "2022-04-17T15:09:38.101Z"
   },
   {
    "duration": 1101,
    "start_time": "2022-04-17T15:09:56.539Z"
   },
   {
    "duration": 197,
    "start_time": "2022-04-17T15:10:32.661Z"
   },
   {
    "duration": 19,
    "start_time": "2022-04-17T15:10:39.774Z"
   },
   {
    "duration": 8,
    "start_time": "2022-04-17T15:10:52.397Z"
   },
   {
    "duration": 13,
    "start_time": "2022-04-17T15:10:55.309Z"
   },
   {
    "duration": 16,
    "start_time": "2022-04-17T15:11:08.412Z"
   },
   {
    "duration": 7,
    "start_time": "2022-04-17T15:11:39.445Z"
   },
   {
    "duration": 6,
    "start_time": "2022-04-17T15:11:49.036Z"
   },
   {
    "duration": 6,
    "start_time": "2022-04-17T15:24:22.283Z"
   },
   {
    "duration": 452,
    "start_time": "2022-04-17T15:24:26.124Z"
   },
   {
    "duration": 437,
    "start_time": "2022-04-17T15:24:59.722Z"
   },
   {
    "duration": 730,
    "start_time": "2022-04-17T15:25:07.738Z"
   },
   {
    "duration": 425,
    "start_time": "2022-04-17T15:25:23.040Z"
   },
   {
    "duration": 437,
    "start_time": "2022-04-17T15:25:26.315Z"
   },
   {
    "duration": 366,
    "start_time": "2022-04-17T15:25:40.274Z"
   },
   {
    "duration": 29,
    "start_time": "2022-04-17T15:25:44.691Z"
   },
   {
    "duration": 16,
    "start_time": "2022-04-17T15:25:48.307Z"
   },
   {
    "duration": 16,
    "start_time": "2022-04-17T15:25:50.684Z"
   },
   {
    "duration": 7,
    "start_time": "2022-04-17T15:25:53.851Z"
   },
   {
    "duration": 17,
    "start_time": "2022-04-17T15:26:17.771Z"
   },
   {
    "duration": 3875,
    "start_time": "2022-04-17T15:26:29.828Z"
   },
   {
    "duration": 730,
    "start_time": "2022-04-17T15:26:37.587Z"
   },
   {
    "duration": 1257,
    "start_time": "2022-04-17T15:26:58.292Z"
   },
   {
    "duration": 264,
    "start_time": "2022-04-17T15:27:07.523Z"
   },
   {
    "duration": 57,
    "start_time": "2022-04-17T15:27:13.507Z"
   },
   {
    "duration": 22,
    "start_time": "2022-04-17T15:27:33.251Z"
   },
   {
    "duration": 44,
    "start_time": "2022-04-17T15:28:41.123Z"
   },
   {
    "duration": 20,
    "start_time": "2022-04-17T15:28:44.243Z"
   },
   {
    "duration": 8,
    "start_time": "2022-04-17T15:28:51.676Z"
   },
   {
    "duration": 10,
    "start_time": "2022-04-17T15:28:53.795Z"
   },
   {
    "duration": 7,
    "start_time": "2022-04-17T15:29:00.347Z"
   },
   {
    "duration": 12658,
    "start_time": "2022-04-17T15:30:18.259Z"
   },
   {
    "duration": 1205425,
    "start_time": "2022-04-17T15:30:30.920Z"
   },
   {
    "duration": 4243,
    "start_time": "2022-04-17T15:50:36.347Z"
   },
   {
    "duration": 93832,
    "start_time": "2022-04-17T15:57:56.250Z"
   },
   {
    "duration": 1607,
    "start_time": "2022-04-18T06:27:22.465Z"
   },
   {
    "duration": 1401,
    "start_time": "2022-04-18T08:32:58.442Z"
   },
   {
    "duration": 525,
    "start_time": "2022-04-18T08:32:59.844Z"
   },
   {
    "duration": 306,
    "start_time": "2022-04-18T08:33:00.370Z"
   },
   {
    "duration": 225,
    "start_time": "2022-04-18T08:33:00.678Z"
   },
   {
    "duration": 17,
    "start_time": "2022-04-18T08:33:00.905Z"
   },
   {
    "duration": 36,
    "start_time": "2022-04-18T08:33:00.924Z"
   },
   {
    "duration": 11,
    "start_time": "2022-04-18T08:33:00.962Z"
   },
   {
    "duration": 22,
    "start_time": "2022-04-18T08:33:00.975Z"
   },
   {
    "duration": 35,
    "start_time": "2022-04-18T08:33:00.999Z"
   },
   {
    "duration": 11,
    "start_time": "2022-04-18T08:33:01.037Z"
   },
   {
    "duration": 2173,
    "start_time": "2022-04-18T08:33:01.049Z"
   },
   {
    "duration": 401,
    "start_time": "2022-04-18T08:33:03.223Z"
   },
   {
    "duration": 702,
    "start_time": "2022-04-18T08:33:03.625Z"
   },
   {
    "duration": 165,
    "start_time": "2022-04-18T08:33:04.329Z"
   },
   {
    "duration": 33,
    "start_time": "2022-04-18T08:33:04.495Z"
   },
   {
    "duration": 26,
    "start_time": "2022-04-18T08:33:04.529Z"
   },
   {
    "duration": 6,
    "start_time": "2022-04-18T08:33:04.556Z"
   },
   {
    "duration": 10,
    "start_time": "2022-04-18T08:33:04.564Z"
   },
   {
    "duration": 4,
    "start_time": "2022-04-18T08:33:04.576Z"
   },
   {
    "duration": 9066,
    "start_time": "2022-04-18T08:33:04.582Z"
   },
   {
    "duration": 847659,
    "start_time": "2022-04-18T08:33:13.650Z"
   },
   {
    "duration": 3144,
    "start_time": "2022-04-18T08:47:21.310Z"
   },
   {
    "duration": 66470,
    "start_time": "2022-04-18T08:47:24.456Z"
   },
   {
    "duration": 109,
    "start_time": "2022-04-18T09:02:40.147Z"
   },
   {
    "duration": 40,
    "start_time": "2022-04-18T09:03:14.614Z"
   },
   {
    "duration": 10,
    "start_time": "2022-04-18T09:06:10.948Z"
   },
   {
    "duration": 107,
    "start_time": "2022-04-18T09:06:34.048Z"
   },
   {
    "duration": 208,
    "start_time": "2022-04-18T09:06:45.741Z"
   },
   {
    "duration": 306,
    "start_time": "2022-04-18T09:06:49.343Z"
   },
   {
    "duration": 235,
    "start_time": "2022-04-18T09:08:40.623Z"
   },
   {
    "duration": 226,
    "start_time": "2022-04-18T09:09:44.524Z"
   },
   {
    "duration": 214,
    "start_time": "2022-04-18T09:13:32.435Z"
   },
   {
    "duration": 358,
    "start_time": "2022-04-18T09:14:22.396Z"
   },
   {
    "duration": 306,
    "start_time": "2022-04-18T09:15:50.042Z"
   },
   {
    "duration": 250,
    "start_time": "2022-04-18T09:16:07.101Z"
   },
   {
    "duration": 174,
    "start_time": "2022-04-18T09:16:47.279Z"
   },
   {
    "duration": 253,
    "start_time": "2022-04-18T09:17:16.196Z"
   },
   {
    "duration": 229,
    "start_time": "2022-04-18T09:17:28.520Z"
   },
   {
    "duration": 254,
    "start_time": "2022-04-18T09:18:01.495Z"
   },
   {
    "duration": 407,
    "start_time": "2022-04-18T09:20:16.342Z"
   },
   {
    "duration": 235,
    "start_time": "2022-04-18T09:22:48.225Z"
   },
   {
    "duration": 158,
    "start_time": "2022-04-18T09:23:32.197Z"
   },
   {
    "duration": 132,
    "start_time": "2022-04-18T09:24:00.418Z"
   },
   {
    "duration": 286,
    "start_time": "2022-04-18T09:24:26.369Z"
   },
   {
    "duration": 248,
    "start_time": "2022-04-18T09:24:56.501Z"
   },
   {
    "duration": 114,
    "start_time": "2022-04-18T09:25:05.442Z"
   },
   {
    "duration": 184,
    "start_time": "2022-04-18T09:25:15.665Z"
   },
   {
    "duration": 148,
    "start_time": "2022-04-18T09:25:34.100Z"
   },
   {
    "duration": 266,
    "start_time": "2022-04-18T09:25:55.384Z"
   },
   {
    "duration": 259,
    "start_time": "2022-04-18T09:26:03.394Z"
   },
   {
    "duration": 214,
    "start_time": "2022-04-18T09:26:17.036Z"
   },
   {
    "duration": 296,
    "start_time": "2022-04-18T09:27:09.455Z"
   },
   {
    "duration": 214,
    "start_time": "2022-04-18T09:27:25.435Z"
   },
   {
    "duration": 177,
    "start_time": "2022-04-18T09:27:40.074Z"
   },
   {
    "duration": 4,
    "start_time": "2022-04-18T09:30:35.631Z"
   },
   {
    "duration": 5,
    "start_time": "2022-04-18T09:31:21.344Z"
   },
   {
    "duration": 42,
    "start_time": "2022-04-18T10:26:54.053Z"
   },
   {
    "duration": 1531,
    "start_time": "2022-04-18T10:31:07.731Z"
   },
   {
    "duration": 718,
    "start_time": "2022-04-18T10:31:09.264Z"
   },
   {
    "duration": 1265,
    "start_time": "2022-04-18T10:31:09.984Z"
   },
   {
    "duration": 220,
    "start_time": "2022-04-18T10:31:11.251Z"
   },
   {
    "duration": 17,
    "start_time": "2022-04-18T10:31:11.472Z"
   },
   {
    "duration": 33,
    "start_time": "2022-04-18T10:31:11.491Z"
   },
   {
    "duration": 12,
    "start_time": "2022-04-18T10:31:11.525Z"
   },
   {
    "duration": 4,
    "start_time": "2022-04-18T10:31:11.538Z"
   },
   {
    "duration": 5,
    "start_time": "2022-04-18T10:31:11.543Z"
   },
   {
    "duration": 15,
    "start_time": "2022-04-18T10:31:11.551Z"
   },
   {
    "duration": 10,
    "start_time": "2022-04-18T10:31:11.568Z"
   },
   {
    "duration": 2159,
    "start_time": "2022-04-18T10:31:11.580Z"
   },
   {
    "duration": 406,
    "start_time": "2022-04-18T10:31:13.740Z"
   },
   {
    "duration": 702,
    "start_time": "2022-04-18T10:31:14.148Z"
   },
   {
    "duration": 158,
    "start_time": "2022-04-18T10:31:14.852Z"
   },
   {
    "duration": 38,
    "start_time": "2022-04-18T10:31:15.012Z"
   },
   {
    "duration": 15,
    "start_time": "2022-04-18T10:31:15.052Z"
   },
   {
    "duration": 7,
    "start_time": "2022-04-18T10:31:15.070Z"
   },
   {
    "duration": 12,
    "start_time": "2022-04-18T10:31:15.078Z"
   },
   {
    "duration": 32,
    "start_time": "2022-04-18T10:31:15.092Z"
   },
   {
    "duration": 7339,
    "start_time": "2022-04-18T10:31:15.125Z"
   },
   {
    "duration": 728261,
    "start_time": "2022-04-18T10:31:22.466Z"
   },
   {
    "duration": 2809,
    "start_time": "2022-04-18T10:43:30.729Z"
   },
   {
    "duration": 57820,
    "start_time": "2022-04-18T10:43:33.625Z"
   },
   {
    "duration": 8,
    "start_time": "2022-04-18T10:44:31.448Z"
   },
   {
    "duration": 5,
    "start_time": "2022-04-18T10:44:31.457Z"
   },
   {
    "duration": 612,
    "start_time": "2022-04-18T10:44:31.464Z"
   }
  ],
  "kernelspec": {
   "display_name": "Python 3 (ipykernel)",
   "language": "python",
   "name": "python3"
  },
  "language_info": {
   "codemirror_mode": {
    "name": "ipython",
    "version": 3
   },
   "file_extension": ".py",
   "mimetype": "text/x-python",
   "name": "python",
   "nbconvert_exporter": "python",
   "pygments_lexer": "ipython3",
   "version": "3.9.5"
  },
  "toc": {
   "base_numbering": 1,
   "nav_menu": {},
   "number_sections": true,
   "sideBar": true,
   "skip_h1_title": true,
   "title_cell": "Содержание",
   "title_sidebar": "Contents",
   "toc_cell": false,
   "toc_position": {
    "height": "calc(100% - 180px)",
    "left": "10px",
    "top": "150px",
    "width": "366.391px"
   },
   "toc_section_display": true,
   "toc_window_display": true
  }
 },
 "nbformat": 4,
 "nbformat_minor": 2
}
