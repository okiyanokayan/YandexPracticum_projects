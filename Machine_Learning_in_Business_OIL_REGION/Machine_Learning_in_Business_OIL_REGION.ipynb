{
 "cells": [
  {
   "cell_type": "markdown",
   "metadata": {},
   "source": [
    "<a id='startpage'></a>"
   ]
  },
  {
   "cell_type": "markdown",
   "metadata": {},
   "source": [
    "# Выбор локации для скважины"
   ]
  },
  {
   "cell_type": "markdown",
   "metadata": {},
   "source": [
    "**Описание:**\n",
    "\n",
    "Перед добывающей компанией «ГлавРосГосНефть» стоит вопрос: опеделить, где бурить новую скважину.\n",
    "В нашем распоряжении пробы нефти в трёх регионах: в каждом 10 000 месторождений, где измерено качество нефти и объём её запасов. \n",
    "\n",
    "**Задача:**\n",
    "- Построить модель машинного обучения, которая поможет определить регион, где добыча принесёт наибольшую прибыль.\n",
    "- Проанализировать возможную прибыль и риски техникой *Bootstrap.*\n",
    "\n",
    "Шаги для выбора локации:\n",
    "\n",
    "- В избранном регионе ищут месторождения, для каждого определяют значения признаков;\n",
    "- Строят модель и оценивают объём запасов;\n",
    "- Выбирают месторождения с самым высокими оценками значений. Количество месторождений зависит от бюджета компании и стоимости разработки одной скважины;\n",
    "- Прибыль равна суммарной прибыли отобранных месторождений."
   ]
  },
  {
   "cell_type": "markdown",
   "metadata": {},
   "source": [
    "## Загрузка и подготовка данных"
   ]
  },
  {
   "cell_type": "markdown",
   "metadata": {},
   "source": [
    "### Описание данных\n",
    "\n",
    "*\tid — уникальный идентификатор скважины;\n",
    "*\tf0, f1, f2 — три признака точек (неважно, что они означают, но сами признаки значимы);\n",
    "*\tproduct — объём запасов в скважине (тыс. баррелей).\n",
    "\n",
    "**Условия задачи:**\n",
    "Для обучения модели подходит только линейная регрессия (остальные — недостаточно предсказуемые).\n",
    "\n",
    "При разведке региона исследуют 500 точек, из которых с помощью машинного обучения выбирают 200 лучших для разработки.\n",
    "\n",
    "Бюджет на разработку скважин в регионе — 10 млрд рублей.\n",
    "\n",
    "При нынешних ценах один баррель сырья приносит 450 рублей дохода. Доход с каждой единицы продукта составляет 450 тыс. рублей, поскольку объём указан в тысячах баррелей.\n",
    "\n",
    "После оценки рисков нужно оставить лишь те регионы, в которых вероятность убытков меньше 2.5%. Среди них выбирают регион с наибольшей средней прибылью.\n",
    "\n",
    "Данные синтетические: детали контрактов и характеристики месторождений не разглашаются."
   ]
  },
  {
   "cell_type": "code",
   "execution_count": 1,
   "metadata": {},
   "outputs": [],
   "source": [
    "import pandas as pd\n",
    "import numpy as np\n",
    "\n",
    "from IPython.display import display\n",
    "\n",
    "import scipy.stats as st\n",
    "\n",
    "from sklearn.linear_model import LinearRegression\n",
    "\n",
    "from sklearn.metrics import mean_squared_error\n",
    "from sklearn.model_selection import train_test_split\n",
    "from sklearn.preprocessing import MinMaxScaler\n",
    "\n",
    "import matplotlib.pyplot as plt\n",
    "import seaborn as sns\n",
    "\n",
    "import warnings\n",
    "warnings.filterwarnings(\"ignore\")"
   ]
  },
  {
   "cell_type": "code",
   "execution_count": 2,
   "metadata": {
    "scrolled": true
   },
   "outputs": [
    {
     "data": {
      "text/html": [
       "<div>\n",
       "<style scoped>\n",
       "    .dataframe tbody tr th:only-of-type {\n",
       "        vertical-align: middle;\n",
       "    }\n",
       "\n",
       "    .dataframe tbody tr th {\n",
       "        vertical-align: top;\n",
       "    }\n",
       "\n",
       "    .dataframe thead th {\n",
       "        text-align: right;\n",
       "    }\n",
       "</style>\n",
       "<table border=\"1\" class=\"dataframe\">\n",
       "  <thead>\n",
       "    <tr style=\"text-align: right;\">\n",
       "      <th></th>\n",
       "      <th>id</th>\n",
       "      <th>f0</th>\n",
       "      <th>f1</th>\n",
       "      <th>f2</th>\n",
       "      <th>product</th>\n",
       "    </tr>\n",
       "  </thead>\n",
       "  <tbody>\n",
       "    <tr>\n",
       "      <th>99995</th>\n",
       "      <td>DLsed</td>\n",
       "      <td>0.971957</td>\n",
       "      <td>0.370953</td>\n",
       "      <td>6.075346</td>\n",
       "      <td>110.744026</td>\n",
       "    </tr>\n",
       "    <tr>\n",
       "      <th>99996</th>\n",
       "      <td>QKivN</td>\n",
       "      <td>1.392429</td>\n",
       "      <td>-0.382606</td>\n",
       "      <td>1.273912</td>\n",
       "      <td>122.346843</td>\n",
       "    </tr>\n",
       "    <tr>\n",
       "      <th>99997</th>\n",
       "      <td>3rnvd</td>\n",
       "      <td>1.029585</td>\n",
       "      <td>0.018787</td>\n",
       "      <td>-1.348308</td>\n",
       "      <td>64.375443</td>\n",
       "    </tr>\n",
       "    <tr>\n",
       "      <th>99998</th>\n",
       "      <td>7kl59</td>\n",
       "      <td>0.998163</td>\n",
       "      <td>-0.528582</td>\n",
       "      <td>1.583869</td>\n",
       "      <td>74.040764</td>\n",
       "    </tr>\n",
       "    <tr>\n",
       "      <th>99999</th>\n",
       "      <td>1CWhH</td>\n",
       "      <td>1.764754</td>\n",
       "      <td>-0.266417</td>\n",
       "      <td>5.722849</td>\n",
       "      <td>149.633246</td>\n",
       "    </tr>\n",
       "  </tbody>\n",
       "</table>\n",
       "</div>"
      ],
      "text/plain": [
       "          id        f0        f1        f2     product\n",
       "99995  DLsed  0.971957  0.370953  6.075346  110.744026\n",
       "99996  QKivN  1.392429 -0.382606  1.273912  122.346843\n",
       "99997  3rnvd  1.029585  0.018787 -1.348308   64.375443\n",
       "99998  7kl59  0.998163 -0.528582  1.583869   74.040764\n",
       "99999  1CWhH  1.764754 -0.266417  5.722849  149.633246"
      ]
     },
     "execution_count": 2,
     "metadata": {},
     "output_type": "execute_result"
    }
   ],
   "source": [
    "data_1 = pd.read_csv('/datasets/geo_data_0.csv')\n",
    "data_2 = pd.read_csv('/datasets/geo_data_1.csv')\n",
    "data_3 = pd.read_csv('/datasets/geo_data_2.csv')\n",
    "data_1.tail(5)"
   ]
  },
  {
   "cell_type": "markdown",
   "metadata": {},
   "source": [
    "Изучим данные каждой таблицы."
   ]
  },
  {
   "cell_type": "code",
   "execution_count": 3,
   "metadata": {},
   "outputs": [],
   "source": [
    "def overview(data):\n",
    "    print(data.sample(3), \"\\n\")\n",
    "    print(data.info(), \"\\n\")\n",
    "    print(data.describe(), \"\\n\")\n",
    "    print(\"Сумма пропусков:\", data.isna().sum(), \"\\n\")\n",
    "    print(\"Дубликаты:\", data.duplicated().sum(), \"\\n\")\n",
    "    print(\"Распределение признаков:\")\n",
    "    data[[\"f0\",\"f1\",\"f2\", \"product\"]].hist(bins=25)\n",
    "    plt.show()\n",
    "    print(\"Матрица корреляции:\")\n",
    "    corr_matrix = data.corr()\n",
    "    sns.heatmap(corr_matrix);"
   ]
  },
  {
   "cell_type": "code",
   "execution_count": 4,
   "metadata": {
    "scrolled": false
   },
   "outputs": [
    {
     "name": "stdout",
     "output_type": "stream",
     "text": [
      "          id        f0        f1        f2    product\n",
      "63433  uX9lM  1.741666 -0.311820  2.064832  77.591459\n",
      "31116  bVJtr  1.549832 -0.208999 -0.667315  32.868619\n",
      "74474  Jr20v -0.758084  0.462766 -2.272479  33.935700 \n",
      "\n",
      "<class 'pandas.core.frame.DataFrame'>\n",
      "RangeIndex: 100000 entries, 0 to 99999\n",
      "Data columns (total 5 columns):\n",
      " #   Column   Non-Null Count   Dtype  \n",
      "---  ------   --------------   -----  \n",
      " 0   id       100000 non-null  object \n",
      " 1   f0       100000 non-null  float64\n",
      " 2   f1       100000 non-null  float64\n",
      " 3   f2       100000 non-null  float64\n",
      " 4   product  100000 non-null  float64\n",
      "dtypes: float64(4), object(1)\n",
      "memory usage: 3.8+ MB\n",
      "None \n",
      "\n",
      "                  f0             f1             f2        product\n",
      "count  100000.000000  100000.000000  100000.000000  100000.000000\n",
      "mean        0.500419       0.250143       2.502647      92.500000\n",
      "std         0.871832       0.504433       3.248248      44.288691\n",
      "min        -1.408605      -0.848218     -12.088328       0.000000\n",
      "25%        -0.072580      -0.200881       0.287748      56.497507\n",
      "50%         0.502360       0.250252       2.515969      91.849972\n",
      "75%         1.073581       0.700646       4.715088     128.564089\n",
      "max         2.362331       1.343769      16.003790     185.364347 \n",
      "\n",
      "Сумма пропусков: id         0\n",
      "f0         0\n",
      "f1         0\n",
      "f2         0\n",
      "product    0\n",
      "dtype: int64 \n",
      "\n",
      "Дубликаты: 0 \n",
      "\n",
      "Распределение признаков:\n"
     ]
    },
    {
     "data": {
      "image/png": "[encoded data removed]",
      "text/plain": [
       "<Figure size 432x288 with 4 Axes>"
      ]
     },
     "metadata": {
      "needs_background": "light"
     },
     "output_type": "display_data"
    },
    {
     "name": "stdout",
     "output_type": "stream",
     "text": [
      "Матрица корреляции:\n"
     ]
    },
    {
     "data": {
      "image/png": "[encoded data removed]",
      "text/plain": [
       "<Figure size 432x288 with 2 Axes>"
      ]
     },
     "metadata": {
      "needs_background": "light"
     },
     "output_type": "display_data"
    }
   ],
   "source": [
    "overview(data_1)"
   ]
  },
  {
   "cell_type": "markdown",
   "metadata": {},
   "source": [
    "Мы наблюдаем слабую корреляцию между целеым признаком `product` и `f2`. Корреляция между признаками  не выявлена."
   ]
  },
  {
   "cell_type": "code",
   "execution_count": 5,
   "metadata": {
    "scrolled": false
   },
   "outputs": [
    {
     "name": "stdout",
     "output_type": "stream",
     "text": [
      "          id         f0        f1        f2    product\n",
      "93428  Fe9A6  -4.781584 -5.973907  0.989196  30.132364\n",
      "29523  oONre  17.791392 -5.103071  1.003086  26.953261\n",
      "91175  lSWZO   5.576384 -2.204314  1.996439  53.906522 \n",
      "\n",
      "<class 'pandas.core.frame.DataFrame'>\n",
      "RangeIndex: 100000 entries, 0 to 99999\n",
      "Data columns (total 5 columns):\n",
      " #   Column   Non-Null Count   Dtype  \n",
      "---  ------   --------------   -----  \n",
      " 0   id       100000 non-null  object \n",
      " 1   f0       100000 non-null  float64\n",
      " 2   f1       100000 non-null  float64\n",
      " 3   f2       100000 non-null  float64\n",
      " 4   product  100000 non-null  float64\n",
      "dtypes: float64(4), object(1)\n",
      "memory usage: 3.8+ MB\n",
      "None \n",
      "\n",
      "                  f0             f1             f2        product\n",
      "count  100000.000000  100000.000000  100000.000000  100000.000000\n",
      "mean        1.141296      -4.796579       2.494541      68.825000\n",
      "std         8.965932       5.119872       1.703572      45.944423\n",
      "min       -31.609576     -26.358598      -0.018144       0.000000\n",
      "25%        -6.298551      -8.267985       1.000021      26.953261\n",
      "50%         1.153055      -4.813172       2.011479      57.085625\n",
      "75%         8.621015      -1.332816       3.999904     107.813044\n",
      "max        29.421755      18.734063       5.019721     137.945408 \n",
      "\n",
      "Сумма пропусков: id         0\n",
      "f0         0\n",
      "f1         0\n",
      "f2         0\n",
      "product    0\n",
      "dtype: int64 \n",
      "\n",
      "Дубликаты: 0 \n",
      "\n",
      "Распределение признаков:\n"
     ]
    },
    {
     "data": {
      "image/png": "[encoded data removed]",
      "text/plain": [
       "<Figure size 432x288 with 4 Axes>"
      ]
     },
     "metadata": {
      "needs_background": "light"
     },
     "output_type": "display_data"
    },
    {
     "name": "stdout",
     "output_type": "stream",
     "text": [
      "Матрица корреляции:\n"
     ]
    },
    {
     "data": {
      "image/png": "[encoded data removed]",
      "text/plain": [
       "<Figure size 432x288 with 2 Axes>"
      ]
     },
     "metadata": {
      "needs_background": "light"
     },
     "output_type": "display_data"
    }
   ],
   "source": [
    "overview(data_2)"
   ]
  },
  {
   "cell_type": "markdown",
   "metadata": {},
   "source": [
    "Мы наблюдаем весьма высокую силу связи между целевым признаком и `f2`, что показывает на важность признака."
   ]
  },
  {
   "cell_type": "code",
   "execution_count": 6,
   "metadata": {
    "scrolled": false
   },
   "outputs": [
    {
     "name": "stdout",
     "output_type": "stream",
     "text": [
      "          id        f0        f1        f2     product\n",
      "63895  icg6q  1.361000  0.536845  4.027827  100.105948\n",
      "919    9hB1V  1.479176 -0.567824  3.645993   56.003608\n",
      "59023  rR3uu  2.259767 -0.521430  0.965569  150.971075 \n",
      "\n",
      "<class 'pandas.core.frame.DataFrame'>\n",
      "RangeIndex: 100000 entries, 0 to 99999\n",
      "Data columns (total 5 columns):\n",
      " #   Column   Non-Null Count   Dtype  \n",
      "---  ------   --------------   -----  \n",
      " 0   id       100000 non-null  object \n",
      " 1   f0       100000 non-null  float64\n",
      " 2   f1       100000 non-null  float64\n",
      " 3   f2       100000 non-null  float64\n",
      " 4   product  100000 non-null  float64\n",
      "dtypes: float64(4), object(1)\n",
      "memory usage: 3.8+ MB\n",
      "None \n",
      "\n",
      "                  f0             f1             f2        product\n",
      "count  100000.000000  100000.000000  100000.000000  100000.000000\n",
      "mean        0.002023      -0.002081       2.495128      95.000000\n",
      "std         1.732045       1.730417       3.473445      44.749921\n",
      "min        -8.760004      -7.084020     -11.970335       0.000000\n",
      "25%        -1.162288      -1.174820       0.130359      59.450441\n",
      "50%         0.009424      -0.009482       2.484236      94.925613\n",
      "75%         1.158535       1.163678       4.858794     130.595027\n",
      "max         7.238262       7.844801      16.739402     190.029838 \n",
      "\n",
      "Сумма пропусков: id         0\n",
      "f0         0\n",
      "f1         0\n",
      "f2         0\n",
      "product    0\n",
      "dtype: int64 \n",
      "\n",
      "Дубликаты: 0 \n",
      "\n",
      "Распределение признаков:\n"
     ]
    },
    {
     "data": {
      "image/png": "[encoded data removed]",
      "text/plain": [
       "<Figure size 432x288 with 4 Axes>"
      ]
     },
     "metadata": {
      "needs_background": "light"
     },
     "output_type": "display_data"
    },
    {
     "name": "stdout",
     "output_type": "stream",
     "text": [
      "Матрица корреляции:\n"
     ]
    },
    {
     "data": {
      "image/png": "[encoded data removed]",
      "text/plain": [
       "<Figure size 432x288 with 2 Axes>"
      ]
     },
     "metadata": {
      "needs_background": "light"
     },
     "output_type": "display_data"
    }
   ],
   "source": [
    "overview(data_3)"
   ]
  },
  {
   "cell_type": "markdown",
   "metadata": {},
   "source": [
    "В данных нет пропусков, дубликаты не обнаружены. \n",
    "\n",
    "Признак `f2` значимый для нашего предсказания для второго региона (data_2).\n",
    "\n",
    "Распределение данных по гистограммам показывает, что первый (data_1) и третий (data_3) регионы достаточно похожи по распределению целевого признака, а вот во втором (data_2) картина другая: распределение близко к равномерному с выбросами по краям.\n",
    "\n",
    "Каждый признак распределен симметрично.\n",
    "\n",
    "Разброс значений в признаках небольшой, масштабирование применять не будем."
   ]
  },
  {
   "cell_type": "markdown",
   "metadata": {},
   "source": [
    "## Обучение и проверка модели"
   ]
  },
  {
   "cell_type": "markdown",
   "metadata": {},
   "source": [
    "Напишем функцию."
   ]
  },
  {
   "cell_type": "code",
   "execution_count": 7,
   "metadata": {},
   "outputs": [],
   "source": [
    "def training(data):\n",
    "    \"\"\"\n",
    "    Функция принимает на вход данные.\n",
    "    Оставляет нужные признаки.\n",
    "    Делит данные на обучающую и валидационную(тестовую) выборки.\n",
    "    Обучает линейную модель.\n",
    "    Расчитывает rmse и средний запас предсказанного сырья.\n",
    "    Возвращает tuple с предсказаниями, labels, rmse\n",
    "    \"\"\"\n",
    "    \n",
    "    features = data.drop([\"product\",\"id\"], axis=1)\n",
    "    target = data[\"product\"]\n",
    "    features_train, features_valid, target_train, target_valid = train_test_split(features,\n",
    "                                                                                  target, test_size=0.25, random_state=12345)\n",
    "    model_lg = LinearRegression()\n",
    "    model_lg.fit(features_train, target_train)\n",
    "    predictions = model_lg.predict(features_valid)\n",
    "    predictions = pd.Series(predictions)\n",
    "    rmse = mean_squared_error(predictions, target_valid)**0.5\n",
    "    average_product = sum(predictions) / len(predictions)\n",
    "    \n",
    "    print(\"RMSE: {0:.2f}\".format(rmse))\n",
    "    print(\"Average product: {0:.2f}\".format(average_product))\n",
    "    \n",
    "    return (predictions, target_valid.reset_index(drop=True), rmse)"
   ]
  },
  {
   "cell_type": "markdown",
   "metadata": {},
   "source": [
    "Сделаем расчеты `RMSE` и `Average product` для наших данных"
   ]
  },
  {
   "cell_type": "code",
   "execution_count": 8,
   "metadata": {
    "scrolled": true
   },
   "outputs": [
    {
     "name": "stdout",
     "output_type": "stream",
     "text": [
      "Region 1:\n",
      "\n",
      "RMSE: 37.58\n",
      "Average product: 92.59\n",
      "\n",
      "\n",
      "\n",
      "Region 2:\n",
      "\n",
      "RMSE: 0.89\n",
      "Average product: 68.73\n",
      "\n",
      "\n",
      "\n",
      "Region 3:\n",
      "\n",
      "RMSE: 40.03\n",
      "Average product: 94.97\n",
      "\n",
      "\n",
      "\n"
     ]
    }
   ],
   "source": [
    "i = 1\n",
    "for region in [data_1, data_2, data_3]:\n",
    "    print(f\"Region {i}:\\n\")\n",
    "    training(region)\n",
    "    print(\"\\n\\n\")\n",
    "    i+=1"
   ]
  },
  {
   "cell_type": "markdown",
   "metadata": {},
   "source": [
    "Cохраним predictions, target_valid.reset_index(drop=True), rmse"
   ]
  },
  {
   "cell_type": "code",
   "execution_count": 9,
   "metadata": {
    "scrolled": false
   },
   "outputs": [
    {
     "name": "stdout",
     "output_type": "stream",
     "text": [
      "RMSE: 37.58\n",
      "Average product: 92.59\n",
      "RMSE: 0.89\n",
      "Average product: 68.73\n",
      "RMSE: 40.03\n",
      "Average product: 94.97\n"
     ]
    }
   ],
   "source": [
    "predictions_1, target_valid_1, rmse_1 = training(data_1)\n",
    "predictions_2, target_valid_2, rmse_2 = training(data_2)\n",
    "predictions_3, target_valid_3, rmse_3 = training(data_3)"
   ]
  },
  {
   "cell_type": "markdown",
   "metadata": {},
   "source": [
    "Внесем результаты в таблицу `summary_1` для наглядности."
   ]
  },
  {
   "cell_type": "code",
   "execution_count": 10,
   "metadata": {},
   "outputs": [
    {
     "data": {
      "text/html": [
       "<div>\n",
       "<style scoped>\n",
       "    .dataframe tbody tr th:only-of-type {\n",
       "        vertical-align: middle;\n",
       "    }\n",
       "\n",
       "    .dataframe tbody tr th {\n",
       "        vertical-align: top;\n",
       "    }\n",
       "\n",
       "    .dataframe thead th {\n",
       "        text-align: right;\n",
       "    }\n",
       "</style>\n",
       "<table border=\"1\" class=\"dataframe\">\n",
       "  <thead>\n",
       "    <tr style=\"text-align: right;\">\n",
       "      <th></th>\n",
       "      <th></th>\n",
       "      <th>RMSE</th>\n",
       "      <th>Average product</th>\n",
       "    </tr>\n",
       "  </thead>\n",
       "  <tbody>\n",
       "    <tr>\n",
       "      <th>0</th>\n",
       "      <td>Region 1</td>\n",
       "      <td>37.58</td>\n",
       "      <td>92.59</td>\n",
       "    </tr>\n",
       "    <tr>\n",
       "      <th>1</th>\n",
       "      <td>Region 2</td>\n",
       "      <td>0.89</td>\n",
       "      <td>68.73</td>\n",
       "    </tr>\n",
       "    <tr>\n",
       "      <th>2</th>\n",
       "      <td>Region 3</td>\n",
       "      <td>40.03</td>\n",
       "      <td>94.97</td>\n",
       "    </tr>\n",
       "  </tbody>\n",
       "</table>\n",
       "</div>"
      ],
      "text/plain": [
       "              RMSE  Average product\n",
       "0  Region 1  37.58            92.59\n",
       "1  Region 2   0.89            68.73\n",
       "2  Region 3  40.03            94.97"
      ]
     },
     "execution_count": 10,
     "metadata": {},
     "output_type": "execute_result"
    }
   ],
   "source": [
    "summary_1 = pd.DataFrame(data = [['Region 1', 37.58, 92.59],\n",
    "                                 ['Region 2', 0.89, 68.73],\n",
    "                               ['Region 3', 40.03, 94.97]], \n",
    "                     columns = ['', 'RMSE', 'Average product'])\n",
    "summary_1"
   ]
  },
  {
   "cell_type": "markdown",
   "metadata": {},
   "source": [
    "RMSE и Average product первого и третьего региона близки, а второго - различны. Как мы видели выше: распределение данных по гистограммам показало отличное от остальных распределение целевого признака во втором регионе."
   ]
  },
  {
   "cell_type": "markdown",
   "metadata": {},
   "source": [
    "## Подготовка к расчёту прибыли"
   ]
  },
  {
   "cell_type": "markdown",
   "metadata": {},
   "source": [
    "Точка безубыточности - объем продаж, при котором прибыль компании равна нулю."
   ]
  },
  {
   "attachments": {
    "image.png": {
     "image/png": "[encoded data removed]"
    }
   },
   "cell_type": "markdown",
   "metadata": {},
   "source": [
    "![image.png](attachment:image.png)"
   ]
  },
  {
   "cell_type": "code",
   "execution_count": 11,
   "metadata": {
    "scrolled": true
   },
   "outputs": [
    {
     "name": "stdout",
     "output_type": "stream",
     "text": [
      "Точка безубыточности: 111 тыс. баррелей\n"
     ]
    }
   ],
   "source": [
    "budget = 10**10 # бюджет\n",
    "income_per_bar = 45*10**4 # доход за баррель нефти\n",
    "points = 200 # кол-во точек\n",
    "k = budget/points/income_per_bar\n",
    "price_ = budget / income_per_bar\n",
    "print(\"Точка безубыточности: {0:.0f} тыс. баррелей\".format(k))"
   ]
  },
  {
   "cell_type": "markdown",
   "metadata": {},
   "source": [
    "**Средний запас сырья для каждого исследуемого региона меньше, чем точка безубыточности.**"
   ]
  },
  {
   "cell_type": "markdown",
   "metadata": {},
   "source": [
    "## Расчёт прибыли и рисков "
   ]
  },
  {
   "cell_type": "markdown",
   "metadata": {},
   "source": [
    "### Функция и расчёт прибыли по выбранным скважинам и предсказаниям модели"
   ]
  },
  {
   "cell_type": "code",
   "execution_count": 12,
   "metadata": {},
   "outputs": [],
   "source": [
    "def profit_calculation(predictions, target_valid, count):\n",
    "    \"\"\"\n",
    "    Функция принимает на вход фактические и прогнозные значения\n",
    "    объема сырья и количество точек.\n",
    "    Возвращает фактическую прибыль по лучшим прогнозным точкам.\n",
    "    \"\"\"\n",
    "    top_predictions = predictions.sort_values(ascending=False)\n",
    "    top_target = target_valid[top_predictions.index][:count]\n",
    "    revenue = top_target.sum() * income_per_bar\n",
    "    return (revenue - budget)"
   ]
  },
  {
   "cell_type": "code",
   "execution_count": 13,
   "metadata": {},
   "outputs": [
    {
     "name": "stdout",
     "output_type": "stream",
     "text": [
      "Фактическая прибыль, руб.:\n",
      "регион 1: 3320826043.1398506\n",
      "регион 2: 2415086696.681511\n",
      "регион 3: 2710349963.5998325\n"
     ]
    }
   ],
   "source": [
    "print('Фактическая прибыль, руб.:\\nрегион 1:', profit_calculation(predictions_1, target_valid_1, points))\n",
    "print('регион 2:', profit_calculation(predictions_2, target_valid_2, points))\n",
    "print('регион 3:', profit_calculation(predictions_3, target_valid_3, points))"
   ]
  },
  {
   "cell_type": "markdown",
   "metadata": {},
   "source": [
    "### Расчет рисков и прибыли для каждого региона"
   ]
  },
  {
   "cell_type": "code",
   "execution_count": 14,
   "metadata": {},
   "outputs": [
    {
     "name": "stdout",
     "output_type": "stream",
     "text": [
      "Region 1:\n",
      "Средняя прогнозная прибыль, руб.: 425938526\n",
      "95% доверительный интервал: (-102090094, 947976353)\n",
      "Риск убытков: 6.0\n",
      "\n",
      "\n",
      "\n",
      "Region 2:\n",
      "Средняя прогнозная прибыль, руб.: 518259493\n",
      "95% доверительный интервал: (128123231, 953612982)\n",
      "Риск убытков: 0.3\n",
      "\n",
      "\n",
      "\n",
      "Region 3:\n",
      "Средняя прогнозная прибыль, руб.: 420194005\n",
      "95% доверительный интервал: (-115852609, 989629939)\n",
      "Риск убытков: 6.2\n",
      "\n",
      "\n",
      "\n"
     ]
    }
   ],
   "source": [
    "def profit_calculation(predictions, target_valid, count):\n",
    "    \"\"\"\n",
    "    Функция принимает на вход фактические и прогнозные значения\n",
    "    объема сырья и количество точек.\n",
    "    Возвращает фактическую прибыль по лучшим прогнозным точкам.\n",
    "    \"\"\"\n",
    "    top_predictions = predictions.sort_values(ascending=False)\n",
    "    top_target = target_valid[top_predictions.index][:count]\n",
    "    revenue = top_target.sum() * income_per_bar\n",
    "    return revenue - budget\n",
    "\n",
    "state = np.random.RandomState(12345)\n",
    "\n",
    "def result(predictions, target):\n",
    "    revenue = []\n",
    "    for i in range(1000):\n",
    "        target_sample = target.sample(500, replace=True, random_state=state)\n",
    "        predictions_sample = predictions[target_sample.index]\n",
    "        revenue.append(profit_calculation(predictions_sample, target_sample, points))   # подстановка функции profit_calculation\n",
    "\n",
    "    \n",
    "    lower = int(np.percentile(revenue, 2.5))\n",
    "    higher = int(np.percentile(revenue, 97.5))\n",
    "    mean_revenue = int(sum(revenue) / len(revenue))\n",
    "    risk = st.percentileofscore(revenue, 0)\n",
    "\n",
    "    return ((lower, higher), mean_revenue, risk)\n",
    "\n",
    "i = 1\n",
    "for preds, target in zip([predictions_1, predictions_2, predictions_3], \n",
    "                         [target_valid_1, target_valid_2, target_valid_3]):\n",
    "    interval, mean_revenue, risk = result(preds, target)\n",
    "    print(f\"Region {i}:\")\n",
    "    print(f\"Средняя прогнозная прибыль, руб.: {mean_revenue}\")\n",
    "    print(f\"95% доверительный интервал: {interval}\")\n",
    "    print(f\"Риск убытков: {risk}\")\n",
    "    print(\"\\n\\n\")\n",
    "    i+=1"
   ]
  },
  {
   "cell_type": "markdown",
   "metadata": {},
   "source": [
    "### Вывод\n",
    "\n",
    "Самым перспективным для разработки скважин представляется регион 2, в котором риски убытков наименьшие, а средняя прибыль наибольшая."
   ]
  },
  {
   "cell_type": "markdown",
   "metadata": {},
   "source": [
    "Вернуться в [начало](#startpage)."
   ]
  }
 ],
 "metadata": {
  "ExecuteTimeLog": [
   {
    "duration": 460,
    "start_time": "2022-04-11T20:35:18.190Z"
   },
   {
    "duration": 135,
    "start_time": "2022-04-11T20:36:03.330Z"
   },
   {
    "duration": 3,
    "start_time": "2022-04-11T20:36:19.054Z"
   },
   {
    "duration": 3,
    "start_time": "2022-04-11T20:36:29.359Z"
   },
   {
    "duration": 188,
    "start_time": "2022-04-11T20:36:37.288Z"
   },
   {
    "duration": 146,
    "start_time": "2022-04-11T20:36:46.408Z"
   },
   {
    "duration": 372,
    "start_time": "2022-04-11T20:38:01.793Z"
   },
   {
    "duration": 397,
    "start_time": "2022-04-11T20:40:52.222Z"
   },
   {
    "duration": 10,
    "start_time": "2022-04-11T20:51:56.109Z"
   },
   {
    "duration": 8,
    "start_time": "2022-04-11T20:52:45.190Z"
   },
   {
    "duration": 396,
    "start_time": "2022-04-11T20:52:55.356Z"
   },
   {
    "duration": 20,
    "start_time": "2022-04-11T20:52:59.278Z"
   },
   {
    "duration": 16,
    "start_time": "2022-04-11T20:53:26.119Z"
   },
   {
    "duration": 15,
    "start_time": "2022-04-11T20:54:09.743Z"
   },
   {
    "duration": 37,
    "start_time": "2022-04-11T20:54:44.343Z"
   },
   {
    "duration": 14,
    "start_time": "2022-04-11T20:55:38.360Z"
   },
   {
    "duration": 42,
    "start_time": "2022-04-11T20:56:09.831Z"
   },
   {
    "duration": 35,
    "start_time": "2022-04-11T20:56:14.536Z"
   },
   {
    "duration": 46,
    "start_time": "2022-04-11T20:57:32.839Z"
   },
   {
    "duration": 13,
    "start_time": "2022-04-11T20:58:42.022Z"
   },
   {
    "duration": 12,
    "start_time": "2022-04-11T20:59:17.407Z"
   },
   {
    "duration": 47,
    "start_time": "2022-04-11T20:59:27.711Z"
   },
   {
    "duration": 145,
    "start_time": "2022-04-11T21:03:49.055Z"
   },
   {
    "duration": 147,
    "start_time": "2022-04-11T21:05:53.550Z"
   },
   {
    "duration": 13,
    "start_time": "2022-04-11T21:09:34.070Z"
   },
   {
    "duration": 10,
    "start_time": "2022-04-11T21:10:18.934Z"
   },
   {
    "duration": 380,
    "start_time": "2022-04-11T21:13:49.515Z"
   },
   {
    "duration": 11,
    "start_time": "2022-04-11T21:13:55.516Z"
   },
   {
    "duration": 11,
    "start_time": "2022-04-11T21:14:50.484Z"
   },
   {
    "duration": 11,
    "start_time": "2022-04-11T21:17:40.804Z"
   },
   {
    "duration": 12,
    "start_time": "2022-04-11T21:22:24.850Z"
   },
   {
    "duration": 12,
    "start_time": "2022-04-11T21:23:52.916Z"
   },
   {
    "duration": 12,
    "start_time": "2022-04-11T21:26:34.244Z"
   },
   {
    "duration": 456,
    "start_time": "2022-04-11T21:26:43.383Z"
   },
   {
    "duration": 406,
    "start_time": "2022-04-11T21:26:43.841Z"
   },
   {
    "duration": 73,
    "start_time": "2022-04-11T21:26:44.248Z"
   },
   {
    "duration": 0,
    "start_time": "2022-04-11T21:26:44.323Z"
   },
   {
    "duration": 0,
    "start_time": "2022-04-11T21:26:44.324Z"
   },
   {
    "duration": 56,
    "start_time": "2022-04-11T21:27:39.308Z"
   },
   {
    "duration": 11,
    "start_time": "2022-04-11T21:27:47.819Z"
   },
   {
    "duration": 16,
    "start_time": "2022-04-11T21:33:25.636Z"
   },
   {
    "duration": 15,
    "start_time": "2022-04-11T21:33:55.587Z"
   },
   {
    "duration": 12,
    "start_time": "2022-04-11T21:34:21.795Z"
   },
   {
    "duration": 12,
    "start_time": "2022-04-11T21:34:39.146Z"
   },
   {
    "duration": 11,
    "start_time": "2022-04-11T21:36:39.946Z"
   },
   {
    "duration": 11,
    "start_time": "2022-04-11T21:38:11.667Z"
   },
   {
    "duration": 12,
    "start_time": "2022-04-11T21:39:07.282Z"
   },
   {
    "duration": 12,
    "start_time": "2022-04-11T21:39:15.562Z"
   },
   {
    "duration": 42,
    "start_time": "2022-04-11T21:39:37.690Z"
   },
   {
    "duration": 11,
    "start_time": "2022-04-11T21:39:59.554Z"
   },
   {
    "duration": 35,
    "start_time": "2022-04-11T21:40:22.810Z"
   },
   {
    "duration": 489,
    "start_time": "2022-04-11T21:43:21.250Z"
   },
   {
    "duration": 3,
    "start_time": "2022-04-11T21:44:12.874Z"
   },
   {
    "duration": 19,
    "start_time": "2022-04-11T21:51:11.319Z"
   },
   {
    "duration": 3,
    "start_time": "2022-04-11T21:51:13.921Z"
   },
   {
    "duration": 11,
    "start_time": "2022-04-11T21:51:16.288Z"
   },
   {
    "duration": 4,
    "start_time": "2022-04-11T21:51:59.625Z"
   },
   {
    "duration": 355,
    "start_time": "2022-04-11T21:52:01.976Z"
   },
   {
    "duration": 4,
    "start_time": "2022-04-11T21:52:46.129Z"
   },
   {
    "duration": 4,
    "start_time": "2022-04-11T21:52:51.344Z"
   },
   {
    "duration": 375,
    "start_time": "2022-04-11T21:52:53.121Z"
   },
   {
    "duration": 4,
    "start_time": "2022-04-11T21:53:08.744Z"
   },
   {
    "duration": 319,
    "start_time": "2022-04-11T21:53:10.912Z"
   },
   {
    "duration": 4,
    "start_time": "2022-04-11T21:54:26.337Z"
   },
   {
    "duration": 342,
    "start_time": "2022-04-11T21:54:28.249Z"
   },
   {
    "duration": 18,
    "start_time": "2022-04-11T21:59:00.824Z"
   },
   {
    "duration": 12,
    "start_time": "2022-04-11T21:59:14.520Z"
   },
   {
    "duration": 12,
    "start_time": "2022-04-11T21:59:31.904Z"
   },
   {
    "duration": 12,
    "start_time": "2022-04-11T21:59:56.471Z"
   },
   {
    "duration": 12,
    "start_time": "2022-04-11T22:00:10.368Z"
   },
   {
    "duration": 12,
    "start_time": "2022-04-11T22:01:22.311Z"
   },
   {
    "duration": 37,
    "start_time": "2022-04-11T22:01:45.103Z"
   },
   {
    "duration": 57,
    "start_time": "2022-04-11T22:02:16.991Z"
   },
   {
    "duration": 58,
    "start_time": "2022-04-11T22:02:23.448Z"
   },
   {
    "duration": 15,
    "start_time": "2022-04-11T22:02:43.511Z"
   },
   {
    "duration": 12,
    "start_time": "2022-04-11T22:03:00.216Z"
   },
   {
    "duration": 12,
    "start_time": "2022-04-11T22:03:17.720Z"
   },
   {
    "duration": 13,
    "start_time": "2022-04-11T22:03:47.151Z"
   },
   {
    "duration": 4,
    "start_time": "2022-04-11T22:05:47.432Z"
   },
   {
    "duration": 327,
    "start_time": "2022-04-11T22:05:50.150Z"
   },
   {
    "duration": 4,
    "start_time": "2022-04-11T22:06:16.535Z"
   },
   {
    "duration": 4,
    "start_time": "2022-04-11T22:06:52.456Z"
   },
   {
    "duration": 422,
    "start_time": "2022-04-11T22:06:55.880Z"
   },
   {
    "duration": 381,
    "start_time": "2022-04-11T22:07:06.423Z"
   },
   {
    "duration": 4,
    "start_time": "2022-04-11T22:08:35.864Z"
   },
   {
    "duration": 11,
    "start_time": "2022-04-11T22:14:46.948Z"
   },
   {
    "duration": 35,
    "start_time": "2022-04-11T22:15:02.301Z"
   },
   {
    "duration": 4,
    "start_time": "2022-04-11T22:15:37.799Z"
   },
   {
    "duration": 346,
    "start_time": "2022-04-11T22:15:40.855Z"
   },
   {
    "duration": 9,
    "start_time": "2022-04-11T22:18:20.207Z"
   },
   {
    "duration": 9,
    "start_time": "2022-04-11T22:18:57.039Z"
   },
   {
    "duration": 11,
    "start_time": "2022-04-11T22:19:07.862Z"
   },
   {
    "duration": 9,
    "start_time": "2022-04-11T22:19:13.510Z"
   },
   {
    "duration": 8,
    "start_time": "2022-04-11T22:19:28.166Z"
   },
   {
    "duration": 42,
    "start_time": "2022-04-11T22:20:33.414Z"
   },
   {
    "duration": 14,
    "start_time": "2022-04-11T22:20:45.134Z"
   },
   {
    "duration": 35,
    "start_time": "2022-04-11T22:21:04.174Z"
   },
   {
    "duration": 5,
    "start_time": "2022-04-11T22:23:35.676Z"
   },
   {
    "duration": 4,
    "start_time": "2022-04-11T22:23:48.813Z"
   },
   {
    "duration": 306,
    "start_time": "2022-04-11T22:23:51.773Z"
   },
   {
    "duration": 387,
    "start_time": "2022-04-11T22:26:04.658Z"
   },
   {
    "duration": 5,
    "start_time": "2022-04-11T22:26:28.916Z"
   },
   {
    "duration": 411,
    "start_time": "2022-04-11T22:26:31.372Z"
   },
   {
    "duration": 301,
    "start_time": "2022-04-11T22:26:43.741Z"
   },
   {
    "duration": 303,
    "start_time": "2022-04-11T22:26:52.228Z"
   },
   {
    "duration": 373,
    "start_time": "2022-04-11T22:35:57.480Z"
   },
   {
    "duration": 4,
    "start_time": "2022-04-11T22:38:33.628Z"
   },
   {
    "duration": 344,
    "start_time": "2022-04-11T22:38:41.587Z"
   },
   {
    "duration": 16,
    "start_time": "2022-04-11T22:44:08.139Z"
   },
   {
    "duration": 8,
    "start_time": "2022-04-11T22:44:31.059Z"
   },
   {
    "duration": 19,
    "start_time": "2022-04-11T22:44:58.402Z"
   },
   {
    "duration": 13,
    "start_time": "2022-04-11T22:45:22.522Z"
   },
   {
    "duration": 20,
    "start_time": "2022-04-11T22:45:56.683Z"
   },
   {
    "duration": 13,
    "start_time": "2022-04-11T22:46:17.495Z"
   },
   {
    "duration": 14,
    "start_time": "2022-04-11T22:46:20.122Z"
   },
   {
    "duration": 11,
    "start_time": "2022-04-11T22:46:27.474Z"
   },
   {
    "duration": 2349,
    "start_time": "2022-04-11T22:46:50.258Z"
   },
   {
    "duration": 45,
    "start_time": "2022-04-11T22:47:10.419Z"
   },
   {
    "duration": 401,
    "start_time": "2022-04-11T22:48:05.306Z"
   },
   {
    "duration": 4,
    "start_time": "2022-04-11T22:49:41.242Z"
   },
   {
    "duration": 351,
    "start_time": "2022-04-11T22:49:44.514Z"
   },
   {
    "duration": 161,
    "start_time": "2022-04-11T22:50:06.105Z"
   },
   {
    "duration": 416,
    "start_time": "2022-04-11T22:50:08.729Z"
   },
   {
    "duration": 146,
    "start_time": "2022-04-11T22:50:28.778Z"
   },
   {
    "duration": 325,
    "start_time": "2022-04-11T22:50:31.763Z"
   },
   {
    "duration": 4,
    "start_time": "2022-04-11T22:50:44.082Z"
   },
   {
    "duration": 321,
    "start_time": "2022-04-11T22:50:47.179Z"
   },
   {
    "duration": 5,
    "start_time": "2022-04-11T22:51:04.508Z"
   },
   {
    "duration": 385,
    "start_time": "2022-04-11T22:51:07.274Z"
   },
   {
    "duration": 358,
    "start_time": "2022-04-11T22:51:15.274Z"
   },
   {
    "duration": 446,
    "start_time": "2022-04-11T22:51:25.049Z"
   },
   {
    "duration": 12,
    "start_time": "2022-04-11T22:57:26.730Z"
   },
   {
    "duration": 12,
    "start_time": "2022-04-11T22:57:39.794Z"
   },
   {
    "duration": 13,
    "start_time": "2022-04-11T22:57:53.769Z"
   },
   {
    "duration": 12,
    "start_time": "2022-04-11T22:58:14.218Z"
   },
   {
    "duration": 13,
    "start_time": "2022-04-11T22:58:38.850Z"
   },
   {
    "duration": 11,
    "start_time": "2022-04-11T22:58:46.729Z"
   },
   {
    "duration": 954,
    "start_time": "2022-04-12T11:21:07.632Z"
   },
   {
    "duration": 425,
    "start_time": "2022-04-12T11:21:08.589Z"
   },
   {
    "duration": 6,
    "start_time": "2022-04-12T11:21:09.016Z"
   },
   {
    "duration": 489,
    "start_time": "2022-04-12T11:21:09.025Z"
   },
   {
    "duration": 457,
    "start_time": "2022-04-12T11:21:09.517Z"
   },
   {
    "duration": 519,
    "start_time": "2022-04-12T11:21:09.976Z"
   },
   {
    "duration": 96,
    "start_time": "2022-04-12T11:21:10.497Z"
   },
   {
    "duration": 0,
    "start_time": "2022-04-12T11:21:10.595Z"
   },
   {
    "duration": 5,
    "start_time": "2022-04-12T11:24:12.616Z"
   },
   {
    "duration": 532,
    "start_time": "2022-04-12T11:24:15.416Z"
   },
   {
    "duration": 530,
    "start_time": "2022-04-12T11:24:22.704Z"
   },
   {
    "duration": 554,
    "start_time": "2022-04-12T11:24:25.808Z"
   },
   {
    "duration": 5,
    "start_time": "2022-04-12T11:37:53.926Z"
   },
   {
    "duration": 606,
    "start_time": "2022-04-12T11:37:56.943Z"
   },
   {
    "duration": 506,
    "start_time": "2022-04-12T11:38:55.560Z"
   },
   {
    "duration": 4,
    "start_time": "2022-04-12T11:39:00.704Z"
   },
   {
    "duration": 905,
    "start_time": "2022-04-12T11:39:03.562Z"
   },
   {
    "duration": 1294,
    "start_time": "2022-04-12T11:39:30.456Z"
   },
   {
    "duration": 401,
    "start_time": "2022-04-12T11:39:31.753Z"
   },
   {
    "duration": 5,
    "start_time": "2022-04-12T11:39:32.156Z"
   },
   {
    "duration": 655,
    "start_time": "2022-04-12T11:39:32.163Z"
   },
   {
    "duration": 0,
    "start_time": "2022-04-12T11:39:32.820Z"
   },
   {
    "duration": 0,
    "start_time": "2022-04-12T11:39:32.822Z"
   },
   {
    "duration": 0,
    "start_time": "2022-04-12T11:39:32.823Z"
   },
   {
    "duration": 0,
    "start_time": "2022-04-12T11:39:32.824Z"
   },
   {
    "duration": 0,
    "start_time": "2022-04-12T11:39:32.826Z"
   },
   {
    "duration": 4,
    "start_time": "2022-04-12T11:40:00.952Z"
   },
   {
    "duration": 798,
    "start_time": "2022-04-12T11:40:03.783Z"
   },
   {
    "duration": 1153,
    "start_time": "2022-04-12T11:40:11.495Z"
   },
   {
    "duration": 786,
    "start_time": "2022-04-12T11:40:17.255Z"
   },
   {
    "duration": 5,
    "start_time": "2022-04-12T11:41:59.248Z"
   },
   {
    "duration": 821,
    "start_time": "2022-04-12T11:42:02.688Z"
   },
   {
    "duration": 497,
    "start_time": "2022-04-12T11:49:07.068Z"
   },
   {
    "duration": 32,
    "start_time": "2022-04-12T12:31:21.615Z"
   },
   {
    "duration": 149,
    "start_time": "2022-04-12T12:31:52.361Z"
   },
   {
    "duration": 16,
    "start_time": "2022-04-12T12:32:59.649Z"
   },
   {
    "duration": 37,
    "start_time": "2022-04-12T12:33:22.392Z"
   },
   {
    "duration": 14,
    "start_time": "2022-04-12T12:33:59.425Z"
   },
   {
    "duration": 20,
    "start_time": "2022-04-12T12:34:31.184Z"
   },
   {
    "duration": 21,
    "start_time": "2022-04-12T12:34:35.225Z"
   },
   {
    "duration": 35,
    "start_time": "2022-04-12T12:34:46.362Z"
   },
   {
    "duration": 18,
    "start_time": "2022-04-12T12:35:25.039Z"
   },
   {
    "duration": 34,
    "start_time": "2022-04-12T12:36:23.953Z"
   },
   {
    "duration": 17,
    "start_time": "2022-04-12T12:37:47.712Z"
   },
   {
    "duration": 38,
    "start_time": "2022-04-12T12:38:02.241Z"
   },
   {
    "duration": 23,
    "start_time": "2022-04-12T12:40:00.746Z"
   },
   {
    "duration": 36,
    "start_time": "2022-04-12T12:40:18.945Z"
   },
   {
    "duration": 44,
    "start_time": "2022-04-12T12:40:27.489Z"
   },
   {
    "duration": 16,
    "start_time": "2022-04-12T16:25:50.714Z"
   },
   {
    "duration": 4,
    "start_time": "2022-04-12T16:40:48.917Z"
   },
   {
    "duration": 7,
    "start_time": "2022-04-12T16:42:07.796Z"
   },
   {
    "duration": 63,
    "start_time": "2022-04-12T16:42:14.299Z"
   },
   {
    "duration": 11,
    "start_time": "2022-04-12T16:42:20.061Z"
   },
   {
    "duration": 2687,
    "start_time": "2022-04-12T16:42:24.467Z"
   },
   {
    "duration": 3292,
    "start_time": "2022-04-12T16:42:27.156Z"
   },
   {
    "duration": 9,
    "start_time": "2022-04-12T16:42:30.451Z"
   },
   {
    "duration": 1089,
    "start_time": "2022-04-12T16:42:32.667Z"
   },
   {
    "duration": 2282,
    "start_time": "2022-04-12T16:42:51.070Z"
   },
   {
    "duration": 509,
    "start_time": "2022-04-12T16:42:53.355Z"
   },
   {
    "duration": 14,
    "start_time": "2022-04-12T16:42:53.867Z"
   },
   {
    "duration": 1079,
    "start_time": "2022-04-12T16:42:53.886Z"
   },
   {
    "duration": 1064,
    "start_time": "2022-04-12T16:42:54.967Z"
   },
   {
    "duration": 1057,
    "start_time": "2022-04-12T16:42:56.034Z"
   },
   {
    "duration": 3,
    "start_time": "2022-04-12T16:42:57.093Z"
   },
   {
    "duration": 14,
    "start_time": "2022-04-12T16:42:57.098Z"
   },
   {
    "duration": 1069,
    "start_time": "2022-04-12T16:43:20.341Z"
   },
   {
    "duration": 6,
    "start_time": "2022-04-12T16:44:02.140Z"
   },
   {
    "duration": 1273,
    "start_time": "2022-04-12T16:44:05.993Z"
   },
   {
    "duration": 15,
    "start_time": "2022-04-13T09:18:55.691Z"
   },
   {
    "duration": 42,
    "start_time": "2022-04-13T09:44:35.117Z"
   },
   {
    "duration": 1697,
    "start_time": "2022-04-13T09:44:44.922Z"
   },
   {
    "duration": 366,
    "start_time": "2022-04-13T09:44:46.622Z"
   },
   {
    "duration": 36,
    "start_time": "2022-04-13T09:44:46.990Z"
   },
   {
    "duration": 5,
    "start_time": "2022-04-13T09:44:47.028Z"
   },
   {
    "duration": 986,
    "start_time": "2022-04-13T09:44:47.035Z"
   },
   {
    "duration": 1468,
    "start_time": "2022-04-13T09:44:48.074Z"
   },
   {
    "duration": 695,
    "start_time": "2022-04-13T09:44:49.543Z"
   },
   {
    "duration": 2,
    "start_time": "2022-04-13T09:44:50.240Z"
   },
   {
    "duration": 8,
    "start_time": "2022-04-13T09:44:50.244Z"
   },
   {
    "duration": 4,
    "start_time": "2022-04-13T09:46:17.621Z"
   },
   {
    "duration": 817,
    "start_time": "2022-04-13T09:46:20.328Z"
   },
   {
    "duration": 5,
    "start_time": "2022-04-13T09:46:37.040Z"
   },
   {
    "duration": 746,
    "start_time": "2022-04-13T09:46:39.592Z"
   },
   {
    "duration": 735,
    "start_time": "2022-04-13T09:47:11.959Z"
   },
   {
    "duration": 850,
    "start_time": "2022-04-13T09:47:25.486Z"
   },
   {
    "duration": 117,
    "start_time": "2022-04-13T09:53:36.132Z"
   },
   {
    "duration": 420,
    "start_time": "2022-04-13T09:53:48.077Z"
   },
   {
    "duration": 293,
    "start_time": "2022-04-13T09:54:03.199Z"
   },
   {
    "duration": 475,
    "start_time": "2022-04-13T09:54:28.998Z"
   },
   {
    "duration": 380,
    "start_time": "2022-04-13T09:54:52.006Z"
   },
   {
    "duration": 436,
    "start_time": "2022-04-13T09:55:07.039Z"
   },
   {
    "duration": 10,
    "start_time": "2022-04-13T10:05:10.299Z"
   },
   {
    "duration": 9,
    "start_time": "2022-04-13T10:06:06.859Z"
   },
   {
    "duration": 51,
    "start_time": "2022-04-13T10:38:44.271Z"
   },
   {
    "duration": 3,
    "start_time": "2022-04-13T10:52:08.903Z"
   },
   {
    "duration": 3,
    "start_time": "2022-04-13T10:57:11.804Z"
   },
   {
    "duration": 6,
    "start_time": "2022-04-13T11:01:35.094Z"
   },
   {
    "duration": 17,
    "start_time": "2022-04-13T11:01:41.386Z"
   },
   {
    "duration": 16,
    "start_time": "2022-04-13T11:02:19.566Z"
   },
   {
    "duration": 4,
    "start_time": "2022-04-13T11:02:24.406Z"
   },
   {
    "duration": 135,
    "start_time": "2022-04-13T11:02:40.134Z"
   },
   {
    "duration": 16,
    "start_time": "2022-04-13T11:02:54.893Z"
   },
   {
    "duration": 5,
    "start_time": "2022-04-13T11:03:04.679Z"
   },
   {
    "duration": 12,
    "start_time": "2022-04-13T11:03:28.237Z"
   },
   {
    "duration": 6,
    "start_time": "2022-04-13T11:03:34.983Z"
   },
   {
    "duration": 6,
    "start_time": "2022-04-13T11:04:23.981Z"
   },
   {
    "duration": 13,
    "start_time": "2022-04-13T11:04:40.669Z"
   },
   {
    "duration": 5,
    "start_time": "2022-04-13T11:04:47.261Z"
   },
   {
    "duration": 4,
    "start_time": "2022-04-13T11:21:10.600Z"
   },
   {
    "duration": 4,
    "start_time": "2022-04-13T11:22:37.260Z"
   },
   {
    "duration": 4,
    "start_time": "2022-04-13T11:23:25.131Z"
   },
   {
    "duration": 4,
    "start_time": "2022-04-13T11:27:48.007Z"
   },
   {
    "duration": 371,
    "start_time": "2022-04-13T11:47:32.398Z"
   },
   {
    "duration": 845,
    "start_time": "2022-04-13T11:47:39.344Z"
   },
   {
    "duration": 922,
    "start_time": "2022-04-13T11:47:46.760Z"
   },
   {
    "duration": 840,
    "start_time": "2022-04-13T11:47:52.807Z"
   },
   {
    "duration": 409,
    "start_time": "2022-04-13T11:48:33.790Z"
   },
   {
    "duration": 10,
    "start_time": "2022-04-13T11:49:06.847Z"
   },
   {
    "duration": 401,
    "start_time": "2022-04-13T11:49:35.499Z"
   },
   {
    "duration": 11,
    "start_time": "2022-04-13T12:03:17.346Z"
   },
   {
    "duration": 518,
    "start_time": "2022-04-13T12:03:29.366Z"
   },
   {
    "duration": 18,
    "start_time": "2022-04-13T12:03:39.813Z"
   },
   {
    "duration": 5,
    "start_time": "2022-04-13T12:08:53.103Z"
   },
   {
    "duration": 5,
    "start_time": "2022-04-13T12:12:54.265Z"
   },
   {
    "duration": 25,
    "start_time": "2022-04-13T12:12:56.764Z"
   },
   {
    "duration": 23,
    "start_time": "2022-04-13T12:17:45.401Z"
   },
   {
    "duration": 18,
    "start_time": "2022-04-13T12:18:41.444Z"
   },
   {
    "duration": 452,
    "start_time": "2022-04-13T12:19:41.028Z"
   },
   {
    "duration": 26,
    "start_time": "2022-04-13T12:28:22.760Z"
   },
   {
    "duration": 4,
    "start_time": "2022-04-13T12:29:35.339Z"
   },
   {
    "duration": 22,
    "start_time": "2022-04-13T12:29:38.702Z"
   },
   {
    "duration": 18,
    "start_time": "2022-04-13T12:30:33.613Z"
   },
   {
    "duration": 162,
    "start_time": "2022-04-13T12:31:05.066Z"
   },
   {
    "duration": 4,
    "start_time": "2022-04-13T12:32:08.546Z"
   },
   {
    "duration": 31,
    "start_time": "2022-04-13T12:32:10.970Z"
   },
   {
    "duration": 17,
    "start_time": "2022-04-13T12:38:45.919Z"
   },
   {
    "duration": 4,
    "start_time": "2022-04-13T13:03:02.915Z"
   },
   {
    "duration": 21,
    "start_time": "2022-04-13T13:03:21.669Z"
   },
   {
    "duration": 4,
    "start_time": "2022-04-13T13:08:46.706Z"
   },
   {
    "duration": 3,
    "start_time": "2022-04-13T13:08:50.109Z"
   },
   {
    "duration": 18,
    "start_time": "2022-04-13T13:08:52.165Z"
   },
   {
    "duration": 6,
    "start_time": "2022-04-13T13:25:05.259Z"
   },
   {
    "duration": 15,
    "start_time": "2022-04-13T13:26:48.651Z"
   },
   {
    "duration": 6,
    "start_time": "2022-04-13T13:27:36.059Z"
   },
   {
    "duration": 1257,
    "start_time": "2022-04-13T13:27:38.355Z"
   },
   {
    "duration": 3786,
    "start_time": "2022-04-13T13:29:44.155Z"
   },
   {
    "duration": 3685,
    "start_time": "2022-04-13T13:30:36.067Z"
   },
   {
    "duration": 3700,
    "start_time": "2022-04-13T13:31:11.250Z"
   },
   {
    "duration": 3697,
    "start_time": "2022-04-13T13:31:37.027Z"
   },
   {
    "duration": 3995,
    "start_time": "2022-04-13T13:32:59.611Z"
   },
   {
    "duration": 3998,
    "start_time": "2022-04-13T13:33:17.434Z"
   },
   {
    "duration": 4222,
    "start_time": "2022-04-13T13:34:16.790Z"
   },
   {
    "duration": 4269,
    "start_time": "2022-04-13T13:34:31.594Z"
   },
   {
    "duration": 3758,
    "start_time": "2022-04-13T13:38:55.215Z"
   },
   {
    "duration": 6,
    "start_time": "2022-04-13T13:42:21.743Z"
   },
   {
    "duration": 1235,
    "start_time": "2022-04-13T13:42:31.938Z"
   },
   {
    "duration": 7,
    "start_time": "2022-04-13T13:44:54.703Z"
   },
   {
    "duration": 3987,
    "start_time": "2022-04-13T13:45:05.162Z"
   },
   {
    "duration": 6,
    "start_time": "2022-04-13T13:49:26.794Z"
   },
   {
    "duration": 4030,
    "start_time": "2022-04-13T13:49:32.087Z"
   },
   {
    "duration": 7,
    "start_time": "2022-04-13T13:50:05.240Z"
   },
   {
    "duration": 1430,
    "start_time": "2022-04-13T13:50:31.108Z"
   },
   {
    "duration": 371,
    "start_time": "2022-04-13T13:50:32.541Z"
   },
   {
    "duration": 4,
    "start_time": "2022-04-13T13:50:32.914Z"
   },
   {
    "duration": 826,
    "start_time": "2022-04-13T13:50:32.920Z"
   },
   {
    "duration": 837,
    "start_time": "2022-04-13T13:50:33.748Z"
   },
   {
    "duration": 733,
    "start_time": "2022-04-13T13:50:34.587Z"
   },
   {
    "duration": 3,
    "start_time": "2022-04-13T13:50:35.322Z"
   },
   {
    "duration": 9,
    "start_time": "2022-04-13T13:50:35.327Z"
   },
   {
    "duration": 451,
    "start_time": "2022-04-13T13:50:35.337Z"
   },
   {
    "duration": 597,
    "start_time": "2022-04-13T13:50:35.791Z"
   },
   {
    "duration": 89,
    "start_time": "2022-04-13T13:50:36.390Z"
   },
   {
    "duration": 202,
    "start_time": "2022-04-13T13:50:36.482Z"
   },
   {
    "duration": 0,
    "start_time": "2022-04-13T13:50:36.686Z"
   },
   {
    "duration": 0,
    "start_time": "2022-04-13T13:50:36.687Z"
   },
   {
    "duration": 0,
    "start_time": "2022-04-13T13:50:36.688Z"
   },
   {
    "duration": 0,
    "start_time": "2022-04-13T13:50:36.689Z"
   },
   {
    "duration": 0,
    "start_time": "2022-04-13T13:50:36.690Z"
   },
   {
    "duration": 6,
    "start_time": "2022-04-13T13:50:56.625Z"
   },
   {
    "duration": 801,
    "start_time": "2022-04-13T13:50:59.953Z"
   },
   {
    "duration": 405,
    "start_time": "2022-04-13T13:51:34.785Z"
   },
   {
    "duration": 11,
    "start_time": "2022-04-13T13:51:43.017Z"
   },
   {
    "duration": 4,
    "start_time": "2022-04-13T13:52:05.601Z"
   },
   {
    "duration": 4,
    "start_time": "2022-04-13T13:52:10.978Z"
   },
   {
    "duration": 18,
    "start_time": "2022-04-13T13:52:13.817Z"
   },
   {
    "duration": 6,
    "start_time": "2022-04-13T13:55:19.224Z"
   },
   {
    "duration": 4213,
    "start_time": "2022-04-13T13:55:21.552Z"
   },
   {
    "duration": 33,
    "start_time": "2022-04-13T13:57:03.104Z"
   },
   {
    "duration": 3735,
    "start_time": "2022-04-13T13:58:07.351Z"
   },
   {
    "duration": 3652,
    "start_time": "2022-04-13T13:59:48.575Z"
   },
   {
    "duration": 3,
    "start_time": "2022-04-13T14:00:24.664Z"
   },
   {
    "duration": 3,
    "start_time": "2022-04-13T14:00:27.751Z"
   },
   {
    "duration": 2,
    "start_time": "2022-04-13T14:00:36.855Z"
   },
   {
    "duration": 1436,
    "start_time": "2022-04-13T14:00:48.371Z"
   },
   {
    "duration": 380,
    "start_time": "2022-04-13T14:00:49.809Z"
   },
   {
    "duration": 4,
    "start_time": "2022-04-13T14:00:50.191Z"
   },
   {
    "duration": 785,
    "start_time": "2022-04-13T14:00:50.197Z"
   },
   {
    "duration": 846,
    "start_time": "2022-04-13T14:00:50.984Z"
   },
   {
    "duration": 785,
    "start_time": "2022-04-13T14:00:51.832Z"
   },
   {
    "duration": 5,
    "start_time": "2022-04-13T14:00:52.619Z"
   },
   {
    "duration": 449,
    "start_time": "2022-04-13T14:00:52.625Z"
   },
   {
    "duration": 596,
    "start_time": "2022-04-13T14:00:53.081Z"
   },
   {
    "duration": 100,
    "start_time": "2022-04-13T14:00:53.683Z"
   },
   {
    "duration": 7,
    "start_time": "2022-04-13T14:00:53.785Z"
   },
   {
    "duration": 11,
    "start_time": "2022-04-13T14:00:53.794Z"
   },
   {
    "duration": 25,
    "start_time": "2022-04-13T14:00:53.807Z"
   },
   {
    "duration": 3,
    "start_time": "2022-04-13T14:00:53.834Z"
   },
   {
    "duration": 18,
    "start_time": "2022-04-13T14:00:53.839Z"
   },
   {
    "duration": 3755,
    "start_time": "2022-04-13T14:00:53.859Z"
   },
   {
    "duration": 4,
    "start_time": "2022-04-13T14:02:23.135Z"
   },
   {
    "duration": 3929,
    "start_time": "2022-04-13T14:06:28.781Z"
   },
   {
    "duration": 1381,
    "start_time": "2022-04-13T14:09:33.651Z"
   },
   {
    "duration": 1324,
    "start_time": "2022-04-13T14:10:00.129Z"
   },
   {
    "duration": 1486,
    "start_time": "2022-04-13T14:10:18.303Z"
   },
   {
    "duration": 380,
    "start_time": "2022-04-13T14:10:19.791Z"
   },
   {
    "duration": 4,
    "start_time": "2022-04-13T14:10:20.173Z"
   },
   {
    "duration": 885,
    "start_time": "2022-04-13T14:10:20.179Z"
   },
   {
    "duration": 880,
    "start_time": "2022-04-13T14:10:21.072Z"
   },
   {
    "duration": 787,
    "start_time": "2022-04-13T14:10:21.954Z"
   },
   {
    "duration": 6,
    "start_time": "2022-04-13T14:10:22.743Z"
   },
   {
    "duration": 523,
    "start_time": "2022-04-13T14:10:22.751Z"
   },
   {
    "duration": 511,
    "start_time": "2022-04-13T14:10:23.276Z"
   },
   {
    "duration": 87,
    "start_time": "2022-04-13T14:10:23.790Z"
   },
   {
    "duration": 101,
    "start_time": "2022-04-13T14:10:23.880Z"
   },
   {
    "duration": 5,
    "start_time": "2022-04-13T14:10:23.984Z"
   },
   {
    "duration": 23,
    "start_time": "2022-04-13T14:10:23.991Z"
   },
   {
    "duration": 4,
    "start_time": "2022-04-13T14:10:24.019Z"
   },
   {
    "duration": 8,
    "start_time": "2022-04-13T14:10:24.025Z"
   },
   {
    "duration": 9,
    "start_time": "2022-04-13T14:10:24.036Z"
   },
   {
    "duration": 1478,
    "start_time": "2022-04-13T14:10:24.047Z"
   },
   {
    "duration": 1277,
    "start_time": "2022-04-13T14:11:34.852Z"
   },
   {
    "duration": 1362,
    "start_time": "2022-04-13T15:04:03.305Z"
   },
   {
    "duration": 3954,
    "start_time": "2022-04-13T15:04:20.822Z"
   },
   {
    "duration": 25,
    "start_time": "2022-04-13T15:06:32.429Z"
   },
   {
    "duration": 3555,
    "start_time": "2022-04-13T15:07:42.285Z"
   },
   {
    "duration": 3518,
    "start_time": "2022-04-13T15:09:45.536Z"
   },
   {
    "duration": 13,
    "start_time": "2022-04-13T15:10:41.571Z"
   },
   {
    "duration": 3963,
    "start_time": "2022-04-13T15:11:15.267Z"
   },
   {
    "duration": 17,
    "start_time": "2022-04-13T15:12:26.707Z"
   },
   {
    "duration": 1417,
    "start_time": "2022-04-13T15:21:26.792Z"
   },
   {
    "duration": 369,
    "start_time": "2022-04-13T15:21:28.212Z"
   },
   {
    "duration": 5,
    "start_time": "2022-04-13T15:21:28.584Z"
   },
   {
    "duration": 747,
    "start_time": "2022-04-13T15:21:28.591Z"
   },
   {
    "duration": 788,
    "start_time": "2022-04-13T15:21:29.341Z"
   },
   {
    "duration": 754,
    "start_time": "2022-04-13T15:21:30.131Z"
   },
   {
    "duration": 5,
    "start_time": "2022-04-13T15:21:30.888Z"
   },
   {
    "duration": 481,
    "start_time": "2022-04-13T15:21:30.895Z"
   },
   {
    "duration": 423,
    "start_time": "2022-04-13T15:21:31.472Z"
   },
   {
    "duration": 103,
    "start_time": "2022-04-13T15:21:31.976Z"
   },
   {
    "duration": 4,
    "start_time": "2022-04-13T15:21:32.080Z"
   },
   {
    "duration": 18,
    "start_time": "2022-04-13T15:21:32.086Z"
   },
   {
    "duration": 27,
    "start_time": "2022-04-13T15:21:32.106Z"
   },
   {
    "duration": 10,
    "start_time": "2022-04-13T15:21:32.135Z"
   },
   {
    "duration": 22,
    "start_time": "2022-04-13T15:21:32.147Z"
   },
   {
    "duration": 114,
    "start_time": "2022-04-13T15:21:32.171Z"
   },
   {
    "duration": 3693,
    "start_time": "2022-04-13T15:30:16.686Z"
   },
   {
    "duration": 3601,
    "start_time": "2022-04-13T15:31:41.617Z"
   },
   {
    "duration": 3690,
    "start_time": "2022-04-13T15:32:03.344Z"
   },
   {
    "duration": 3614,
    "start_time": "2022-04-13T15:32:23.544Z"
   },
   {
    "duration": 3542,
    "start_time": "2022-04-13T15:32:50.272Z"
   },
   {
    "duration": 3610,
    "start_time": "2022-04-13T15:33:02.672Z"
   },
   {
    "duration": 3573,
    "start_time": "2022-04-13T15:33:55.744Z"
   },
   {
    "duration": 3962,
    "start_time": "2022-04-13T15:41:19.051Z"
   },
   {
    "duration": 3743,
    "start_time": "2022-04-13T15:41:59.055Z"
   },
   {
    "duration": 3824,
    "start_time": "2022-04-13T15:42:31.823Z"
   },
   {
    "duration": 1409,
    "start_time": "2022-04-13T15:43:41.564Z"
   },
   {
    "duration": 364,
    "start_time": "2022-04-13T15:43:42.975Z"
   },
   {
    "duration": 4,
    "start_time": "2022-04-13T15:43:43.341Z"
   },
   {
    "duration": 733,
    "start_time": "2022-04-13T15:43:43.347Z"
   },
   {
    "duration": 749,
    "start_time": "2022-04-13T15:43:44.081Z"
   },
   {
    "duration": 750,
    "start_time": "2022-04-13T15:43:44.831Z"
   },
   {
    "duration": 6,
    "start_time": "2022-04-13T15:43:45.582Z"
   },
   {
    "duration": 401,
    "start_time": "2022-04-13T15:43:45.589Z"
   },
   {
    "duration": 513,
    "start_time": "2022-04-13T15:43:46.072Z"
   },
   {
    "duration": 95,
    "start_time": "2022-04-13T15:43:46.587Z"
   },
   {
    "duration": 101,
    "start_time": "2022-04-13T15:43:46.683Z"
   },
   {
    "duration": 7,
    "start_time": "2022-04-13T15:43:46.786Z"
   },
   {
    "duration": 22,
    "start_time": "2022-04-13T15:43:46.794Z"
   },
   {
    "duration": 3546,
    "start_time": "2022-04-13T15:43:46.817Z"
   }
  ],
  "kernelspec": {
   "display_name": "Python 3 (ipykernel)",
   "language": "python",
   "name": "python3"
  },
  "language_info": {
   "codemirror_mode": {
    "name": "ipython",
    "version": 3
   },
   "file_extension": ".py",
   "mimetype": "text/x-python",
   "name": "python",
   "nbconvert_exporter": "python",
   "pygments_lexer": "ipython3",
   "version": "3.9.5"
  },
  "toc": {
   "base_numbering": 1,
   "nav_menu": {},
   "number_sections": true,
   "sideBar": true,
   "skip_h1_title": true,
   "title_cell": "Table of Contents",
   "title_sidebar": "Contents",
   "toc_cell": false,
   "toc_position": {
    "height": "calc(100% - 180px)",
    "left": "10px",
    "top": "150px",
    "width": "250.391px"
   },
   "toc_section_display": true,
   "toc_window_display": true
  }
 },
 "nbformat": 4,
 "nbformat_minor": 2
}
